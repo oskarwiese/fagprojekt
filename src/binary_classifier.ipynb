{
  "nbformat": 4,
  "nbformat_minor": 0,
  "metadata": {
    "kernelspec": {
      "name": "python3",
      "display_name": "Python 3"
    },
    "language_info": {
      "codemirror_mode": {
        "name": "ipython",
        "version": 3
      },
      "file_extension": ".py",
      "mimetype": "text/x-python",
      "name": "python",
      "nbconvert_exporter": "python",
      "pygments_lexer": "ipython3",
      "version": "3.7.4"
    },
    "colab": {
      "name": "binary_classifier.ipynb",
      "provenance": [],
      "collapsed_sections": []
    },
    "accelerator": "TPU"
  },
  "cells": [
    {
      "cell_type": "code",
      "metadata": {
        "id": "HdM-6b7DXoox",
        "colab_type": "code",
        "colab": {
          "base_uri": "https://localhost:8080/",
          "height": 143
        },
        "outputId": "cc8309bf-2079-4b20-aa4d-1b898da26e64"
      },
      "source": [
        "import numpy as np\n",
        "import os\n",
        "import pandas as pd\n",
        "import matplotlib.pyplot as plt\n",
        "import seaborn as sb\n",
        "import torch\n",
        "import torch.nn as nn\n",
        "from sklearn.metrics import classification_report, confusion_matrix, accuracy_score\n",
        "from sklearn.ensemble import RandomForestClassifier\n",
        "from sklearn.linear_model import LogisticRegression\n",
        "from tqdm import tqdm\n",
        "!pip install GPyOpt\n",
        "#!pip install ggplot\n",
        "import GPyOpt\n",
        "import sklearn.metrics as metrics\n",
        "from pandas import Timestamp\n",
        "#from ggplot import *\n",
        "from torch.autograd import Variable"
      ],
      "execution_count": 3,
      "outputs": [
        {
          "output_type": "stream",
          "text": [
            "Requirement already satisfied: GPyOpt in /usr/local/lib/python3.6/dist-packages (1.2.5)\n",
            "Requirement already satisfied: numpy>=1.7 in /usr/local/lib/python3.6/dist-packages (from GPyOpt) (1.18.1)\n",
            "Requirement already satisfied: GPy>=1.8 in /usr/local/lib/python3.6/dist-packages (from GPyOpt) (1.9.9)\n",
            "Requirement already satisfied: scipy>=0.16 in /usr/local/lib/python3.6/dist-packages (from GPyOpt) (1.4.1)\n",
            "Requirement already satisfied: paramz>=0.9.0 in /usr/local/lib/python3.6/dist-packages (from GPy>=1.8->GPyOpt) (0.9.5)\n",
            "Requirement already satisfied: six in /usr/local/lib/python3.6/dist-packages (from GPy>=1.8->GPyOpt) (1.12.0)\n",
            "Requirement already satisfied: decorator>=4.0.10 in /usr/local/lib/python3.6/dist-packages (from paramz>=0.9.0->GPy>=1.8->GPyOpt) (4.4.2)\n"
          ],
          "name": "stdout"
        }
      ]
    },
    {
      "cell_type": "code",
      "metadata": {
        "id": "1P3g5BFkXopB",
        "colab_type": "code",
        "colab": {}
      },
      "source": [
        "def normalize(data, norm_type):\n",
        "    if norm_type == \"minmax\":\n",
        "        for i in range(data.size()[1]):\n",
        "            data[:,i] = (data[:,i]-data[:,i].min()) / (data[:,i].max()-data[:,i].min())\n",
        "        return data\n",
        "    elif norm_type == \"zscore\":\n",
        "        for i in range(data.size()[1]):\n",
        "            data[:,i] = (data[:,i]-data[:,i].mean()) / (data[:,i].std())\n",
        "        return data\n",
        "    elif norm_type == None:\n",
        "        return data\n",
        "    else:\n",
        "        raise ValueError(\"Please choose a correct normalization type\")\n",
        "#Xnumtrain = torch.tensor(np.vstack([(Xnumtrain[:,i]-Xnumtrain[:,i].min()) / (Xnumtrain[:,i].max()-Xnumtrain[:,i].min()) for i in range(Xnumtrain.size()[1]) if \"Tue elsker det her\"])).view(-1,2)\n",
        "\n",
        "def dataprep(data, norm_type = \"zscore\"):\n",
        "    for category in categoricals:\n",
        "        data[category] = data[category].astype(\"category\")\n",
        "\n",
        "    catdata = []\n",
        "    for i in range(len(categoricals)):\n",
        "        catdata.append(data[categoricals[i]].cat.codes.values)\n",
        "    catdata = torch.tensor(catdata, dtype = torch.int64).T\n",
        "    \n",
        "    \n",
        "    numdata = np.stack([data[col].values for col in numericals], 1)\n",
        "    numdata = torch.tensor(numdata, dtype=torch.float)\n",
        "\n",
        "    normalize(numdata, norm_type)\n",
        "    return catdata, numdata\n",
        "\n",
        "def permutation(data, cat):\n",
        "    perm_data = data.copy()\n",
        "    rand_num = np.random.randint(0 , len(data[cat]) , len(data[cat]))\n",
        "    perm_data[cat][np.arange(len(data[cat]))] = data[cat][rand_num] \n",
        "    df = perm_data\n",
        "    return df\n",
        "\n",
        "def reset_data():\n",
        "    return pd.read_csv(\"https://raw.githubusercontent.com/oskarwiese/fagprojekt/master/compas_propublica/compas-scores-two-years.csv\")"
      ],
      "execution_count": 0,
      "outputs": []
    },
    {
      "cell_type": "markdown",
      "metadata": {
        "id": "gy8EZQeFXopH",
        "colab_type": "text"
      },
      "source": [
        "# Data Visualization and Pre-processing"
      ]
    },
    {
      "cell_type": "code",
      "metadata": {
        "id": "PvzrOJlgXopI",
        "colab_type": "code",
        "colab": {
          "base_uri": "https://localhost:8080/",
          "height": 35
        },
        "outputId": "253e3716-3506-452e-9184-f600a8f79911"
      },
      "source": [
        "url = \"https://raw.githubusercontent.com/oskarwiese/fagprojekt/master/compas_propublica/compas-scores-two-years.csv\"\n",
        "data = pd.read_csv(url)\n",
        "\n",
        "use_cuda = torch.cuda.is_available()\n",
        "print(\"Running GPU.\") if use_cuda else print(\"No GPU available.\")\n",
        "#print(data.columns)"
      ],
      "execution_count": 5,
      "outputs": [
        {
          "output_type": "stream",
          "text": [
            "No GPU available.\n"
          ],
          "name": "stdout"
        }
      ]
    },
    {
      "cell_type": "code",
      "metadata": {
        "scrolled": false,
        "id": "TB0u_rKFXopV",
        "colab_type": "code",
        "colab": {
          "base_uri": "https://localhost:8080/",
          "height": 1000
        },
        "outputId": "79a837eb-6182-4d45-f559-eb4dcd5b48cc"
      },
      "source": [
        "def is_plot():\n",
        "    \n",
        "    path = r\"C:\\Users\\ejer\\Desktop\\Fagprojekt\\fagprojekt\\report\\imgs\"\n",
        "    \n",
        "    pred_plot_race = sb.countplot(x = \"score_text\", hue = \"race\", data = data)\n",
        "    pred_plot_race.set_title(\"Predicted risk of recidivism according to race\")\n",
        "    pred_plot_race.figure.savefig(path + \"\\\\predicted_recid_race.png\")\n",
        "    plt.show()\n",
        "    \n",
        "    pred_plot_sex = sb.countplot(x = \"score_text\", hue = \"sex\", data = data)\n",
        "    pred_plot_sex.set_title(\"Predicted risk of recidivism according to sex\")\n",
        "    pred_plot_sex.figure.savefig(path + \"\\\\predicted_recid_sex.png\")\n",
        "    plt.show()\n",
        "    \n",
        "    true_plot = sb.countplot(x = \"is_recid\", hue = \"race\", data = data)\n",
        "    true_plot.set_title(\"True recidivism scores\")\n",
        "    true_plot.figure.savefig(path + \"\\\\true_recid.png\")\n",
        "    plt.show()\n",
        "    \n",
        "    df = data[(data[\"race\"] == \"African-American\") | (data[\"race\"] == \"Caucasian\")]\n",
        "    df = df[df[\"priors_count\"] < 25]\n",
        "    \n",
        "    priors_plot = sb.countplot(x = \"priors_count\", hue = \"race\", data = df)\n",
        "    priors_plot.set_title(\"Number of previous felonies according to race\")\n",
        "    priors_plot.figure.savefig(path + \"\\\\proirs.png\")\n",
        "    plt.show()\n",
        "    \n",
        "    c_charge_degree = sb.countplot(x = \"c_charge_degree\", hue = \"race\", data = df)\n",
        "    c_charge_degree.set_title(\"Severity of the crimes for each race\")\n",
        "    c_charge_degree.figure.savefig(path + \"\\\\c_charge_degree.png\")\n",
        "    plt.show()\n",
        "    \n",
        "    c_charge_degree = sb.countplot(x = \"score_text\", hue = \"c_charge_degree\", data = df)\n",
        "    c_charge_degree.set_title(\"Relation between crime severity and predicted recidivism\")\n",
        "    c_charge_degree.figure.savefig(path + \"\\\\charge_degree_score.png\")\n",
        "    plt.show()\n",
        "    \n",
        "    \n",
        "is_plot()\n",
        "\n",
        "palette = {\"Caucasian\": \"C0\", \"African-American\": \"C1\", \"Hispanic\": \"C2\", \"Other\": \"C3\" , \"Asian\": \"C4\" ,\"Native American\": \"C5\"}\n",
        "for i in tqdm(range(3)):\n",
        "    #TODO: der skal indsættes punkter for den rigtige data1fordelling. \n",
        "    data = permutation(data, \"race\")\n",
        "    path = r\"C:\\Users\\ejer\\Desktop\\Fagprojekt\\fagprojekt\\report\\imgs\"\n",
        "    pred_plot_race = sb.countplot(x = \"score_text\" ,hue = \"race\", data = data, palette = palette ,alpha=.06,  hue_order = [ \"African-American\",\"Caucasian\", \"Hispanic\", \"Other\" , \"Asian\",\"Native American\"])\n",
        "    pred_plot_race.set_title(\"Predicted risk of recidivism according to race\")\n",
        "    pred_plot_race.set_xticklabels(pred_plot_race.get_xticklabels(), horizontalalignment ='right')\n",
        "    pred_plot_race.get_legend().remove()\n",
        "    data = reset_data()\n",
        "plt.show()\n",
        "    \n"
      ],
      "execution_count": 6,
      "outputs": [
        {
          "output_type": "display_data",
          "data": {
            "image/png": "[encoded data removed]",
            "text/plain": [
              "<Figure size 432x288 with 1 Axes>"
            ]
          },
          "metadata": {
            "tags": []
          }
        },
        {
          "output_type": "display_data",
          "data": {
            "image/png": "[encoded data removed]",
            "text/plain": [
              "<Figure size 432x288 with 1 Axes>"
            ]
          },
          "metadata": {
            "tags": []
          }
        },
        {
          "output_type": "display_data",
          "data": {
            "image/png": "[encoded data removed]",
            "text/plain": [
              "<Figure size 432x288 with 1 Axes>"
            ]
          },
          "metadata": {
            "tags": []
          }
        },
        {
          "output_type": "display_data",
          "data": {
            "image/png": "[encoded data removed]",
            "text/plain": [
              "<Figure size 432x288 with 1 Axes>"
            ]
          },
          "metadata": {
            "tags": []
          }
        },
        {
          "output_type": "display_data",
          "data": {
            "image/png": "[encoded data removed]",
            "text/plain": [
              "<Figure size 432x288 with 1 Axes>"
            ]
          },
          "metadata": {
            "tags": []
          }
        },
        {
          "output_type": "display_data",
          "data": {
            "image/png": "[encoded data removed]",
            "text/plain": [
              "<Figure size 432x288 with 1 Axes>"
            ]
          },
          "metadata": {
            "tags": []
          }
        },
        {
          "output_type": "stream",
          "text": [
            "100%|██████████| 3/3 [00:00<00:00,  3.28it/s]\n"
          ],
          "name": "stderr"
        },
        {
          "output_type": "display_data",
          "data": {
            "image/png": "[encoded data removed]",
            "text/plain": [
              "<Figure size 432x288 with 1 Axes>"
            ]
          },
          "metadata": {
            "tags": []
          }
        }
      ]
    },
    {
      "cell_type": "code",
      "metadata": {
        "id": "mUxRvbGTXopd",
        "colab_type": "code",
        "colab": {}
      },
      "source": [
        "categoricals = [\"c_charge_degree\", \"race\", \"age_cat\", \"sex\"] # \"r_charge_degree\"    \"two_year_recid\"    \"is_recid\", \"is_violent_recid\"\n",
        "numericals = [\"age\", \"priors_count\", \"juv_fel_count\", \"juv_misd_count\"] # \"days_b_screening_arrest\"\n",
        "outputs = [\"score_text\"]\n",
        "data = data[categoricals + numericals + outputs + [\"two_year_recid\"]]\n",
        "\n",
        "# Making the output binary\n",
        "data[outputs] = data[outputs].replace('Low',0)\n",
        "data[outputs] = data[outputs].replace('Medium',1)\n",
        "data[outputs] = data[outputs].replace('High',1)\n",
        "data[outputs] = data[outputs].astype(\"category\")"
      ],
      "execution_count": 0,
      "outputs": []
    },
    {
      "cell_type": "code",
      "metadata": {
        "id": "op3YMk3yXopm",
        "colab_type": "code",
        "colab": {}
      },
      "source": [
        "Xcat, Xnum = dataprep(data, norm_type = \"zscore\")\n",
        "\n",
        "# Converting the output to tensor\n",
        "y = torch.tensor(data[outputs].values).flatten()\n",
        "\n",
        "# Calculation of embedding sizes for the categorical values in the format (unique categorical values, embedding size (dimension of encoding))\n",
        "categorical_column_sizes = [len(data[column].cat.categories) for column in categoricals]\n",
        "categorical_embedding_sizes = [(col_size, min(50, (col_size+1)//2)) for col_size in categorical_column_sizes]\n",
        "\n",
        "# Train-test split\n",
        "totalnumber = len(Xnum)\n",
        "testnumber = int(totalnumber * 0.2)\n",
        "\n",
        "Xcattrain = Xcat[:totalnumber - testnumber]\n",
        "Xcattest = Xcat[totalnumber - testnumber:totalnumber]\n",
        "Xnumtrain = Xnum[:totalnumber - testnumber]\n",
        "Xnumtest = Xnum[totalnumber - testnumber:totalnumber]\n",
        "ytrain = y[:totalnumber - testnumber]\n",
        "ytest = y[totalnumber - testnumber:totalnumber]\n",
        "\n",
        "\n",
        "# Make sure that we dont validate on training data to compare if the algorithm is biased\n",
        "\n",
        "\n",
        "normalize(Xnumtrain, \"zscore\");\n",
        "normalize(Xnumtest, \"zscore\");"
      ],
      "execution_count": 0,
      "outputs": []
    },
    {
      "cell_type": "markdown",
      "metadata": {
        "id": "tK7vpzYEXopu",
        "colab_type": "text"
      },
      "source": [
        "# Neural Network"
      ]
    },
    {
      "cell_type": "code",
      "metadata": {
        "id": "6GzSY_1rXopx",
        "colab_type": "code",
        "colab": {}
      },
      "source": [
        "class Model(nn.Module):\n",
        "\n",
        "    def __init__(self, embedding_size, num_numerical_cols, output_size, layers, p=0.4):\n",
        "        super().__init__()\n",
        "        self.all_embeddings = nn.ModuleList([nn.Embedding(ni, nf) for ni, nf in embedding_size])\n",
        "        self.embedding_dropout = nn.Dropout(p)\n",
        "        self.batch_norm_num = nn.BatchNorm1d(num_numerical_cols)\n",
        "\n",
        "        all_layers = []\n",
        "        num_categorical_cols = sum((nf for ni, nf in embedding_size))\n",
        "        input_size = num_categorical_cols + num_numerical_cols\n",
        "\n",
        "        for i in layers:\n",
        "            all_layers.append(nn.Linear(input_size, i))\n",
        "            all_layers.append(nn.ReLU(inplace=True))\n",
        "            all_layers.append(nn.BatchNorm1d(i))\n",
        "            all_layers.append(nn.Dropout(p))\n",
        "            input_size = i\n",
        "\n",
        "\n",
        "        all_layers.append(nn.Linear(layers[-1], output_size))\n",
        "        all_layers.append(nn.Sigmoid())\n",
        "        self.layers = nn.Sequential(*all_layers)\n",
        "\n",
        "    def forward(self, x_categorical, x_numerical):\n",
        "        embeddings = []\n",
        "        for i,e in enumerate(self.all_embeddings):\n",
        "            embeddings.append(e(x_categorical[:,i]))\n",
        "        x = torch.cat(embeddings, 1)\n",
        "        x = self.embedding_dropout(x)\n",
        "        x_numerical = self.batch_norm_num(x_numerical)\n",
        "        x = torch.cat([x, x_numerical], 1)\n",
        "        x = self.layers(x)\n",
        "        return x\n",
        "        "
      ],
      "execution_count": 0,
      "outputs": []
    },
    {
      "cell_type": "markdown",
      "metadata": {
        "id": "M-nhXWLiXop4",
        "colab_type": "text"
      },
      "source": [
        "# Train model on data"
      ]
    },
    {
      "cell_type": "code",
      "metadata": {
        "id": "S6NtrFJRXop8",
        "colab_type": "code",
        "colab": {
          "base_uri": "https://localhost:8080/",
          "height": 485
        },
        "outputId": "5a4d294c-b4ea-4a24-b054-1f9b806f3312"
      },
      "source": [
        "# Define and show the model\n",
        "model = Model(categorical_embedding_sizes, 4, 1, [8,16,640,16], p=0.5)\n",
        "if use_cuda:\n",
        "    model.cuda()\n",
        "print(model)"
      ],
      "execution_count": 203,
      "outputs": [
        {
          "output_type": "stream",
          "text": [
            "Model(\n",
            "  (all_embeddings): ModuleList(\n",
            "    (0): Embedding(2, 1)\n",
            "    (1): Embedding(6, 3)\n",
            "    (2): Embedding(3, 2)\n",
            "    (3): Embedding(2, 1)\n",
            "  )\n",
            "  (embedding_dropout): Dropout(p=0.5, inplace=False)\n",
            "  (batch_norm_num): BatchNorm1d(4, eps=1e-05, momentum=0.1, affine=True, track_running_stats=True)\n",
            "  (layers): Sequential(\n",
            "    (0): Linear(in_features=11, out_features=8, bias=True)\n",
            "    (1): ReLU(inplace=True)\n",
            "    (2): Dropout(p=0.5, inplace=False)\n",
            "    (3): Linear(in_features=8, out_features=16, bias=True)\n",
            "    (4): ReLU(inplace=True)\n",
            "    (5): Dropout(p=0.5, inplace=False)\n",
            "    (6): Linear(in_features=16, out_features=640, bias=True)\n",
            "    (7): ReLU(inplace=True)\n",
            "    (8): Dropout(p=0.5, inplace=False)\n",
            "    (9): Linear(in_features=640, out_features=16, bias=True)\n",
            "    (10): ReLU(inplace=True)\n",
            "    (11): Dropout(p=0.5, inplace=False)\n",
            "    (12): Linear(in_features=16, out_features=1, bias=True)\n",
            "    (13): Sigmoid()\n",
            "  )\n",
            ")\n"
          ],
          "name": "stdout"
        }
      ]
    },
    {
      "cell_type": "code",
      "metadata": {
        "id": "9XnMYSYcXoqE",
        "colab_type": "code",
        "colab": {}
      },
      "source": [
        "# Loss function and optimization\n",
        "loss_function = nn.BCELoss()\n",
        "optimizer = torch.optim.Adam(model.parameters(), lr=0.0001) \n",
        "threshold = 0.5"
      ],
      "execution_count": 0,
      "outputs": []
    },
    {
      "cell_type": "code",
      "metadata": {
        "scrolled": true,
        "id": "saH-fGO6XoqJ",
        "colab_type": "code",
        "colab": {
          "base_uri": "https://localhost:8080/",
          "height": 1000
        },
        "outputId": "39c613dc-2174-417f-9e91-6e396925c4b2"
      },
      "source": [
        "epochs = 800\n",
        "aggregated_losses = []\n",
        "\n",
        "# Initialize lists for training and validation\n",
        "train_iter = []\n",
        "train_loss, train_accs = [], []\n",
        "valid_iter = []\n",
        "valid_loss, valid_accs = [], []\n",
        "model.train()\n",
        "for i in range(epochs):\n",
        "    i += 1\n",
        "    y_pred = model(Xcattrain, Xnumtrain)\n",
        "    y_pred = (y_pred > threshold).float()\n",
        "    single_loss = loss_function(y_pred.view(-1).float(), ytrain.view(-1).float())\n",
        "    single_loss = Variable(single_loss , requires_grad=True )\n",
        "    aggregated_losses.append(single_loss)\n",
        "    \n",
        "    \n",
        "    if i % 25 == 1:\n",
        "        print(f'epoch: {i:3} loss: {single_loss.item():10.8f}')\n",
        "    \n",
        "    optimizer.zero_grad()\n",
        "    single_loss.backward()\n",
        "    optimizer.step()\n",
        "    \n",
        "print(f'epoch: {i:3} loss: {single_loss.item():10.10f}')\n",
        "    \n",
        "\n",
        "\n",
        "# Plot the loss over epocs\n",
        "plt.plot(range(epochs), aggregated_losses)\n",
        "plt.ylabel('Loss')\n",
        "plt.xlabel('epoch');\n",
        "\n",
        "\n",
        "# Predict on the test set\n",
        "model.eval()\n",
        "#with torch.no_grad():\n",
        "y_val = model(Xcattest, Xnumtest)\n",
        "y_val = (y_val > threshold).float()\n",
        "\n",
        "\n",
        "print(confusion_matrix(ytest.detach().numpy(),y_val.detach().numpy()))\n",
        "print(classification_report(ytest.numpy(),y_val))\n",
        "neural_acc = accuracy_score(ytest.detach().numpy(), y_val.detach().numpy())\n",
        "print(neural_acc)"
      ],
      "execution_count": 207,
      "outputs": [
        {
          "output_type": "stream",
          "text": [
            "epoch:   1 loss: 13.94526958\n",
            "epoch:  26 loss: 14.09846592\n",
            "epoch:  51 loss: 14.36655903\n",
            "epoch:  76 loss: 14.03144264\n",
            "epoch: 101 loss: 14.04101658\n",
            "epoch: 126 loss: 14.38570881\n",
            "epoch: 151 loss: 14.43837070\n",
            "epoch: 176 loss: 14.10325336\n",
            "epoch: 201 loss: 14.05537891\n",
            "epoch: 226 loss: 14.35698509\n",
            "epoch: 251 loss: 14.12718964\n",
            "epoch: 276 loss: 14.26602459\n",
            "epoch: 301 loss: 14.01708031\n",
            "epoch: 326 loss: 14.11761475\n",
            "epoch: 351 loss: 14.21815014\n",
            "epoch: 376 loss: 14.30911064\n",
            "epoch: 401 loss: 14.19900036\n",
            "epoch: 426 loss: 14.06974125\n",
            "epoch: 451 loss: 14.31868553\n",
            "epoch: 476 loss: 13.95005703\n",
            "epoch: 501 loss: 14.06974125\n",
            "epoch: 526 loss: 14.38092136\n",
            "epoch: 551 loss: 14.31389809\n",
            "epoch: 576 loss: 14.08410358\n",
            "epoch: 601 loss: 14.22293758\n",
            "epoch: 626 loss: 14.07931614\n",
            "epoch: 651 loss: 14.08889103\n",
            "epoch: 676 loss: 13.96920586\n",
            "epoch: 701 loss: 14.16548920\n",
            "epoch: 726 loss: 13.90218258\n",
            "epoch: 751 loss: 14.11761475\n",
            "epoch: 776 loss: 14.01229286\n",
            "epoch: 800 loss: 14.2612371445\n",
            "[[  0 770]\n",
            " [  0 672]]\n",
            "              precision    recall  f1-score   support\n",
            "\n",
            "           0       0.00      0.00      0.00       770\n",
            "           1       0.47      1.00      0.64       672\n",
            "\n",
            "    accuracy                           0.47      1442\n",
            "   macro avg       0.23      0.50      0.32      1442\n",
            "weighted avg       0.22      0.47      0.30      1442\n",
            "\n",
            "0.46601941747572817\n"
          ],
          "name": "stdout"
        },
        {
          "output_type": "display_data",
          "data": {
            "image/png": "[encoded data removed]",
            "text/plain": [
              "<Figure size 432x288 with 1 Axes>"
            ]
          },
          "metadata": {
            "tags": []
          }
        }
      ]
    },
    {
      "cell_type": "markdown",
      "metadata": {
        "id": "p53cIdXAXoqM",
        "colab_type": "text"
      },
      "source": [
        "# Prep black and white"
      ]
    },
    {
      "cell_type": "code",
      "metadata": {
        "id": "u-aCFWo0XoqO",
        "colab_type": "code",
        "colab": {}
      },
      "source": [
        "df = data[totalnumber - testnumber:totalnumber]\n",
        "black_data = df[df[\"race\"]==\"African-American\"]\n",
        "white_data = df[df[\"race\"]==\"Caucasian\"]\n",
        "\n",
        "Xcat_white, Xnum_white = dataprep(white_data, norm_type = \"zscore\")\n",
        "Xcat_black, Xnum_black = dataprep(black_data, norm_type = \"zscore\")"
      ],
      "execution_count": 0,
      "outputs": []
    },
    {
      "cell_type": "markdown",
      "metadata": {
        "id": "77FG9Yy7XoqR",
        "colab_type": "text"
      },
      "source": [
        "# A few more plots of blacks and whites"
      ]
    },
    {
      "cell_type": "code",
      "metadata": {
        "id": "cUBwXfemXoqS",
        "colab_type": "code",
        "colab": {
          "base_uri": "https://localhost:8080/",
          "height": 615
        },
        "outputId": "e8ae076c-eb66-48f7-8281-2475b5eb7419"
      },
      "source": [
        "# Plots of the distribution of black and whites in each category of scoretext\n",
        "sb.countplot(x = \"score_text\", data = black_data)\n",
        "print(len(black_data[black_data[\"score_text\"] == 0]))\n",
        "print(len(black_data[black_data[\"score_text\"] == 1]))\n",
        "plt.show()\n",
        "sb.countplot(x = \"score_text\", data = white_data)\n",
        "print(len(white_data[white_data[\"score_text\"] == 0]))\n",
        "print(len(white_data[white_data[\"score_text\"] == 1]))\n",
        "plt.show()"
      ],
      "execution_count": 183,
      "outputs": [
        {
          "output_type": "stream",
          "text": [
            "294\n",
            "450\n"
          ],
          "name": "stdout"
        },
        {
          "output_type": "display_data",
          "data": {
            "image/png": "[encoded data removed]",
            "text/plain": [
              "<Figure size 432x288 with 1 Axes>"
            ]
          },
          "metadata": {
            "tags": []
          }
        },
        {
          "output_type": "stream",
          "text": [
            "307\n",
            "168\n"
          ],
          "name": "stdout"
        },
        {
          "output_type": "display_data",
          "data": {
            "image/png": "[encoded data removed]",
            "text/plain": [
              "<Figure size 432x288 with 1 Axes>"
            ]
          },
          "metadata": {
            "tags": []
          }
        }
      ]
    },
    {
      "cell_type": "markdown",
      "metadata": {
        "id": "gpBySIgUXoqW",
        "colab_type": "text"
      },
      "source": [
        "# Confusion matrix for black/white"
      ]
    },
    {
      "cell_type": "code",
      "metadata": {
        "id": "JCEpuu9YXoqY",
        "colab_type": "code",
        "colab": {
          "base_uri": "https://localhost:8080/",
          "height": 215
        },
        "outputId": "ecdefad9-8d7f-40ac-fe34-a283512babf4"
      },
      "source": [
        "model.eval()\n",
        "y_val_white = model(Xcat_white, Xnum_white)\n",
        "y_val_white = (y_val_white > threshold).float()\n",
        "y_val_black = model(Xcat_black, Xnum_black)\n",
        "y_val_black = (y_val_black > threshold).float()\n",
        "\n",
        "# Ground truth of recidivism from dataset\n",
        "y_white = torch.tensor(white_data[\"two_year_recid\"].values).flatten()\n",
        "y_black = torch.tensor(black_data[\"two_year_recid\"].values).flatten()\n",
        "\n",
        "print(\"Confussion matrix for the white:\")\n",
        "conf_white = confusion_matrix( y_white, y_val_white)\n",
        "print(conf_white)\n",
        "print(conf_white / conf_white.astype(np.float).sum(axis=1))\n",
        "print()\n",
        "print(\"Confussion matrix for the black:\")\n",
        "conf_black = confusion_matrix( y_black, y_val_black)\n",
        "print(conf_black)\n",
        "print(conf_black / conf_black.astype(np.float).sum(axis=1))"
      ],
      "execution_count": 189,
      "outputs": [
        {
          "output_type": "stream",
          "text": [
            "Confussion matrix for the white:\n",
            "[[144 153]\n",
            " [ 83  95]]\n",
            "[[0.48484848 0.85955056]\n",
            " [0.27946128 0.53370787]]\n",
            "\n",
            "Confussion matrix for the black:\n",
            "[[ 83 266]\n",
            " [ 91 304]]\n",
            "[[0.23782235 0.67341772]\n",
            " [0.26074499 0.76962025]]\n"
          ],
          "name": "stdout"
        }
      ]
    },
    {
      "cell_type": "markdown",
      "metadata": {
        "id": "PNEw1HWHXoqc",
        "colab_type": "text"
      },
      "source": [
        "# ROC "
      ]
    },
    {
      "cell_type": "code",
      "metadata": {
        "id": "bubvCy_ZXoqe",
        "colab_type": "code",
        "colab": {
          "base_uri": "https://localhost:8080/",
          "height": 526
        },
        "outputId": "ec6c1655-3aa5-454f-fd24-5025884df32d"
      },
      "source": [
        "print()\n",
        "fpr, tpr, threshold = metrics.roc_curve(ytest, y_val)\n",
        "fpr, tpr, threshold = metrics.roc_curve(y_white, y_val_white)\n",
        "\n",
        "#print(fpr,tpr,threshold)\n",
        "#roc_auc = metrics.auc(fpr, tpr)\n",
        "#df = pd.DataFrame(dict(fpr = fpr, tpr = tpr))\n",
        "#print(ggplot(df, aes(x = 'fpr', y = 'tpr')) + geom_line() + geom_abline(linetype = 'dashed') + ggtitle(\"ROC Curve w/ AUC = %s\" % str(roc_auc)))\n",
        "\n",
        "\n",
        "# \n",
        "plt.title('Receiver Operating Characteristic')\n",
        "plt.plot(fpr, tpr, 'b', label = 'AUC = %0.2f' % roc_auc)\n",
        "plt.legend(loc = 'lower right')\n",
        "plt.plot([0, 1], [0, 1],'r--')\n",
        "plt.xlim([0, 1])\n",
        "plt.ylim([0, 1])\n",
        "plt.ylabel('True Positive Rate')\n",
        "plt.xlabel('False Positive Rate')\n",
        "plt.show()\n"
      ],
      "execution_count": 64,
      "outputs": [
        {
          "output_type": "stream",
          "text": [
            "\n"
          ],
          "name": "stdout"
        },
        {
          "output_type": "error",
          "ename": "NameError",
          "evalue": "ignored",
          "traceback": [
            "\u001b[0;31m---------------------------------------------------------------------------\u001b[0m",
            "\u001b[0;31mNameError\u001b[0m                                 Traceback (most recent call last)",
            "\u001b[0;32m<ipython-input-64-dad5e6e11695>\u001b[0m in \u001b[0;36m<module>\u001b[0;34m()\u001b[0m\n\u001b[1;32m     11\u001b[0m \u001b[0;31m#\u001b[0m\u001b[0;34m\u001b[0m\u001b[0;34m\u001b[0m\u001b[0;34m\u001b[0m\u001b[0m\n\u001b[1;32m     12\u001b[0m \u001b[0mplt\u001b[0m\u001b[0;34m.\u001b[0m\u001b[0mtitle\u001b[0m\u001b[0;34m(\u001b[0m\u001b[0;34m'Receiver Operating Characteristic'\u001b[0m\u001b[0;34m)\u001b[0m\u001b[0;34m\u001b[0m\u001b[0;34m\u001b[0m\u001b[0m\n\u001b[0;32m---> 13\u001b[0;31m \u001b[0mplt\u001b[0m\u001b[0;34m.\u001b[0m\u001b[0mplot\u001b[0m\u001b[0;34m(\u001b[0m\u001b[0mfpr\u001b[0m\u001b[0;34m,\u001b[0m \u001b[0mtpr\u001b[0m\u001b[0;34m,\u001b[0m \u001b[0;34m'b'\u001b[0m\u001b[0;34m,\u001b[0m \u001b[0mlabel\u001b[0m \u001b[0;34m=\u001b[0m \u001b[0;34m'AUC = %0.2f'\u001b[0m \u001b[0;34m%\u001b[0m \u001b[0mroc_auc\u001b[0m\u001b[0;34m)\u001b[0m\u001b[0;34m\u001b[0m\u001b[0;34m\u001b[0m\u001b[0m\n\u001b[0m\u001b[1;32m     14\u001b[0m \u001b[0mplt\u001b[0m\u001b[0;34m.\u001b[0m\u001b[0mlegend\u001b[0m\u001b[0;34m(\u001b[0m\u001b[0mloc\u001b[0m \u001b[0;34m=\u001b[0m \u001b[0;34m'lower right'\u001b[0m\u001b[0;34m)\u001b[0m\u001b[0;34m\u001b[0m\u001b[0;34m\u001b[0m\u001b[0m\n\u001b[1;32m     15\u001b[0m \u001b[0mplt\u001b[0m\u001b[0;34m.\u001b[0m\u001b[0mplot\u001b[0m\u001b[0;34m(\u001b[0m\u001b[0;34m[\u001b[0m\u001b[0;36m0\u001b[0m\u001b[0;34m,\u001b[0m \u001b[0;36m1\u001b[0m\u001b[0;34m]\u001b[0m\u001b[0;34m,\u001b[0m \u001b[0;34m[\u001b[0m\u001b[0;36m0\u001b[0m\u001b[0;34m,\u001b[0m \u001b[0;36m1\u001b[0m\u001b[0;34m]\u001b[0m\u001b[0;34m,\u001b[0m\u001b[0;34m'r--'\u001b[0m\u001b[0;34m)\u001b[0m\u001b[0;34m\u001b[0m\u001b[0;34m\u001b[0m\u001b[0m\n",
            "\u001b[0;31mNameError\u001b[0m: name 'roc_auc' is not defined"
          ]
        },
        {
          "output_type": "display_data",
          "data": {
            "image/png": "[encoded data removed]",
            "text/plain": [
              "<Figure size 432x288 with 1 Axes>"
            ]
          },
          "metadata": {
            "tags": []
          }
        }
      ]
    },
    {
      "cell_type": "markdown",
      "metadata": {
        "id": "zGjpQsM5Xoqh",
        "colab_type": "text"
      },
      "source": [
        "# Random Forest"
      ]
    },
    {
      "cell_type": "code",
      "metadata": {
        "id": "IkiYdJU5Xoqj",
        "colab_type": "code",
        "colab": {},
        "outputId": "cb5a0c67-874e-4321-d45b-d0de9817e2e7"
      },
      "source": [
        "# Define the model and fit it to the data\n",
        "def RandomForest(datatrain, datatest, ytrain, ytest, n_estimators = 53, max_depth = 14, max_features = \"log2\", criterion = \"entropy\", show_acc = True):\n",
        "    forestModel = RandomForestClassifier(n_estimators = n_estimators, max_depth = max_depth, max_features = max_features, criterion = criterion)\n",
        "    forestModel.fit(datatrain, ytrain)\n",
        "\n",
        "    # Predict on the test set\n",
        "    forestPreds = forestModel.predict(datatest)\n",
        "\n",
        "    forestProbs = forestModel.predict_proba(datatest)[:, 1]\n",
        "\n",
        "    if show_acc:\n",
        "        print(\"Predicted no recidivism: \", len(forestPreds[forestPreds == 0]))\n",
        "        print(\"Predicted recidivism: \", len(forestPreds[forestPreds == 1]))\n",
        "\n",
        "        print(\"Accuracy of the random forest model: \", len(forestPreds[torch.tensor(forestPreds, dtype = torch.int64) == ytest]) / len(forestPreds))\n",
        "\n",
        "RandomForest(Xcattrain, Xcattest, ytrain, ytest, n_estimators = 53, max_depth = 14, max_features = \"log2\", criterion = \"entropy\", show_acc = True)"
      ],
      "execution_count": 0,
      "outputs": [
        {
          "output_type": "stream",
          "text": [
            "Predicted no recidivism:  696\n",
            "Predicted recidivism:  746\n",
            "Accuracy of the random forest model:  0.6615811373092927\n"
          ],
          "name": "stdout"
        }
      ]
    },
    {
      "cell_type": "markdown",
      "metadata": {
        "id": "eiussQ0GXoqp",
        "colab_type": "text"
      },
      "source": [
        "# Baysian Optimization"
      ]
    },
    {
      "cell_type": "code",
      "metadata": {
        "scrolled": true,
        "id": "IncEpE6YXoqq",
        "colab_type": "code",
        "colab": {},
        "outputId": "30624c92-70de-4c21-a044-84310d05726b"
      },
      "source": [
        "## define the domain of the considered parameters\n",
        "n_estimators = tuple(np.arange(1,301,1, dtype= np.int))\n",
        "# print(n_estimators)\n",
        "max_depth = tuple(np.arange(1,110,1, dtype= np.int))\n",
        "# max_features = ('log2', 'sqrt', None)\n",
        "max_features = (0, 1)\n",
        "# criterion = ('gini', 'entropy')\n",
        "criterion = (0, 1)\n",
        "\n",
        "\n",
        "# define the dictionary for GPyOpt\n",
        "domain = [{'n_estimators': 'var_1',  'type': 'discrete',     'domain': n_estimators},\n",
        "          {'max_depth': 'var_2',     'type': 'discrete',     'domain': max_depth},\n",
        "          {'max_features': 'var_3',  'type': 'categorical',  'domain': max_features},\n",
        "          {'criterion': 'var_4',     'type': 'categorical',  'domain': criterion}]\n",
        "\n",
        "\n",
        "## we have to define the function we want to maximize --> validation accuracy, \n",
        "## note it should take a 2D ndarray but it is ok that it assumes only one point\n",
        "## in this setting\n",
        "def objective_function(x): \n",
        "    print(x)\n",
        "    # we have to handle the categorical variables that is convert 0/1 to labels\n",
        "    # log2/sqrt and gini/entropy\n",
        "    \n",
        "    param = x[0]\n",
        "    \n",
        "    if param[2] == 0:\n",
        "        var_3 = \"log2\"\n",
        "    else:\n",
        "        var_3 = \"sqrt\"\n",
        "    \n",
        "    if param[3] == 0:\n",
        "        var_4 = \"gini\"\n",
        "    else:\n",
        "        var_4 = \"entropy\"\n",
        "        \n",
        "        \n",
        "#fit the model\n",
        "    model = RandomForestClassifier(n_estimators = int(param[0]), criterion = var_4, max_depth = int(param[1]), max_features = var_3)\n",
        "    model.fit(Xcattrain, ytrain)\n",
        "    forestPreds = model.predict(Xcattest)\n",
        "    accuracy = len(forestPreds[torch.tensor(forestPreds, dtype = torch.int64) == ytest]) / len(forestPreds)\n",
        "    return accuracy\n",
        "\n",
        "\n",
        "opt = GPyOpt.methods.BayesianOptimization(f = objective_function,   # function to optimize\n",
        "                                              domain = domain,         # box-constrains of the problem\n",
        "                                              acquisition_type = \"EI\",      # Select acquisition function MPI, EI, LCB\n",
        "                                             )\n",
        "opt.acquisition.exploration_weight=.1\n",
        "\n",
        "opt.run_optimization(max_iter = 100) \n",
        "\n",
        "\n",
        "x_best = opt.X[np.argmin(opt.Y)]\n",
        "print(\"The best parameters obtained: n_estimators=\" + str(x_best[0]) + \", max_depth=\" + str(x_best[1]) + \", max_features=\" + str(\n",
        "    x_best[2])  + \", criterion=\" + str(\n",
        "    x_best[3]))"
      ],
      "execution_count": 0,
      "outputs": [
        {
          "output_type": "stream",
          "text": [
            "[[290.   2.   0.   1.]]\n",
            "[[170.  73.   0.   1.]]\n",
            "[[160.  40.   1.   1.]]\n",
            "[[27. 62.  0.  0.]]\n",
            "[[55. 59.  1.  0.]]\n",
            "[[290.   2.   0.   1.]]\n",
            "[[289.   2.   0.   1.]]\n",
            "[[300.  54.   1.   0.]]\n",
            "[[249.   1.   0.   0.]]\n",
            "[[265.   1.   1.   0.]]\n",
            "[[290.   1.   0.   0.]]\n",
            "[[259.   1.   0.   1.]]\n",
            "[[232.   1.   1.   1.]]\n",
            "[[1. 1. 1. 1.]]\n",
            "[[32.  1.  1.  1.]]\n",
            "[[17.  1.  1.  0.]]\n",
            "[[65.  1.  0.  0.]]\n",
            "[[51.  1.  1.  0.]]\n",
            "[[289.   1.   1.   1.]]\n",
            "[[275.   1.   0.   1.]]\n",
            "[[215.   1.   0.   0.]]\n",
            "[[225.   1.   0.   0.]]\n",
            "[[92.  1.  1.  0.]]\n",
            "[[115.   1.   0.   0.]]\n",
            "[[103.   1.   0.   0.]]\n",
            "[[177.   1.   1.   0.]]\n",
            "[[193.   1.   1.   0.]]\n",
            "[[146.   1.   1.   0.]]\n",
            "[[109.   1.   1.   1.]]\n",
            "[[11.  1.  0.  1.]]\n",
            "[[1. 1. 0. 0.]]\n",
            "[[159.   1.   0.   1.]]\n",
            "[[133.   1.   0.   1.]]\n",
            "[[82.  1.  0.  1.]]\n",
            "[[219.   1.   1.   0.]]\n",
            "[[68.  1.  1.  1.]]\n",
            "[[184.   1.   0.   1.]]\n",
            "[[150.   1.   0.   0.]]\n",
            "[[204.   1.   1.   1.]]\n",
            "[[290.   1.   0.   1.]]\n",
            "[[76.  1.  1.  0.]]\n",
            "[[263.   8.   0.   1.]]\n",
            "[[108. 109.   0.   0.]]\n",
            "[[229. 109.   0.   0.]]\n",
            "[[  1. 109.   1.   1.]]\n",
            "[[300. 109.   0.   1.]]\n",
            "[[ 1. 23.  1.  0.]]\n",
            "[[101.  25.   0.   0.]]\n",
            "[[ 53. 109.   0.   1.]]\n",
            "[[300.  13.   0.   1.]]\n",
            "[[201.  21.   1.   0.]]\n",
            "[[164. 109.   1.   1.]]\n",
            "[[51. 16.  0.  1.]]\n",
            "[[262.  82.   1.   0.]]\n",
            "[[139.  13.   0.   0.]]\n",
            "[[103.  71.   1.   1.]]\n",
            "[[125.   1.   1.   0.]]\n",
            "[[213.  72.   1.   1.]]\n",
            "[[167.   1.   1.   0.]]\n",
            "[[42.  1.  0.  1.]]\n",
            "[[39.  1.  1.  0.]]\n",
            "[[25.  1.  0.  0.]]\n",
            "[[255.   1.   1.   0.]]\n",
            "[[ 1. 75.  1.  1.]]\n",
            "[[214.   1.   1.   1.]]\n",
            "[[121.   1.   0.   1.]]\n",
            "[[240.   1.   0.   1.]]\n",
            "[[172.   1.   0.   1.]]\n",
            "[[59.  1.  1.  1.]]\n",
            "[[7. 1. 1. 0.]]\n",
            "[[144.   1.   0.   1.]]\n",
            "[[196. 109.   1.   0.]]\n",
            "[[152.   1.   1.   1.]]\n",
            "[[188.   1.   1.   1.]]\n",
            "[[54.  1.  0.  1.]]\n",
            "[[98.  1.  1.  1.]]\n",
            "[[237.   1.   1.   0.]]\n",
            "[[34.  1.  0.  0.]]\n",
            "[[275.   1.   1.   0.]]\n",
            "[[300.  79.   1.   1.]]\n",
            "[[209.   1.   1.   0.]]\n",
            "[[270.   1.   0.   0.]]\n",
            "[[247.   1.   1.   1.]]\n",
            "[[93.  1.  0.  1.]]\n",
            "[[196.   1.   0.   1.]]\n",
            "[[20.  1.  0.  1.]]\n",
            "[[265. 109.   1.   0.]]\n",
            "[[138.   1.   0.   0.]]\n",
            "[[165.   1.   1.   1.]]\n",
            "[[73.  1.  0.  1.]]\n",
            "[[137.   1.   1.   1.]]\n",
            "[[136.  82.   1.   1.]]\n",
            "[[47.  1.  1.  1.]]\n",
            "[[202.   1.   0.   0.]]\n",
            "[[270.   1.   1.   1.]]\n",
            "[[87.  1.  1.  1.]]\n",
            "[[243.   1.   1.   0.]]\n",
            "[[208.   1.   0.   1.]]\n",
            "[[118.   1.   1.   0.]]\n",
            "[[86.  1.  0.  0.]]\n",
            "[[188.   1.   0.   0.]]\n",
            "[[232.   1.   0.   0.]]\n",
            "[[107.   1.   1.   0.]]\n",
            "[[4. 1. 0. 1.]]\n",
            "[[132.   1.   1.   0.]]\n",
            "[[75. 87.  0.  0.]]\n",
            "[[15.  1.  0.  0.]]\n",
            "[[70.  1.  1.  0.]]\n",
            "[[158.   1.   1.   0.]]\n",
            "[[29. 91.  1.  1.]]\n",
            "[[172.   1.   1.   1.]]\n",
            "[[37.  1.  1.  1.]]\n",
            "[[221.   1.   0.   1.]]\n",
            "[[58.  1.  0.  0.]]\n",
            "[[63.  1.  1.  0.]]\n",
            "[[180.   1.   1.   1.]]\n",
            "[[253.   1.   0.   1.]]\n",
            "[[280.   1.   0.   0.]]\n",
            "[[47.  1.  0.  0.]]\n",
            "[[184.   1.   1.   0.]]\n",
            "[[97.  1.  0.  0.]]\n",
            "[[226.   1.   1.   1.]]\n",
            "[[25.  1.  1.  1.]]\n",
            "[[128.   1.   0.   1.]]\n",
            "[[82.  1.  1.  0.]]\n",
            "[[163.   1.   0.   0.]]\n",
            "[[115.   1.   1.   1.]]\n",
            "[[280.   1.   1.   1.]]\n",
            "[[29.  1.  0.  1.]]\n",
            "[[199.   1.   1.   0.]]\n",
            "[[265.   1.   0.   1.]]\n",
            "[[229.   1.   1.   0.]]\n",
            "[[14.  1.  1.  1.]]\n",
            "[[126.   1.   0.   0.]]\n",
            "[[142.   1.   0.   0.]]\n",
            "[[62.  1.  0.  1.]]\n",
            "[[245.   1.   0.   1.]]\n",
            "[[78.  1.  1.  1.]]\n",
            "[[261.   1.   1.   1.]]\n",
            "[[9. 1. 0. 0.]]\n",
            "[[261.   1.   0.   0.]]\n",
            "[[206.   1.   0.   0.]]\n",
            "[[170.   1.   0.   0.]]\n",
            "[[199.   1.   1.   1.]]\n",
            "[[190.  53.   0.   0.]]\n",
            "[[177.   1.   0.   1.]]\n",
            "[[285.   1.   1.   0.]]\n",
            "[[180.  11.   1.   1.]]\n",
            "[[136.  54.   0.   0.]]\n",
            "[[104.   1.   1.   1.]]\n",
            "[[78.  1.  0.  0.]]\n",
            "[[44.  1.  1.  0.]]\n",
            "[[112.   1.   1.   0.]]\n",
            "[[235.   1.   0.   1.]]\n",
            "[[284.   1.   0.   1.]]\n",
            "[[254.   1.   1.   1.]]\n",
            "[[55.  1.  1.  0.]]\n",
            "[[229.   1.   0.   1.]]\n",
            "[[162.   1.   1.   0.]]\n",
            "[[240.   1.   0.   0.]]\n",
            "[[146.   1.   0.   0.]]\n",
            "[[138. 107.   1.   0.]]\n",
            "[[180.   1.   0.   0.]]\n",
            "[[107.   1.   0.   1.]]\n",
            "[[89.  1.  0.  1.]]\n",
            "[[154.   1.   0.   1.]]\n",
            "[[174.   1.   0.   0.]]\n",
            "[[116.   1.   0.   1.]]\n",
            "[[125.   1.   0.   1.]]\n",
            "[[29.  1.  1.  0.]]\n",
            "[[284.  68.   1.   0.]]\n",
            "[[239.   1.   1.   1.]]\n",
            "[[148.   1.   1.   1.]]\n",
            "[[143.   1.   1.   1.]]\n",
            "[[288.   1.   0.   0.]]\n",
            "[[127.   1.   1.   1.]]\n",
            "[[37.  1.  0.  1.]]\n",
            "[[218.   1.   1.   1.]]\n",
            "[[2. 1. 1. 0.]]\n",
            "[[110.   1.   0.   0.]]\n",
            "[[22.  1.  1.  0.]]\n",
            "[[68.  1.  0.  0.]]\n",
            "[[4. 1. 1. 1.]]\n",
            "[[15.  1.  0.  1.]]\n",
            "[[84. 50.  0.  1.]]\n",
            "[[242.   1.   1.   1.]]\n",
            "[[290.   2.   1.   0.]]\n",
            "[[168.   1.   0.   1.]]\n",
            "[[11.  1.  1.  0.]]\n",
            "[[130.   1.   0.   0.]]\n",
            "[[ 82. 109.   1.   0.]]\n",
            "[[211.   1.   0.   0.]]\n",
            "[[51.  1.  0.  1.]]\n",
            "[[73.  1.  1.  1.]]\n",
            "[[21.  1.  1.  1.]]\n",
            "[[8. 1. 0. 1.]]\n",
            "[[191.   1.   0.   1.]]\n",
            "[[96.  1.  1.  1.]]\n",
            "[[101.   1.   1.   0.]]\n",
            "[[270.   1.   1.   0.]]\n",
            "[[266.   1.   1.   1.]]\n",
            "[[257.   1.   1.   1.]]\n",
            "[[233.  87.   1.   0.]]\n",
            "[[203.   1.   1.   0.]]\n",
            "[[223.   1.   1.   1.]]\n",
            "[[250.   1.   0.   1.]]\n",
            "[[42.  1.  0.  0.]]\n",
            "[[156.   1.   1.   1.]]\n",
            "[[214.   1.   1.   0.]]\n",
            "[[89.  1.  1.  0.]]\n",
            "[[175.   1.   1.   1.]]\n",
            "[[139.   1.   1.   0.]]\n",
            "[[153.   1.   1.   0.]]\n",
            "[[140.   1.   0.   1.]]\n",
            "[[73.  1.  0.  0.]]\n",
            "[[197.   1.   0.   0.]]\n",
            "[[196.   1.   1.   1.]]\n",
            "[[171.   1.   1.   0.]]\n",
            "[[ 24. 109.   1.   0.]]\n",
            "[[258.   1.   1.   0.]]\n",
            "[[42.  1.  1.  1.]]\n",
            "[[196.  87.   1.   0.]]\n",
            "[[45.  1.  0.  1.]]\n",
            "[[119.   1.   1.   1.]]\n",
            "[[32.  1.  0.  0.]]\n",
            "[[250.   1.   1.   0.]]\n",
            "[[20.  3.  0.  1.]]\n",
            "[[ 1. 48.  1.  0.]]\n",
            "[[78. 14.  1.  0.]]\n",
            "[[90.  1.  1.  1.]]\n",
            "[[161.   1.   1.   1.]]\n",
            "[[157.   1.   0.   0.]]\n",
            "[[280.  92.   0.   0.]]\n",
            "[[101.   1.   0.   1.]]\n",
            "[[217.   1.   0.   1.]]\n",
            "[[92.  1.  0.  0.]]\n",
            "[[ 6. 90.  0.  0.]]\n",
            "[[225.   1.   1.   0.]]\n",
            "[[54.  1.  1.  1.]]\n",
            "[[25.  1.  0.  1.]]\n",
            "[[186.   1.   0.   1.]]\n",
            "[[83.  1.  1.  1.]]\n",
            "[[277.   1.   1.   1.]]\n",
            "[[53.  1.  0.  0.]]\n",
            "[[133.   1.   1.   1.]]\n",
            "[[118.   1.   0.   0.]]\n",
            "[[273.   1.   0.   0.]]\n",
            "[[279.   1.   1.   0.]]\n",
            "[[58.  1.  0.  1.]]\n",
            "[[66.  1.  0.  1.]]\n",
            "[[254.   1.   0.   0.]]\n",
            "[[184.   1.   1.   1.]]\n",
            "[[219.  49.   0.   0.]]\n",
            "[[6. 1. 0. 0.]]\n",
            "[[286.   1.   1.   1.]]\n",
            "[[112.   1.   0.   1.]]\n",
            "[[64.  1.  1.  1.]]\n",
            "[[21.  1.  0.  0.]]\n",
            "[[33.  1.  1.  0.]]\n",
            "[[204.   1.   0.   1.]]\n",
            "[[235.   1.   1.   1.]]\n",
            "[[283.   1.   1.   0.]]\n",
            "[[110.  45.   1.   1.]]\n",
            "[[236.   1.   0.   0.]]\n",
            "[[154.  96.   0.   0.]]\n",
            "[[288.   4.   1.   1.]]\n",
            "[[300.  73.   0.   0.]]\n",
            "[[229.  16.   0.   0.]]\n",
            "[[246.  58.   0.   1.]]\n",
            "[[113.   9.   1.   1.]]\n",
            "[[300.   4.   0.   0.]]\n",
            "[[51. 82.  0.  0.]]\n",
            "[[39. 42.  0.  1.]]\n",
            "[[154.  62.   1.   0.]]\n",
            "[[115.  89.   0.   0.]]\n",
            "[[211.   6.   0.   1.]]\n",
            "[[241.  35.   0.   0.]]\n",
            "[[198.  37.   1.   0.]]\n",
            "[[63. 39.  0.  0.]]\n",
            "[[266.  56.   0.   0.]]\n",
            "[[177.  94.   1.   0.]]\n",
            "[[289.   1.   1.   0.]]\n",
            "[[158.   8.   1.   0.]]\n",
            "[[247. 109.   1.   1.]]\n",
            "[[76. 68.  1.  0.]]\n",
            "[[94. 91.  1.  1.]]\n",
            "[[243.   7.   1.   0.]]\n",
            "[[214.  96.   1.   1.]]\n",
            "[[122.  66.   0.   1.]]\n",
            "[[222.  33.   1.   1.]]\n",
            "[[173.  52.   1.   1.]]\n",
            "[[131.  36.   0.   1.]]\n",
            "[[19. 41.  0.  1.]]\n",
            "[[190.  70.   1.   0.]]\n",
            "[[300.  36.   0.   1.]]\n",
            "[[280. 109.   1.   1.]]\n",
            "[[235.  68.   0.   0.]]\n",
            "[[290.   1.   0.   1.]]\n",
            "[[62.  5.  0.  0.]]\n",
            "[[92.  7.  1.  1.]]\n",
            "[[84. 33.  1.  0.]]\n",
            "[[39. 25.  1.  0.]]\n",
            "[[18. 76.  0.  1.]]\n",
            "[[194.   1.   0.   0.]]\n",
            "[[123. 109.   1.   1.]]\n",
            "[[181.  34.   0.   1.]]\n",
            "[[122.   1.   1.   0.]]\n",
            "[[76.  1.  0.  1.]]\n",
            "[[290.   2.   0.   0.]]\n",
            "[[96.  1.  1.  0.]]\n",
            "[[39. 73.  1.  1.]]\n",
            "[[70.  1.  0.  1.]]\n",
            "[[282.  49.   0.   1.]]\n",
            "[[1. 6. 1. 0.]]\n",
            "[[278.   1.   0.   1.]]\n",
            "[[1. 4. 0. 0.]]\n",
            "[[ 1. 12.  1.  0.]]\n",
            "[[262.  38.   1.   1.]]\n",
            "[[291.   2.   1.   0.]]\n",
            "[[ 1. 34.  1.  1.]]\n",
            "[[40.  7.  1.  1.]]\n",
            "[[154.  79.   1.   1.]]\n",
            "[[249.  92.   0.   0.]]\n",
            "[[180. 109.   1.   0.]]\n",
            "[[ 68. 109.   0.   1.]]\n",
            "[[288.   1.   0.   1.]]\n",
            "[[ 38. 109.   0.   0.]]\n",
            "[[ 9. 61.  1.  1.]]\n",
            "[[212. 109.   1.   1.]]\n",
            "[[300.  94.   1.   0.]]\n",
            "[[52. 30.  0.  0.]]\n",
            "[[205.  57.   1.   1.]]\n",
            "[[211.   1.   1.   1.]]\n",
            "[[98. 56.  0.  0.]]\n",
            "[[250.  73.   1.   1.]]\n",
            "[[117.  30.   1.   1.]]\n",
            "[[277.   1.   0.   0.]]\n",
            "[[129.   5.   1.   1.]]\n",
            "[[146.  31.   0.   0.]]\n",
            "[[193.   5.   0.   0.]]\n",
            "[[6. 1. 1. 1.]]\n",
            "[[267.   1.   0.   0.]]\n",
            "[[135.   1.   1.   0.]]\n",
            "[[234.  49.   1.   1.]]\n",
            "[[60. 94.  1.  1.]]\n",
            "[[37.  1.  0.  0.]]\n",
            "[[213.   1.   0.   1.]]\n",
            "[[88. 76.  0.  1.]]\n",
            "[[163.   1.   0.   1.]]\n",
            "[[63. 74.  0.  1.]]\n",
            "[[97. 39.  1.  0.]]\n",
            "[[284.   1.   1.   1.]]\n",
            "[[224.   1.   0.   1.]]\n",
            "[[169.   1.   1.   1.]]\n",
            "[[69. 53.  1.  0.]]\n",
            "[[222.   1.   0.   0.]]\n",
            "[[1. 7. 1. 1.]]\n",
            "[[19. 27.  1.  0.]]\n",
            "[[279.  34.   0.   0.]]\n",
            "[[270.  71.   0.   1.]]\n",
            "[[139.  68.   0.   0.]]\n",
            "[[ 95. 109.   1.   0.]]\n",
            "[[122.  51.   1.   0.]]\n",
            "[[151. 109.   1.   0.]]\n",
            "[[168.  26.   0.   0.]]\n",
            "[[130.  95.   0.   0.]]\n",
            "[[70. 27.  0.  1.]]\n",
            "[[44. 94.  1.  1.]]\n",
            "[[219.   1.   1.   0.]]\n",
            "[[1. 1. 1. 0.]]\n",
            "[[81.  1.  1.  0.]]\n",
            "[[52.  1.  1.  1.]]\n",
            "[[4. 1. 1. 0.]]\n",
            "[[70.  1.  1.  1.]]\n",
            "[[4. 1. 1. 0.]]\n",
            "[[290.   1.   0.   0.]]\n",
            "[[147.  46.   1.   1.]]\n",
            "[[41. 57.  0.  1.]]\n",
            "[[149.   1.   1.   0.]]\n",
            "[[256.   1.   0.   1.]]\n",
            "[[209.  31.   0.   1.]]\n",
            "[[207.   1.   1.   1.]]\n",
            "[[187.   1.   1.   0.]]\n",
            "[[160.   1.   0.   0.]]\n",
            "[[123.   1.   0.   0.]]\n",
            "[[251.  46.   0.   0.]]\n",
            "[[136.   1.   0.   1.]]\n",
            "[[265.  95.   1.   1.]]\n",
            "[[18.  1.  0.  0.]]\n",
            "[[220.  83.   0.   0.]]\n",
            "[[28.  1.  1.  1.]]\n",
            "[[234.   1.   1.   0.]]\n",
            "[[223.  62.   1.   1.]]\n",
            "[[182.  81.   0.   1.]]\n",
            "[[130.   1.   1.   1.]]\n",
            "[[ 14. 101.   0.   1.]]\n",
            "[[185.   1.   0.   0.]]\n",
            "[[48.  1.  0.  1.]]\n",
            "[[165.  87.   1.   0.]]\n",
            "[[149.   1.   0.   1.]]\n",
            "[[285.  81.   0.   1.]]\n",
            "[[181.   1.   1.   0.]]\n",
            "[[190.   1.   1.   0.]]\n",
            "[[100.   1.   0.   0.]]\n",
            "[[121.  78.   1.   1.]]\n",
            "[[273.   1.   1.   1.]]\n",
            "[[85.  1.  0.  1.]]\n",
            "[[193.   1.   1.   1.]]\n",
            "[[174.   1.   1.   0.]]\n",
            "[[178.   1.   1.   1.]]\n",
            "[[201.   1.   1.   1.]]\n",
            "[[39.  1.  0.  1.]]\n",
            "[[246.   1.   0.   0.]]\n",
            "[[101.   1.   1.   1.]]\n",
            "[[10.  1.  1.  1.]]\n",
            "[[228.   1.   0.   0.]]\n",
            "[[264.   1.   0.   0.]]\n",
            "[[257.   1.   0.   0.]]\n",
            "[[23.  1.  0.  1.]]\n",
            "[[131.   1.   0.   1.]]\n",
            "[[61.  1.  1.  1.]]\n",
            "[[123.   1.   1.   1.]]\n",
            "[[66.  1.  1.  0.]]\n",
            "[[112.   1.   1.   1.]]\n",
            "[[202.  76.   0.   1.]]\n",
            "[[243.   1.   0.   0.]]\n",
            "[[218.   1.   0.   0.]]\n",
            "[[285.   1.   0.   0.]]\n",
            "[[134.   1.   0.   0.]]\n",
            "[[18.  1.  1.  1.]]\n",
            "[[181.   1.   0.   1.]]\n",
            "[[182.   1.   0.   0.]]\n",
            "[[33.  1.  0.  1.]]\n",
            "[[262.   1.   1.   0.]]\n",
            "[[216.   1.   1.   0.]]\n",
            "[[196.   1.   1.   0.]]\n",
            "[[52. 46.  1.  1.]]\n",
            "[[85.  1.  1.  0.]]\n",
            "[[179.  63.   0.   0.]]\n",
            "[[48.  1.  1.  0.]]\n",
            "[[200.   1.   0.   1.]]\n",
            "[[128.   1.   1.   0.]]\n",
            "[[111.  60.   1.   1.]]\n",
            "[[ 1. 63.  0.  0.]]\n",
            "[[96.  1.  0.  1.]]\n",
            "[[3. 1. 0. 0.]]\n",
            "[[252.   1.   1.   0.]]\n",
            "[[61.  1.  0.  0.]]\n",
            "[[237.  99.   0.   1.]]\n",
            "[[262.   1.   0.   1.]]\n",
            "[[165.   1.   1.   0.]]\n",
            "[[231.   1.   1.   0.]]\n",
            "[[83.  1.  0.  0.]]\n",
            "[[264.   1.   1.   1.]]\n",
            "[[246.   1.   1.   0.]]\n",
            "[[19.  1.  1.  0.]]\n",
            "[[28.  1.  0.  0.]]\n",
            "[[251.   1.   1.   1.]]\n",
            "[[28. 49.  1.  1.]]\n",
            "[[104.   1.   0.   1.]]\n",
            "[[106.   1.   0.   0.]]\n",
            "[[29. 34.  1.  0.]]\n",
            "[[44.  1.  0.  0.]]\n",
            "[[272.  44.   0.   0.]]\n",
            "[[81. 97.  1.  1.]]\n",
            "[[251.   1.   0.   0.]]\n",
            "[[190.  98.   0.   1.]]\n",
            "[[26.  1.  1.  0.]]\n",
            "[[143.   1.   1.   0.]]\n",
            "[[190.  26.   1.   0.]]\n",
            "[[153.   1.   0.   0.]]\n",
            "[[166.   1.   0.   0.]]\n",
            "[[94.  1.  0.  0.]]\n",
            "[[238.   1.   0.   1.]]\n",
            "[[59.  1.  1.  0.]]\n",
            "[[206.   1.   1.   0.]]\n",
            "[[247.   1.   0.   1.]]\n",
            "[[75.  1.  1.  1.]]\n",
            "[[88. 63.  0.  1.]]\n",
            "[[191.   1.   0.   0.]]\n",
            "[[269.   1.   0.   1.]]\n",
            "[[140.   1.   1.   1.]]\n",
            "[[44.  1.  1.  1.]]\n",
            "[[105.  98.   1.   1.]]\n",
            "[[10. 33.  1.  0.]]\n",
            "[[212.   1.   1.   0.]]\n",
            "[[79.  1.  0.  1.]]\n",
            "[[108.   1.   0.   0.]]\n",
            "[[151.   1.   0.   1.]]\n",
            "[[36.  1.  1.  0.]]\n",
            "[[254.  27.   0.   0.]]\n",
            "[[ 1. 98.  1.  0.]]\n",
            "[[3. 6. 1. 0.]]\n",
            "[[227.   4.   1.   1.]]\n",
            "[[234.  25.   0.   1.]]\n",
            "[[104.  83.   0.   0.]]\n",
            "[[116.   1.   1.   0.]]\n",
            "[[143.  93.   1.   1.]]\n",
            "[[230.   1.   0.   0.]]\n",
            "[[272.   1.   0.   1.]]\n",
            "[[258.  64.   1.   0.]]\n",
            "[[290.  41.   0.   0.]]\n",
            "[[158.   1.   1.   1.]]\n",
            "[[50.  1.  1.  1.]]\n",
            "[[300.  25.   1.   0.]]\n",
            "[[161.  53.   0.   0.]]\n",
            "[[241.   1.   1.   0.]]\n",
            "[[171.   4.   0.   0.]]\n",
            "[[146.   4.   0.   1.]]\n",
            "[[134.  24.   1.   0.]]\n",
            "[[290. 101.   0.   0.]]\n",
            "[[268.   1.   1.   0.]]\n",
            "[[203.  98.   0.   0.]]\n",
            "[[75. 40.  1.  1.]]\n",
            "[[232.   1.   0.   1.]]\n",
            "[[155.   1.   1.   0.]]\n",
            "[[145.   1.   1.   1.]]\n",
            "[[13.  1.  0.  0.]]\n",
            "[[14.  1.  1.  0.]]\n",
            "[[30. 80.  0.  0.]]\n",
            "[[110.   1.   0.   1.]]\n",
            "[[219.  23.   1.   0.]]\n",
            "[[16.  1.  1.  1.]]\n",
            "[[174.   1.   0.   1.]]\n",
            "[[155.  24.   1.   1.]]\n",
            "[[147.   1.   0.   1.]]\n",
            "[[177.   1.   0.   0.]]\n",
            "[[207.  45.   0.   0.]]\n",
            "[[16. 52.  0.  0.]]\n",
            "[[151.   1.   1.   0.]]\n",
            "[[204.   1.   0.   0.]]\n",
            "[[225.  97.   0.   0.]]\n",
            "[[ 11. 109.   1.   0.]]\n",
            "[[222.   1.   1.   0.]]\n",
            "[[99.  1.  0.  1.]]\n",
            "[[168.   1.   0.   0.]]\n",
            "[[73.  1.  1.  0.]]\n",
            "[[193.   1.   0.   1.]]\n",
            "[[191.   1.   1.   1.]]\n",
            "[[57.  1.  1.  1.]]\n",
            "[[35.  1.  1.  1.]]\n",
            "[[206.   1.   0.   1.]]\n",
            "[[186.   1.   1.   1.]]\n",
            "[[155.   1.   0.   0.]]\n",
            "[[291.  60.   0.   1.]]\n",
            "[[104.   1.   1.   0.]]\n",
            "[[189.   1.   0.   1.]]\n",
            "[[18. 88.  1.  0.]]\n",
            "[[89.  1.  0.  0.]]\n",
            "[[160.   1.   1.   0.]]\n",
            "[[171.  40.   0.   0.]]\n",
            "[[220.   1.   1.   1.]]\n",
            "[[29. 18.  1.  0.]]\n",
            "[[239.   1.   1.   0.]]\n",
            "[[17.  1.  0.  1.]]\n",
            "[[51. 70.  0.  1.]]\n",
            "[[107.  34.   0.   1.]]\n",
            "[[230.   1.   1.   1.]]\n",
            "[[165.   1.   0.   1.]]\n",
            "[[41.  1.  1.  0.]]\n",
            "[[71.  1.  0.  0.]]\n",
            "[[245.   1.   1.   1.]]\n",
            "[[120.   1.   0.   0.]]\n",
            "[[56.  1.  0.  0.]]\n",
            "[[274.  82.   1.   0.]]\n",
            "[[87.  1.  0.  1.]]\n",
            "[[267.  28.   0.   0.]]\n",
            "[[93.  1.  1.  1.]]\n",
            "[[113.   1.   0.   0.]]\n",
            "[[142.   1.   0.   1.]]\n",
            "[[227.  75.   0.   1.]]\n",
            "[[255. 102.   1.   1.]]\n",
            "[[210.   1.   0.   1.]]\n",
            "[[86. 23.  0.  1.]]\n",
            "[[114.   1.   1.   0.]]\n",
            "[[161.   1.   0.   1.]]\n",
            "[[11.  1.  0.  0.]]\n",
            "[[242.  80.   0.   0.]]\n",
            "[[80.  1.  1.  1.]]\n",
            "[[1. 1. 0. 1.]]\n",
            "[[282.   1.   0.   0.]]\n",
            "[[167.  99.   0.   1.]]\n",
            "[[81.  1.  0.  0.]]\n",
            "[[166.  63.   1.   1.]]\n",
            "[[2. 1. 0. 1.]]\n",
            "[[209.   1.   1.   1.]]\n",
            "[[118. 100.   1.   0.]]\n",
            "[[28.  4.  1.  0.]]\n",
            "[[ 9. 71.  1.  0.]]\n",
            "[[201.   1.   1.   0.]]\n",
            "[[120.  39.   0.   0.]]\n",
            "[[ 91. 100.   0.   0.]]\n",
            "[[30.  1.  0.  0.]]\n",
            "[[66. 63.  0.  1.]]\n",
            "[[144.   1.   0.   0.]]\n",
            "[[70. 99.  0.  0.]]\n",
            "[[260.   1.   1.   0.]]\n",
            "[[292.  88.   1.   0.]]\n",
            "[[121.   1.   1.   1.]]\n",
            "[[79.  1.  1.  0.]]\n",
            "[[40.  1.  0.  0.]]\n",
            "[[157.   1.   0.   1.]]\n",
            "[[202.  65.   0.   0.]]\n",
            "[[ 31. 100.   0.   0.]]\n",
            "[[ 1. 32.  1.  0.]]\n",
            "[[130.   1.   1.   0.]]\n",
            "[[135.   1.   1.   1.]]\n",
            "[[242.   1.   0.   1.]]\n",
            "[[179.   1.   0.   1.]]\n",
            "[[167.   1.   1.   1.]]\n",
            "[[60.  1.  0.  1.]]\n"
          ],
          "name": "stdout"
        }
      ]
    },
    {
      "cell_type": "markdown",
      "metadata": {
        "id": "S27lthrOXoq1",
        "colab_type": "text"
      },
      "source": [
        "# Baseline"
      ]
    },
    {
      "cell_type": "code",
      "metadata": {
        "id": "Lot3_IX-Xoq5",
        "colab_type": "code",
        "colab": {},
        "outputId": "71b408b9-7723-4a86-d10d-61b664b8f2a5"
      },
      "source": [
        "\n",
        "def baseline(data):\n",
        "    if len(data[data[\"score_text\"] == 0]) > len(data[data[\"score_text\"] == 1]):\n",
        "        y_pred = [0] * len(data[\"score_text\"])\n",
        "        y_pred = torch.tensor(y_pred)\n",
        "    else:\n",
        "        y_pred = [1] * len(data[\"score_text\"])\n",
        "        y_pred = torch.tensor(y_pred)\n",
        "    return y_pred\n",
        "\n",
        "trues = torch.tensor(data[\"score_text\"])\n",
        "y_pred = baseline(data)\n",
        "conf_baseline = confusion_matrix(y_pred,trues)\n",
        "print(conf_baseline)\n",
        "print(conf_baseline / conf_baseline.astype(np.float).sum())\n",
        "baseline_acc = accuracy_score(y_pred, trues)\n",
        "print(baseline_acc)\n",
        "print(\"Difference between baseline and neural network:\", neural_acc - baseline_acc)"
      ],
      "execution_count": 0,
      "outputs": [
        {
          "output_type": "stream",
          "text": [
            "[[3897 3317]\n",
            " [   0    0]]\n",
            "[[0.54019961 0.45980039]\n",
            " [0.         0.        ]]\n",
            "0.5401996118658164\n",
            "Difference between baseline and neural network: 0.17963395262794224\n"
          ],
          "name": "stdout"
        }
      ]
    }
  ]
}