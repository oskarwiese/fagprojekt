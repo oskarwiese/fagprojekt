{
 "cells": [
  {
   "cell_type": "code",
   "execution_count": 37,
   "metadata": {},
   "outputs": [],
   "source": [
    "from __future__ import division\n",
    "import numpy as np\n",
    "import os\n",
    "import pandas as pd\n",
    "import matplotlib.pyplot as plt\n",
    "import seaborn as sb\n",
    "import torch\n",
    "import torch.nn as nn\n",
    "from sklearn.metrics import classification_report, confusion_matrix, accuracy_score\n",
    "from sklearn.ensemble import RandomForestClassifier\n",
    "from sklearn.linear_model import LogisticRegression\n",
    "from tqdm import tqdm\n",
    "import GPyOpt\n",
    "from torch.autograd import Variable\n",
    "from sklearn.linear_model import LogisticRegression\n",
    "from sklearn.naive_bayes import GaussianNB"
   ]
  },
  {
   "cell_type": "code",
   "execution_count": 65,
   "metadata": {},
   "outputs": [],
   "source": [
    "def normalize(data, norm_type):\n",
    "    if norm_type == \"minmax\":\n",
    "        for i in range(data.size()[1]):\n",
    "            data[:,i] = (data[:,i]-data[:,i].min()) / (data[:,i].max()-data[:,i].min())\n",
    "        return data\n",
    "    elif norm_type == \"zscore\":\n",
    "        for i in range(data.size()[1]):\n",
    "            data[:,i] = (data[:,i]-data[:,i].mean()) / (data[:,i].std())\n",
    "        return data\n",
    "    elif norm_type == None:\n",
    "        return data\n",
    "    else:\n",
    "        raise ValueError(\"Please choose a correct normalization type\")\n",
    "#Xnumtrain = torch.tensor(np.vstack([(Xnumtrain[:,i]-Xnumtrain[:,i].min()) / (Xnumtrain[:,i].max()-Xnumtrain[:,i].min()) for i in range(Xnumtrain.size()[1]) if \"Tue elsker det her\"])).view(-1,2)\n",
    "\n",
    "def dataprep(data, norm_type = \"zscore\"):\n",
    "    for category in categoricals:\n",
    "        data[category] = data[category].astype(\"category\")\n",
    "\n",
    "    catdata = []\n",
    "    for i in range(len(categoricals)):\n",
    "        catdata.append(data[categoricals[i]].cat.codes.values)\n",
    "    catdata = torch.tensor(catdata, dtype = torch.int64).T\n",
    "    \n",
    "    \n",
    "    numdata = np.stack([data[col].values for col in numericals], 1)\n",
    "    numdata = torch.tensor(numdata, dtype=torch.float)\n",
    "\n",
    "    normalize(numdata, norm_type)\n",
    "    return catdata, numdata\n",
    "\n",
    "def permutation(data, cat):\n",
    "    perm_data = data.copy()\n",
    "    rand_num = np.random.randint(0 , len(data[cat]) , len(data[cat]))\n",
    "    perm_data[cat][np.arange(len(data[cat]))] = data[cat][rand_num] \n",
    "    df = perm_data\n",
    "    return df\n",
    "\n",
    "def reset_data():\n",
    "    return pd.read_csv(\"https://raw.githubusercontent.com/oskarwiese/fagprojekt/master/compas_propublica/compas-scores-two-years.csv\")"
   ]
  },
  {
   "cell_type": "markdown",
   "metadata": {},
   "source": [
    "# Data Visualization and Pre-processing"
   ]
  },
  {
   "cell_type": "code",
   "execution_count": 39,
   "metadata": {},
   "outputs": [
    {
     "name": "stdout",
     "output_type": "stream",
     "text": [
      "No GPU available.\n"
     ]
    }
   ],
   "source": [
    "url = \"https://raw.githubusercontent.com/oskarwiese/fagprojekt/master/adult_dataset/Adult.csv\"\n",
    "data = pd.read_csv(url, sep = \";\")\n",
    "data = data[(data[\"Race\"] == \" Black\") | (data[\"Race\"] == \" White\")]\n",
    "data = data.dropna()\n",
    "\n",
    "use_cuda = torch.cuda.is_available()\n",
    "print(\"Running GPU.\") if use_cuda else print(\"No GPU available.\")\n",
    "#print(data.columns)"
   ]
  },
  {
   "cell_type": "code",
   "execution_count": 40,
   "metadata": {},
   "outputs": [
    {
     "name": "stdout",
     "output_type": "stream",
     "text": [
      "Index(['Age', 'Workclass', 'Fnlwgt', 'Education', 'Unknown', 'Marital_status',\n",
      "       'Occupation', 'Relationship', 'Race', 'Sex', 'Capital_gain',\n",
      "       'Capital_loss', 'Hours_per_week', 'Native_country', 'Salary'],\n",
      "      dtype='object')\n"
     ]
    }
   ],
   "source": [
    "print(data.columns)\n",
    "def is_plot():\n",
    "    bins = 100\n",
    "    plt.hist(data[\"Sex\"], bins = bins)\n",
    "    plt.show()\n",
    "    plt.hist(data[\"Race\"], bins = bins)\n",
    "    plt.show()\n",
    "    plt.hist(data[\"Salary\"], bins = bins)\n",
    "    plt.show()\n",
    "    plt.hist(data[\"Fnlwgt\"], bins = bins)\n",
    "    plt.show()\n",
    "    plt.hist(data[\"Capital_gain\"], bins = bins)\n",
    "    plt.show()\n",
    "    plt.hist(data[\"Capital_loss\"], bins = bins)\n",
    "    plt.show()\n",
    "    plt.hist(data[\"Unknown\"], bins = bins)\n",
    "    plt.show()\n",
    "    plt.hist(data[\"Age\"], bins = bins)\n",
    "    plt.show()\n",
    "#is_plot()"
   ]
  },
  {
   "cell_type": "code",
   "execution_count": 108,
   "metadata": {},
   "outputs": [
    {
     "name": "stdout",
     "output_type": "stream",
     "text": [
      "Workclass             9\n",
      "Marital_status        7\n",
      "Relationship          6\n",
      "Race                  2\n",
      "Sex                   2\n",
      "Native_country       41\n",
      "Occupation           15\n",
      "Education            16\n",
      "Fnlwgt            20674\n",
      "Unknown              16\n",
      "Capital_gain        119\n",
      "Capital_loss         89\n",
      "Hours_per_week       94\n",
      "Salary                2\n",
      "dtype: int64\n"
     ]
    },
    {
     "ename": "TypeError",
     "evalue": "Cannot compare types 'ndarray(dtype=int64)' and 'str'",
     "output_type": "error",
     "traceback": [
      "\u001b[1;31m---------------------------------------------------------------------------\u001b[0m",
      "\u001b[1;31mTypeError\u001b[0m                                 Traceback (most recent call last)",
      "\u001b[1;32m<ipython-input-108-eef75f4a731d>\u001b[0m in \u001b[0;36m<module>\u001b[1;34m\u001b[0m\n\u001b[0;32m      7\u001b[0m \u001b[1;33m\u001b[0m\u001b[0m\n\u001b[0;32m      8\u001b[0m \u001b[1;31m# Making the output binary\u001b[0m\u001b[1;33m\u001b[0m\u001b[1;33m\u001b[0m\u001b[1;33m\u001b[0m\u001b[0m\n\u001b[1;32m----> 9\u001b[1;33m \u001b[0mdata\u001b[0m\u001b[1;33m[\u001b[0m\u001b[0moutputs\u001b[0m\u001b[1;33m]\u001b[0m \u001b[1;33m=\u001b[0m \u001b[0mdata\u001b[0m\u001b[1;33m[\u001b[0m\u001b[0moutputs\u001b[0m\u001b[1;33m]\u001b[0m\u001b[1;33m.\u001b[0m\u001b[0mreplace\u001b[0m\u001b[1;33m(\u001b[0m\u001b[1;33m{\u001b[0m\u001b[1;34m\"<=50K\"\u001b[0m\u001b[1;33m:\u001b[0m\u001b[1;36m0\u001b[0m\u001b[1;33m,\u001b[0m \u001b[1;34m\">50K\"\u001b[0m\u001b[1;33m:\u001b[0m\u001b[1;36m1\u001b[0m\u001b[1;33m}\u001b[0m\u001b[1;33m,\u001b[0m \u001b[0mregex\u001b[0m \u001b[1;33m=\u001b[0m \u001b[1;32mTrue\u001b[0m\u001b[1;33m)\u001b[0m\u001b[1;33m\u001b[0m\u001b[1;33m\u001b[0m\u001b[0m\n\u001b[0m\u001b[0;32m     10\u001b[0m \u001b[0mdata\u001b[0m\u001b[1;33m[\u001b[0m\u001b[0moutputs\u001b[0m\u001b[1;33m]\u001b[0m \u001b[1;33m=\u001b[0m \u001b[0mdata\u001b[0m\u001b[1;33m[\u001b[0m\u001b[0moutputs\u001b[0m\u001b[1;33m]\u001b[0m\u001b[1;33m.\u001b[0m\u001b[0mastype\u001b[0m\u001b[1;33m(\u001b[0m\u001b[1;34m\"category\"\u001b[0m\u001b[1;33m)\u001b[0m\u001b[1;33m\u001b[0m\u001b[1;33m\u001b[0m\u001b[0m\n",
      "\u001b[1;32m~\\Anaconda3\\lib\\site-packages\\pandas\\core\\frame.py\u001b[0m in \u001b[0;36mreplace\u001b[1;34m(self, to_replace, value, inplace, limit, regex, method)\u001b[0m\n\u001b[0;32m   4276\u001b[0m             \u001b[0mlimit\u001b[0m\u001b[1;33m=\u001b[0m\u001b[0mlimit\u001b[0m\u001b[1;33m,\u001b[0m\u001b[1;33m\u001b[0m\u001b[1;33m\u001b[0m\u001b[0m\n\u001b[0;32m   4277\u001b[0m             \u001b[0mregex\u001b[0m\u001b[1;33m=\u001b[0m\u001b[0mregex\u001b[0m\u001b[1;33m,\u001b[0m\u001b[1;33m\u001b[0m\u001b[1;33m\u001b[0m\u001b[0m\n\u001b[1;32m-> 4278\u001b[1;33m             \u001b[0mmethod\u001b[0m\u001b[1;33m=\u001b[0m\u001b[0mmethod\u001b[0m\u001b[1;33m,\u001b[0m\u001b[1;33m\u001b[0m\u001b[1;33m\u001b[0m\u001b[0m\n\u001b[0m\u001b[0;32m   4279\u001b[0m         )\n\u001b[0;32m   4280\u001b[0m \u001b[1;33m\u001b[0m\u001b[0m\n",
      "\u001b[1;32m~\\Anaconda3\\lib\\site-packages\\pandas\\core\\generic.py\u001b[0m in \u001b[0;36mreplace\u001b[1;34m(self, to_replace, value, inplace, limit, regex, method)\u001b[0m\n\u001b[0;32m   6680\u001b[0m \u001b[1;33m\u001b[0m\u001b[0m\n\u001b[0;32m   6681\u001b[0m             return self.replace(\n\u001b[1;32m-> 6682\u001b[1;33m                 \u001b[0mto_replace\u001b[0m\u001b[1;33m,\u001b[0m \u001b[0mvalue\u001b[0m\u001b[1;33m,\u001b[0m \u001b[0minplace\u001b[0m\u001b[1;33m=\u001b[0m\u001b[0minplace\u001b[0m\u001b[1;33m,\u001b[0m \u001b[0mlimit\u001b[0m\u001b[1;33m=\u001b[0m\u001b[0mlimit\u001b[0m\u001b[1;33m,\u001b[0m \u001b[0mregex\u001b[0m\u001b[1;33m=\u001b[0m\u001b[0mregex\u001b[0m\u001b[1;33m\u001b[0m\u001b[1;33m\u001b[0m\u001b[0m\n\u001b[0m\u001b[0;32m   6683\u001b[0m             )\n\u001b[0;32m   6684\u001b[0m         \u001b[1;32melse\u001b[0m\u001b[1;33m:\u001b[0m\u001b[1;33m\u001b[0m\u001b[1;33m\u001b[0m\u001b[0m\n",
      "\u001b[1;32m~\\Anaconda3\\lib\\site-packages\\pandas\\core\\frame.py\u001b[0m in \u001b[0;36mreplace\u001b[1;34m(self, to_replace, value, inplace, limit, regex, method)\u001b[0m\n\u001b[0;32m   4276\u001b[0m             \u001b[0mlimit\u001b[0m\u001b[1;33m=\u001b[0m\u001b[0mlimit\u001b[0m\u001b[1;33m,\u001b[0m\u001b[1;33m\u001b[0m\u001b[1;33m\u001b[0m\u001b[0m\n\u001b[0;32m   4277\u001b[0m             \u001b[0mregex\u001b[0m\u001b[1;33m=\u001b[0m\u001b[0mregex\u001b[0m\u001b[1;33m,\u001b[0m\u001b[1;33m\u001b[0m\u001b[1;33m\u001b[0m\u001b[0m\n\u001b[1;32m-> 4278\u001b[1;33m             \u001b[0mmethod\u001b[0m\u001b[1;33m=\u001b[0m\u001b[0mmethod\u001b[0m\u001b[1;33m,\u001b[0m\u001b[1;33m\u001b[0m\u001b[1;33m\u001b[0m\u001b[0m\n\u001b[0m\u001b[0;32m   4279\u001b[0m         )\n\u001b[0;32m   4280\u001b[0m \u001b[1;33m\u001b[0m\u001b[0m\n",
      "\u001b[1;32m~\\Anaconda3\\lib\\site-packages\\pandas\\core\\generic.py\u001b[0m in \u001b[0;36mreplace\u001b[1;34m(self, to_replace, value, inplace, limit, regex, method)\u001b[0m\n\u001b[0;32m   6734\u001b[0m                         \u001b[0mdest_list\u001b[0m\u001b[1;33m=\u001b[0m\u001b[0mvalue\u001b[0m\u001b[1;33m,\u001b[0m\u001b[1;33m\u001b[0m\u001b[1;33m\u001b[0m\u001b[0m\n\u001b[0;32m   6735\u001b[0m                         \u001b[0minplace\u001b[0m\u001b[1;33m=\u001b[0m\u001b[0minplace\u001b[0m\u001b[1;33m,\u001b[0m\u001b[1;33m\u001b[0m\u001b[1;33m\u001b[0m\u001b[0m\n\u001b[1;32m-> 6736\u001b[1;33m                         \u001b[0mregex\u001b[0m\u001b[1;33m=\u001b[0m\u001b[0mregex\u001b[0m\u001b[1;33m,\u001b[0m\u001b[1;33m\u001b[0m\u001b[1;33m\u001b[0m\u001b[0m\n\u001b[0m\u001b[0;32m   6737\u001b[0m                     )\n\u001b[0;32m   6738\u001b[0m \u001b[1;33m\u001b[0m\u001b[0m\n",
      "\u001b[1;32m~\\Anaconda3\\lib\\site-packages\\pandas\\core\\internals\\managers.py\u001b[0m in \u001b[0;36mreplace_list\u001b[1;34m(self, src_list, dest_list, inplace, regex)\u001b[0m\n\u001b[0;32m    610\u001b[0m             \u001b[1;32mreturn\u001b[0m \u001b[0m_compare_or_regex_search\u001b[0m\u001b[1;33m(\u001b[0m\u001b[0mvalues\u001b[0m\u001b[1;33m,\u001b[0m \u001b[0ms\u001b[0m\u001b[1;33m,\u001b[0m \u001b[0mregex\u001b[0m\u001b[1;33m)\u001b[0m\u001b[1;33m\u001b[0m\u001b[1;33m\u001b[0m\u001b[0m\n\u001b[0;32m    611\u001b[0m \u001b[1;33m\u001b[0m\u001b[0m\n\u001b[1;32m--> 612\u001b[1;33m         \u001b[0mmasks\u001b[0m \u001b[1;33m=\u001b[0m \u001b[1;33m[\u001b[0m\u001b[0mcomp\u001b[0m\u001b[1;33m(\u001b[0m\u001b[0ms\u001b[0m\u001b[1;33m,\u001b[0m \u001b[0mregex\u001b[0m\u001b[1;33m)\u001b[0m \u001b[1;32mfor\u001b[0m \u001b[0mi\u001b[0m\u001b[1;33m,\u001b[0m \u001b[0ms\u001b[0m \u001b[1;32min\u001b[0m \u001b[0menumerate\u001b[0m\u001b[1;33m(\u001b[0m\u001b[0msrc_list\u001b[0m\u001b[1;33m)\u001b[0m\u001b[1;33m]\u001b[0m\u001b[1;33m\u001b[0m\u001b[1;33m\u001b[0m\u001b[0m\n\u001b[0m\u001b[0;32m    613\u001b[0m \u001b[1;33m\u001b[0m\u001b[0m\n\u001b[0;32m    614\u001b[0m         \u001b[0mresult_blocks\u001b[0m \u001b[1;33m=\u001b[0m \u001b[1;33m[\u001b[0m\u001b[1;33m]\u001b[0m\u001b[1;33m\u001b[0m\u001b[1;33m\u001b[0m\u001b[0m\n",
      "\u001b[1;32m~\\Anaconda3\\lib\\site-packages\\pandas\\core\\internals\\managers.py\u001b[0m in \u001b[0;36m<listcomp>\u001b[1;34m(.0)\u001b[0m\n\u001b[0;32m    610\u001b[0m             \u001b[1;32mreturn\u001b[0m \u001b[0m_compare_or_regex_search\u001b[0m\u001b[1;33m(\u001b[0m\u001b[0mvalues\u001b[0m\u001b[1;33m,\u001b[0m \u001b[0ms\u001b[0m\u001b[1;33m,\u001b[0m \u001b[0mregex\u001b[0m\u001b[1;33m)\u001b[0m\u001b[1;33m\u001b[0m\u001b[1;33m\u001b[0m\u001b[0m\n\u001b[0;32m    611\u001b[0m \u001b[1;33m\u001b[0m\u001b[0m\n\u001b[1;32m--> 612\u001b[1;33m         \u001b[0mmasks\u001b[0m \u001b[1;33m=\u001b[0m \u001b[1;33m[\u001b[0m\u001b[0mcomp\u001b[0m\u001b[1;33m(\u001b[0m\u001b[0ms\u001b[0m\u001b[1;33m,\u001b[0m \u001b[0mregex\u001b[0m\u001b[1;33m)\u001b[0m \u001b[1;32mfor\u001b[0m \u001b[0mi\u001b[0m\u001b[1;33m,\u001b[0m \u001b[0ms\u001b[0m \u001b[1;32min\u001b[0m \u001b[0menumerate\u001b[0m\u001b[1;33m(\u001b[0m\u001b[0msrc_list\u001b[0m\u001b[1;33m)\u001b[0m\u001b[1;33m]\u001b[0m\u001b[1;33m\u001b[0m\u001b[1;33m\u001b[0m\u001b[0m\n\u001b[0m\u001b[0;32m    613\u001b[0m \u001b[1;33m\u001b[0m\u001b[0m\n\u001b[0;32m    614\u001b[0m         \u001b[0mresult_blocks\u001b[0m \u001b[1;33m=\u001b[0m \u001b[1;33m[\u001b[0m\u001b[1;33m]\u001b[0m\u001b[1;33m\u001b[0m\u001b[1;33m\u001b[0m\u001b[0m\n",
      "\u001b[1;32m~\\Anaconda3\\lib\\site-packages\\pandas\\core\\internals\\managers.py\u001b[0m in \u001b[0;36mcomp\u001b[1;34m(s, regex)\u001b[0m\n\u001b[0;32m    608\u001b[0m                     \u001b[0mmaybe_convert_objects\u001b[0m\u001b[1;33m(\u001b[0m\u001b[0mvalues\u001b[0m\u001b[1;33m)\u001b[0m\u001b[1;33m,\u001b[0m \u001b[0ms\u001b[0m\u001b[1;33m.\u001b[0m\u001b[0masm8\u001b[0m\u001b[1;33m,\u001b[0m \u001b[0mregex\u001b[0m\u001b[1;33m\u001b[0m\u001b[1;33m\u001b[0m\u001b[0m\n\u001b[0;32m    609\u001b[0m                 )\n\u001b[1;32m--> 610\u001b[1;33m             \u001b[1;32mreturn\u001b[0m \u001b[0m_compare_or_regex_search\u001b[0m\u001b[1;33m(\u001b[0m\u001b[0mvalues\u001b[0m\u001b[1;33m,\u001b[0m \u001b[0ms\u001b[0m\u001b[1;33m,\u001b[0m \u001b[0mregex\u001b[0m\u001b[1;33m)\u001b[0m\u001b[1;33m\u001b[0m\u001b[1;33m\u001b[0m\u001b[0m\n\u001b[0m\u001b[0;32m    611\u001b[0m \u001b[1;33m\u001b[0m\u001b[0m\n\u001b[0;32m    612\u001b[0m         \u001b[0mmasks\u001b[0m \u001b[1;33m=\u001b[0m \u001b[1;33m[\u001b[0m\u001b[0mcomp\u001b[0m\u001b[1;33m(\u001b[0m\u001b[0ms\u001b[0m\u001b[1;33m,\u001b[0m \u001b[0mregex\u001b[0m\u001b[1;33m)\u001b[0m \u001b[1;32mfor\u001b[0m \u001b[0mi\u001b[0m\u001b[1;33m,\u001b[0m \u001b[0ms\u001b[0m \u001b[1;32min\u001b[0m \u001b[0menumerate\u001b[0m\u001b[1;33m(\u001b[0m\u001b[0msrc_list\u001b[0m\u001b[1;33m)\u001b[0m\u001b[1;33m]\u001b[0m\u001b[1;33m\u001b[0m\u001b[1;33m\u001b[0m\u001b[0m\n",
      "\u001b[1;32m~\\Anaconda3\\lib\\site-packages\\pandas\\core\\internals\\managers.py\u001b[0m in \u001b[0;36m_compare_or_regex_search\u001b[1;34m(a, b, regex)\u001b[0m\n\u001b[0;32m   1965\u001b[0m         raise TypeError(\n\u001b[0;32m   1966\u001b[0m             \"Cannot compare types {a!r} and {b!r}\".format(\n\u001b[1;32m-> 1967\u001b[1;33m                 \u001b[0ma\u001b[0m\u001b[1;33m=\u001b[0m\u001b[0mtype_names\u001b[0m\u001b[1;33m[\u001b[0m\u001b[1;36m0\u001b[0m\u001b[1;33m]\u001b[0m\u001b[1;33m,\u001b[0m \u001b[0mb\u001b[0m\u001b[1;33m=\u001b[0m\u001b[0mtype_names\u001b[0m\u001b[1;33m[\u001b[0m\u001b[1;36m1\u001b[0m\u001b[1;33m]\u001b[0m\u001b[1;33m\u001b[0m\u001b[1;33m\u001b[0m\u001b[0m\n\u001b[0m\u001b[0;32m   1968\u001b[0m             )\n\u001b[0;32m   1969\u001b[0m         )\n",
      "\u001b[1;31mTypeError\u001b[0m: Cannot compare types 'ndarray(dtype=int64)' and 'str'"
     ]
    }
   ],
   "source": [
    "categoricals = [\"Workclass\", \"Marital_status\", \"Relationship\", \"Race\", \"Sex\", \"Native_country\", \"Occupation\", \"Education\"]\n",
    "numericals = [\"Fnlwgt\", \"Unknown\", \"Capital_gain\", \"Capital_loss\", \"Hours_per_week\"]\n",
    "features = categoricals + numericals\n",
    "outputs = [\"Salary\"]\n",
    "data = data[features + outputs]\n",
    "print(data.nunique())\n",
    "\n",
    "# Making the output binary\n",
    "data[outputs] = data[outputs].replace({\"<=50K\":0, \">50K\":1}, regex = True)\n",
    "data[outputs] = data[outputs].astype(\"category\")"
   ]
  },
  {
   "cell_type": "code",
   "execution_count": 42,
   "metadata": {},
   "outputs": [],
   "source": [
    "Xcat, Xnum = dataprep(data, norm_type = \"zscore\")\n",
    "\n",
    "# Converting the output to tensor\n",
    "y = torch.tensor(data[outputs].values).flatten()\n",
    "\n",
    "# Calculation of embedding sizes for the categorical values in the format (unique categorical values, embedding size (dimension of encoding))\n",
    "categorical_column_sizes = [len(data[column].cat.categories) for column in categoricals]\n",
    "categorical_embedding_sizes = [(col_size, min(50, (col_size+1)//2)) for col_size in categorical_column_sizes]\n",
    "\n",
    "# Train-test split\n",
    "totalnumber = len(Xnum)\n",
    "testnumber = int(totalnumber * 0.2)\n",
    "\n",
    "Xcattrain = Xcat[:totalnumber - testnumber]\n",
    "Xcattest = Xcat[totalnumber - testnumber:totalnumber]\n",
    "Xnumtrain = Xnum[:totalnumber - testnumber]\n",
    "Xnumtest = Xnum[totalnumber - testnumber:totalnumber]\n",
    "ytrain = y[:totalnumber - testnumber]\n",
    "ytest = y[totalnumber - testnumber:totalnumber]\n",
    "\n",
    "\n",
    "# Make sure that we dont validate on training data to compare if the algorithm is biased\n",
    "\n",
    "\n",
    "normalize(Xnumtrain, \"zscore\");\n",
    "normalize(Xnumtest, \"zscore\");"
   ]
  },
  {
   "cell_type": "markdown",
   "metadata": {},
   "source": [
    "# Neural Network"
   ]
  },
  {
   "cell_type": "code",
   "execution_count": 43,
   "metadata": {},
   "outputs": [],
   "source": [
    "class Model(nn.Module):\n",
    "\n",
    "    def __init__(self, embedding_size, num_numerical_cols, output_size, layers, p=0.4):\n",
    "        super().__init__()\n",
    "        self.all_embeddings = nn.ModuleList([nn.Embedding(ni, nf) for ni, nf in embedding_size])\n",
    "        self.embedding_dropout = nn.Dropout(p)\n",
    "        self.batch_norm_num = nn.BatchNorm1d(num_numerical_cols)\n",
    "        \n",
    "        all_layers = []\n",
    "        num_categorical_cols = sum((nf for ni, nf in embedding_size))\n",
    "        input_size = num_categorical_cols + num_numerical_cols\n",
    "\n",
    "        for i in layers:\n",
    "            all_layers.append(nn.Linear(input_size, i))\n",
    "            all_layers.append(nn.ReLU(inplace=True))\n",
    "            all_layers.append(nn.BatchNorm1d(i))\n",
    "            all_layers.append(nn.Dropout(p))\n",
    "            input_size = i\n",
    "\n",
    "        all_layers.append(nn.Linear(layers[-1], output_size))\n",
    "\n",
    "        self.layers = nn.Sequential(*all_layers)\n",
    "\n",
    "    def forward(self, x_categorical, x_numerical):\n",
    "        embeddings = []\n",
    "        for i,e in enumerate(self.all_embeddings):\n",
    "            embeddings.append(e(x_categorical[:,i]))\n",
    "        x = torch.cat(embeddings, 1)\n",
    "        x = self.embedding_dropout(x)\n",
    "\n",
    "        x_numerical = self.batch_norm_num(x_numerical)\n",
    "        x = torch.cat([x, x_numerical], 1)\n",
    "        x = self.layers(x)\n",
    "        return nn.functional.sigmoid(x)"
   ]
  },
  {
   "cell_type": "markdown",
   "metadata": {},
   "source": [
    "# Train model on data"
   ]
  },
  {
   "cell_type": "code",
   "execution_count": 33,
   "metadata": {
    "scrolled": true
   },
   "outputs": [
    {
     "name": "stdout",
     "output_type": "stream",
     "text": [
      "Model(\n",
      "  (all_embeddings): ModuleList(\n",
      "    (0): Embedding(9, 5)\n",
      "    (1): Embedding(7, 4)\n",
      "    (2): Embedding(6, 3)\n",
      "    (3): Embedding(2, 1)\n",
      "    (4): Embedding(2, 1)\n",
      "    (5): Embedding(41, 21)\n",
      "    (6): Embedding(15, 8)\n",
      "    (7): Embedding(16, 8)\n",
      "  )\n",
      "  (embedding_dropout): Dropout(p=0.5, inplace=False)\n",
      "  (batch_norm_num): BatchNorm1d(5, eps=1e-05, momentum=0.1, affine=True, track_running_stats=True)\n",
      "  (layers): Sequential(\n",
      "    (0): Linear(in_features=56, out_features=16, bias=True)\n",
      "    (1): ReLU(inplace=True)\n",
      "    (2): BatchNorm1d(16, eps=1e-05, momentum=0.1, affine=True, track_running_stats=True)\n",
      "    (3): Dropout(p=0.5, inplace=False)\n",
      "    (4): Linear(in_features=16, out_features=32, bias=True)\n",
      "    (5): ReLU(inplace=True)\n",
      "    (6): BatchNorm1d(32, eps=1e-05, momentum=0.1, affine=True, track_running_stats=True)\n",
      "    (7): Dropout(p=0.5, inplace=False)\n",
      "    (8): Linear(in_features=32, out_features=64, bias=True)\n",
      "    (9): ReLU(inplace=True)\n",
      "    (10): BatchNorm1d(64, eps=1e-05, momentum=0.1, affine=True, track_running_stats=True)\n",
      "    (11): Dropout(p=0.5, inplace=False)\n",
      "    (12): Linear(in_features=64, out_features=128, bias=True)\n",
      "    (13): ReLU(inplace=True)\n",
      "    (14): BatchNorm1d(128, eps=1e-05, momentum=0.1, affine=True, track_running_stats=True)\n",
      "    (15): Dropout(p=0.5, inplace=False)\n",
      "    (16): Linear(in_features=128, out_features=64, bias=True)\n",
      "    (17): ReLU(inplace=True)\n",
      "    (18): BatchNorm1d(64, eps=1e-05, momentum=0.1, affine=True, track_running_stats=True)\n",
      "    (19): Dropout(p=0.5, inplace=False)\n",
      "    (20): Linear(in_features=64, out_features=1, bias=True)\n",
      "  )\n",
      ")\n"
     ]
    }
   ],
   "source": [
    "# Define and show the model\n",
    "model = Model(categorical_embedding_sizes, 5, 1, [16,32,64,128,64], p=0.5)\n",
    "if use_cuda:\n",
    "    model.cuda()\n",
    "print(model)\n",
    "for param in model.parameters():\n",
    "            param.requires_grad = True\n"
   ]
  },
  {
   "cell_type": "code",
   "execution_count": 34,
   "metadata": {},
   "outputs": [],
   "source": [
    "# Loss function and optimization\n",
    "loss_function = nn.BCELoss()\n",
    "optimizer = torch.optim.Adam(model.parameters(), lr=0.001, weight_decay = 1e-6)\n",
    "threshold = 0.5"
   ]
  },
  {
   "cell_type": "code",
   "execution_count": 36,
   "metadata": {
    "scrolled": false
   },
   "outputs": [],
   "source": [
    "# thresholds = np.random.uniform(0,1,size=points)\n",
    "    \n",
    "def train_model(hyperparameters, model, epochs = 100, plot = False):\n",
    "    in_features, out_features = 11, 1\n",
    "    p = hyperparameters['p']\n",
    "    hidden_units_1 = hyperparameters['hidden_units_1']\n",
    "    hidden_units_2 = hyperparameters['hidden_units_2']\n",
    "    hidden_units_3 = hyperparameters['hidden_units_3']\n",
    "    hidden_units_4 = hyperparameters['hidden_units_4']\n",
    "    hidden_units_5 = hyperparameters['hidden_units_5']\n",
    "    activation_func = hyperparameters['activation_func']\n",
    "    \n",
    "    model.layers[0] = torch.nn.Linear(in_features, hidden_units_1) \n",
    "    model.layers[1] = activation_func\n",
    "    model.layers[2] = torch.nn.BatchNorm1d(hidden_units_1)\n",
    "    model.layers[3] = torch.nn.Dropout(p=p)\n",
    "    model.layers[4] = torch.nn.Linear(hidden_units_1, hidden_units_2) \n",
    "    model.layers[5] = activation_func\n",
    "    model.layers[6] = torch.nn.BatchNorm1d(hidden_units_2)\n",
    "    model.layers[7] = torch.nn.Dropout(p=p)\n",
    "    model.layers[8] = torch.nn.Linear(hidden_units_2, hidden_units_3) \n",
    "    model.layers[9] = activation_func\n",
    "    model.layers[10] = torch.nn.BatchNorm1d(hidden_units_3)\n",
    "    model.layers[11] = torch.nn.Dropout(p=p)\n",
    "    model.layers[12] = torch.nn.Linear(hidden_units_3, hidden_units_4) \n",
    "    model.layers[13] = activation_func\n",
    "    model.layers[14] = torch.nn.BatchNorm1d(hidden_units_4)\n",
    "    model.layers[15] = torch.nn.Dropout(p=p)\n",
    "    model.layers[16] = torch.nn.Linear(hidden_units_4, hidden_units_5) \n",
    "    model.layers[17] = activation_func\n",
    "    model.layers[18] = torch.nn.BatchNorm1d(hidden_units_5)\n",
    "    model.layers[19] = torch.nn.Dropout(p=p)\n",
    "    model.layers[20] = torch.nn.Linear(hidden_units_5, out_features) \n",
    "    \n",
    "    aggregated_losses = []\n",
    "    \n",
    "    # Initialize lists for training and validation\n",
    "    train_iter = []\n",
    "    train_loss, train_accs = [], []\n",
    "    valid_iter = []\n",
    "    valid_loss, valid_accs = [], []\n",
    "\n",
    "    model.train()\n",
    "    for i in range(epochs):\n",
    "        i += 1\n",
    "        y_pred = model(Xcattrain, Xnumtrain)\n",
    "        single_loss = loss_function(y_pred, ytrain.float())\n",
    "        aggregated_losses.append(single_loss)\n",
    "\n",
    "        #if i % 25 == 1:\n",
    "            #print(f'epoch: {i:3} loss: {single_loss.item():10.8f}')\n",
    "\n",
    "        optimizer.zero_grad()\n",
    "        single_loss.backward()\n",
    "        optimizer.step()\n",
    "\n",
    "    #print(f'epoch: {i:3} loss: {single_loss.item():10.10f}')\n",
    "\n",
    "\n",
    "    \n",
    "    # Plot the loss over epocs\n",
    "    if plot:\n",
    "        plt.plot(range(epochs), aggregated_losses)\n",
    "        plt.ylabel('Loss')\n",
    "        plt.xlabel('epoch');\n",
    "\n",
    "\n",
    "    # Predict on the test set\n",
    "    model.eval()\n",
    "    with torch.no_grad():\n",
    "        y_val = model(Xcattest, Xnumtest)\n",
    "        loss = loss_function(y_val, ytest.float())\n",
    "\n",
    "\n",
    "    y_val = (y_val > threshold).float()\n",
    "\n",
    "    \n",
    "    #print(confusion_matrix(ytest,y_val))\n",
    "    #print(classification_report(ytest,y_val))\n",
    "    neural_acc = accuracy_score(ytest, y_val)\n",
    "    \n",
    "    return model, float(neural_acc)"
   ]
  },
  {
   "cell_type": "markdown",
   "metadata": {},
   "source": [
    "# Baysian Optimization"
   ]
  },
  {
   "cell_type": "code",
   "execution_count": 23,
   "metadata": {
    "scrolled": true
   },
   "outputs": [
    {
     "name": "stdout",
     "output_type": "stream",
     "text": [
      "[[0.779691   0.33370861 2.        ]]\n",
      "{'hidden_units_1': 87, 'hidden_units_2': 145, 'hidden_units_3': 202, 'hidden_units_4': 145, 'hidden_units_5': 87, 'p': 0.33370861113902184, 'activation_func': ReLU6()}\n"
     ]
    },
    {
     "ename": "KeyboardInterrupt",
     "evalue": "",
     "output_type": "error",
     "traceback": [
      "\u001b[1;31m---------------------------------------------------------------------------\u001b[0m",
      "\u001b[1;31mKeyboardInterrupt\u001b[0m                         Traceback (most recent call last)",
      "\u001b[1;32m<ipython-input-23-68255f4599c7>\u001b[0m in \u001b[0;36m<module>\u001b[1;34m\u001b[0m\n\u001b[0;32m     39\u001b[0m opt = GPyOpt.methods.BayesianOptimization(f = objective_function,   # function to optimize\n\u001b[0;32m     40\u001b[0m                                               \u001b[0mdomain\u001b[0m \u001b[1;33m=\u001b[0m \u001b[0mdomain\u001b[0m\u001b[1;33m,\u001b[0m         \u001b[1;31m# box-constrains of the problem\u001b[0m\u001b[1;33m\u001b[0m\u001b[1;33m\u001b[0m\u001b[0m\n\u001b[1;32m---> 41\u001b[1;33m                                               \u001b[0macquisition_type\u001b[0m \u001b[1;33m=\u001b[0m \u001b[1;34m\"EI\"\u001b[0m\u001b[1;33m,\u001b[0m      \u001b[1;31m# Select acquisition function MPI, EI, LCB\u001b[0m\u001b[1;33m\u001b[0m\u001b[1;33m\u001b[0m\u001b[0m\n\u001b[0m\u001b[0;32m     42\u001b[0m                                              )\n\u001b[0;32m     43\u001b[0m \u001b[0mopt\u001b[0m\u001b[1;33m.\u001b[0m\u001b[0macquisition\u001b[0m\u001b[1;33m.\u001b[0m\u001b[0mexploration_weight\u001b[0m\u001b[1;33m=\u001b[0m\u001b[1;36m.1\u001b[0m\u001b[1;33m\u001b[0m\u001b[1;33m\u001b[0m\u001b[0m\n",
      "\u001b[1;32m~\\Anaconda3\\lib\\site-packages\\GPyOpt\\methods\\bayesian_optimization.py\u001b[0m in \u001b[0;36m__init__\u001b[1;34m(self, f, domain, constraints, cost_withGradients, model_type, X, Y, initial_design_numdata, initial_design_type, acquisition_type, normalize_Y, exact_feval, acquisition_optimizer_type, model_update_interval, evaluator_type, batch_size, num_cores, verbosity, verbosity_model, maximize, de_duplication, **kwargs)\u001b[0m\n\u001b[0;32m    116\u001b[0m         \u001b[0mself\u001b[0m\u001b[1;33m.\u001b[0m\u001b[0minitial_design_type\u001b[0m  \u001b[1;33m=\u001b[0m \u001b[0minitial_design_type\u001b[0m\u001b[1;33m\u001b[0m\u001b[1;33m\u001b[0m\u001b[0m\n\u001b[0;32m    117\u001b[0m         \u001b[0mself\u001b[0m\u001b[1;33m.\u001b[0m\u001b[0minitial_design_numdata\u001b[0m \u001b[1;33m=\u001b[0m \u001b[0minitial_design_numdata\u001b[0m\u001b[1;33m\u001b[0m\u001b[1;33m\u001b[0m\u001b[0m\n\u001b[1;32m--> 118\u001b[1;33m         \u001b[0mself\u001b[0m\u001b[1;33m.\u001b[0m\u001b[0m_init_design_chooser\u001b[0m\u001b[1;33m(\u001b[0m\u001b[1;33m)\u001b[0m\u001b[1;33m\u001b[0m\u001b[1;33m\u001b[0m\u001b[0m\n\u001b[0m\u001b[0;32m    119\u001b[0m \u001b[1;33m\u001b[0m\u001b[0m\n\u001b[0;32m    120\u001b[0m         \u001b[1;31m# --- CHOOSE the model type. If an instance of a GPyOpt model is passed (possibly user defined), it is used.\u001b[0m\u001b[1;33m\u001b[0m\u001b[1;33m\u001b[0m\u001b[1;33m\u001b[0m\u001b[0m\n",
      "\u001b[1;32m~\\Anaconda3\\lib\\site-packages\\GPyOpt\\methods\\bayesian_optimization.py\u001b[0m in \u001b[0;36m_init_design_chooser\u001b[1;34m(self)\u001b[0m\n\u001b[0;32m    191\u001b[0m         \u001b[1;32mif\u001b[0m \u001b[0mself\u001b[0m\u001b[1;33m.\u001b[0m\u001b[0mX\u001b[0m \u001b[1;32mis\u001b[0m \u001b[1;32mNone\u001b[0m\u001b[1;33m:\u001b[0m\u001b[1;33m\u001b[0m\u001b[1;33m\u001b[0m\u001b[0m\n\u001b[0;32m    192\u001b[0m             \u001b[0mself\u001b[0m\u001b[1;33m.\u001b[0m\u001b[0mX\u001b[0m \u001b[1;33m=\u001b[0m \u001b[0minitial_design\u001b[0m\u001b[1;33m(\u001b[0m\u001b[0mself\u001b[0m\u001b[1;33m.\u001b[0m\u001b[0minitial_design_type\u001b[0m\u001b[1;33m,\u001b[0m \u001b[0mself\u001b[0m\u001b[1;33m.\u001b[0m\u001b[0mspace\u001b[0m\u001b[1;33m,\u001b[0m \u001b[0mself\u001b[0m\u001b[1;33m.\u001b[0m\u001b[0minitial_design_numdata\u001b[0m\u001b[1;33m)\u001b[0m\u001b[1;33m\u001b[0m\u001b[1;33m\u001b[0m\u001b[0m\n\u001b[1;32m--> 193\u001b[1;33m             \u001b[0mself\u001b[0m\u001b[1;33m.\u001b[0m\u001b[0mY\u001b[0m\u001b[1;33m,\u001b[0m \u001b[0m_\u001b[0m \u001b[1;33m=\u001b[0m \u001b[0mself\u001b[0m\u001b[1;33m.\u001b[0m\u001b[0mobjective\u001b[0m\u001b[1;33m.\u001b[0m\u001b[0mevaluate\u001b[0m\u001b[1;33m(\u001b[0m\u001b[0mself\u001b[0m\u001b[1;33m.\u001b[0m\u001b[0mX\u001b[0m\u001b[1;33m)\u001b[0m\u001b[1;33m\u001b[0m\u001b[1;33m\u001b[0m\u001b[0m\n\u001b[0m\u001b[0;32m    194\u001b[0m         \u001b[1;31m# Case 2\u001b[0m\u001b[1;33m\u001b[0m\u001b[1;33m\u001b[0m\u001b[1;33m\u001b[0m\u001b[0m\n\u001b[0;32m    195\u001b[0m         \u001b[1;32melif\u001b[0m \u001b[0mself\u001b[0m\u001b[1;33m.\u001b[0m\u001b[0mX\u001b[0m \u001b[1;32mis\u001b[0m \u001b[1;32mnot\u001b[0m \u001b[1;32mNone\u001b[0m \u001b[1;32mand\u001b[0m \u001b[0mself\u001b[0m\u001b[1;33m.\u001b[0m\u001b[0mY\u001b[0m \u001b[1;32mis\u001b[0m \u001b[1;32mNone\u001b[0m\u001b[1;33m:\u001b[0m\u001b[1;33m\u001b[0m\u001b[1;33m\u001b[0m\u001b[0m\n",
      "\u001b[1;32m~\\Anaconda3\\lib\\site-packages\\GPyOpt\\core\\task\\objective.py\u001b[0m in \u001b[0;36mevaluate\u001b[1;34m(self, x)\u001b[0m\n\u001b[0;32m     48\u001b[0m \u001b[1;33m\u001b[0m\u001b[0m\n\u001b[0;32m     49\u001b[0m         \u001b[1;32mif\u001b[0m \u001b[0mself\u001b[0m\u001b[1;33m.\u001b[0m\u001b[0mn_procs\u001b[0m \u001b[1;33m==\u001b[0m \u001b[1;36m1\u001b[0m\u001b[1;33m:\u001b[0m\u001b[1;33m\u001b[0m\u001b[1;33m\u001b[0m\u001b[0m\n\u001b[1;32m---> 50\u001b[1;33m             \u001b[0mf_evals\u001b[0m\u001b[1;33m,\u001b[0m \u001b[0mcost_evals\u001b[0m \u001b[1;33m=\u001b[0m \u001b[0mself\u001b[0m\u001b[1;33m.\u001b[0m\u001b[0m_eval_func\u001b[0m\u001b[1;33m(\u001b[0m\u001b[0mx\u001b[0m\u001b[1;33m)\u001b[0m\u001b[1;33m\u001b[0m\u001b[1;33m\u001b[0m\u001b[0m\n\u001b[0m\u001b[0;32m     51\u001b[0m         \u001b[1;32melse\u001b[0m\u001b[1;33m:\u001b[0m\u001b[1;33m\u001b[0m\u001b[1;33m\u001b[0m\u001b[0m\n\u001b[0;32m     52\u001b[0m             \u001b[1;32mtry\u001b[0m\u001b[1;33m:\u001b[0m\u001b[1;33m\u001b[0m\u001b[1;33m\u001b[0m\u001b[0m\n",
      "\u001b[1;32m~\\Anaconda3\\lib\\site-packages\\GPyOpt\\core\\task\\objective.py\u001b[0m in \u001b[0;36m_eval_func\u001b[1;34m(self, x)\u001b[0m\n\u001b[0;32m     72\u001b[0m         \u001b[1;32mfor\u001b[0m \u001b[0mi\u001b[0m \u001b[1;32min\u001b[0m \u001b[0mrange\u001b[0m\u001b[1;33m(\u001b[0m\u001b[0mx\u001b[0m\u001b[1;33m.\u001b[0m\u001b[0mshape\u001b[0m\u001b[1;33m[\u001b[0m\u001b[1;36m0\u001b[0m\u001b[1;33m]\u001b[0m\u001b[1;33m)\u001b[0m\u001b[1;33m:\u001b[0m\u001b[1;33m\u001b[0m\u001b[1;33m\u001b[0m\u001b[0m\n\u001b[0;32m     73\u001b[0m             \u001b[0mst_time\u001b[0m    \u001b[1;33m=\u001b[0m \u001b[0mtime\u001b[0m\u001b[1;33m.\u001b[0m\u001b[0mtime\u001b[0m\u001b[1;33m(\u001b[0m\u001b[1;33m)\u001b[0m\u001b[1;33m\u001b[0m\u001b[1;33m\u001b[0m\u001b[0m\n\u001b[1;32m---> 74\u001b[1;33m             \u001b[0mrlt\u001b[0m \u001b[1;33m=\u001b[0m \u001b[0mself\u001b[0m\u001b[1;33m.\u001b[0m\u001b[0mfunc\u001b[0m\u001b[1;33m(\u001b[0m\u001b[0mnp\u001b[0m\u001b[1;33m.\u001b[0m\u001b[0matleast_2d\u001b[0m\u001b[1;33m(\u001b[0m\u001b[0mx\u001b[0m\u001b[1;33m[\u001b[0m\u001b[0mi\u001b[0m\u001b[1;33m]\u001b[0m\u001b[1;33m)\u001b[0m\u001b[1;33m)\u001b[0m\u001b[1;33m\u001b[0m\u001b[1;33m\u001b[0m\u001b[0m\n\u001b[0m\u001b[0;32m     75\u001b[0m             \u001b[0mf_evals\u001b[0m     \u001b[1;33m=\u001b[0m \u001b[0mnp\u001b[0m\u001b[1;33m.\u001b[0m\u001b[0mvstack\u001b[0m\u001b[1;33m(\u001b[0m\u001b[1;33m[\u001b[0m\u001b[0mf_evals\u001b[0m\u001b[1;33m,\u001b[0m\u001b[0mrlt\u001b[0m\u001b[1;33m]\u001b[0m\u001b[1;33m)\u001b[0m\u001b[1;33m\u001b[0m\u001b[1;33m\u001b[0m\u001b[0m\n\u001b[0;32m     76\u001b[0m             \u001b[0mcost_evals\u001b[0m \u001b[1;33m+=\u001b[0m \u001b[1;33m[\u001b[0m\u001b[0mtime\u001b[0m\u001b[1;33m.\u001b[0m\u001b[0mtime\u001b[0m\u001b[1;33m(\u001b[0m\u001b[1;33m)\u001b[0m\u001b[1;33m-\u001b[0m\u001b[0mst_time\u001b[0m\u001b[1;33m]\u001b[0m\u001b[1;33m\u001b[0m\u001b[1;33m\u001b[0m\u001b[0m\n",
      "\u001b[1;32m<ipython-input-23-68255f4599c7>\u001b[0m in \u001b[0;36mobjective_function\u001b[1;34m(x)\u001b[0m\n\u001b[0;32m     27\u001b[0m     }\n\u001b[0;32m     28\u001b[0m     \u001b[0mprint\u001b[0m\u001b[1;33m(\u001b[0m\u001b[0mhyperparameters\u001b[0m\u001b[1;33m)\u001b[0m\u001b[1;33m\u001b[0m\u001b[1;33m\u001b[0m\u001b[0m\n\u001b[1;32m---> 29\u001b[1;33m     \u001b[0mtrained_model\u001b[0m\u001b[1;33m,\u001b[0m \u001b[0mneural_acc\u001b[0m  \u001b[1;33m=\u001b[0m \u001b[0mtrain_model\u001b[0m\u001b[1;33m(\u001b[0m\u001b[0mhyperparameters\u001b[0m\u001b[1;33m,\u001b[0m \u001b[0mmodel\u001b[0m\u001b[1;33m)\u001b[0m\u001b[1;33m\u001b[0m\u001b[1;33m\u001b[0m\u001b[0m\n\u001b[0m\u001b[0;32m     30\u001b[0m     \u001b[0mprint\u001b[0m\u001b[1;33m(\u001b[0m\u001b[0mneural_acc\u001b[0m\u001b[1;33m)\u001b[0m\u001b[1;33m\u001b[0m\u001b[1;33m\u001b[0m\u001b[0m\n\u001b[0;32m     31\u001b[0m     \u001b[1;32mreturn\u001b[0m \u001b[1;33m-\u001b[0m\u001b[0mneural_acc\u001b[0m\u001b[1;33m\u001b[0m\u001b[1;33m\u001b[0m\u001b[0m\n",
      "\u001b[1;32m<ipython-input-10-67296cb15945>\u001b[0m in \u001b[0;36mtrain_model\u001b[1;34m(hyperparameters, model, epochs, plot)\u001b[0m\n\u001b[0;32m     52\u001b[0m \u001b[1;33m\u001b[0m\u001b[0m\n\u001b[0;32m     53\u001b[0m         \u001b[0moptimizer\u001b[0m\u001b[1;33m.\u001b[0m\u001b[0mzero_grad\u001b[0m\u001b[1;33m(\u001b[0m\u001b[1;33m)\u001b[0m\u001b[1;33m\u001b[0m\u001b[1;33m\u001b[0m\u001b[0m\n\u001b[1;32m---> 54\u001b[1;33m         \u001b[0msingle_loss\u001b[0m\u001b[1;33m.\u001b[0m\u001b[0mbackward\u001b[0m\u001b[1;33m(\u001b[0m\u001b[1;33m)\u001b[0m\u001b[1;33m\u001b[0m\u001b[1;33m\u001b[0m\u001b[0m\n\u001b[0m\u001b[0;32m     55\u001b[0m         \u001b[0moptimizer\u001b[0m\u001b[1;33m.\u001b[0m\u001b[0mstep\u001b[0m\u001b[1;33m(\u001b[0m\u001b[1;33m)\u001b[0m\u001b[1;33m\u001b[0m\u001b[1;33m\u001b[0m\u001b[0m\n\u001b[0;32m     56\u001b[0m \u001b[1;33m\u001b[0m\u001b[0m\n",
      "\u001b[1;32m~\\Anaconda3\\lib\\site-packages\\torch\\tensor.py\u001b[0m in \u001b[0;36mbackward\u001b[1;34m(self, gradient, retain_graph, create_graph)\u001b[0m\n\u001b[0;32m    116\u001b[0m                 \u001b[0mproducts\u001b[0m\u001b[1;33m.\u001b[0m \u001b[0mDefaults\u001b[0m \u001b[0mto\u001b[0m\u001b[0;31m \u001b[0m\u001b[0;31m`\u001b[0m\u001b[0;31m`\u001b[0m\u001b[1;32mFalse\u001b[0m\u001b[0;31m`\u001b[0m\u001b[0;31m`\u001b[0m\u001b[1;33m.\u001b[0m\u001b[1;33m\u001b[0m\u001b[1;33m\u001b[0m\u001b[0m\n\u001b[0;32m    117\u001b[0m         \"\"\"\n\u001b[1;32m--> 118\u001b[1;33m         \u001b[0mtorch\u001b[0m\u001b[1;33m.\u001b[0m\u001b[0mautograd\u001b[0m\u001b[1;33m.\u001b[0m\u001b[0mbackward\u001b[0m\u001b[1;33m(\u001b[0m\u001b[0mself\u001b[0m\u001b[1;33m,\u001b[0m \u001b[0mgradient\u001b[0m\u001b[1;33m,\u001b[0m \u001b[0mretain_graph\u001b[0m\u001b[1;33m,\u001b[0m \u001b[0mcreate_graph\u001b[0m\u001b[1;33m)\u001b[0m\u001b[1;33m\u001b[0m\u001b[1;33m\u001b[0m\u001b[0m\n\u001b[0m\u001b[0;32m    119\u001b[0m \u001b[1;33m\u001b[0m\u001b[0m\n\u001b[0;32m    120\u001b[0m     \u001b[1;32mdef\u001b[0m \u001b[0mregister_hook\u001b[0m\u001b[1;33m(\u001b[0m\u001b[0mself\u001b[0m\u001b[1;33m,\u001b[0m \u001b[0mhook\u001b[0m\u001b[1;33m)\u001b[0m\u001b[1;33m:\u001b[0m\u001b[1;33m\u001b[0m\u001b[1;33m\u001b[0m\u001b[0m\n",
      "\u001b[1;32m~\\Anaconda3\\lib\\site-packages\\torch\\autograd\\__init__.py\u001b[0m in \u001b[0;36mbackward\u001b[1;34m(tensors, grad_tensors, retain_graph, create_graph, grad_variables)\u001b[0m\n\u001b[0;32m     91\u001b[0m     Variable._execution_engine.run_backward(\n\u001b[0;32m     92\u001b[0m         \u001b[0mtensors\u001b[0m\u001b[1;33m,\u001b[0m \u001b[0mgrad_tensors\u001b[0m\u001b[1;33m,\u001b[0m \u001b[0mretain_graph\u001b[0m\u001b[1;33m,\u001b[0m \u001b[0mcreate_graph\u001b[0m\u001b[1;33m,\u001b[0m\u001b[1;33m\u001b[0m\u001b[1;33m\u001b[0m\u001b[0m\n\u001b[1;32m---> 93\u001b[1;33m         allow_unreachable=True)  # allow_unreachable flag\n\u001b[0m\u001b[0;32m     94\u001b[0m \u001b[1;33m\u001b[0m\u001b[0m\n\u001b[0;32m     95\u001b[0m \u001b[1;33m\u001b[0m\u001b[0m\n",
      "\u001b[1;31mKeyboardInterrupt\u001b[0m: "
     ]
    }
   ],
   "source": [
    "ACTIV = {0: torch.nn.Tanh(),\n",
    "         1: torch.nn.ReLU(),\n",
    "         2: torch.nn.ReLU6(),\n",
    "         3: torch.nn.Sigmoid(),\n",
    "        }\n",
    "\n",
    "netsize = 246\n",
    "\n",
    "## we have to define the function we want to maximize --> validation accuracy, \n",
    "## note it should take a 2D ndarray but it is ok that it assumes only one point\n",
    "## in this setting\n",
    "def objective_function(x): \n",
    "    model = Model(categorical_embedding_sizes, 4, 1, [16,32,64,128,64], p=0.5)\n",
    "    print(x)\n",
    "    # we have to handle the categorical variables that is convert 0/1 to labels\n",
    "    # log2/sqrt and gini/entropy\n",
    "    \n",
    "    param = x[0]\n",
    "    hyperparameters = {\n",
    "        'hidden_units_1': int(np.ceil(param[0]*netsize*0.4)+int(10)),\n",
    "        'hidden_units_2': int(np.ceil(param[0]*netsize*0.7)+int(10)),\n",
    "        'hidden_units_3': int(np.ceil(param[0]*netsize)+int(10)),\n",
    "        'hidden_units_4': int(np.ceil(param[0]*netsize*0.7)+int(10)),\n",
    "        'hidden_units_5': int(np.ceil(param[0]*netsize*0.4)+int(10)),\n",
    "        'p': param[1],\n",
    "        'activation_func': ACTIV[int(param[2])]\n",
    "    }\n",
    "    print(hyperparameters)\n",
    "    trained_model, neural_acc  = train_model(hyperparameters, model)\n",
    "    print(neural_acc)\n",
    "    return -neural_acc\n",
    "    \n",
    "# define the dictionary for GPyOpt\n",
    "domain = [{'hidden_units'   : 'var_1', 'type': 'continuous', 'domain': (0 , 1)},\n",
    "          {'p'              : 'var_2', 'type': 'continuous',  'domain': (0 , 1)},\n",
    "          {'activation_func': 'var_3', 'type': 'categorical','domain': tuple(np.arange(4))}]\n",
    "\n",
    "\n",
    "opt = GPyOpt.methods.BayesianOptimization(f = objective_function,   # function to optimize\n",
    "                                              domain = domain,         # box-constrains of the problem\n",
    "                                              acquisition_type = \"EI\",      # Select acquisition function MPI, EI, LCB\n",
    "                                             )\n",
    "opt.acquisition.exploration_weight=.1\n",
    "\n",
    "opt.run_optimization(max_iter = 100) \n",
    "\n",
    "\n",
    "x_best = opt.X[np.argmin(opt.Y)]\n",
    "print(\"bedste: \", x_best)\n",
    "#print(\"The best parameters obtained: n_estimators=\" + str(x_best[0]) + \", max_depth=\" + str(x_best[1]) + \", max_features=\" + str(\n",
    "#    x_best[2])  + \", criterion=\" + str(\n",
    "#    x_best[3]))"
   ]
  },
  {
   "cell_type": "markdown",
   "metadata": {},
   "source": [
    "# Baseline"
   ]
  },
  {
   "cell_type": "code",
   "execution_count": 69,
   "metadata": {},
   "outputs": [
    {
     "ename": "RecursionError",
     "evalue": "maximum recursion depth exceeded in comparison",
     "output_type": "error",
     "traceback": [
      "\u001b[1;31m---------------------------------------------------------------------------\u001b[0m",
      "\u001b[1;31mRecursionError\u001b[0m                            Traceback (most recent call last)",
      "\u001b[1;32m~\\Anaconda3\\lib\\abc.py\u001b[0m in \u001b[0;36m__instancecheck__\u001b[1;34m(cls, instance)\u001b[0m\n\u001b[0;32m    182\u001b[0m         \u001b[1;31m# Inline the cache checking\u001b[0m\u001b[1;33m\u001b[0m\u001b[1;33m\u001b[0m\u001b[1;33m\u001b[0m\u001b[0m\n\u001b[0;32m    183\u001b[0m         \u001b[0msubclass\u001b[0m \u001b[1;33m=\u001b[0m \u001b[0minstance\u001b[0m\u001b[1;33m.\u001b[0m\u001b[0m__class__\u001b[0m\u001b[1;33m\u001b[0m\u001b[1;33m\u001b[0m\u001b[0m\n\u001b[1;32m--> 184\u001b[1;33m         \u001b[1;32mif\u001b[0m \u001b[0msubclass\u001b[0m \u001b[1;32min\u001b[0m \u001b[0mcls\u001b[0m\u001b[1;33m.\u001b[0m\u001b[0m_abc_cache\u001b[0m\u001b[1;33m:\u001b[0m\u001b[1;33m\u001b[0m\u001b[1;33m\u001b[0m\u001b[0m\n\u001b[0m\u001b[0;32m    185\u001b[0m             \u001b[1;32mreturn\u001b[0m \u001b[1;32mTrue\u001b[0m\u001b[1;33m\u001b[0m\u001b[1;33m\u001b[0m\u001b[0m\n\u001b[0;32m    186\u001b[0m         \u001b[0msubtype\u001b[0m \u001b[1;33m=\u001b[0m \u001b[0mtype\u001b[0m\u001b[1;33m(\u001b[0m\u001b[0minstance\u001b[0m\u001b[1;33m)\u001b[0m\u001b[1;33m\u001b[0m\u001b[1;33m\u001b[0m\u001b[0m\n",
      "\u001b[1;32m~\\Anaconda3\\lib\\_weakrefset.py\u001b[0m in \u001b[0;36m__contains__\u001b[1;34m(self, item)\u001b[0m\n\u001b[0;32m     73\u001b[0m         \u001b[1;32mexcept\u001b[0m \u001b[0mTypeError\u001b[0m\u001b[1;33m:\u001b[0m\u001b[1;33m\u001b[0m\u001b[1;33m\u001b[0m\u001b[0m\n\u001b[0;32m     74\u001b[0m             \u001b[1;32mreturn\u001b[0m \u001b[1;32mFalse\u001b[0m\u001b[1;33m\u001b[0m\u001b[1;33m\u001b[0m\u001b[0m\n\u001b[1;32m---> 75\u001b[1;33m         \u001b[1;32mreturn\u001b[0m \u001b[0mwr\u001b[0m \u001b[1;32min\u001b[0m \u001b[0mself\u001b[0m\u001b[1;33m.\u001b[0m\u001b[0mdata\u001b[0m\u001b[1;33m\u001b[0m\u001b[1;33m\u001b[0m\u001b[0m\n\u001b[0m\u001b[0;32m     76\u001b[0m \u001b[1;33m\u001b[0m\u001b[0m\n\u001b[0;32m     77\u001b[0m     \u001b[1;32mdef\u001b[0m \u001b[0m__reduce__\u001b[0m\u001b[1;33m(\u001b[0m\u001b[0mself\u001b[0m\u001b[1;33m)\u001b[0m\u001b[1;33m:\u001b[0m\u001b[1;33m\u001b[0m\u001b[1;33m\u001b[0m\u001b[0m\n",
      "\u001b[1;31mRecursionError\u001b[0m: maximum recursion depth exceeded in comparison"
     ]
    },
    {
     "name": "stderr",
     "output_type": "stream",
     "text": [
      "Exception ignored in: 'pandas._libs.lib.c_is_list_like'\n",
      "Traceback (most recent call last):\n",
      "  File \"C:\\Users\\ejer\\Anaconda3\\lib\\abc.py\", line 184, in __instancecheck__\n",
      "    if subclass in cls._abc_cache:\n",
      "  File \"C:\\Users\\ejer\\Anaconda3\\lib\\_weakrefset.py\", line 75, in __contains__\n",
      "    return wr in self.data\n",
      "RecursionError: maximum recursion depth exceeded in comparison\n"
     ]
    },
    {
     "name": "stdout",
     "output_type": "stream",
     "text": [
      "[[23436  7504]\n",
      " [    0     0]]\n",
      "[[0.75746606 0.24253394]\n",
      " [0.         0.        ]]\n",
      "0.7574660633484163\n"
     ]
    },
    {
     "ename": "NameError",
     "evalue": "name 'neural_acc' is not defined",
     "output_type": "error",
     "traceback": [
      "\u001b[1;31m---------------------------------------------------------------------------\u001b[0m",
      "\u001b[1;31mNameError\u001b[0m                                 Traceback (most recent call last)",
      "\u001b[1;32m<ipython-input-69-00213c75f905>\u001b[0m in \u001b[0;36m<module>\u001b[1;34m\u001b[0m\n\u001b[0;32m     16\u001b[0m \u001b[0mbaseline_acc\u001b[0m \u001b[1;33m=\u001b[0m \u001b[0maccuracy_score\u001b[0m\u001b[1;33m(\u001b[0m\u001b[0my_pred\u001b[0m\u001b[1;33m,\u001b[0m \u001b[0mtrues\u001b[0m\u001b[1;33m)\u001b[0m\u001b[1;33m\u001b[0m\u001b[1;33m\u001b[0m\u001b[0m\n\u001b[0;32m     17\u001b[0m \u001b[0mprint\u001b[0m\u001b[1;33m(\u001b[0m\u001b[0mbaseline_acc\u001b[0m\u001b[1;33m)\u001b[0m\u001b[1;33m\u001b[0m\u001b[1;33m\u001b[0m\u001b[0m\n\u001b[1;32m---> 18\u001b[1;33m \u001b[0mprint\u001b[0m\u001b[1;33m(\u001b[0m\u001b[1;34m\"Difference between baseline and neural network:\"\u001b[0m\u001b[1;33m,\u001b[0m \u001b[0mneural_acc\u001b[0m \u001b[1;33m-\u001b[0m \u001b[0mbaseline_acc\u001b[0m\u001b[1;33m)\u001b[0m\u001b[1;33m\u001b[0m\u001b[1;33m\u001b[0m\u001b[0m\n\u001b[0m",
      "\u001b[1;31mNameError\u001b[0m: name 'neural_acc' is not defined"
     ]
    }
   ],
   "source": [
    "def baseline(data):\n",
    "    \n",
    "    if data['Salary'].value_counts()[0] > data['Salary'].value_counts()[1]:\n",
    "        y_pred = [0] * len(data[outputs])\n",
    "        y_pred = torch.tensor(y_pred)\n",
    "    else:\n",
    "        y_pred = [1] * len(data[outputs])\n",
    "        y_pred = torch.tensor(y_pred)\n",
    "    return y_pred\n",
    "\n",
    "trues = y\n",
    "y_pred = baseline(data)\n",
    "conf_baseline = confusion_matrix(y_pred,trues)\n",
    "print(conf_baseline)\n",
    "print(conf_baseline / conf_baseline.astype(np.float).sum())\n",
    "baseline_acc = accuracy_score(y_pred, trues)\n",
    "print(baseline_acc)\n",
    "print(\"Difference between baseline and neural network:\", neural_acc - baseline_acc)"
   ]
  },
  {
   "cell_type": "markdown",
   "metadata": {},
   "source": [
    "# Train the Model"
   ]
  },
  {
   "cell_type": "code",
   "execution_count": 47,
   "metadata": {},
   "outputs": [
    {
     "name": "stdout",
     "output_type": "stream",
     "text": [
      "Model(\n",
      "  (all_embeddings): ModuleList(\n",
      "    (0): Embedding(9, 5)\n",
      "    (1): Embedding(7, 4)\n",
      "    (2): Embedding(6, 3)\n",
      "    (3): Embedding(2, 1)\n",
      "    (4): Embedding(2, 1)\n",
      "    (5): Embedding(41, 21)\n",
      "    (6): Embedding(15, 8)\n",
      "    (7): Embedding(16, 8)\n",
      "  )\n",
      "  (embedding_dropout): Dropout(p=0.5, inplace=False)\n",
      "  (batch_norm_num): BatchNorm1d(5, eps=1e-05, momentum=0.1, affine=True, track_running_stats=True)\n",
      "  (layers): Sequential(\n",
      "    (0): Linear(in_features=56, out_features=16, bias=True)\n",
      "    (1): ReLU(inplace=True)\n",
      "    (2): BatchNorm1d(16, eps=1e-05, momentum=0.1, affine=True, track_running_stats=True)\n",
      "    (3): Dropout(p=0.5, inplace=False)\n",
      "    (4): Linear(in_features=16, out_features=32, bias=True)\n",
      "    (5): ReLU(inplace=True)\n",
      "    (6): BatchNorm1d(32, eps=1e-05, momentum=0.1, affine=True, track_running_stats=True)\n",
      "    (7): Dropout(p=0.5, inplace=False)\n",
      "    (8): Linear(in_features=32, out_features=64, bias=True)\n",
      "    (9): ReLU(inplace=True)\n",
      "    (10): BatchNorm1d(64, eps=1e-05, momentum=0.1, affine=True, track_running_stats=True)\n",
      "    (11): Dropout(p=0.5, inplace=False)\n",
      "    (12): Linear(in_features=64, out_features=128, bias=True)\n",
      "    (13): ReLU(inplace=True)\n",
      "    (14): BatchNorm1d(128, eps=1e-05, momentum=0.1, affine=True, track_running_stats=True)\n",
      "    (15): Dropout(p=0.5, inplace=False)\n",
      "    (16): Linear(in_features=128, out_features=64, bias=True)\n",
      "    (17): ReLU(inplace=True)\n",
      "    (18): BatchNorm1d(64, eps=1e-05, momentum=0.1, affine=True, track_running_stats=True)\n",
      "    (19): Dropout(p=0.5, inplace=False)\n",
      "    (20): Linear(in_features=64, out_features=1, bias=True)\n",
      "  )\n",
      ")\n"
     ]
    }
   ],
   "source": [
    "# Define and show the model\n",
    "model = Model(categorical_embedding_sizes, 5, 1, [16,32,64,128,64], p=0.5)\n",
    "if use_cuda:\n",
    "    model.cuda()\n",
    "print(model)\n",
    "for param in model.parameters():\n",
    "            param.requires_grad = True\n"
   ]
  },
  {
   "cell_type": "code",
   "execution_count": 48,
   "metadata": {},
   "outputs": [],
   "source": [
    "# Loss function and optimization\n",
    "loss_function = nn.BCELoss()\n",
    "optimizer = torch.optim.Adam(model.parameters(), lr=0.001, weight_decay = 1e-6)\n",
    "threshold = 0.5\n",
    "epochs = 2000\n",
    "np.random.seed(42)"
   ]
  },
  {
   "cell_type": "code",
   "execution_count": 49,
   "metadata": {},
   "outputs": [
    {
     "name": "stdout",
     "output_type": "stream",
     "text": [
      "epoch:   1 loss: 0.78474271\n",
      "epoch:  26 loss: 0.68339282\n",
      "epoch:  51 loss: 0.61615491\n",
      "epoch:  76 loss: 0.55708355\n",
      "epoch: 101 loss: 0.49083239\n",
      "epoch: 126 loss: 0.44441524\n",
      "epoch: 151 loss: 0.41303912\n",
      "epoch: 176 loss: 0.40011436\n",
      "epoch: 201 loss: 0.38778266\n",
      "epoch: 226 loss: 0.38401154\n",
      "epoch: 251 loss: 0.38169068\n",
      "epoch: 276 loss: 0.37595254\n",
      "epoch: 301 loss: 0.37448761\n",
      "epoch: 326 loss: 0.37393203\n",
      "epoch: 351 loss: 0.37007245\n",
      "epoch: 376 loss: 0.36728582\n",
      "epoch: 401 loss: 0.36695373\n",
      "epoch: 426 loss: 0.36689827\n",
      "epoch: 451 loss: 0.36503664\n",
      "epoch: 476 loss: 0.36412489\n",
      "epoch: 501 loss: 0.36202651\n",
      "epoch: 526 loss: 0.36001876\n",
      "epoch: 551 loss: 0.36229143\n",
      "epoch: 576 loss: 0.35681579\n",
      "epoch: 601 loss: 0.35579678\n",
      "epoch: 626 loss: 0.36006904\n",
      "epoch: 651 loss: 0.35934263\n",
      "epoch: 676 loss: 0.35502383\n",
      "epoch: 701 loss: 0.36085665\n",
      "epoch: 726 loss: 0.35475445\n",
      "epoch: 751 loss: 0.35646933\n",
      "epoch: 776 loss: 0.35604119\n",
      "epoch: 801 loss: 0.35604474\n",
      "epoch: 826 loss: 0.35402960\n",
      "epoch: 851 loss: 0.35360655\n",
      "epoch: 876 loss: 0.34981623\n",
      "epoch: 901 loss: 0.35162914\n",
      "epoch: 926 loss: 0.34857631\n",
      "epoch: 951 loss: 0.35267469\n",
      "epoch: 976 loss: 0.35053560\n",
      "epoch: 1001 loss: 0.34986067\n",
      "epoch: 1026 loss: 0.34812471\n",
      "epoch: 1051 loss: 0.35070801\n",
      "epoch: 1076 loss: 0.34766591\n",
      "epoch: 1101 loss: 0.34833118\n",
      "epoch: 1126 loss: 0.35070166\n",
      "epoch: 1151 loss: 0.34897169\n",
      "epoch: 1176 loss: 0.34642321\n",
      "epoch: 1201 loss: 0.34769654\n",
      "epoch: 1226 loss: 0.34439358\n",
      "epoch: 1251 loss: 0.34846261\n",
      "epoch: 1276 loss: 0.34534788\n",
      "epoch: 1301 loss: 0.34543994\n",
      "epoch: 1326 loss: 0.34600046\n",
      "epoch: 1351 loss: 0.34516749\n",
      "epoch: 1376 loss: 0.34438980\n",
      "epoch: 1401 loss: 0.34479102\n",
      "epoch: 1426 loss: 0.34293789\n",
      "epoch: 1451 loss: 0.34625557\n",
      "epoch: 1476 loss: 0.34222656\n",
      "epoch: 1501 loss: 0.34404668\n",
      "epoch: 1526 loss: 0.34317183\n",
      "epoch: 1551 loss: 0.34424058\n",
      "epoch: 1576 loss: 0.34452918\n",
      "epoch: 1601 loss: 0.34106714\n",
      "epoch: 1626 loss: 0.34268138\n",
      "epoch: 1651 loss: 0.34147552\n",
      "epoch: 1676 loss: 0.34403738\n",
      "epoch: 1701 loss: 0.34279257\n",
      "epoch: 1726 loss: 0.34492233\n",
      "epoch: 1751 loss: 0.34389898\n",
      "epoch: 1776 loss: 0.34268951\n",
      "epoch: 1801 loss: 0.34074068\n",
      "epoch: 1826 loss: 0.34102166\n",
      "epoch: 1851 loss: 0.33944294\n",
      "epoch: 1876 loss: 0.34415093\n",
      "epoch: 1901 loss: 0.33987892\n",
      "epoch: 1926 loss: 0.34063929\n",
      "epoch: 1951 loss: 0.34173775\n",
      "epoch: 1976 loss: 0.33812043\n",
      "epoch: 2000 loss: 0.3412195742\n",
      "[[4377  293]\n",
      " [ 619  899]]\n",
      "[[0.87610088 0.05864692]\n",
      " [0.5192953  0.75419463]]\n",
      "              precision    recall  f1-score   support\n",
      "\n",
      "           0       0.88      0.94      0.91      4670\n",
      "           1       0.75      0.59      0.66      1518\n",
      "\n",
      "    accuracy                           0.85      6188\n",
      "   macro avg       0.82      0.76      0.78      6188\n",
      "weighted avg       0.85      0.85      0.85      6188\n",
      "\n",
      "0.8526179702650291\n"
     ]
    },
    {
     "data": {
      "image/png": "[encoded data removed]",
      "text/plain": [
       "<Figure size 432x288 with 1 Axes>"
      ]
     },
     "metadata": {
      "needs_background": "light"
     },
     "output_type": "display_data"
    }
   ],
   "source": [
    "aggregated_losses = []\n",
    "\n",
    "# Initialize lists for training and validation\n",
    "train_iter = []\n",
    "train_loss, train_accs = [], []\n",
    "valid_iter = []\n",
    "valid_loss, valid_accs = [], []\n",
    "\n",
    "model.train()\n",
    "for i in range(epochs):\n",
    "    i += 1\n",
    "    y_pred = model(Xcattrain, Xnumtrain)\n",
    "    single_loss = loss_function(y_pred, ytrain.float())\n",
    "    aggregated_losses.append(single_loss)\n",
    "\n",
    "    if i % 25 == 1:\n",
    "        print(f'epoch: {i:3} loss: {single_loss.item():10.8f}')\n",
    "\n",
    "    optimizer.zero_grad()\n",
    "    single_loss.backward()\n",
    "    optimizer.step()\n",
    "\n",
    "print(f'epoch: {i:3} loss: {single_loss.item():10.10f}')\n",
    "\n",
    "\n",
    "\n",
    "# Plot the loss over epocs\n",
    "if \"plot\":\n",
    "    plt.plot(range(epochs), aggregated_losses)\n",
    "    plt.ylabel('Loss')\n",
    "    plt.xlabel('epoch');\n",
    "\n",
    "\n",
    "# Predict on the test set\n",
    "model.eval()\n",
    "with torch.no_grad():\n",
    "    y_val = model(Xcattest, Xnumtest)\n",
    "    loss = loss_function(y_val, ytest.float())\n",
    "\n",
    "\n",
    "y_pred = (y_val > threshold).float()\n",
    "\n",
    "\n",
    "conf = confusion_matrix(ytest,y_pred)\n",
    "conf_norm = np.copy(conf).astype(float)\n",
    "for i in range(2):\n",
    "    conf_norm[i,:] = conf[i,:] / np.sum(conf, axis = 0)[i]\n",
    "\n",
    "print(conf)\n",
    "print(conf_norm)\n",
    "print(classification_report(ytest,y_pred))\n",
    "neural_acc = accuracy_score(ytest, y_pred)\n",
    "print(neural_acc)"
   ]
  },
  {
   "cell_type": "markdown",
   "metadata": {},
   "source": [
    "# Confusion matrix for black/white"
   ]
  },
  {
   "cell_type": "code",
   "execution_count": 51,
   "metadata": {},
   "outputs": [
    {
     "name": "stdout",
     "output_type": "stream",
     "text": [
      "Confussion matrix for the white:\n",
      "[[3826  271]\n",
      " [ 604  840]]\n",
      "[[0.93385404 0.06614596]\n",
      " [0.41828255 0.58171745]]\n",
      "\n",
      "Confussion matrix for the black:\n",
      "[[548  25]\n",
      " [ 24  50]]\n",
      "[[0.95636998 0.04363002]\n",
      " [0.32432432 0.67567568]]\n"
     ]
    }
   ],
   "source": [
    "df = data[totalnumber - testnumber:totalnumber]\n",
    "black_data = df[df[\"Race\"]==\" Black\"]\n",
    "white_data = df[df[\"Race\"]==\" White\"]\n",
    "Xcat_white, Xnum_white = dataprep(white_data, norm_type = \"zscore\")\n",
    "Xcat_black, Xnum_black = dataprep(black_data, norm_type = \"zscore\")\n",
    "model.eval()\n",
    "y_val_white = model(Xcat_white, Xnum_white)\n",
    "y_pred1 = (y_val_white > threshold).float()\n",
    "y_val_black = model(Xcat_black, Xnum_black)\n",
    "y_pred2 = (y_val_black > threshold).float()\n",
    "\n",
    "# Ground truth of recidivism from dataset\n",
    "y_white = torch.tensor(white_data[\"Salary\"].values).flatten()\n",
    "y_black = torch.tensor(black_data[\"Salary\"].values).flatten()\n",
    "\n",
    "print(\"Confussion matrix for the white:\")\n",
    "conf_white = confusion_matrix( y_white, y_pred1)\n",
    "conf_black = confusion_matrix( y_black, y_pred2)\n",
    "\n",
    "conf_white_norm = np.copy(conf_white).astype(float)\n",
    "conf_black_norm = np.copy(conf_black).astype(float)\n",
    "for i in range(2):\n",
    "    conf_white_norm[i,:] = conf_white[i,:] / np.sum(conf_white, axis = 1)[i]\n",
    "    conf_black_norm[i,:] = conf_black[i,:] / np.sum(conf_black, axis = 1)[i]\n",
    "\n",
    "print(conf_white)\n",
    "print(conf_white_norm)\n",
    "print()\n",
    "print(\"Confussion matrix for the black:\")\n",
    "print(conf_black)\n",
    "print(conf_black_norm)\n",
    "\n",
    "#print(conf_white / conf_white.astype(np.float).sum(axis=1))\n",
    "#print(conf_black / conf_black.astype(np.float).sum(axis=1))\n",
    "#[0.21548821548821548, 0.3638968481375358] [0.5674157303370787, 0.6658227848101266]\n",
    "#00 / 00 + 10\n",
    "#01 / 01 + 00"
   ]
  },
  {
   "cell_type": "markdown",
   "metadata": {},
   "source": [
    "* # Fede plots til fremtiden måske:\n",
    "\n",
    "\n",
    "# Plots of the distribution of black and whites in each category of scoretext\n",
    "sb.countplot(x = \"score_text\", data = black_data)\n",
    "print(len(black_data[black_data[\"score_text\"] == 0]))\n",
    "print(len(black_data[black_data[\"score_text\"] == 1]))\n",
    "plt.show()\n",
    "sb.countplot(x = \"score_text\", data = white_data)\n",
    "print(len(white_data[white_data[\"score_text\"] == 0]))\n",
    "print(len(white_data[white_data[\"score_text\"] == 1]))\n",
    "plt.show()"
   ]
  },
  {
   "cell_type": "markdown",
   "metadata": {},
   "source": [
    "# Neural Network Bias Correction"
   ]
  },
  {
   "cell_type": "code",
   "execution_count": 55,
   "metadata": {},
   "outputs": [
    {
     "data": {
      "image/png": "[encoded data removed]",
      "text/plain": [
       "<Figure size 432x288 with 1 Axes>"
      ]
     },
     "metadata": {
      "needs_background": "light"
     },
     "output_type": "display_data"
    },
    {
     "name": "stdout",
     "output_type": "stream",
     "text": [
      "0.5 0.6 0.8862672442913262\n"
     ]
    }
   ],
   "source": [
    "def BiasCorrection(points, probs1, probs2, true1, true2, min_threshold = 0.2, max_threshold = 0.8, max_diff = 0.001, show_scatter = True, show_plot = True):\n",
    "    points = points\n",
    "    step = 1/points\n",
    "    thresholds = np.arange(0,1+step,step)\n",
    "\n",
    "    if show_scatter:\n",
    "        y_pred1 = (probs1 > 0.5).float()\n",
    "        y_pred2 = (probs2 > 0.5).float()\n",
    "        conf1 = confusion_matrix(true1, y_pred1)\n",
    "        conf2 = confusion_matrix(true2, y_pred2)\n",
    "\n",
    "        yvals = []\n",
    "        xvals = []\n",
    "        yvals.append(conf1[1,1] / (conf1[1,1] + conf1[1,0]))\n",
    "        xvals.append(conf1[0,1] / (conf1[0,1] + conf1[0,0]))\n",
    "        yvals.append(conf2[1,1] / (conf2[1,1] + conf2[1,0]))\n",
    "        xvals.append(conf2[0,1] / (conf2[0,1] + conf2[0,0]))\n",
    "        plt.scatter(xvals, yvals, c=[\"blue\", \"green\"])\n",
    "\n",
    "    tprs1 = []\n",
    "    fprs1 = []\n",
    "    tprs2 = []\n",
    "    fprs2 = []\n",
    "    for i in range(points+1):\n",
    "        y_pred1 = (probs1 > thresholds[i]).float()\n",
    "        y_pred2 = (probs2 > thresholds[i]).float()\n",
    "        conf1 = confusion_matrix(true1, y_pred1)\n",
    "        conf2 = confusion_matrix(true2, y_pred2)\n",
    "\n",
    "        tprs1.append(conf1[1,1] / (conf1[1,1] + conf1[1,0]))\n",
    "        fprs1.append(conf1[0,1] / (conf1[0,1] + conf1[0,0]))\n",
    "        tprs2.append(conf2[1,1] / (conf2[1,1] + conf2[1,0]))\n",
    "        fprs2.append(conf2[0,1] / (conf2[0,1] + conf2[0,0]))\n",
    "\n",
    "    if show_plot:\n",
    "        plt.plot(fprs1,tprs1,color=\"blue\")\n",
    "        plt.plot(fprs2,tprs2,color=\"green\")\n",
    "        point1 = [0,0]\n",
    "        point2 = [1,1]\n",
    "        x_values = [point1[0], point2[0]] \n",
    "        y_values = [point1[1], point2[1]]\n",
    "        plt.plot(x_values, y_values,'--',color=\"red\")\n",
    "        plt.show()\n",
    "\n",
    "    # Find the thresholds with the same tpr and fpr\n",
    "    tprdiff = []\n",
    "    fprdiff = []\n",
    "    thresholds1 = []\n",
    "    thresholds2 = []\n",
    "\n",
    "    for i in range(len(thresholds)):\n",
    "        tprval1 = tprs1[i]\n",
    "        fprval1 = fprs1[i]\n",
    "        threshold1 = thresholds[i]\n",
    "        tprindex2 = min(range(len(tprs2)), key=lambda x: abs(tprs2[x]-tprval1))\n",
    "        threshold2 = thresholds[tprindex2]\n",
    "        tprval2 = tprs2[tprindex2]\n",
    "        fprval2 = fprs2[tprindex2]\n",
    "        tprdiff.append(abs(tprval1 - tprval2))\n",
    "        fprdiff.append(abs(fprval1 - fprval2))\n",
    "        thresholds1.append(threshold1)\n",
    "        thresholds2.append(threshold2)\n",
    "        #print(tprval1, fprval1, threshold1, tprval2, fprval2, threshold2)\n",
    "\n",
    "    minthreshold = min_threshold\n",
    "    maxthreshold = max_threshold\n",
    "    maxdiff = max_diff\n",
    "    indeces = np.unique(np.append(np.where(np.array(tprdiff) < maxdiff), np.where(np.array(fprdiff) < maxdiff)))\n",
    "    thresholds1 = [thresholds1[i] for i in indeces if \"Tue elsker det\"]\n",
    "    thresholds2 = [thresholds2[i] for i in indeces if \"Tue elsker det\"]\n",
    "\n",
    "    # Find the accuracies for all the thresholds with equal fpr and tpr\n",
    "    accs = []\n",
    "    for i in range(len(thresholds1)):\n",
    "        thres1, thres2 = thresholds1[i], thresholds2[i]\n",
    "        y_val_white = model(Xcat_white, Xnum_white)\n",
    "        y_pred1 = (y_val_white > thres1).float()\n",
    "        y_val_black = model(Xcat_black, Xnum_black)\n",
    "        y_pred2 = (y_val_black > thres2).float()\n",
    "\n",
    "        # Ground truth of recidivism from dataset\n",
    "        y_white = torch.tensor(white_data[\"Salary\"].values).flatten()\n",
    "        y_black = torch.tensor(black_data[\"Salary\"].values).flatten()\n",
    "        accs.append((accuracy_score(y_black, y_pred2) + accuracy_score(y_white, y_pred1)) / 2)\n",
    "\n",
    "    maxaccidx = np.argmax(accs)\n",
    "    optthres1 = thresholds1[maxaccidx]\n",
    "    optthres2 = thresholds2[maxaccidx]\n",
    "    print(optthres1, optthres2, max(accs))\n",
    "\n",
    "BiasCorrection(100, y_val_white, y_val_black, y_white, y_black, show_scatter = True, show_plot = True)"
   ]
  },
  {
   "cell_type": "code",
   "execution_count": 57,
   "metadata": {},
   "outputs": [
    {
     "name": "stdout",
     "output_type": "stream",
     "text": [
      "[0.         0.06614596 1.        ] [0.         0.58171745 1.        ]\n"
     ]
    },
    {
     "data": {
      "image/png": "[encoded data removed]",
      "text/plain": [
       "<Figure size 432x288 with 1 Axes>"
      ]
     },
     "metadata": {
      "needs_background": "light"
     },
     "output_type": "display_data"
    }
   ],
   "source": [
    "from sklearn import metrics\n",
    "y_pred1 = (y_val_white > 0.5).float()\n",
    "y_pred2 = (y_val_black > 0.5).float()\n",
    "fpr, tpr, thresholds = metrics.roc_curve(y_white, y_pred1.view(-1),pos_label=1)\n",
    "fpr2, tpr2, thresholds = metrics.roc_curve(y_black, y_pred2.view(-1),pos_label=1)\n",
    "print(fpr,tpr)\n",
    "plt.plot(fpr,tpr)\n",
    "plt.plot(fpr2,tpr2,color=\"green\")\n",
    "point1 = [0,0]\n",
    "point2 = [1,1]\n",
    "x_values = [point1[0], point2[0]] \n",
    "y_values = [point1[1], point2[1]]\n",
    "plt. plot(x_values, y_values,'--',color=\"red\")\n",
    "plt.show()"
   ]
  },
  {
   "cell_type": "markdown",
   "metadata": {},
   "source": [
    "# Random Forest"
   ]
  },
  {
   "cell_type": "code",
   "execution_count": 88,
   "metadata": {},
   "outputs": [
    {
     "name": "stdout",
     "output_type": "stream",
     "text": [
      "Accuracy of the model:  0.8223981900452488\n",
      "[[4230  440]\n",
      " [ 659  859]]\n",
      "[[0.90578158 0.09421842]\n",
      " [0.43412385 0.56587615]]\n",
      "\n",
      "Accuracy of the model:  0.8144739216747879\n",
      "[[3680  417]\n",
      " [ 611  833]]\n",
      "[[0.78800857 0.08929336]\n",
      " [0.40250329 0.54874835]]\n",
      "\n",
      "Accuracy of the model:  0.8902627511591963\n",
      "[[550  23]\n",
      " [ 48  26]]\n",
      "[[0.11777302 0.00492505]\n",
      " [0.03162055 0.0171278 ]]\n",
      "\n"
     ]
    }
   ],
   "source": [
    "class Classification:\n",
    "    \n",
    "    def __init__(self, xtrain, ytrain, classification_model):\n",
    "        # Classification_model = [GaussianNB(), LogisticRegression(), RandomForestClassifier(n_estimators = 52, max_depth = 14, max_features = \"log2\", criterion = \"entropy\")]\n",
    "        self.xtrain = xtrain\n",
    "        self.ytrain = ytrain\n",
    "        self.model = classification_model\n",
    "        self.model.fit(self.xtrain, self.ytrain)\n",
    "        \n",
    "    def Validate(self, model, datatest, ytest, show_acc = True):\n",
    "        # Predict on the test set\n",
    "        self.preds = model.predict(datatest)\n",
    "        self.probs = model.predict_proba(datatest)[:, 1]\n",
    "\n",
    "        self.acc = len(self.preds[torch.tensor(self.preds, dtype = torch.int64) == ytest]) / len(self.preds)\n",
    "        self.conf = confusion_matrix(ytest, self.preds)\n",
    "        self.conf_norm = np.copy(self.conf).astype(float)\n",
    "        for i in range(2):\n",
    "            self.conf_norm[i,:] = self.conf[i,:] / np.sum(conf, axis = 1)[i]\n",
    "        if show_acc:\n",
    "            print(\"Accuracy of the model: \", self.acc)\n",
    "            print(self.conf)\n",
    "            print(self.conf_norm)\n",
    "            print()\n",
    "\n",
    "rf_model = Classification(Xcattrain, ytrain, RandomForestClassifier(n_estimators = 52, max_depth = 14, max_features = \"log2\", criterion = \"entropy\"))\n",
    "rf_model.Validate(rf_model.model, Xcattest, ytest)\n",
    "\n",
    "\n",
    "# Test for bias\n",
    "rf_white_test = Classification(Xcattrain, ytrain, RandomForestClassifier())\n",
    "rf_black_test = Classification(Xcattrain, ytrain, RandomForestClassifier())\n",
    "rf_white_test.Validate(rf_model.model, Xcat_white, y_white)\n",
    "rf_black_test.Validate(rf_model.model, Xcat_black, y_black)"
   ]
  },
  {
   "cell_type": "markdown",
   "metadata": {},
   "source": [
    "# Random Forest Bias Correction"
   ]
  },
  {
   "cell_type": "code",
   "execution_count": 59,
   "metadata": {},
   "outputs": [
    {
     "data": {
      "image/png": "[encoded data removed]",
      "text/plain": [
       "<Figure size 432x288 with 1 Axes>"
      ]
     },
     "metadata": {
      "needs_background": "light"
     },
     "output_type": "display_data"
    },
    {
     "name": "stdout",
     "output_type": "stream",
     "text": [
      "0.6 0.45 0.8793745486435667\n"
     ]
    }
   ],
   "source": [
    "BiasCorrection(100, torch.tensor(rf_white_test.probs, dtype = torch.float).reshape(-1, 1), torch.tensor(rf_black_test.probs, dtype = torch.float).reshape(-1, 1), y_white, y_black, show_scatter = True, show_plot = True)"
   ]
  },
  {
   "cell_type": "markdown",
   "metadata": {},
   "source": [
    "# Logistic Regression"
   ]
  },
  {
   "cell_type": "code",
   "execution_count": 67,
   "metadata": {},
   "outputs": [
    {
     "name": "stdout",
     "output_type": "stream",
     "text": [
      "Accuracy of the model:  0.7508080155138979\n",
      "[[4638   32]\n",
      " [1510    8]]\n",
      "[[0.99314775 0.00685225]\n",
      " [0.99472991 0.00527009]]\n",
      "\n",
      "Accuracy of the model:  0.7350658725861757\n",
      "[[4065   32]\n",
      " [1436    8]]\n",
      "[[0.87044968 0.00685225]\n",
      " [0.94598155 0.00527009]]\n",
      "\n",
      "Accuracy of the model:  0.8856259659969088\n",
      "[[573   0]\n",
      " [ 74   0]]\n",
      "[[0.12269807 0.        ]\n",
      " [0.04874835 0.        ]]\n",
      "\n"
     ]
    }
   ],
   "source": [
    "logreg_model = Classification(Xcattrain, ytrain, LogisticRegression())\n",
    "logreg_model.Validate(logreg_model.model, Xcattest, ytest)\n",
    "# Test for bias\n",
    "lr_white_test = Classification(Xcattrain, ytrain, LogisticRegression())\n",
    "lr_black_test = Classification(Xcattrain, ytrain, LogisticRegression())\n",
    "lr_white_test.Validate(logreg_model.model, Xcat_white, y_white)\n",
    "lr_black_test.Validate(logreg_model.model, Xcat_black, y_black)"
   ]
  },
  {
   "cell_type": "markdown",
   "metadata": {},
   "source": [
    "# Bias Correction for Logistic Regression"
   ]
  },
  {
   "cell_type": "code",
   "execution_count": 61,
   "metadata": {},
   "outputs": [
    {
     "data": {
      "image/png": "[encoded data removed]",
      "text/plain": [
       "<Figure size 432x288 with 1 Axes>"
      ]
     },
     "metadata": {
      "needs_background": "light"
     },
     "output_type": "display_data"
    },
    {
     "name": "stdout",
     "output_type": "stream",
     "text": [
      "0.48 0.37 0.8762995369351472\n"
     ]
    }
   ],
   "source": [
    "BiasCorrection(100, torch.tensor(lr_white_test.probs, dtype = torch.float).reshape(-1, 1), torch.tensor(lr_black_test.probs, dtype = torch.float).reshape(-1, 1), y_white, y_black, show_scatter = True, show_plot = True)"
   ]
  },
  {
   "cell_type": "markdown",
   "metadata": {},
   "source": [
    "# Gaussian Naive Bayes"
   ]
  },
  {
   "cell_type": "code",
   "execution_count": 68,
   "metadata": {},
   "outputs": [
    {
     "name": "stdout",
     "output_type": "stream",
     "text": [
      "Accuracy of the model:  0.7467679379444085\n",
      "[[3532 1138]\n",
      " [ 429 1089]]\n",
      "[[0.75631692 0.24368308]\n",
      " [0.2826087  0.7173913 ]]\n",
      "\n",
      "Accuracy of the model:  0.7305540516152319\n",
      "[[2959 1138]\n",
      " [ 355 1089]]\n",
      "[[0.63361884 0.24368308]\n",
      " [0.23386034 0.7173913 ]]\n",
      "\n",
      "Accuracy of the model:  0.8856259659969088\n",
      "[[573   0]\n",
      " [ 74   0]]\n",
      "[[0.12269807 0.        ]\n",
      " [0.04874835 0.        ]]\n",
      "\n"
     ]
    }
   ],
   "source": [
    "naive_model = Classification(Xcattrain, ytrain, GaussianNB())\n",
    "naive_model.Validate(naive_model.model, Xcattest, ytest)\n",
    "\n",
    "# Test for bias\n",
    "nb_white_test = Classification(Xcattrain, ytrain, GaussianNB())\n",
    "nb_black_test = Classification(Xcattrain, ytrain, GaussianNB())\n",
    "nb_white_test.Validate(naive_model.model, Xcat_white, y_white)\n",
    "nb_black_test.Validate(naive_model.model, Xcat_black, y_black)"
   ]
  },
  {
   "cell_type": "markdown",
   "metadata": {},
   "source": [
    "# Bias Correction for Gaussian Naive Bayes"
   ]
  },
  {
   "cell_type": "code",
   "execution_count": 63,
   "metadata": {},
   "outputs": [
    {
     "data": {
      "image/png": "[encoded data removed]",
      "text/plain": [
       "<Figure size 432x288 with 1 Axes>"
      ]
     },
     "metadata": {
      "needs_background": "light"
     },
     "output_type": "display_data"
    },
    {
     "name": "stdout",
     "output_type": "stream",
     "text": [
      "0.86 0.03 0.7040676402158199\n"
     ]
    }
   ],
   "source": [
    "BiasCorrection(100, torch.tensor(nb_white_test.probs, dtype = torch.float).reshape(-1, 1), torch.tensor(nb_black_test.probs, dtype = torch.float).reshape(-1, 1), y_white, y_black, show_scatter = True, show_plot = True)"
   ]
  },
  {
   "cell_type": "markdown",
   "metadata": {},
   "source": [
    "# Temp Bayesian Optimization"
   ]
  },
  {
   "cell_type": "code",
   "execution_count": 107,
   "metadata": {},
   "outputs": [
    {
     "name": "stdout",
     "output_type": "stream",
     "text": [
      "[[74. 30.  1.  1.]]\n",
      "0.8220749838396897\n",
      "[[99. 70.  0.  1.]]\n",
      "0.8228829993535876\n",
      "[[92. 10.  1.  1.]]\n",
      "0.8282159017453136\n",
      "[[34. 70.  1.  1.]]\n",
      "0.8236910148674854\n",
      "[[93. 80.  1.  1.]]\n",
      "0.8236910148674854\n",
      "[[93. 10.  1.  1.]]\n",
      "0.8290239172592114\n",
      "[[98. 10.  1.  1.]]\n",
      "0.8299935358758889\n",
      "[[100.  10.   0.   0.]]\n",
      "0.8296703296703297\n",
      "[[100.  10.   1.   1.]]\n",
      "0.8275694893341952\n",
      "[[100.  10.   0.   0.]]\n",
      "0.8293471234647706\n",
      "[[ 1. 10.  0.  0.]]\n",
      "0.8135100193923723\n",
      "[[  1. 100.   1.   0.]]\n",
      "0.807207498383969\n",
      "[[ 64. 100.   0.   1.]]\n",
      "0.8219133807369101\n",
      "[[100.  10.   0.   0.]]\n",
      "0.829185520361991\n",
      "[[96. 10.  0.  0.]]\n",
      "0.8296703296703297\n",
      "[[97. 20.  0.  1.]]\n",
      "0.8223981900452488\n",
      "[[43. 10.  0.  1.]]\n",
      "0.8290239172592114\n",
      "[[51. 10.  1.  0.]]\n",
      "0.8285391079508727\n",
      "[[46. 20.  1.  0.]]\n",
      "0.8246606334841629\n",
      "[[34. 10.  1.  0.]]\n",
      "0.8293471234647706\n",
      "[[30. 20.  0.  1.]]\n",
      "0.820458952811894\n",
      "[[61. 10.  0.  1.]]\n",
      "0.8290239172592114\n",
      "[[70. 10.  1.  0.]]\n",
      "0.8301551389786684\n",
      "[[76. 10.  0.  0.]]\n",
      "0.8293471234647706\n",
      "[[100. 100.   0.   0.]]\n",
      "0.8230446024563671\n",
      "[[60. 70.  1.  0.]]\n",
      "0.8241758241758241\n",
      "[[70. 10.  1.  0.]]\n",
      "0.8290239172592114\n",
      "[[73. 10.  0.  0.]]\n",
      "0.8287007110536523\n",
      "[[42. 10.  1.  0.]]\n",
      "0.8287007110536523\n",
      "[[68. 10.  1.  0.]]\n",
      "0.8275694893341952\n",
      "[[86. 10.  0.  0.]]\n",
      "0.8288623141564319\n",
      "[[96. 10.  0.  0.]]\n",
      "0.8301551389786684\n",
      "[[95. 10.  0.  0.]]\n",
      "0.830316742081448\n",
      "[[94. 10.  0.  0.]]\n",
      "0.8280542986425339\n",
      "[[100.  10.   0.   0.]]\n",
      "0.8282159017453136\n",
      "[[92. 10.  0.  0.]]\n",
      "0.8301551389786684\n",
      "[[90. 10.  0.  0.]]\n",
      "0.8299935358758889\n",
      "[[90. 10.  0.  0.]]\n",
      "0.8308015513897867\n",
      "The best parameters obtained: n_estimators=90.0, max_depth=10.0, max_features=0.0, criterion=0.0\n"
     ]
    }
   ],
   "source": [
    "## define the domain of the considered parameters\n",
    "n_estimators = tuple(np.arange(1,101,1, dtype= np.int))\n",
    "# print(n_estimators)\n",
    "max_depth = tuple(np.arange(10,110,10, dtype= np.int))\n",
    "# max_features = ('log2', 'sqrt', None)\n",
    "max_features = (0, 1)\n",
    "# criterion = ('gini', 'entropy')\n",
    "criterion = (0, 1)\n",
    "\n",
    "\n",
    "# define the dictionary for GPyOpt\n",
    "domain = [{'n_estimators': 'var_1',  'type': 'discrete',     'domain': n_estimators},\n",
    "          {'max_depth': 'var_2',     'type': 'discrete',     'domain': max_depth},\n",
    "          {'max_features': 'var_3',  'type': 'categorical',  'domain': max_features},\n",
    "          {'criterion': 'var_4',     'type': 'categorical',  'domain': criterion}]\n",
    "\n",
    "\n",
    "## we have to define the function we want to maximize --> validation accuracy, \n",
    "## note it should take a 2D ndarray but it is ok that it assumes only one point\n",
    "## in this setting\n",
    "def objective_function(x): \n",
    "    print(x)\n",
    "    # we have to handle the categorical variables that is convert 0/1 to labels\n",
    "    # log2/sqrt and gini/entropy\n",
    "    \n",
    "    param = x[0]\n",
    "    param = param.astype(int)\n",
    "    \n",
    "    if param[2] == 0:\n",
    "        var_3 = \"log2\"\n",
    "    else:\n",
    "        var_3 = \"sqrt\"\n",
    "    \n",
    "    if param[3] == 0:\n",
    "        var_4 = \"gini\"\n",
    "    else:\n",
    "        var_4 = \"entropy\"\n",
    "    \n",
    "    #fit the model\n",
    "    model = RandomForestClassifier(n_estimators = param[0], criterion = var_4, max_depth = param[1], max_features = var_3, oob_score = True)\n",
    "    model.fit(Xcattrain, ytrain)\n",
    "    preds = model.predict(Xcattest)\n",
    "    acc = accuracy_score(ytest, preds)\n",
    "    \n",
    "    #model = Classification(Xcattrain, ytrain, RandomForestClassifier(n_estimators = param[0], max_depth = param[1], max_features = var_3, criterion = var_4))\n",
    "    #model.Validate(rf_model.model, Xcattest, ytest, show_acc = False)\n",
    "    print(acc)\n",
    "    return - acc\n",
    "\n",
    "\n",
    "opt = GPyOpt.methods.BayesianOptimization(f = objective_function,   # function to optimize\n",
    "                                              domain = domain,         # box-constrains of the problem\n",
    "                                              acquisition_type = \"EI\",      # Select acquisition function MPI, EI, LCB\n",
    "                                             )\n",
    "opt.acquisition.exploration_weight=100000000\n",
    "\n",
    "opt.run_optimization(max_iter = 10000000) \n",
    "\n",
    "x_best = opt.X[np.argmin(opt.Y)]\n",
    "print(\"The best parameters obtained: n_estimators=\" + str(x_best[0]) + \", max_depth=\" + str(x_best[1]) + \", max_features=\" + str(\n",
    "    x_best[2])  + \", criterion=\" + str(\n",
    "    x_best[3]))"
   ]
  },
  {
   "cell_type": "markdown",
   "metadata": {},
   "source": [
    "# Random Forest Feature Importance"
   ]
  },
  {
   "cell_type": "code",
   "execution_count": 125,
   "metadata": {},
   "outputs": [
    {
     "name": "stdout",
     "output_type": "stream",
     "text": [
      "Variable: Relationship         Importance: 0.3\n",
      "Variable: Education            Importance: 0.2\n",
      "Variable: Occupation           Importance: 0.18\n",
      "Variable: Marital_status       Importance: 0.15\n",
      "Variable: Workclass            Importance: 0.07\n",
      "Variable: Sex                  Importance: 0.04\n",
      "Variable: Native_country       Importance: 0.04\n",
      "Variable: Race                 Importance: 0.02\n"
     ]
    },
    {
     "data": {
      "image/png": "[encoded data removed]",
      "text/plain": [
       "<Figure size 432x288 with 1 Axes>"
      ]
     },
     "metadata": {
      "needs_background": "light"
     },
     "output_type": "display_data"
    },
    {
     "data": {
      "image/png": "[encoded data removed]",
      "text/plain": [
       "<Figure size 432x288 with 1 Axes>"
      ]
     },
     "metadata": {
      "needs_background": "light"
     },
     "output_type": "display_data"
    }
   ],
   "source": [
    "# Get numerical feature importances\n",
    "rf_model = RandomForestClassifier(n_estimators = 52, max_depth = 14, max_features = \"log2\", criterion = \"entropy\")\n",
    "rf_model.fit(Xcattrain, ytrain)\n",
    "importances = list(rf_model.feature_importances_)\n",
    "\n",
    "# List of tuples with variable and importance\n",
    "feature_importances = [(feature, round(importance, 2)) for feature, importance in zip(features, importances)]\n",
    "\n",
    "# Sort the feature importances by most important first\n",
    "feature_importances = sorted(feature_importances, key = lambda x: x[1], reverse = True)\n",
    "\n",
    "# Print out the feature and importances \n",
    "[print('Variable: {:20} Importance: {}'.format(*pair)) for pair in feature_importances]\n",
    "\n",
    "\n",
    "# List of features sorted from most to least important\n",
    "sorted_importances = [importance[1] for importance in feature_importances]\n",
    "sorted_features = [importance[0] for importance in feature_importances]\n",
    "\n",
    "# list of x locations for plotting\n",
    "x_vals = list(range(len(importances)))\n",
    "# Make a bar chart\n",
    "plt.bar(x_vals, sorted_importances, orientation = 'vertical', color = 'r', edgecolor = 'k', linewidth = 1.2)\n",
    "# Tick labels for x axis\n",
    "plt.xticks(x_vals, sorted_features, rotation='vertical')\n",
    "# Axis labels and title\n",
    "plt.ylabel('Importance'); plt.xlabel('Variable'); plt.title('Variable Importances');\n",
    "plt.show()\n",
    "\n",
    "# Cumulative importances\n",
    "cumulative_importances = np.cumsum(sorted_importances)\n",
    "# Make a line graph\n",
    "plt.plot(x_vals, cumulative_importances, 'g-')\n",
    "# Draw line at 95% of importance retained\n",
    "plt.hlines(y = 0.95, xmin=0, xmax=len(sorted_importances)-1, color = 'r', linestyles = 'dashed')\n",
    "# Format x ticks and labels\n",
    "plt.xticks(x_vals, sorted_features, rotation = 'vertical')\n",
    "# Axis labels and title\n",
    "plt.xlabel('Variable'); plt.ylabel('Cumulative Importance'); plt.title('Cumulative Importances')\n",
    "plt.show()"
   ]
  }
 ],
 "metadata": {
  "kernelspec": {
   "display_name": "Python 3",
   "language": "python",
   "name": "python3"
  },
  "language_info": {
   "codemirror_mode": {
    "name": "ipython",
    "version": 3
   },
   "file_extension": ".py",
   "mimetype": "text/x-python",
   "name": "python",
   "nbconvert_exporter": "python",
   "pygments_lexer": "ipython3",
   "version": "3.6.9"
  }
 },
 "nbformat": 4,
 "nbformat_minor": 2
}
