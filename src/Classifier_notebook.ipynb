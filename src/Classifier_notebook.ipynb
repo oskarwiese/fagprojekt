{
 "cells": [
  {
   "cell_type": "code",
   "execution_count": 137,
   "metadata": {},
   "outputs": [],
   "source": [
    "from __future__ import division\n",
    "import numpy as np\n",
    "import os\n",
    "import pandas as pd\n",
    "import matplotlib.pyplot as plt\n",
    "import seaborn as sb\n",
    "import torch\n",
    "import torch.nn as nn\n",
    "from sklearn.metrics import classification_report, confusion_matrix, accuracy_score\n",
    "from sklearn.ensemble import RandomForestClassifier\n",
    "from sklearn.linear_model import LogisticRegression\n",
    "from tqdm import tqdm\n",
    "import GPyOpt\n",
    "from torch.autograd import Variable\n",
    "from sklearn.linear_model import LogisticRegression\n",
    "from sklearn.naive_bayes import GaussianNB"
   ]
  },
  {
   "cell_type": "code",
   "execution_count": 138,
   "metadata": {},
   "outputs": [],
   "source": [
    "def normalize(data, norm_type):\n",
    "    if norm_type == \"minmax\":\n",
    "        for i in range(data.size()[1]):\n",
    "            data[:,i] = (data[:,i]-data[:,i].min()) / (data[:,i].max()-data[:,i].min())\n",
    "        return data\n",
    "    elif norm_type == \"zscore\":\n",
    "        for i in range(data.size()[1]):\n",
    "            data[:,i] = (data[:,i]-data[:,i].mean()) / (data[:,i].std())\n",
    "        return data\n",
    "    elif norm_type == None:\n",
    "        return data\n",
    "    else:\n",
    "        raise ValueError(\"Please choose a correct normalization type\")\n",
    "#Xnumtrain = torch.tensor(np.vstack([(Xnumtrain[:,i]-Xnumtrain[:,i].min()) / (Xnumtrain[:,i].max()-Xnumtrain[:,i].min()) for i in range(Xnumtrain.size()[1]) if \"Tue elsker det her\"])).view(-1,2)\n",
    "\n",
    "def dataprep(data, norm_type = \"zscore\"):\n",
    "    for category in categoricals:\n",
    "        data[category] = data[category].astype(\"category\")\n",
    "\n",
    "    catdata = []\n",
    "    for i in range(len(categoricals)):\n",
    "        catdata.append(data[categoricals[i]].cat.codes.values)\n",
    "    catdata = torch.tensor(catdata, dtype = torch.int64).T\n",
    "    \n",
    "    \n",
    "    numdata = np.stack([data[col].values for col in numericals], 1)\n",
    "    numdata = torch.tensor(numdata, dtype=torch.float)\n",
    "\n",
    "    normalize(numdata, norm_type)\n",
    "    return catdata, numdata\n",
    "\n",
    "def permutation(data, cat):\n",
    "    perm_data = data.copy()\n",
    "    rand_num = np.random.permutation(perm_data.index)\n",
    "    perm_data[cat][perm_data.index] = data[cat][rand_num] \n",
    "    df = perm_data\n",
    "    return df\n",
    "\n",
    "def reset_data():\n",
    "    return pd.read_csv(\"https://raw.githubusercontent.com/oskarwiese/fagprojekt/master/compas_propublica/compas-scores-two-years.csv\")\n",
    "\n",
    "def BiasCorrection(points, probs1, probs2, true1, true2, min_threshold = 0.2, max_threshold = 0.8, max_diff = 0.001, show_scatter = True, show_plot = True):\n",
    "    points = points\n",
    "    step = 1/points\n",
    "    thresholds = np.arange(0,1+step,step)\n",
    "\n",
    "    if show_scatter:\n",
    "        y_pred1 = (probs1 > 0.5).float()\n",
    "        y_pred2 = (probs2 > 0.5).float()\n",
    "        conf1 = confusion_matrix(true1, y_pred1)\n",
    "        conf2 = confusion_matrix(true2, y_pred2)\n",
    "\n",
    "        yvals = []\n",
    "        xvals = []\n",
    "        yvals.append(conf1[1,1] / (conf1[1,1] + conf1[1,0]))\n",
    "        xvals.append(conf1[0,1] / (conf1[0,1] + conf1[0,0]))\n",
    "        yvals.append(conf2[1,1] / (conf2[1,1] + conf2[1,0]))\n",
    "        xvals.append(conf2[0,1] / (conf2[0,1] + conf2[0,0]))\n",
    "        plt.scatter(xvals, yvals, c=[\"blue\", \"green\"])\n",
    "\n",
    "    tprs1 = []\n",
    "    fprs1 = []\n",
    "    tprs2 = []\n",
    "    fprs2 = []\n",
    "    for i in range(points+1):\n",
    "        y_pred1 = (probs1 > thresholds[i]).float()\n",
    "        y_pred2 = (probs2 > thresholds[i]).float()\n",
    "        conf1 = confusion_matrix(true1, y_pred1)\n",
    "        conf2 = confusion_matrix(true2, y_pred2)\n",
    "\n",
    "        tprs1.append(conf1[1,1] / (conf1[1,1] + conf1[1,0]))\n",
    "        fprs1.append(conf1[0,1] / (conf1[0,1] + conf1[0,0]))\n",
    "        tprs2.append(conf2[1,1] / (conf2[1,1] + conf2[1,0]))\n",
    "        fprs2.append(conf2[0,1] / (conf2[0,1] + conf2[0,0]))\n",
    "\n",
    "    if show_plot:\n",
    "        plt.plot(fprs1,tprs1,color=\"blue\")\n",
    "        plt.plot(fprs2,tprs2,color=\"green\")\n",
    "        x_values = [0, 1] \n",
    "        y_values = [0, 1]\n",
    "        plt.plot(x_values, y_values,'--',color=\"red\")\n",
    "        plt.show()\n",
    "\n",
    "    # Find the thresholds with the same tpr and fpr\n",
    "    tprdiff = []\n",
    "    fprdiff = []\n",
    "    thresholds1 = []\n",
    "    thresholds2 = []\n",
    "\n",
    "    for i in range(len(thresholds)):\n",
    "        tprval1 = tprs1[i]\n",
    "        fprval1 = fprs1[i]\n",
    "        threshold1 = thresholds[i]\n",
    "        tprindex2 = min(range(len(tprs2)), key=lambda x: abs(tprs2[x]-tprval1))\n",
    "        threshold2 = thresholds[tprindex2]\n",
    "        tprval2 = tprs2[tprindex2]\n",
    "        fprval2 = fprs2[tprindex2]\n",
    "        tprdiff.append(abs(tprval1 - tprval2))\n",
    "        fprdiff.append(abs(fprval1 - fprval2))\n",
    "        thresholds1.append(threshold1)\n",
    "        thresholds2.append(threshold2)\n",
    "        #print(tprval1, fprval1, threshold1, tprval2, fprval2, threshold2)\n",
    "\n",
    "    minthreshold = min_threshold\n",
    "    maxthreshold = max_threshold\n",
    "    maxdiff = max_diff\n",
    "    indeces = np.unique(np.append(np.where(np.array(tprdiff) < maxdiff), np.where(np.array(fprdiff) < maxdiff)))\n",
    "    thresholds1 = [thresholds1[i] for i in indeces if \"Tue elsker det\"]\n",
    "    thresholds2 = [thresholds2[i] for i in indeces if \"Tue elsker det\"]\n",
    "\n",
    "    # Find the accuracies for all the thresholds with equal fpr and tpr\n",
    "    accs = []\n",
    "    for i in range(len(thresholds1)):\n",
    "        thres1, thres2 = thresholds1[i], thresholds2[i]\n",
    "        y_val_white = model(Xcat_white, Xnum_white)\n",
    "        y_pred1 = (y_val_white > thres1).float()\n",
    "        y_val_black = model(Xcat_black, Xnum_black)\n",
    "        y_pred2 = (y_val_black > thres2).float()\n",
    "\n",
    "        # Ground truth of recidivism from dataset\n",
    "        y_white = torch.tensor(white_data[\"two_year_recid\"].values).flatten()\n",
    "        y_black = torch.tensor(black_data[\"two_year_recid\"].values).flatten()\n",
    "        accs.append((accuracy_score(y_black, y_pred2) + accuracy_score(y_white, y_pred1)) / 2)\n",
    "\n",
    "    maxaccidx = np.argmax(accs)\n",
    "    optthres1 = thresholds1[maxaccidx]\n",
    "    optthres2 = thresholds2[maxaccidx]\n",
    "    print(optthres1, optthres2, max(accs))\n",
    "    \n",
    "class Classification():\n",
    "    \n",
    "    def __init__(self, xtrain, ytrain, classification_model):\n",
    "        # Classification_model = [GaussianNB(), LogisticRegression(), RandomForestClassifier(n_estimators = 52, max_depth = 14, max_features = \"log2\", criterion = \"entropy\")]\n",
    "        self.xtrain = xtrain\n",
    "        self.ytrain = ytrain\n",
    "        self.model = classification_model\n",
    "        self.model.fit(self.xtrain, self.ytrain)\n",
    "        \n",
    "    def Validate(self, model, datatest, ytest, show_acc = True):\n",
    "        # Predict on the test set\n",
    "        self.preds = model.predict(datatest)\n",
    "        self.probs = model.predict_proba(datatest)[:, 1]\n",
    "        self.acc = accuracy_score(ytest, self.preds)\n",
    "        self.conf = confusion_matrix(ytest, self.preds)\n",
    "        self.conf_norm = np.copy(self.conf).astype(float)\n",
    "        for i in range(2):\n",
    "            self.conf_norm[i,:] = self.conf[i,:] / np.sum(conf, axis = 1)[i]\n",
    "        \n",
    "        if show_acc:\n",
    "            print(\"Accuracy of the model: \", self.acc)\n",
    "            print(self.conf)\n",
    "            print(self.conf_norm)\n",
    "            print()\n",
    "            \n",
    "    def FeatureImportance(self, model):\n",
    "        importances = list(model.feature_importances_)\n",
    "\n",
    "        # List of tuples with variable and importance\n",
    "        self.feature_importances = [(feature, round(importance, 2)) for feature, importance in zip(features, importances)]\n",
    "\n",
    "        # Sort the feature importances by most important first\n",
    "        self.feature_importances = sorted(self.feature_importances, key = lambda x: x[1], reverse = True)\n",
    "\n",
    "        # Print out the feature and importances \n",
    "        [print('Variable: {:20} Importance: {}'.format(*pair)) for pair in self.feature_importances]\n",
    "\n",
    "\n",
    "        # List of features sorted from most to least important\n",
    "        sorted_importances = [importance[1] for importance in self.feature_importances]\n",
    "        sorted_features = [importance[0] for importance in self.feature_importances]\n",
    "        # list of x locations for plotting\n",
    "        x_vals = list(range(len(importances)))\n",
    "        # Make a bar chart\n",
    "        plt.bar(x_vals, sorted_importances, orientation = 'vertical', color = 'r', edgecolor = 'k', linewidth = 1.2)\n",
    "        # Tick labels for x axis\n",
    "        plt.xticks(x_vals, sorted_features, rotation='vertical')\n",
    "        # Axis labels and title\n",
    "        plt.ylabel('Importance'); plt.xlabel('Variable'); plt.title('Variable Importances');\n",
    "        plt.show()\n",
    "\n",
    "\n",
    "        # Cumulative importances\n",
    "        cumulative_importances = np.cumsum(sorted_importances)\n",
    "        # Make a line graph\n",
    "        plt.plot(x_vals, cumulative_importances, 'g-')\n",
    "        # Draw line at 95% of importance retained\n",
    "        plt.hlines(y = 0.95, xmin=0, xmax=len(sorted_importances)-1, color = 'r', linestyles = 'dashed')\n",
    "        # Format x ticks and labels\n",
    "        plt.xticks(x_vals,sorted_features, rotation = 'vertical')\n",
    "        # Axis labels and title\n",
    "        plt.xlabel('Variable'); plt.ylabel('Cumulative Importance'); plt.title('Cumulative Importances')\n",
    "        plt.show()"
   ]
  },
  {
   "cell_type": "markdown",
   "metadata": {},
   "source": [
    "# Data Visualization and Pre-processing"
   ]
  },
  {
   "cell_type": "code",
   "execution_count": 139,
   "metadata": {},
   "outputs": [
    {
     "name": "stdout",
     "output_type": "stream",
     "text": [
      "No GPU available.\n"
     ]
    }
   ],
   "source": [
    "url = \"https://raw.githubusercontent.com/oskarwiese/fagprojekt/master/compas_propublica/compas-scores-two-years.csv\"\n",
    "data = pd.read_csv(url)\n",
    "data = data[(data[\"race\"] == \"Caucasian\") | (data[\"race\"] == \"African-American\")]\n",
    "\n",
    "use_cuda = torch.cuda.is_available()\n",
    "print(\"Running GPU.\") if use_cuda else print(\"No GPU available.\")\n",
    "#print(data.columns)"
   ]
  },
  {
   "cell_type": "code",
   "execution_count": 140,
   "metadata": {
    "scrolled": false
   },
   "outputs": [
    {
     "name": "stdout",
     "output_type": "stream",
     "text": [
      "[[0.65199674 0.23553382 0.11246944]\n",
      " [0.41179654 0.31087662 0.27732684]]\n"
     ]
    }
   ],
   "source": [
    "def is_plot(data):\n",
    "    \n",
    "    path = r\"C:\\Users\\ejer\\Desktop\\Fagprojekt\\fagprojekt\\report\\imgs\"\n",
    "    \n",
    "    pred_plot_race = sb.countplot(x = \"score_text\", order = ['Low', 'Medium', 'High'], hue = \"race\", data = data, edgecolor=(0,0,0), linewidth=1, saturation = 1)                \n",
    "    pred_plot_race.set_title(\"Predicted risk of recidivism according to race\")\n",
    "    #pred_plot_race.figure.savefig(path + \"\\\\predicted_recid_race.png\")\n",
    "    plt.show()\n",
    "    \n",
    "    pred_plot_sex = sb.countplot(x = \"score_text\", order = ['Low', 'Medium', 'High'], hue = \"sex\", data = data, edgecolor=(0,0,0), linewidth=1, saturation = 1)\n",
    "    pred_plot_sex.set_title(\"Predicted risk of recidivism according to sex\")\n",
    "    #pred_plot_sex.figure.savefig(path + \"\\\\predicted_recid_sex.png\")\n",
    "    plt.show()\n",
    "    \n",
    "    true_plot = sb.countplot(x = \"is_recid\", hue = \"race\", data = data, edgecolor=(0,0,0), linewidth=1, saturation = 1)\n",
    "    true_plot.set_title(\"True recidivism scores\")\n",
    "    #true_plot.figure.savefig(path + \"\\\\true_recid.png\")\n",
    "    plt.show()\n",
    "    \n",
    "    df = data[(data[\"race\"] == \"African-American\") | (data[\"race\"] == \"Caucasian\")]\n",
    "    df = df[df[\"priors_count\"] < 25]\n",
    "    \n",
    "    priors_plot = sb.countplot(x = \"priors_count\", hue = \"race\", data = df, edgecolor=(0,0,0), linewidth=1, saturation = 1)\n",
    "    priors_plot.set_title(\"Number of previous felonies according to race\")\n",
    "    #priors_plot.figure.savefig(path + \"\\\\proirs.png\")\n",
    "    plt.show()\n",
    "    \n",
    "    c_charge_degree = sb.countplot(x = \"c_charge_degree\", hue = \"race\", data = df, edgecolor=(0,0,0), linewidth=1, saturation = 1)\n",
    "    c_charge_degree.set_title(\"Severity of the crimes for each race\")\n",
    "    #c_charge_degree.figure.savefig(path + \"\\\\c_charge_degree.png\")\n",
    "    plt.show()\n",
    "    \n",
    "    c_charge_degree = sb.countplot(x = \"score_text\", hue = \"c_charge_degree\", data = df, edgecolor=(0,0,0), linewidth=1, saturation = 1)\n",
    "    c_charge_degree.set_title(\"Relation between crime severity and predicted recidivism\")\n",
    "    #c_charge_degree.figure.savefig(path + \"\\\\charge_degree_score.png\")\n",
    "    plt.show()\n",
    "    \n",
    "    palette = {\"Caucasian\": \"C0\", \"African-American\": \"C1\"}\n",
    "    for i in tqdm(range(3)):\n",
    "        #TODO: der skal indsættes punkter for den rigtige data1fordelling. \n",
    "        data = permutation(data, \"race\")\n",
    "        path = r\"C:\\Users\\ejer\\Desktop\\Fagprojekt\\fagprojekt\\report\\imgs\"\n",
    "        pred_plot_race = sb.countplot(x = \"score_text\" ,hue = \"race\", data = data, palette = palette ,alpha=.06,  hue_order = [ \"African-American\",\"Caucasian\"])\n",
    "        pred_plot_race.set_title(\"Predicted risk of recidivism according to race\")\n",
    "        pred_plot_race.set_xticklabels(pred_plot_race.get_xticklabels(), horizontalalignment ='right')\n",
    "        pred_plot_race.get_legend().remove()\n",
    "        data = reset_data()\n",
    "    plt.show()\n",
    "    \n",
    "#is_plot(data)\n",
    "\n",
    "# Show the distributions of the black and white in the categories of score_text\n",
    "score_vals = [\"Low\", \"Medium\", \"High\"]\n",
    "race_vals = [\"Caucasian\", \"African-American\"]\n",
    "\n",
    "distribution = np.empty([2,3])\n",
    "\n",
    "for i, race in enumerate(race_vals):\n",
    "    for j, score in enumerate(score_vals):\n",
    "        distribution[i,j] = len(data[(data[\"race\"] == race) & (data[\"score_text\"] == score)]) / len(data[data[\"race\"] == race])\n",
    "\n",
    "print(distribution)"
   ]
  },
  {
   "cell_type": "code",
   "execution_count": 141,
   "metadata": {},
   "outputs": [],
   "source": [
    "categoricals = [\"c_charge_degree\", \"race\", \"age_cat\", \"sex\"] # \"r_charge_degree\"    \"two_year_recid\"    \"is_recid\", \"is_violent_recid\"\n",
    "numericals = [\"age\", \"priors_count\", \"juv_fel_count\", \"juv_misd_count\"] # \"days_b_screening_arrest\"\n",
    "\n",
    "outputs = [\"score_text\"]\n",
    "features = categoricals + numericals\n",
    "data = data[features + outputs + [\"two_year_recid\"] + [\"is_recid\"]]\n",
    "\n",
    "# Making the output binary\n",
    "data[outputs] = data[outputs].replace('Low',0)\n",
    "data[outputs] = data[outputs].replace('Medium',1)\n",
    "data[outputs] = data[outputs].replace('High',1)\n",
    "data[outputs] = data[outputs].astype(\"category\")"
   ]
  },
  {
   "cell_type": "code",
   "execution_count": 142,
   "metadata": {},
   "outputs": [],
   "source": [
    "Xcat, Xnum = dataprep(data, norm_type = \"zscore\")\n",
    "\n",
    "# Converting the output to tensor\n",
    "y = torch.tensor(data[outputs].values).flatten()\n",
    "\n",
    "# Calculation of embedding sizes for the categorical values in the format (unique categorical values, embedding size (dimension of encoding))\n",
    "categorical_column_sizes = [len(data[column].cat.categories) for column in categoricals]\n",
    "categorical_embedding_sizes = [(col_size, min(50, (col_size+1)//2)) for col_size in categorical_column_sizes]\n",
    "\n",
    "# Train-test split\n",
    "totalnumber = len(Xnum)\n",
    "testnumber = int(totalnumber * 0.2)\n",
    "\n",
    "Xcattrain = Xcat[:totalnumber - testnumber]\n",
    "Xcattest = Xcat[totalnumber - testnumber:totalnumber]\n",
    "Xnumtrain = Xnum[:totalnumber - testnumber]\n",
    "Xnumtest = Xnum[totalnumber - testnumber:totalnumber]\n",
    "ytrain = y[:totalnumber - testnumber]\n",
    "ytest = data[\"is_recid\"][totalnumber - testnumber:totalnumber]\n",
    "ytest = torch.tensor(ytest.values).flatten()\n",
    "\n",
    "\n",
    "# Make sure that we dont validate on training data to compare if the algorithm is biased\n",
    "\n",
    "\n",
    "normalize(Xnumtrain, \"zscore\");\n",
    "normalize(Xnumtest, \"zscore\");"
   ]
  },
  {
   "cell_type": "markdown",
   "metadata": {},
   "source": [
    "# Neural Network"
   ]
  },
  {
   "cell_type": "code",
   "execution_count": 143,
   "metadata": {},
   "outputs": [],
   "source": [
    "class Model(nn.Module):\n",
    "\n",
    "    def __init__(self, embedding_size, num_numerical_cols, output_size, layers, p=0.4):\n",
    "        super().__init__()\n",
    "        self.all_embeddings = nn.ModuleList([nn.Embedding(ni, nf) for ni, nf in embedding_size])\n",
    "        self.embedding_dropout = nn.Dropout(p)\n",
    "        self.batch_norm_num = nn.BatchNorm1d(num_numerical_cols)\n",
    "        \n",
    "        all_layers = []\n",
    "        num_categorical_cols = sum((nf for ni, nf in embedding_size))\n",
    "        input_size = num_categorical_cols + num_numerical_cols\n",
    "\n",
    "        for i in layers:\n",
    "            all_layers.append(nn.Linear(input_size, i))\n",
    "            all_layers.append(nn.ReLU(inplace=True))\n",
    "            all_layers.append(nn.BatchNorm1d(i))\n",
    "            all_layers.append(nn.Dropout(p))\n",
    "            input_size = i\n",
    "\n",
    "        all_layers.append(nn.Linear(layers[-1], output_size))\n",
    "\n",
    "        self.layers = nn.Sequential(*all_layers)\n",
    "\n",
    "    def forward(self, x_categorical, x_numerical):\n",
    "        embeddings = []\n",
    "        for i,e in enumerate(self.all_embeddings):\n",
    "            embeddings.append(e(x_categorical[:,i]))\n",
    "        x = torch.cat(embeddings, 1)\n",
    "        x = self.embedding_dropout(x)\n",
    "\n",
    "        x_numerical = self.batch_norm_num(x_numerical)\n",
    "        x = torch.cat([x, x_numerical], 1)\n",
    "        x = self.layers(x)\n",
    "        return nn.functional.sigmoid(x)"
   ]
  },
  {
   "cell_type": "markdown",
   "metadata": {},
   "source": [
    "# Train the Model"
   ]
  },
  {
   "cell_type": "code",
   "execution_count": 144,
   "metadata": {},
   "outputs": [
    {
     "name": "stdout",
     "output_type": "stream",
     "text": [
      "Model(\n",
      "  (all_embeddings): ModuleList(\n",
      "    (0): Embedding(2, 1)\n",
      "    (1): Embedding(2, 1)\n",
      "    (2): Embedding(3, 2)\n",
      "    (3): Embedding(2, 1)\n",
      "  )\n",
      "  (embedding_dropout): Dropout(p=0.5, inplace=False)\n",
      "  (batch_norm_num): BatchNorm1d(4, eps=1e-05, momentum=0.1, affine=True, track_running_stats=True)\n",
      "  (layers): Sequential(\n",
      "    (0): Linear(in_features=9, out_features=16, bias=True)\n",
      "    (1): ReLU(inplace=True)\n",
      "    (2): BatchNorm1d(16, eps=1e-05, momentum=0.1, affine=True, track_running_stats=True)\n",
      "    (3): Dropout(p=0.5, inplace=False)\n",
      "    (4): Linear(in_features=16, out_features=32, bias=True)\n",
      "    (5): ReLU(inplace=True)\n",
      "    (6): BatchNorm1d(32, eps=1e-05, momentum=0.1, affine=True, track_running_stats=True)\n",
      "    (7): Dropout(p=0.5, inplace=False)\n",
      "    (8): Linear(in_features=32, out_features=64, bias=True)\n",
      "    (9): ReLU(inplace=True)\n",
      "    (10): BatchNorm1d(64, eps=1e-05, momentum=0.1, affine=True, track_running_stats=True)\n",
      "    (11): Dropout(p=0.5, inplace=False)\n",
      "    (12): Linear(in_features=64, out_features=128, bias=True)\n",
      "    (13): ReLU(inplace=True)\n",
      "    (14): BatchNorm1d(128, eps=1e-05, momentum=0.1, affine=True, track_running_stats=True)\n",
      "    (15): Dropout(p=0.5, inplace=False)\n",
      "    (16): Linear(in_features=128, out_features=64, bias=True)\n",
      "    (17): ReLU(inplace=True)\n",
      "    (18): BatchNorm1d(64, eps=1e-05, momentum=0.1, affine=True, track_running_stats=True)\n",
      "    (19): Dropout(p=0.5, inplace=False)\n",
      "    (20): Linear(in_features=64, out_features=1, bias=True)\n",
      "  )\n",
      ")\n"
     ]
    }
   ],
   "source": [
    "# Define and show the model\n",
    "model = Model(categorical_embedding_sizes, 4, 1, [16,32,64,128,64], p=0.5)\n",
    "if use_cuda:\n",
    "    model.cuda()\n",
    "print(model)\n",
    "for param in model.parameters():\n",
    "            param.requires_grad = True"
   ]
  },
  {
   "cell_type": "code",
   "execution_count": 145,
   "metadata": {},
   "outputs": [],
   "source": [
    "# Loss function and optimization\n",
    "loss_function = nn.BCELoss()\n",
    "optimizer = torch.optim.Adam(model.parameters(), lr=0.001, weight_decay = 1e-6)\n",
    "threshold = 0.5\n",
    "epochs = 400\n",
    "np.random.seed(42)"
   ]
  },
  {
   "cell_type": "code",
   "execution_count": 146,
   "metadata": {},
   "outputs": [
    {
     "name": "stdout",
     "output_type": "stream",
     "text": [
      "epoch:   1 loss: 0.76520574\n",
      "epoch:  26 loss: 0.68582690\n",
      "epoch:  51 loss: 0.64723259\n",
      "epoch:  76 loss: 0.62286276\n",
      "epoch: 101 loss: 0.59234560\n",
      "epoch: 126 loss: 0.57678950\n",
      "epoch: 151 loss: 0.56770241\n",
      "epoch: 176 loss: 0.55678308\n",
      "epoch: 201 loss: 0.55089897\n",
      "epoch: 226 loss: 0.54662365\n",
      "epoch: 251 loss: 0.55067760\n",
      "epoch: 276 loss: 0.54391062\n",
      "epoch: 301 loss: 0.53711414\n",
      "epoch: 326 loss: 0.53804886\n",
      "epoch: 351 loss: 0.53503329\n",
      "epoch: 376 loss: 0.53260869\n",
      "epoch: 400 loss: 0.5381571651\n",
      "[[448 167]\n",
      " [223 392]]\n",
      "[[0.66766021 0.24888227]\n",
      " [0.39892665 0.70125224]]\n",
      "              precision    recall  f1-score   support\n",
      "\n",
      "           0       0.67      0.73      0.70       615\n",
      "           1       0.70      0.64      0.67       615\n",
      "\n",
      "    accuracy                           0.68      1230\n",
      "   macro avg       0.68      0.68      0.68      1230\n",
      "weighted avg       0.68      0.68      0.68      1230\n",
      "\n",
      "0.6829268292682927\n"
     ]
    },
    {
     "data": {
      "image/png": "[encoded data removed]",
      "text/plain": [
       "<Figure size 432x288 with 1 Axes>"
      ]
     },
     "metadata": {
      "needs_background": "light"
     },
     "output_type": "display_data"
    }
   ],
   "source": [
    "aggregated_losses = []\n",
    "\n",
    "# Initialize lists for training and validation\n",
    "train_iter = []\n",
    "train_loss, train_accs = [], []\n",
    "valid_iter = []\n",
    "valid_loss, valid_accs = [], []\n",
    "\n",
    "model.train()\n",
    "for i in range(epochs):\n",
    "    i += 1\n",
    "    y_pred = model(Xcattrain, Xnumtrain)\n",
    "    single_loss = loss_function(y_pred, ytrain.float())\n",
    "    aggregated_losses.append(single_loss)\n",
    "\n",
    "    if i % 25 == 1:\n",
    "        print(f'epoch: {i:3} loss: {single_loss.item():10.8f}')\n",
    "\n",
    "    optimizer.zero_grad()\n",
    "    single_loss.backward()\n",
    "    optimizer.step()\n",
    "\n",
    "print(f'epoch: {i:3} loss: {single_loss.item():10.10f}')\n",
    "\n",
    "\n",
    "\n",
    "# Plot the loss over epocs\n",
    "if \"plot\":\n",
    "    plt.plot(range(epochs), aggregated_losses)\n",
    "    plt.ylabel('Loss')\n",
    "    plt.xlabel('epoch');\n",
    "\n",
    "\n",
    "# Predict on the test set\n",
    "model.eval()\n",
    "with torch.no_grad():\n",
    "    y_val = model(Xcattest, Xnumtest)\n",
    "    loss = loss_function(y_val, ytest.float())\n",
    "\n",
    "\n",
    "y_pred = (y_val > threshold).float()\n",
    "\n",
    "\n",
    "conf = confusion_matrix(ytest,y_pred)\n",
    "conf_norm = np.copy(conf).astype(float)\n",
    "for i in range(2):\n",
    "    conf_norm[i,:] = conf[i,:] / np.sum(conf, axis = 0)[i]\n",
    "\n",
    "neural_acc = accuracy_score(ytest, y_pred)\n",
    "print(conf)\n",
    "print(conf_norm)\n",
    "print(classification_report(ytest,y_pred))\n",
    "print(neural_acc)"
   ]
  },
  {
   "cell_type": "markdown",
   "metadata": {},
   "source": [
    "# Confusion matrix for black/white"
   ]
  },
  {
   "cell_type": "code",
   "execution_count": 147,
   "metadata": {},
   "outputs": [
    {
     "name": "stdout",
     "output_type": "stream",
     "text": [
      "Confussion matrix for the white:\n",
      "[[199 103]\n",
      " [ 59 122]]\n",
      "[[0.6589404  0.3410596 ]\n",
      " [0.32596685 0.67403315]]\n",
      "\n",
      "Confussion matrix for the black:\n",
      "[[261  90]\n",
      " [159 237]]\n",
      "[[0.74358974 0.25641026]\n",
      " [0.40151515 0.59848485]]\n"
     ]
    }
   ],
   "source": [
    "df = data[totalnumber - testnumber:totalnumber]\n",
    "black_data = df[df[\"race\"]==\"African-American\"]\n",
    "white_data = df[df[\"race\"]==\"Caucasian\"]\n",
    "Xcat_white, Xnum_white = dataprep(white_data, norm_type = \"zscore\")\n",
    "Xcat_black, Xnum_black = dataprep(black_data, norm_type = \"zscore\")\n",
    "model.eval()\n",
    "y_val_white = model(Xcat_white, Xnum_white)\n",
    "y_pred1 = (y_val_white > threshold).float()\n",
    "y_val_black = model(Xcat_black, Xnum_black)\n",
    "y_pred2 = (y_val_black > threshold).float()\n",
    "\n",
    "# Ground truth of recidivism from dataset\n",
    "y_white = torch.tensor(white_data[\"two_year_recid\"].values).flatten()\n",
    "y_black = torch.tensor(black_data[\"two_year_recid\"].values).flatten()\n",
    "\n",
    "print(\"Confussion matrix for the white:\")\n",
    "conf_white = confusion_matrix( y_white, y_pred1)\n",
    "conf_black = confusion_matrix( y_black, y_pred2)\n",
    "\n",
    "conf_white_norm = np.copy(conf_white).astype(float)\n",
    "conf_black_norm = np.copy(conf_black).astype(float)\n",
    "for i in range(2):\n",
    "    conf_white_norm[i,:] = conf_white[i,:] / np.sum(conf_white, axis = 1)[i]\n",
    "    conf_black_norm[i,:] = conf_black[i,:] / np.sum(conf_black, axis = 1)[i]\n",
    "\n",
    "print(conf_white)\n",
    "print(conf_white_norm)\n",
    "print()\n",
    "print(\"Confussion matrix for the black:\")\n",
    "print(conf_black)\n",
    "print(conf_black_norm)\n",
    "\n",
    "#print(conf_white / conf_white.astype(np.float).sum(axis=1))\n",
    "#print(conf_black / conf_black.astype(np.float).sum(axis=1))\n",
    "#[0.21548821548821548, 0.3638968481375358] [0.5674157303370787, 0.6658227848101266]\n",
    "#00 / 00 + 10\n",
    "#01 / 01 + 00"
   ]
  },
  {
   "cell_type": "markdown",
   "metadata": {},
   "source": [
    "* # Fede plots til fremtiden måske:\n",
    "\n",
    "\n",
    "# Plots of the distribution of black and whites in each category of scoretext\n",
    "sb.countplot(x = \"score_text\", data = black_data)\n",
    "print(len(black_data[black_data[\"score_text\"] == 0]))\n",
    "print(len(black_data[black_data[\"score_text\"] == 1]))\n",
    "plt.show()\n",
    "sb.countplot(x = \"score_text\", data = white_data)\n",
    "print(len(white_data[white_data[\"score_text\"] == 0]))\n",
    "print(len(white_data[white_data[\"score_text\"] == 1]))\n",
    "plt.show()"
   ]
  },
  {
   "cell_type": "markdown",
   "metadata": {},
   "source": [
    "# Baseline"
   ]
  },
  {
   "cell_type": "code",
   "execution_count": 148,
   "metadata": {},
   "outputs": [
    {
     "name": "stdout",
     "output_type": "stream",
     "text": [
      "[[3122 3028]\n",
      " [   0    0]]\n",
      "[[0.50764228 0.49235772]\n",
      " [0.         0.        ]]\n",
      "0.5076422764227643\n",
      "Difference between baseline and neural network: 0.17528455284552846\n"
     ]
    }
   ],
   "source": [
    "def baseline(data):\n",
    "    if len(data[data[\"score_text\"] == 0]) > len(data[data[\"score_text\"] == 1]):\n",
    "        y_pred = [0] * len(data[\"score_text\"])\n",
    "        y_pred = torch.tensor(y_pred)\n",
    "    else:\n",
    "        y_pred = [1] * len(data[\"score_text\"])\n",
    "        y_pred = torch.tensor(y_pred)\n",
    "    return y_pred\n",
    "\n",
    "y_pred = baseline(data)\n",
    "conf_baseline = confusion_matrix(y_pred,y)\n",
    "print(conf_baseline)\n",
    "print(conf_baseline / conf_baseline.astype(np.float).sum())\n",
    "baseline_acc = accuracy_score(y_pred, y)\n",
    "print(baseline_acc)\n",
    "print(\"Difference between baseline and neural network:\", neural_acc - baseline_acc)"
   ]
  },
  {
   "cell_type": "markdown",
   "metadata": {},
   "source": [
    "# Neural Network Bias Correction"
   ]
  },
  {
   "cell_type": "code",
   "execution_count": 160,
   "metadata": {},
   "outputs": [
    {
     "data": {
      "image/png": "[encoded data removed]",
      "text/plain": [
       "<Figure size 432x288 with 1 Axes>"
      ]
     },
     "metadata": {
      "needs_background": "light"
     },
     "output_type": "display_data"
    },
    {
     "name": "stdout",
     "output_type": "stream",
     "text": [
      "0.5640000000000001 0.4854 0.6790890269151139\n"
     ]
    }
   ],
   "source": [
    "BiasCorrection(1000, y_val_white, y_val_black, y_white, y_black, show_scatter = True, show_plot = True)"
   ]
  },
  {
   "cell_type": "code",
   "execution_count": 150,
   "metadata": {},
   "outputs": [
    {
     "name": "stdout",
     "output_type": "stream",
     "text": [
      "[0.        0.3410596 1.       ] [0.         0.67403315 1.        ]\n"
     ]
    },
    {
     "data": {
      "image/png": "[encoded data removed]",
      "text/plain": [
       "<Figure size 432x288 with 1 Axes>"
      ]
     },
     "metadata": {
      "needs_background": "light"
     },
     "output_type": "display_data"
    }
   ],
   "source": [
    "from sklearn import metrics\n",
    "y_pred1 = (y_val_white > 0.5).float()\n",
    "y_pred2 = (y_val_black > 0.5).float()\n",
    "fpr, tpr, thresholds = metrics.roc_curve(y_white, y_pred1.view(-1),pos_label=1)\n",
    "fpr2, tpr2, thresholds = metrics.roc_curve(y_black, y_pred2.view(-1),pos_label=1)\n",
    "print(fpr,tpr)\n",
    "plt.plot(fpr,tpr)\n",
    "plt.plot(fpr2,tpr2,color=\"green\")\n",
    "x_values = [0, 1] \n",
    "y_values = [0, 1]\n",
    "plt. plot(x_values, y_values,'--',color=\"red\")\n",
    "plt.show()"
   ]
  },
  {
   "cell_type": "markdown",
   "metadata": {},
   "source": [
    "# Random Forest"
   ]
  },
  {
   "cell_type": "code",
   "execution_count": 151,
   "metadata": {},
   "outputs": [
    {
     "name": "stdout",
     "output_type": "stream",
     "text": [
      "Accuracy of the model:  0.5902439024390244\n",
      "[[313 302]\n",
      " [202 413]]\n",
      "[[0.50894309 0.49105691]\n",
      " [0.32845528 0.67154472]]\n",
      "\n",
      "Accuracy of the model:  0.6376811594202898\n",
      "[[246  56]\n",
      " [119  62]]\n",
      "[[0.4        0.09105691]\n",
      " [0.19349593 0.10081301]]\n",
      "\n",
      "Accuracy of the model:  0.5515394912985274\n",
      "[[ 83 268]\n",
      " [ 67 329]]\n",
      "[[0.13495935 0.43577236]\n",
      " [0.10894309 0.53495935]]\n",
      "\n"
     ]
    }
   ],
   "source": [
    "rf_model = Classification(Xcattrain, ytrain, RandomForestClassifier(n_estimators = 52, max_depth = 14, max_features = \"log2\", criterion = \"entropy\"))\n",
    "rf_model.Validate(rf_model.model, Xcattest, ytest)\n",
    "\n",
    "# Test for bias\n",
    "rf_white_test = Classification(Xcattrain, ytrain, RandomForestClassifier())\n",
    "rf_black_test = Classification(Xcattrain, ytrain, RandomForestClassifier())\n",
    "rf_white_test.Validate(rf_model.model, Xcat_white, y_white)\n",
    "rf_black_test.Validate(rf_model.model, Xcat_black, y_black)"
   ]
  },
  {
   "cell_type": "markdown",
   "metadata": {},
   "source": [
    "# Random Forest Bias Correction"
   ]
  },
  {
   "cell_type": "code",
   "execution_count": 162,
   "metadata": {},
   "outputs": [
    {
     "data": {
      "image/png": "[encoded data removed]",
      "text/plain": [
       "<Figure size 432x288 with 1 Axes>"
      ]
     },
     "metadata": {
      "needs_background": "light"
     },
     "output_type": "display_data"
    },
    {
     "name": "stdout",
     "output_type": "stream",
     "text": [
      "0.79 0.747 0.6532340542293398\n"
     ]
    }
   ],
   "source": [
    "BiasCorrection(1000, torch.tensor(rf_white_test.probs, dtype = torch.float).reshape(-1, 1), torch.tensor(rf_black_test.probs, dtype = torch.float).reshape(-1, 1), y_white, y_black, show_scatter = True, show_plot = True)"
   ]
  },
  {
   "cell_type": "markdown",
   "metadata": {},
   "source": [
    "# Logistic Regression"
   ]
  },
  {
   "cell_type": "code",
   "execution_count": 163,
   "metadata": {},
   "outputs": [
    {
     "name": "stdout",
     "output_type": "stream",
     "text": [
      "Accuracy of the model:  0.6252587991718427\n",
      "[[302   0]\n",
      " [181   0]]\n",
      "[[0.49105691 0.        ]\n",
      " [0.29430894 0.        ]]\n",
      "\n",
      "Accuracy of the model:  0.6252587991718427\n",
      "[[302   0]\n",
      " [181   0]]\n",
      "[[0.49105691 0.        ]\n",
      " [0.29430894 0.        ]]\n",
      "\n",
      "Accuracy of the model:  0.5890227576974565\n",
      "[[121 230]\n",
      " [ 77 319]]\n",
      "[[0.19674797 0.37398374]\n",
      " [0.12520325 0.51869919]]\n",
      "\n"
     ]
    }
   ],
   "source": [
    "logreg_model = Classification(Xcattrain, ytrain, LogisticRegression())\n",
    "logreg_model.Validate(logreg_model.model, Xcat_white, y_white)\n",
    "# Test for bias\n",
    "lr_white_test = Classification(Xcattrain, ytrain, LogisticRegression())\n",
    "lr_black_test = Classification(Xcattrain, ytrain, LogisticRegression())\n",
    "lr_white_test.Validate(logreg_model.model, Xcat_white, y_white)\n",
    "lr_black_test.Validate(logreg_model.model, Xcat_black, y_black)"
   ]
  },
  {
   "cell_type": "markdown",
   "metadata": {},
   "source": [
    "# Bias Correction for Logistic Regression"
   ]
  },
  {
   "cell_type": "code",
   "execution_count": 164,
   "metadata": {},
   "outputs": [
    {
     "data": {
      "image/png": "[encoded data removed]",
      "text/plain": [
       "<Figure size 432x288 with 1 Axes>"
      ]
     },
     "metadata": {
      "needs_background": "light"
     },
     "output_type": "display_data"
    },
    {
     "name": "stdout",
     "output_type": "stream",
     "text": [
      "0.764 0.675 0.6698512476406662\n"
     ]
    }
   ],
   "source": [
    "BiasCorrection(1000, torch.tensor(lr_white_test.probs, dtype = torch.float).reshape(-1, 1), torch.tensor(lr_black_test.probs, dtype = torch.float).reshape(-1, 1), y_white, y_black, show_scatter = True, show_plot = True)"
   ]
  },
  {
   "cell_type": "markdown",
   "metadata": {},
   "source": [
    "# Gaussian Naive Bayes"
   ]
  },
  {
   "cell_type": "code",
   "execution_count": 165,
   "metadata": {},
   "outputs": [
    {
     "name": "stdout",
     "output_type": "stream",
     "text": [
      "Accuracy of the model:  0.629399585921325\n",
      "[[283  19]\n",
      " [160  21]]\n",
      "[[0.4601626  0.03089431]\n",
      " [0.2601626  0.03414634]]\n",
      "\n",
      "Accuracy of the model:  0.629399585921325\n",
      "[[283  19]\n",
      " [160  21]]\n",
      "[[0.4601626  0.03089431]\n",
      " [0.2601626  0.03414634]]\n",
      "\n",
      "Accuracy of the model:  0.5890227576974565\n",
      "[[121 230]\n",
      " [ 77 319]]\n",
      "[[0.19674797 0.37398374]\n",
      " [0.12520325 0.51869919]]\n",
      "\n"
     ]
    }
   ],
   "source": [
    "naive_model = Classification(Xcattrain, ytrain, GaussianNB())\n",
    "naive_model.Validate(naive_model.model, Xcat_white, y_white)\n",
    "\n",
    "# Test for bias\n",
    "nb_white_test = Classification(Xcattrain, ytrain, GaussianNB())\n",
    "nb_black_test = Classification(Xcattrain, ytrain, GaussianNB())\n",
    "nb_white_test.Validate(naive_model.model, Xcat_white, y_white)\n",
    "nb_black_test.Validate(naive_model.model, Xcat_black, y_black)"
   ]
  },
  {
   "cell_type": "markdown",
   "metadata": {},
   "source": [
    "# Bias Correction for Gaussian Naive Bayes"
   ]
  },
  {
   "cell_type": "code",
   "execution_count": 166,
   "metadata": {},
   "outputs": [
    {
     "data": {
      "image/png": "[encoded data removed]",
      "text/plain": [
       "<Figure size 432x288 with 1 Axes>"
      ]
     },
     "metadata": {
      "needs_background": "light"
     },
     "output_type": "display_data"
    },
    {
     "name": "stdout",
     "output_type": "stream",
     "text": [
      "0.764 0.8 0.6537869906125537\n"
     ]
    }
   ],
   "source": [
    "BiasCorrection(1000, torch.tensor(nb_white_test.probs, dtype = torch.float).reshape(-1, 1), torch.tensor(nb_black_test.probs, dtype = torch.float).reshape(-1, 1), y_white, y_black, show_scatter = True, show_plot = True)"
   ]
  },
  {
   "cell_type": "markdown",
   "metadata": {},
   "source": [
    "# Temp Bayesian Optimization"
   ]
  },
  {
   "cell_type": "code",
   "execution_count": 94,
   "metadata": {},
   "outputs": [
    {
     "name": "stdout",
     "output_type": "stream",
     "text": [
      "[[94. 70.  0.  0.]]\n",
      "0.5902439024390244\n",
      "[[32. 60.  0.  0.]]\n",
      "0.5902439024390244\n",
      "[[86. 40.  0.  0.]]\n",
      "0.5902439024390244\n",
      "[[29. 80.  0.  1.]]\n",
      "0.5902439024390244\n",
      "[[43. 70.  0.  0.]]\n",
      "0.5902439024390244\n",
      "[[14. 20.  0.  0.]]\n",
      "0.5902439024390244\n",
      "[[31. 60.  1.  1.]]\n",
      "0.5902439024390244\n",
      "[[23. 50.  1.  0.]]\n",
      "0.5902439024390244\n",
      "[[68. 40.  1.  0.]]\n",
      "0.5902439024390244\n",
      "[[11. 70.  1.  1.]]\n",
      "0.5910569105691057\n",
      "[[38. 90.  0.  1.]]\n",
      "0.5902439024390244\n",
      "[[35. 50.  1.  1.]]\n",
      "0.5902439024390244\n",
      "[[24. 30.  1.  0.]]\n",
      "0.5813008130081301\n",
      "[[26. 30.  1.  0.]]\n",
      "0.5902439024390244\n",
      "[[66. 60.  0.  1.]]\n",
      "0.5902439024390244\n",
      "[[92. 80.  0.  1.]]\n",
      "0.5902439024390244\n",
      "[[68. 10.  1.  0.]]\n",
      "0.5902439024390244\n",
      "[[23. 60.  0.  1.]]\n",
      "0.5910569105691057\n",
      "[[10. 10.  0.  0.]]\n",
      "0.5902439024390244\n",
      "[[ 14. 100.   1.   1.]]\n",
      "0.5902439024390244\n",
      "The best parameters obtained: n_estimators=24.0, max_depth=30.0, max_features=1.0, criterion=0.0\n"
     ]
    }
   ],
   "source": [
    "## define the domain of the considered parameters\n",
    "n_estimators = tuple(np.arange(1,101,1, dtype= np.int))\n",
    "# print(n_estimators)\n",
    "max_depth = tuple(np.arange(10,110,10, dtype= np.int))\n",
    "# max_features = ('log2', 'sqrt', None)\n",
    "max_features = (0, 1)\n",
    "# criterion = ('gini', 'entropy')\n",
    "criterion = (0, 1)\n",
    "\n",
    "\n",
    "# define the dictionary for GPyOpt\n",
    "domain = [{'n_estimators': 'var_1',  'type': 'discrete',     'domain': n_estimators},\n",
    "          {'max_depth': 'var_2',     'type': 'discrete',     'domain': max_depth},\n",
    "          {'max_features': 'var_3',  'type': 'categorical',  'domain': max_features},\n",
    "          {'criterion': 'var_4',     'type': 'categorical',  'domain': criterion}]\n",
    "\n",
    "\n",
    "## we have to define the function we want to maximize --> validation accuracy, \n",
    "## note it should take a 2D ndarray but it is ok that it assumes only one point\n",
    "## in this setting\n",
    "def objective_function(x): \n",
    "    print(x)\n",
    "    # we have to handle the categorical variables that is convert 0/1 to labels\n",
    "    # log2/sqrt and gini/entropy\n",
    "    \n",
    "    param = x[0]\n",
    "    param = param.astype(int)\n",
    "    \n",
    "    if param[2] == 0:\n",
    "        var_3 = \"log2\"\n",
    "    else:\n",
    "        var_3 = \"sqrt\"\n",
    "    \n",
    "    if param[3] == 0:\n",
    "        var_4 = \"gini\"\n",
    "    else:\n",
    "        var_4 = \"entropy\"\n",
    "    \n",
    "    #fit the model\n",
    "    model = RandomForestClassifier(n_estimators = param[0], criterion = var_4, max_depth = param[1], max_features = var_3).fit(Xcattrain, ytrain)\n",
    "    preds = model.predict(Xcattest)\n",
    "    acc = accuracy_score(ytest, preds)\n",
    "    print(acc)\n",
    "    return acc\n",
    "\n",
    "\n",
    "opt = GPyOpt.methods.BayesianOptimization(f = objective_function,   # function to optimize\n",
    "                                              domain = domain,         # box-constrains of the problem\n",
    "                                              acquisition_type = \"EI\",      # Select acquisition function MPI, EI, LCB\n",
    "                                             )\n",
    "opt.acquisition.exploration_weight=.1\n",
    "\n",
    "opt.run_optimization(max_iter = 15) \n",
    "\n",
    "x_best = opt.X[np.argmin(opt.Y)]\n",
    "print(\"The best parameters obtained: n_estimators=\" + str(x_best[0]) + \", max_depth=\" + str(x_best[1]) + \", max_features=\" + str(\n",
    "    x_best[2])  + \", criterion=\" + str(\n",
    "    x_best[3]))"
   ]
  },
  {
   "cell_type": "markdown",
   "metadata": {},
   "source": [
    "# Bayesian Optimization (Gemt for hyperparameters og ACTIV)"
   ]
  },
  {
   "cell_type": "code",
   "execution_count": null,
   "metadata": {},
   "outputs": [],
   "source": [
    "ACTIV = {0: torch.nn.Tanh(),\n",
    "         1: torch.nn.ReLU(),\n",
    "         2: torch.nn.ReLU6(),\n",
    "         3: torch.nn.Sigmoid(),\n",
    "        }\n",
    "\n",
    "netsize = 246\n",
    "\n",
    "## we have to define the function we want to maximize --> validation accuracy, \n",
    "## note it should take a 2D ndarray but it is ok that it assumes only one point\n",
    "## in this setting\n",
    "def objective_function(x): \n",
    "    model = Model(categorical_embedding_sizes, 4, 1, [16,32,64,128,64], p=0.5)\n",
    "    print(x)\n",
    "    # we have to handle the categorical variables that is convert 0/1 to labels\n",
    "    # log2/sqrt and gini/entropy\n",
    "    \n",
    "    param = x[0]\n",
    "    hyperparameters = {\n",
    "        'hidden_units_1': int(np.ceil(param[0]*netsize*0.125)+int(10)),\n",
    "        'hidden_units_2': int(np.ceil(param[0]*netsize*0.25)+int(10)),\n",
    "        'hidden_units_3': int(np.ceil(param[0]*netsize*0.5)+int(10)),\n",
    "        'hidden_units_4': int(np.ceil(param[0]*netsize)+int(10)),\n",
    "        'hidden_units_5': int(np.ceil(param[0]*netsize*0.5)+int(10)),\n",
    "        'p': param[1],\n",
    "        'activation_func': ACTIV[int(param[2])]\n",
    "    }\n",
    "    print(hyperparameters)\n",
    "    trained_model, neural_acc  = train_model(hyperparameters, model)\n",
    "    print(neural_acc)\n",
    "    return -neural_acc\n",
    "    \n",
    "# define the dictionary for GPyOpt\n",
    "domain = [{'hidden_units'   : 'var_1', 'type': 'continuous', 'domain': (0 , 1)},\n",
    "          {'p'              : 'var_2', 'type': 'continuous',  'domain': (0 , 1)},\n",
    "          {'activation_func': 'var_3', 'type': 'categorical','domain': tuple(np.arange(4))}]\n",
    "\n",
    "\n",
    "opt = GPyOpt.methods.BayesianOptimization(f = objective_function,   # function to optimize\n",
    "                                              domain = domain,         # box-constrains of the problem\n",
    "                                              acquisition_type = \"EI\",      # Select acquisition function MPI, EI, LCB\n",
    "                                             )\n",
    "opt.acquisition.exploration_weight=.1\n",
    "\n",
    "opt.run_optimization(max_iter = 100) \n",
    "\n",
    "\n",
    "x_best = opt.X[np.argmin(opt.Y)]\n",
    "print(\"bedste: \", x_best)\n",
    "#print(\"The best parameters obtained: n_estimators=\" + str(x_best[0]) + \", max_depth=\" + str(x_best[1]) + \", max_features=\" + str(\n",
    "#    x_best[2])  + \", criterion=\" + str(\n",
    "#    x_best[3]))"
   ]
  },
  {
   "cell_type": "markdown",
   "metadata": {},
   "source": [
    "# Random Forest Feature Importance"
   ]
  },
  {
   "cell_type": "code",
   "execution_count": 157,
   "metadata": {},
   "outputs": [
    {
     "name": "stdout",
     "output_type": "stream",
     "text": [
      "Variable: age_cat              Importance: 0.45\n",
      "Variable: race                 Importance: 0.34\n",
      "Variable: c_charge_degree      Importance: 0.16\n",
      "Variable: sex                  Importance: 0.05\n"
     ]
    },
    {
     "data": {
      "image/png": "[encoded data removed]",
      "text/plain": [
       "<Figure size 432x288 with 1 Axes>"
      ]
     },
     "metadata": {
      "needs_background": "light"
     },
     "output_type": "display_data"
    },
    {
     "data": {
      "image/png": "[encoded data removed]",
      "text/plain": [
       "<Figure size 432x288 with 1 Axes>"
      ]
     },
     "metadata": {
      "needs_background": "light"
     },
     "output_type": "display_data"
    }
   ],
   "source": [
    "rf_model.FeatureImportance(rf_model.model)"
   ]
  },
  {
   "cell_type": "code",
   "execution_count": null,
   "metadata": {},
   "outputs": [],
   "source": []
  }
 ],
 "metadata": {
  "kernelspec": {
   "display_name": "Python 3",
   "language": "python",
   "name": "python3"
  },
  "language_info": {
   "codemirror_mode": {
    "name": "ipython",
    "version": 3
   },
   "file_extension": ".py",
   "mimetype": "text/x-python",
   "name": "python",
   "nbconvert_exporter": "python",
   "pygments_lexer": "ipython3",
   "version": "3.6.9"
  }
 },
 "nbformat": 4,
 "nbformat_minor": 2
}
