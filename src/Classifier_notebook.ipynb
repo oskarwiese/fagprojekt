{
 "cells": [
  {
   "cell_type": "code",
   "execution_count": 38,
   "metadata": {},
   "outputs": [],
   "source": [
    "from __future__ import division\n",
    "import numpy as np\n",
    "import os\n",
    "import pandas as pd\n",
    "import matplotlib.pyplot as plt\n",
    "import seaborn as sb\n",
    "import torch\n",
    "import torch.nn as nn\n",
    "from sklearn.metrics import classification_report, confusion_matrix, accuracy_score\n",
    "from sklearn.ensemble import RandomForestClassifier\n",
    "from sklearn.linear_model import LogisticRegression\n",
    "from tqdm import tqdm\n",
    "import GPyOpt\n",
    "from torch.autograd import Variable\n",
    "from sklearn.linear_model import LogisticRegression\n",
    "from sklearn.naive_bayes import GaussianNB"
   ]
  },
  {
   "cell_type": "code",
   "execution_count": 76,
   "metadata": {},
   "outputs": [],
   "source": [
    "def normalize(data, norm_type):\n",
    "    if norm_type == \"minmax\":\n",
    "        for i in range(data.size()[1]):\n",
    "            data[:,i] = (data[:,i]-data[:,i].min()) / (data[:,i].max()-data[:,i].min())\n",
    "        return data\n",
    "    elif norm_type == \"zscore\":\n",
    "        for i in range(data.size()[1]):\n",
    "            data[:,i] = (data[:,i]-data[:,i].mean()) / (data[:,i].std())\n",
    "        return data\n",
    "    elif norm_type == None:\n",
    "        return data\n",
    "    else:\n",
    "        raise ValueError(\"Please choose a correct normalization type\")\n",
    "#Xnumtrain = torch.tensor(np.vstack([(Xnumtrain[:,i]-Xnumtrain[:,i].min()) / (Xnumtrain[:,i].max()-Xnumtrain[:,i].min()) for i in range(Xnumtrain.size()[1]) if \"Tue elsker det her\"])).view(-1,2)\n",
    "\n",
    "def dataprep(data, norm_type = \"zscore\"):\n",
    "    for category in categoricals:\n",
    "        data[category] = data[category].astype(\"category\")\n",
    "\n",
    "    catdata = []\n",
    "    for i in range(len(categoricals)):\n",
    "        catdata.append(data[categoricals[i]].cat.codes.values)\n",
    "    catdata = torch.tensor(catdata, dtype = torch.int64).T\n",
    "    \n",
    "    \n",
    "    numdata = np.stack([data[col].values for col in numericals], 1)\n",
    "    numdata = torch.tensor(numdata, dtype=torch.float)\n",
    "\n",
    "    normalize(numdata, norm_type)\n",
    "    return catdata, numdata\n",
    "\n",
    "def permutation(data, cat):\n",
    "    perm_data = data.copy()\n",
    "    rand_num = np.random.randint(0 , len(data[cat]) , len(data[cat]))\n",
    "    perm_data[cat][np.arange(len(data[cat]))] = data[cat][rand_num] \n",
    "    df = perm_data\n",
    "    return df\n",
    "\n",
    "def reset_data():\n",
    "    return pd.read_csv(\"https://raw.githubusercontent.com/oskarwiese/fagprojekt/master/compas_propublica/compas-scores-two-years.csv\")\n",
    "\n",
    "def BiasCorrection(points, probs1, probs2, true1, true2, min_threshold = 0.2, max_threshold = 0.8, max_diff = 0.001, show_scatter = True, show_plot = True):\n",
    "    points = points\n",
    "    step = 1/points\n",
    "    thresholds = np.arange(0,1+step,step)\n",
    "\n",
    "    if show_scatter:\n",
    "        y_pred1 = (probs1 > 0.5).float()\n",
    "        y_pred2 = (probs2 > 0.5).float()\n",
    "        conf1 = confusion_matrix(true1, y_pred1)\n",
    "        conf2 = confusion_matrix(true2, y_pred2)\n",
    "\n",
    "        yvals = []\n",
    "        xvals = []\n",
    "        yvals.append(conf1[1,1] / (conf1[1,1] + conf1[1,0]))\n",
    "        xvals.append(conf1[0,1] / (conf1[0,1] + conf1[0,0]))\n",
    "        yvals.append(conf2[1,1] / (conf2[1,1] + conf2[1,0]))\n",
    "        xvals.append(conf2[0,1] / (conf2[0,1] + conf2[0,0]))\n",
    "        plt.scatter(xvals, yvals, c=[\"blue\", \"green\"])\n",
    "\n",
    "    tprs1 = []\n",
    "    fprs1 = []\n",
    "    tprs2 = []\n",
    "    fprs2 = []\n",
    "    for i in range(points+1):\n",
    "        y_pred1 = (probs1 > thresholds[i]).float()\n",
    "        y_pred2 = (probs2 > thresholds[i]).float()\n",
    "        conf1 = confusion_matrix(true1, y_pred1)\n",
    "        conf2 = confusion_matrix(true2, y_pred2)\n",
    "\n",
    "        tprs1.append(conf1[1,1] / (conf1[1,1] + conf1[1,0]))\n",
    "        fprs1.append(conf1[0,1] / (conf1[0,1] + conf1[0,0]))\n",
    "        tprs2.append(conf2[1,1] / (conf2[1,1] + conf2[1,0]))\n",
    "        fprs2.append(conf2[0,1] / (conf2[0,1] + conf2[0,0]))\n",
    "\n",
    "    if show_plot:\n",
    "        plt.plot(fprs1,tprs1,color=\"blue\")\n",
    "        plt.plot(fprs2,tprs2,color=\"green\")\n",
    "        x_values = [0, 1] \n",
    "        y_values = [0, 1]\n",
    "        plt.plot(x_values, y_values,'--',color=\"red\")\n",
    "        plt.show()\n",
    "\n",
    "    # Find the thresholds with the same tpr and fpr\n",
    "    tprdiff = []\n",
    "    fprdiff = []\n",
    "    thresholds1 = []\n",
    "    thresholds2 = []\n",
    "\n",
    "    for i in range(len(thresholds)):\n",
    "        tprval1 = tprs1[i]\n",
    "        fprval1 = fprs1[i]\n",
    "        threshold1 = thresholds[i]\n",
    "        tprindex2 = min(range(len(tprs2)), key=lambda x: abs(tprs2[x]-tprval1))\n",
    "        threshold2 = thresholds[tprindex2]\n",
    "        tprval2 = tprs2[tprindex2]\n",
    "        fprval2 = fprs2[tprindex2]\n",
    "        tprdiff.append(abs(tprval1 - tprval2))\n",
    "        fprdiff.append(abs(fprval1 - fprval2))\n",
    "        thresholds1.append(threshold1)\n",
    "        thresholds2.append(threshold2)\n",
    "        #print(tprval1, fprval1, threshold1, tprval2, fprval2, threshold2)\n",
    "\n",
    "    minthreshold = min_threshold\n",
    "    maxthreshold = max_threshold\n",
    "    maxdiff = max_diff\n",
    "    indeces = np.unique(np.append(np.where(np.array(tprdiff) < maxdiff), np.where(np.array(fprdiff) < maxdiff)))\n",
    "    thresholds1 = [thresholds1[i] for i in indeces if \"Tue elsker det\"]\n",
    "    thresholds2 = [thresholds2[i] for i in indeces if \"Tue elsker det\"]\n",
    "\n",
    "    # Find the accuracies for all the thresholds with equal fpr and tpr\n",
    "    accs = []\n",
    "    for i in range(len(thresholds1)):\n",
    "        thres1, thres2 = thresholds1[i], thresholds2[i]\n",
    "        y_val_white = model(Xcat_white, Xnum_white)\n",
    "        y_pred1 = (y_val_white > thres1).float()\n",
    "        y_val_black = model(Xcat_black, Xnum_black)\n",
    "        y_pred2 = (y_val_black > thres2).float()\n",
    "\n",
    "        # Ground truth of recidivism from dataset\n",
    "        y_white = torch.tensor(white_data[\"two_year_recid\"].values).flatten()\n",
    "        y_black = torch.tensor(black_data[\"two_year_recid\"].values).flatten()\n",
    "        accs.append((accuracy_score(y_black, y_pred2) + accuracy_score(y_white, y_pred1)) / 2)\n",
    "\n",
    "    maxaccidx = np.argmax(accs)\n",
    "    optthres1 = thresholds1[maxaccidx]\n",
    "    optthres2 = thresholds2[maxaccidx]\n",
    "    print(optthres1, optthres2, max(accs))\n",
    "    \n",
    "class Classification:\n",
    "    \n",
    "    def __init__(self, xtrain, ytrain, classification_model):\n",
    "        # Classification_model = [GaussianNB(), LogisticRegression(), RandomForestClassifier(n_estimators = 52, max_depth = 14, max_features = \"log2\", criterion = \"entropy\")]\n",
    "        self.xtrain = xtrain\n",
    "        self.ytrain = ytrain\n",
    "        self.model = classification_model\n",
    "        self.model.fit(self.xtrain, self.ytrain)\n",
    "        \n",
    "    def Validate(self, model, datatest, ytest, show_acc = True):\n",
    "        # Predict on the test set\n",
    "        self.preds = model.predict(datatest)\n",
    "        self.probs = model.predict_proba(datatest)[:, 1]\n",
    "        self.acc = accuracy_score(ytest, self.preds)\n",
    "        self.conf = confusion_matrix(ytest, self.preds)\n",
    "        self.conf_norm = np.copy(self.conf).astype(float)\n",
    "        for i in range(2):\n",
    "            self.conf_norm[i,:] = self.conf[i,:] / np.sum(conf, axis = 1)[i]\n",
    "        \n",
    "        if show_acc:\n",
    "            print(\"Accuracy of the model: \", self.acc)\n",
    "            print(self.conf)\n",
    "            print(self.conf_norm)\n",
    "            print()"
   ]
  },
  {
   "cell_type": "markdown",
   "metadata": {},
   "source": [
    "# Data Visualization and Pre-processing"
   ]
  },
  {
   "cell_type": "code",
   "execution_count": 41,
   "metadata": {},
   "outputs": [
    {
     "name": "stdout",
     "output_type": "stream",
     "text": [
      "No GPU available.\n"
     ]
    }
   ],
   "source": [
    "url = \"https://raw.githubusercontent.com/oskarwiese/fagprojekt/master/compas_propublica/compas-scores-two-years.csv\"\n",
    "data = pd.read_csv(url)\n",
    "data = data[(data[\"race\"] == \"Caucasian\") | (data[\"race\"] == \"African-American\")]\n",
    "\n",
    "use_cuda = torch.cuda.is_available()\n",
    "print(\"Running GPU.\") if use_cuda else print(\"No GPU available.\")\n",
    "#print(data.columns)"
   ]
  },
  {
   "cell_type": "code",
   "execution_count": 42,
   "metadata": {
    "scrolled": false
   },
   "outputs": [
    {
     "data": {
      "image/png": "[encoded data removed]",
      "text/plain": [
       "<Figure size 432x288 with 1 Axes>"
      ]
     },
     "metadata": {
      "needs_background": "light"
     },
     "output_type": "display_data"
    },
    {
     "data": {
      "image/png": "[encoded data removed]",
      "text/plain": [
       "<Figure size 432x288 with 1 Axes>"
      ]
     },
     "metadata": {
      "needs_background": "light"
     },
     "output_type": "display_data"
    },
    {
     "data": {
      "image/png": "[encoded data removed]",
      "text/plain": [
       "<Figure size 432x288 with 1 Axes>"
      ]
     },
     "metadata": {
      "needs_background": "light"
     },
     "output_type": "display_data"
    },
    {
     "data": {
      "image/png": "[encoded data removed]",
      "text/plain": [
       "<Figure size 432x288 with 1 Axes>"
      ]
     },
     "metadata": {
      "needs_background": "light"
     },
     "output_type": "display_data"
    },
    {
     "data": {
      "image/png": "[encoded data removed]",
      "text/plain": [
       "<Figure size 432x288 with 1 Axes>"
      ]
     },
     "metadata": {
      "needs_background": "light"
     },
     "output_type": "display_data"
    },
    {
     "data": {
      "image/png": "[encoded data removed]",
      "text/plain": [
       "<Figure size 432x288 with 1 Axes>"
      ]
     },
     "metadata": {
      "needs_background": "light"
     },
     "output_type": "display_data"
    },
    {
     "name": "stderr",
     "output_type": "stream",
     "text": [
      "  0%|                                                                                            | 0/3 [00:00<?, ?it/s]\n"
     ]
    },
    {
     "ename": "ValueError",
     "evalue": "[   0    4    5    7   16   24   26   34   51   53   56   66   68   70\n   71   83   85   91   98  119  131  136  153  154  156  157  169  171\n  175  177  178  181  186  190  199  204  217  221  228  241  251  252\n  258  259  261  265  270  283  294  302  311  313  318  331  334  340\n  343  344  349  352  353  365  366  367  396  408  409  416  422  428\n  441  443  453  460  476  481  483  484  485  489  498  501  502  510\n  513  514  517  534  536  541  544  549  553  566  572  575  584  586\n  587  593  594  603  612  615  627  636  659  664  667  670  679  682\n  708  719  725  742  756  758  759  762  768  772  773  785  792  794\n  800  805  809  822  829  830  844  857  869  879  883  885  891  895\n  896  900  907  908  925  926  927  929  934  951  953  955  962  969\n  981  986  988  991  994  995  996  999 1010 1011 1012 1017 1018 1022\n 1032 1045 1052 1067 1071 1073 1079 1081 1083 1101 1107 1108 1128 1140\n 1156 1157 1163 1166 1168 1170 1180 1181 1182 1185 1189 1195 1199 1218\n 1230 1233 1234 1242 1246 1261 1264 1265 1275 1278 1280 1281 1285 1287\n 1291 1294 1312 1313 1323 1324 1326 1339 1343 1351 1372 1373 1375 1391\n 1392 1406 1416 1423 1430 1442 1452 1458 1470 1476 1480 1482 1487 1492\n 1507 1509 1517 1520 1523 1526 1539 1543 1550 1551 1553 1557 1565 1572\n 1574 1577 1591 1592 1594 1596 1603 1605 1613 1616 1628 1633 1634 1638\n 1643 1650 1655 1682 1683 1694 1702 1703 1708 1709 1712 1723 1730 1738\n 1739 1742 1777 1779 1789 1793 1794 1795 1798 1800 1802 1806 1815 1827\n 1840 1850 1859 1862 1864 1866 1871 1875 1884 1889 1904 1923 1925 1926\n 1954 1957 1959 1972 1974 1976 1981 1996 2000 2026 2034 2039 2040 2045\n 2049 2050 2056 2060 2063 2064 2070 2079 2088 2093 2094 2097 2100 2104\n 2107 2128 2145 2151 2153 2154 2164 2175 2182 2205 2207 2209 2210 2212\n 2225 2249 2278 2293 2300 2303 2309 2310 2316 2329 2335 2336 2349 2350\n 2353 2359 2363 2398 2400 2409 2419 2430 2444 2446 2447 2449 2477 2506\n 2509 2523 2524 2533 2550 2552 2560 2563 2567 2568 2581 2583 2587 2590\n 2607 2610 2612 2613 2614 2615 2635 2640 2642 2650 2674 2678 2700 2719\n 2735 2738 2743 2750 2761 2762 2765 2769 2772 2778 2779 2783 2794 2800\n 2802 2804 2807 2808 2809 2811 2816 2827 2835 2840 2842 2849 2851 2854\n 2859 2878 2881 2893 2896 2899 2901 2918 2926 2939 2959 2967 2969 2970\n 2980 2986 2989 3001 3004 3007 3013 3014 3026 3037 3041 3044 3059 3063\n 3064 3067 3070 3077 3078 3083 3100 3107 3112 3117 3139 3142 3144 3157\n 3166 3178 3180 3186 3198 3200 3201 3202 3205 3208 3210 3211 3212 3213\n 3217 3225 3229 3237 3243 3245 3246 3248 3254 3265 3273 3309 3319 3329\n 3339 3347 3353 3361 3374 3378 3384 3387 3396 3397 3401 3411 3412 3424\n 3434 3438 3443 3453 3455 3457 3468 3473 3475 3501 3513 3514 3519 3537\n 3538 3556 3559 3585 3588 3596 3599 3605 3608 3609 3611 3615 3621 3622\n 3632 3641 3647 3652 3665 3674 3685 3690 3691 3693 3709 3714 3723 3733\n 3734 3736 3737 3740 3766 3777 3785 3787 3791 3792 3796 3797 3829 3842\n 3844 3850 3867 3874 3896 3897 3900 3902 3903 3905 3929 3939 3950 3957\n 3958 3971 3980 4068 4070 4073 4079 4083 4084 4085 4090 4093 4094 4099\n 4114 4118 4132 4144 4154 4161 4165 4183 4184 4199 4201 4203 4207 4209\n 4213 4216 4217 4229 4236 4242 4255 4262 4277 4280 4282 4288 4290 4291\n 4308 4310 4328 4339 4341 4342 4344 4378 4403 4409 4410 4415 4422 4425\n 4433 4438 4444 4446 4447 4461 4466 4470 4472 4479 4488 4493 4503 4507\n 4514 4520 4523 4553 4557 4563 4567 4569 4570 4576 4598 4602 4611 4613\n 4634 4637 4640 4646 4660 4665 4673 4677 4684 4686 4695 4698 4700 4703\n 4708 4709 4720 4737 4739 4742 4759 4783 4784 4791 4794 4797 4803 4811\n 4814 4825 4828 4829 4832 4848 4854 4855 4866 4884 4885 4888 4899 4904\n 4917 4929 4941 4949 4954 4960 4961 4978 4982 4983 4985 4988 4989 4991\n 4993 5000 5002 5006 5011 5012 5022 5026 5027 5028 5034 5037 5046 5049\n 5050 5064 5065 5074 5078 5089 5092 5096 5097 5098 5103 5118 5124 5134\n 5150 5153 5154 5158 5159 5165 5185 5205 5208 5215 5220 5224 5243 5268\n 5272 5273 5320 5335 5342 5349 5356 5373 5384 5389 5391 5394 5397 5404\n 5405 5408 5414 5416 5421 5431 5433 5436 5450 5459 5462 5463 5465 5466\n 5474 5490 5497 5500 5502 5506 5510 5518 5532 5534 5538 5541 5543 5544\n 5545 5550 5554 5584 5593 5594 5599 5609 5616 5632 5633 5639 5653 5660\n 5674 5677 5683 5684 5696 5715 5721 5723 5741 5742 5745 5756 5757 5766\n 5770 5775 5779 5781 5782 5783 5788 5791 5793 5796 5804 5805 5806 5812\n 5817 5818 5820 5823 5833 5841 5857 5864 5871 5873 5875 5877 5879 5882\n 5890 5893 5906 5910 5917 5920 5931 5934 5945 5948 5950 5957 5972 5978\n 5982 5990 5996 6004 6006 6010 6014 6019 6020 6025 6026 6029 6030 6035\n 6065 6076 6098 6101 6102 6108 6110 6117 6120 6128 6143 6144] not contained in the index",
     "output_type": "error",
     "traceback": [
      "\u001b[1;31m---------------------------------------------------------------------------\u001b[0m",
      "\u001b[1;31mValueError\u001b[0m                                Traceback (most recent call last)",
      "\u001b[1;32m<ipython-input-42-853d626a1287>\u001b[0m in \u001b[0;36m<module>\u001b[1;34m\u001b[0m\n\u001b[0;32m     42\u001b[0m \u001b[1;32mfor\u001b[0m \u001b[0mi\u001b[0m \u001b[1;32min\u001b[0m \u001b[0mtqdm\u001b[0m\u001b[1;33m(\u001b[0m\u001b[0mrange\u001b[0m\u001b[1;33m(\u001b[0m\u001b[1;36m3\u001b[0m\u001b[1;33m)\u001b[0m\u001b[1;33m)\u001b[0m\u001b[1;33m:\u001b[0m\u001b[1;33m\u001b[0m\u001b[1;33m\u001b[0m\u001b[0m\n\u001b[0;32m     43\u001b[0m     \u001b[1;31m#TODO: der skal indsættes punkter for den rigtige data1fordelling.\u001b[0m\u001b[1;33m\u001b[0m\u001b[1;33m\u001b[0m\u001b[1;33m\u001b[0m\u001b[0m\n\u001b[1;32m---> 44\u001b[1;33m     \u001b[0mdata\u001b[0m \u001b[1;33m=\u001b[0m \u001b[0mpermutation\u001b[0m\u001b[1;33m(\u001b[0m\u001b[0mdata\u001b[0m\u001b[1;33m,\u001b[0m \u001b[1;34m\"race\"\u001b[0m\u001b[1;33m)\u001b[0m\u001b[1;33m\u001b[0m\u001b[1;33m\u001b[0m\u001b[0m\n\u001b[0m\u001b[0;32m     45\u001b[0m     \u001b[0mpath\u001b[0m \u001b[1;33m=\u001b[0m \u001b[1;34mr\"C:\\Users\\ejer\\Desktop\\Fagprojekt\\fagprojekt\\report\\imgs\"\u001b[0m\u001b[1;33m\u001b[0m\u001b[1;33m\u001b[0m\u001b[0m\n\u001b[0;32m     46\u001b[0m     \u001b[0mpred_plot_race\u001b[0m \u001b[1;33m=\u001b[0m \u001b[0msb\u001b[0m\u001b[1;33m.\u001b[0m\u001b[0mcountplot\u001b[0m\u001b[1;33m(\u001b[0m\u001b[0mx\u001b[0m \u001b[1;33m=\u001b[0m \u001b[1;34m\"score_text\"\u001b[0m \u001b[1;33m,\u001b[0m\u001b[0mhue\u001b[0m \u001b[1;33m=\u001b[0m \u001b[1;34m\"race\"\u001b[0m\u001b[1;33m,\u001b[0m \u001b[0mdata\u001b[0m \u001b[1;33m=\u001b[0m \u001b[0mdata\u001b[0m\u001b[1;33m,\u001b[0m \u001b[0mpalette\u001b[0m \u001b[1;33m=\u001b[0m \u001b[0mpalette\u001b[0m \u001b[1;33m,\u001b[0m\u001b[0malpha\u001b[0m\u001b[1;33m=\u001b[0m\u001b[1;36m.06\u001b[0m\u001b[1;33m,\u001b[0m  \u001b[0mhue_order\u001b[0m \u001b[1;33m=\u001b[0m \u001b[1;33m[\u001b[0m \u001b[1;34m\"African-American\"\u001b[0m\u001b[1;33m,\u001b[0m\u001b[1;34m\"Caucasian\"\u001b[0m\u001b[1;33m,\u001b[0m \u001b[1;34m\"Hispanic\"\u001b[0m\u001b[1;33m,\u001b[0m \u001b[1;34m\"Other\"\u001b[0m \u001b[1;33m,\u001b[0m \u001b[1;34m\"Asian\"\u001b[0m\u001b[1;33m,\u001b[0m\u001b[1;34m\"Native American\"\u001b[0m\u001b[1;33m]\u001b[0m\u001b[1;33m)\u001b[0m\u001b[1;33m\u001b[0m\u001b[1;33m\u001b[0m\u001b[0m\n",
      "\u001b[1;32m<ipython-input-40-37d38d7196f8>\u001b[0m in \u001b[0;36mpermutation\u001b[1;34m(data, cat)\u001b[0m\n\u001b[0;32m     33\u001b[0m     \u001b[0mperm_data\u001b[0m \u001b[1;33m=\u001b[0m \u001b[0mdata\u001b[0m\u001b[1;33m.\u001b[0m\u001b[0mcopy\u001b[0m\u001b[1;33m(\u001b[0m\u001b[1;33m)\u001b[0m\u001b[1;33m\u001b[0m\u001b[1;33m\u001b[0m\u001b[0m\n\u001b[0;32m     34\u001b[0m     \u001b[0mrand_num\u001b[0m \u001b[1;33m=\u001b[0m \u001b[0mnp\u001b[0m\u001b[1;33m.\u001b[0m\u001b[0mrandom\u001b[0m\u001b[1;33m.\u001b[0m\u001b[0mrandint\u001b[0m\u001b[1;33m(\u001b[0m\u001b[1;36m0\u001b[0m \u001b[1;33m,\u001b[0m \u001b[0mlen\u001b[0m\u001b[1;33m(\u001b[0m\u001b[0mdata\u001b[0m\u001b[1;33m[\u001b[0m\u001b[0mcat\u001b[0m\u001b[1;33m]\u001b[0m\u001b[1;33m)\u001b[0m \u001b[1;33m,\u001b[0m \u001b[0mlen\u001b[0m\u001b[1;33m(\u001b[0m\u001b[0mdata\u001b[0m\u001b[1;33m[\u001b[0m\u001b[0mcat\u001b[0m\u001b[1;33m]\u001b[0m\u001b[1;33m)\u001b[0m\u001b[1;33m)\u001b[0m\u001b[1;33m\u001b[0m\u001b[1;33m\u001b[0m\u001b[0m\n\u001b[1;32m---> 35\u001b[1;33m     \u001b[0mperm_data\u001b[0m\u001b[1;33m[\u001b[0m\u001b[0mcat\u001b[0m\u001b[1;33m]\u001b[0m\u001b[1;33m[\u001b[0m\u001b[0mnp\u001b[0m\u001b[1;33m.\u001b[0m\u001b[0marange\u001b[0m\u001b[1;33m(\u001b[0m\u001b[0mlen\u001b[0m\u001b[1;33m(\u001b[0m\u001b[0mdata\u001b[0m\u001b[1;33m[\u001b[0m\u001b[0mcat\u001b[0m\u001b[1;33m]\u001b[0m\u001b[1;33m)\u001b[0m\u001b[1;33m)\u001b[0m\u001b[1;33m]\u001b[0m \u001b[1;33m=\u001b[0m \u001b[0mdata\u001b[0m\u001b[1;33m[\u001b[0m\u001b[0mcat\u001b[0m\u001b[1;33m]\u001b[0m\u001b[1;33m[\u001b[0m\u001b[0mrand_num\u001b[0m\u001b[1;33m]\u001b[0m\u001b[1;33m\u001b[0m\u001b[1;33m\u001b[0m\u001b[0m\n\u001b[0m\u001b[0;32m     36\u001b[0m     \u001b[0mdf\u001b[0m \u001b[1;33m=\u001b[0m \u001b[0mperm_data\u001b[0m\u001b[1;33m\u001b[0m\u001b[1;33m\u001b[0m\u001b[0m\n\u001b[0;32m     37\u001b[0m     \u001b[1;32mreturn\u001b[0m \u001b[0mdf\u001b[0m\u001b[1;33m\u001b[0m\u001b[1;33m\u001b[0m\u001b[0m\n",
      "\u001b[1;32m~\\Anaconda3\\lib\\site-packages\\pandas\\core\\series.py\u001b[0m in \u001b[0;36m__setitem__\u001b[1;34m(self, key, value)\u001b[0m\n\u001b[0;32m   1242\u001b[0m         \u001b[1;31m# do the setitem\u001b[0m\u001b[1;33m\u001b[0m\u001b[1;33m\u001b[0m\u001b[1;33m\u001b[0m\u001b[0m\n\u001b[0;32m   1243\u001b[0m         \u001b[0mcacher_needs_updating\u001b[0m \u001b[1;33m=\u001b[0m \u001b[0mself\u001b[0m\u001b[1;33m.\u001b[0m\u001b[0m_check_is_chained_assignment_possible\u001b[0m\u001b[1;33m(\u001b[0m\u001b[1;33m)\u001b[0m\u001b[1;33m\u001b[0m\u001b[1;33m\u001b[0m\u001b[0m\n\u001b[1;32m-> 1244\u001b[1;33m         \u001b[0msetitem\u001b[0m\u001b[1;33m(\u001b[0m\u001b[0mkey\u001b[0m\u001b[1;33m,\u001b[0m \u001b[0mvalue\u001b[0m\u001b[1;33m)\u001b[0m\u001b[1;33m\u001b[0m\u001b[1;33m\u001b[0m\u001b[0m\n\u001b[0m\u001b[0;32m   1245\u001b[0m         \u001b[1;32mif\u001b[0m \u001b[0mcacher_needs_updating\u001b[0m\u001b[1;33m:\u001b[0m\u001b[1;33m\u001b[0m\u001b[1;33m\u001b[0m\u001b[0m\n\u001b[0;32m   1246\u001b[0m             \u001b[0mself\u001b[0m\u001b[1;33m.\u001b[0m\u001b[0m_maybe_update_cacher\u001b[0m\u001b[1;33m(\u001b[0m\u001b[1;33m)\u001b[0m\u001b[1;33m\u001b[0m\u001b[1;33m\u001b[0m\u001b[0m\n",
      "\u001b[1;32m~\\Anaconda3\\lib\\site-packages\\pandas\\core\\series.py\u001b[0m in \u001b[0;36msetitem\u001b[1;34m(key, value)\u001b[0m\n\u001b[0;32m   1238\u001b[0m                     \u001b[1;32mpass\u001b[0m\u001b[1;33m\u001b[0m\u001b[1;33m\u001b[0m\u001b[0m\n\u001b[0;32m   1239\u001b[0m \u001b[1;33m\u001b[0m\u001b[0m\n\u001b[1;32m-> 1240\u001b[1;33m             \u001b[0mself\u001b[0m\u001b[1;33m.\u001b[0m\u001b[0m_set_with\u001b[0m\u001b[1;33m(\u001b[0m\u001b[0mkey\u001b[0m\u001b[1;33m,\u001b[0m \u001b[0mvalue\u001b[0m\u001b[1;33m)\u001b[0m\u001b[1;33m\u001b[0m\u001b[1;33m\u001b[0m\u001b[0m\n\u001b[0m\u001b[0;32m   1241\u001b[0m \u001b[1;33m\u001b[0m\u001b[0m\n\u001b[0;32m   1242\u001b[0m         \u001b[1;31m# do the setitem\u001b[0m\u001b[1;33m\u001b[0m\u001b[1;33m\u001b[0m\u001b[1;33m\u001b[0m\u001b[0m\n",
      "\u001b[1;32m~\\Anaconda3\\lib\\site-packages\\pandas\\core\\series.py\u001b[0m in \u001b[0;36m_set_with\u001b[1;34m(self, key, value)\u001b[0m\n\u001b[0;32m   1293\u001b[0m             \u001b[1;32mif\u001b[0m \u001b[0mkey_type\u001b[0m \u001b[1;33m==\u001b[0m \u001b[1;34m\"integer\"\u001b[0m\u001b[1;33m:\u001b[0m\u001b[1;33m\u001b[0m\u001b[1;33m\u001b[0m\u001b[0m\n\u001b[0;32m   1294\u001b[0m                 \u001b[1;32mif\u001b[0m \u001b[0mself\u001b[0m\u001b[1;33m.\u001b[0m\u001b[0mindex\u001b[0m\u001b[1;33m.\u001b[0m\u001b[0minferred_type\u001b[0m \u001b[1;33m==\u001b[0m \u001b[1;34m\"integer\"\u001b[0m\u001b[1;33m:\u001b[0m\u001b[1;33m\u001b[0m\u001b[1;33m\u001b[0m\u001b[0m\n\u001b[1;32m-> 1295\u001b[1;33m                     \u001b[0mself\u001b[0m\u001b[1;33m.\u001b[0m\u001b[0m_set_labels\u001b[0m\u001b[1;33m(\u001b[0m\u001b[0mkey\u001b[0m\u001b[1;33m,\u001b[0m \u001b[0mvalue\u001b[0m\u001b[1;33m)\u001b[0m\u001b[1;33m\u001b[0m\u001b[1;33m\u001b[0m\u001b[0m\n\u001b[0m\u001b[0;32m   1296\u001b[0m                 \u001b[1;32melse\u001b[0m\u001b[1;33m:\u001b[0m\u001b[1;33m\u001b[0m\u001b[1;33m\u001b[0m\u001b[0m\n\u001b[0;32m   1297\u001b[0m                     \u001b[1;32mreturn\u001b[0m \u001b[0mself\u001b[0m\u001b[1;33m.\u001b[0m\u001b[0m_set_values\u001b[0m\u001b[1;33m(\u001b[0m\u001b[0mkey\u001b[0m\u001b[1;33m,\u001b[0m \u001b[0mvalue\u001b[0m\u001b[1;33m)\u001b[0m\u001b[1;33m\u001b[0m\u001b[1;33m\u001b[0m\u001b[0m\n",
      "\u001b[1;32m~\\Anaconda3\\lib\\site-packages\\pandas\\core\\series.py\u001b[0m in \u001b[0;36m_set_labels\u001b[1;34m(self, key, value)\u001b[0m\n\u001b[0;32m   1309\u001b[0m         \u001b[0mmask\u001b[0m \u001b[1;33m=\u001b[0m \u001b[0mindexer\u001b[0m \u001b[1;33m==\u001b[0m \u001b[1;33m-\u001b[0m\u001b[1;36m1\u001b[0m\u001b[1;33m\u001b[0m\u001b[1;33m\u001b[0m\u001b[0m\n\u001b[0;32m   1310\u001b[0m         \u001b[1;32mif\u001b[0m \u001b[0mmask\u001b[0m\u001b[1;33m.\u001b[0m\u001b[0many\u001b[0m\u001b[1;33m(\u001b[0m\u001b[1;33m)\u001b[0m\u001b[1;33m:\u001b[0m\u001b[1;33m\u001b[0m\u001b[1;33m\u001b[0m\u001b[0m\n\u001b[1;32m-> 1311\u001b[1;33m             \u001b[1;32mraise\u001b[0m \u001b[0mValueError\u001b[0m\u001b[1;33m(\u001b[0m\u001b[1;34m\"%s not contained in the index\"\u001b[0m \u001b[1;33m%\u001b[0m \u001b[0mstr\u001b[0m\u001b[1;33m(\u001b[0m\u001b[0mkey\u001b[0m\u001b[1;33m[\u001b[0m\u001b[0mmask\u001b[0m\u001b[1;33m]\u001b[0m\u001b[1;33m)\u001b[0m\u001b[1;33m)\u001b[0m\u001b[1;33m\u001b[0m\u001b[1;33m\u001b[0m\u001b[0m\n\u001b[0m\u001b[0;32m   1312\u001b[0m         \u001b[0mself\u001b[0m\u001b[1;33m.\u001b[0m\u001b[0m_set_values\u001b[0m\u001b[1;33m(\u001b[0m\u001b[0mindexer\u001b[0m\u001b[1;33m,\u001b[0m \u001b[0mvalue\u001b[0m\u001b[1;33m)\u001b[0m\u001b[1;33m\u001b[0m\u001b[1;33m\u001b[0m\u001b[0m\n\u001b[0;32m   1313\u001b[0m \u001b[1;33m\u001b[0m\u001b[0m\n",
      "\u001b[1;31mValueError\u001b[0m: [   0    4    5    7   16   24   26   34   51   53   56   66   68   70\n   71   83   85   91   98  119  131  136  153  154  156  157  169  171\n  175  177  178  181  186  190  199  204  217  221  228  241  251  252\n  258  259  261  265  270  283  294  302  311  313  318  331  334  340\n  343  344  349  352  353  365  366  367  396  408  409  416  422  428\n  441  443  453  460  476  481  483  484  485  489  498  501  502  510\n  513  514  517  534  536  541  544  549  553  566  572  575  584  586\n  587  593  594  603  612  615  627  636  659  664  667  670  679  682\n  708  719  725  742  756  758  759  762  768  772  773  785  792  794\n  800  805  809  822  829  830  844  857  869  879  883  885  891  895\n  896  900  907  908  925  926  927  929  934  951  953  955  962  969\n  981  986  988  991  994  995  996  999 1010 1011 1012 1017 1018 1022\n 1032 1045 1052 1067 1071 1073 1079 1081 1083 1101 1107 1108 1128 1140\n 1156 1157 1163 1166 1168 1170 1180 1181 1182 1185 1189 1195 1199 1218\n 1230 1233 1234 1242 1246 1261 1264 1265 1275 1278 1280 1281 1285 1287\n 1291 1294 1312 1313 1323 1324 1326 1339 1343 1351 1372 1373 1375 1391\n 1392 1406 1416 1423 1430 1442 1452 1458 1470 1476 1480 1482 1487 1492\n 1507 1509 1517 1520 1523 1526 1539 1543 1550 1551 1553 1557 1565 1572\n 1574 1577 1591 1592 1594 1596 1603 1605 1613 1616 1628 1633 1634 1638\n 1643 1650 1655 1682 1683 1694 1702 1703 1708 1709 1712 1723 1730 1738\n 1739 1742 1777 1779 1789 1793 1794 1795 1798 1800 1802 1806 1815 1827\n 1840 1850 1859 1862 1864 1866 1871 1875 1884 1889 1904 1923 1925 1926\n 1954 1957 1959 1972 1974 1976 1981 1996 2000 2026 2034 2039 2040 2045\n 2049 2050 2056 2060 2063 2064 2070 2079 2088 2093 2094 2097 2100 2104\n 2107 2128 2145 2151 2153 2154 2164 2175 2182 2205 2207 2209 2210 2212\n 2225 2249 2278 2293 2300 2303 2309 2310 2316 2329 2335 2336 2349 2350\n 2353 2359 2363 2398 2400 2409 2419 2430 2444 2446 2447 2449 2477 2506\n 2509 2523 2524 2533 2550 2552 2560 2563 2567 2568 2581 2583 2587 2590\n 2607 2610 2612 2613 2614 2615 2635 2640 2642 2650 2674 2678 2700 2719\n 2735 2738 2743 2750 2761 2762 2765 2769 2772 2778 2779 2783 2794 2800\n 2802 2804 2807 2808 2809 2811 2816 2827 2835 2840 2842 2849 2851 2854\n 2859 2878 2881 2893 2896 2899 2901 2918 2926 2939 2959 2967 2969 2970\n 2980 2986 2989 3001 3004 3007 3013 3014 3026 3037 3041 3044 3059 3063\n 3064 3067 3070 3077 3078 3083 3100 3107 3112 3117 3139 3142 3144 3157\n 3166 3178 3180 3186 3198 3200 3201 3202 3205 3208 3210 3211 3212 3213\n 3217 3225 3229 3237 3243 3245 3246 3248 3254 3265 3273 3309 3319 3329\n 3339 3347 3353 3361 3374 3378 3384 3387 3396 3397 3401 3411 3412 3424\n 3434 3438 3443 3453 3455 3457 3468 3473 3475 3501 3513 3514 3519 3537\n 3538 3556 3559 3585 3588 3596 3599 3605 3608 3609 3611 3615 3621 3622\n 3632 3641 3647 3652 3665 3674 3685 3690 3691 3693 3709 3714 3723 3733\n 3734 3736 3737 3740 3766 3777 3785 3787 3791 3792 3796 3797 3829 3842\n 3844 3850 3867 3874 3896 3897 3900 3902 3903 3905 3929 3939 3950 3957\n 3958 3971 3980 4068 4070 4073 4079 4083 4084 4085 4090 4093 4094 4099\n 4114 4118 4132 4144 4154 4161 4165 4183 4184 4199 4201 4203 4207 4209\n 4213 4216 4217 4229 4236 4242 4255 4262 4277 4280 4282 4288 4290 4291\n 4308 4310 4328 4339 4341 4342 4344 4378 4403 4409 4410 4415 4422 4425\n 4433 4438 4444 4446 4447 4461 4466 4470 4472 4479 4488 4493 4503 4507\n 4514 4520 4523 4553 4557 4563 4567 4569 4570 4576 4598 4602 4611 4613\n 4634 4637 4640 4646 4660 4665 4673 4677 4684 4686 4695 4698 4700 4703\n 4708 4709 4720 4737 4739 4742 4759 4783 4784 4791 4794 4797 4803 4811\n 4814 4825 4828 4829 4832 4848 4854 4855 4866 4884 4885 4888 4899 4904\n 4917 4929 4941 4949 4954 4960 4961 4978 4982 4983 4985 4988 4989 4991\n 4993 5000 5002 5006 5011 5012 5022 5026 5027 5028 5034 5037 5046 5049\n 5050 5064 5065 5074 5078 5089 5092 5096 5097 5098 5103 5118 5124 5134\n 5150 5153 5154 5158 5159 5165 5185 5205 5208 5215 5220 5224 5243 5268\n 5272 5273 5320 5335 5342 5349 5356 5373 5384 5389 5391 5394 5397 5404\n 5405 5408 5414 5416 5421 5431 5433 5436 5450 5459 5462 5463 5465 5466\n 5474 5490 5497 5500 5502 5506 5510 5518 5532 5534 5538 5541 5543 5544\n 5545 5550 5554 5584 5593 5594 5599 5609 5616 5632 5633 5639 5653 5660\n 5674 5677 5683 5684 5696 5715 5721 5723 5741 5742 5745 5756 5757 5766\n 5770 5775 5779 5781 5782 5783 5788 5791 5793 5796 5804 5805 5806 5812\n 5817 5818 5820 5823 5833 5841 5857 5864 5871 5873 5875 5877 5879 5882\n 5890 5893 5906 5910 5917 5920 5931 5934 5945 5948 5950 5957 5972 5978\n 5982 5990 5996 6004 6006 6010 6014 6019 6020 6025 6026 6029 6030 6035\n 6065 6076 6098 6101 6102 6108 6110 6117 6120 6128 6143 6144] not contained in the index"
     ]
    }
   ],
   "source": [
    "def is_plot():\n",
    "    \n",
    "    path = r\"C:\\Users\\ejer\\Desktop\\Fagprojekt\\fagprojekt\\report\\imgs\"\n",
    "    \n",
    "    pred_plot_race = sb.countplot(x = \"score_text\", hue = \"race\", data = data)\n",
    "    pred_plot_race.set_title(\"Predicted risk of recidivism according to race\")\n",
    "    #pred_plot_race.figure.savefig(path + \"\\\\predicted_recid_race.png\")\n",
    "    plt.show()\n",
    "    \n",
    "    pred_plot_sex = sb.countplot(x = \"score_text\", hue = \"sex\", data = data)\n",
    "    pred_plot_sex.set_title(\"Predicted risk of recidivism according to sex\")\n",
    "    #pred_plot_sex.figure.savefig(path + \"\\\\predicted_recid_sex.png\")\n",
    "    plt.show()\n",
    "    \n",
    "    true_plot = sb.countplot(x = \"is_recid\", hue = \"race\", data = data)\n",
    "    true_plot.set_title(\"True recidivism scores\")\n",
    "    #true_plot.figure.savefig(path + \"\\\\true_recid.png\")\n",
    "    plt.show()\n",
    "    \n",
    "    df = data[(data[\"race\"] == \"African-American\") | (data[\"race\"] == \"Caucasian\")]\n",
    "    df = df[df[\"priors_count\"] < 25]\n",
    "    \n",
    "    priors_plot = sb.countplot(x = \"priors_count\", hue = \"race\", data = df)\n",
    "    priors_plot.set_title(\"Number of previous felonies according to race\")\n",
    "    #priors_plot.figure.savefig(path + \"\\\\proirs.png\")\n",
    "    plt.show()\n",
    "    \n",
    "    c_charge_degree = sb.countplot(x = \"c_charge_degree\", hue = \"race\", data = df)\n",
    "    c_charge_degree.set_title(\"Severity of the crimes for each race\")\n",
    "    #c_charge_degree.figure.savefig(path + \"\\\\c_charge_degree.png\")\n",
    "    plt.show()\n",
    "    \n",
    "    c_charge_degree = sb.countplot(x = \"score_text\", hue = \"c_charge_degree\", data = df)\n",
    "    c_charge_degree.set_title(\"Relation between crime severity and predicted recidivism\")\n",
    "    #c_charge_degree.figure.savefig(path + \"\\\\charge_degree_score.png\")\n",
    "    plt.show()\n",
    "    \n",
    "    \n",
    "is_plot()\n",
    "\n",
    "palette = {\"Caucasian\": \"C0\", \"African-American\": \"C1\", \"Hispanic\": \"C2\", \"Other\": \"C3\" , \"Asian\": \"C4\" ,\"Native American\": \"C5\"}\n",
    "for i in tqdm(range(3)):\n",
    "    #TODO: der skal indsættes punkter for den rigtige data1fordelling. \n",
    "    data = permutation(data, \"race\")\n",
    "    path = r\"C:\\Users\\ejer\\Desktop\\Fagprojekt\\fagprojekt\\report\\imgs\"\n",
    "    pred_plot_race = sb.countplot(x = \"score_text\" ,hue = \"race\", data = data, palette = palette ,alpha=.06,  hue_order = [ \"African-American\",\"Caucasian\", \"Hispanic\", \"Other\" , \"Asian\",\"Native American\"])\n",
    "    pred_plot_race.set_title(\"Predicted risk of recidivism according to race\")\n",
    "    pred_plot_race.set_xticklabels(pred_plot_race.get_xticklabels(), horizontalalignment ='right')\n",
    "    pred_plot_race.get_legend().remove()\n",
    "    data = reset_data()\n",
    "plt.show()\n",
    "    \n"
   ]
  },
  {
   "cell_type": "code",
   "execution_count": 43,
   "metadata": {},
   "outputs": [],
   "source": [
    "categoricals = [\"c_charge_degree\", \"race\", \"age_cat\", \"sex\"] # \"r_charge_degree\"    \"two_year_recid\"    \"is_recid\", \"is_violent_recid\"\n",
    "numericals = [\"age\", \"priors_count\", \"juv_fel_count\", \"juv_misd_count\"] # \"days_b_screening_arrest\"\n",
    "outputs = [\"score_text\"]\n",
    "data = data[categoricals + numericals + outputs + [\"two_year_recid\"] + [\"is_recid\"]]\n",
    "\n",
    "# Making the output binary\n",
    "data[outputs] = data[outputs].replace('Low',0)\n",
    "data[outputs] = data[outputs].replace('Medium',1)\n",
    "data[outputs] = data[outputs].replace('High',1)\n",
    "data[outputs] = data[outputs].astype(\"category\")"
   ]
  },
  {
   "cell_type": "code",
   "execution_count": 44,
   "metadata": {},
   "outputs": [],
   "source": [
    "Xcat, Xnum = dataprep(data, norm_type = \"zscore\")\n",
    "\n",
    "# Converting the output to tensor\n",
    "y = torch.tensor(data[outputs].values).flatten()\n",
    "\n",
    "# Calculation of embedding sizes for the categorical values in the format (unique categorical values, embedding size (dimension of encoding))\n",
    "categorical_column_sizes = [len(data[column].cat.categories) for column in categoricals]\n",
    "categorical_embedding_sizes = [(col_size, min(50, (col_size+1)//2)) for col_size in categorical_column_sizes]\n",
    "\n",
    "# Train-test split\n",
    "totalnumber = len(Xnum)\n",
    "testnumber = int(totalnumber * 0.2)\n",
    "\n",
    "Xcattrain = Xcat[:totalnumber - testnumber]\n",
    "Xcattest = Xcat[totalnumber - testnumber:totalnumber]\n",
    "Xnumtrain = Xnum[:totalnumber - testnumber]\n",
    "Xnumtest = Xnum[totalnumber - testnumber:totalnumber]\n",
    "ytrain = y[:totalnumber - testnumber]\n",
    "ytest = data[\"is_recid\"][totalnumber - testnumber:totalnumber]\n",
    "ytest = torch.tensor(ytest.values).flatten()\n",
    "\n",
    "\n",
    "# Make sure that we dont validate on training data to compare if the algorithm is biased\n",
    "\n",
    "\n",
    "normalize(Xnumtrain, \"zscore\");\n",
    "normalize(Xnumtest, \"zscore\");"
   ]
  },
  {
   "cell_type": "markdown",
   "metadata": {},
   "source": [
    "# Neural Network"
   ]
  },
  {
   "cell_type": "code",
   "execution_count": 45,
   "metadata": {},
   "outputs": [],
   "source": [
    "class Model(nn.Module):\n",
    "\n",
    "    def __init__(self, embedding_size, num_numerical_cols, output_size, layers, p=0.4):\n",
    "        super().__init__()\n",
    "        self.all_embeddings = nn.ModuleList([nn.Embedding(ni, nf) for ni, nf in embedding_size])\n",
    "        self.embedding_dropout = nn.Dropout(p)\n",
    "        self.batch_norm_num = nn.BatchNorm1d(num_numerical_cols)\n",
    "        \n",
    "        all_layers = []\n",
    "        num_categorical_cols = sum((nf for ni, nf in embedding_size))\n",
    "        input_size = num_categorical_cols + num_numerical_cols\n",
    "\n",
    "        for i in layers:\n",
    "            all_layers.append(nn.Linear(input_size, i))\n",
    "            all_layers.append(nn.ReLU(inplace=True))\n",
    "            all_layers.append(nn.BatchNorm1d(i))\n",
    "            all_layers.append(nn.Dropout(p))\n",
    "            input_size = i\n",
    "\n",
    "        all_layers.append(nn.Linear(layers[-1], output_size))\n",
    "\n",
    "        self.layers = nn.Sequential(*all_layers)\n",
    "\n",
    "    def forward(self, x_categorical, x_numerical):\n",
    "        embeddings = []\n",
    "        for i,e in enumerate(self.all_embeddings):\n",
    "            embeddings.append(e(x_categorical[:,i]))\n",
    "        x = torch.cat(embeddings, 1)\n",
    "        x = self.embedding_dropout(x)\n",
    "\n",
    "        x_numerical = self.batch_norm_num(x_numerical)\n",
    "        x = torch.cat([x, x_numerical], 1)\n",
    "        x = self.layers(x)\n",
    "        return nn.functional.sigmoid(x)"
   ]
  },
  {
   "cell_type": "markdown",
   "metadata": {},
   "source": [
    "# Train model on data"
   ]
  },
  {
   "cell_type": "code",
   "execution_count": 51,
   "metadata": {
    "scrolled": true
   },
   "outputs": [
    {
     "name": "stdout",
     "output_type": "stream",
     "text": [
      "Model(\n",
      "  (all_embeddings): ModuleList(\n",
      "    (0): Embedding(2, 1)\n",
      "    (1): Embedding(6, 3)\n",
      "    (2): Embedding(3, 2)\n",
      "    (3): Embedding(2, 1)\n",
      "  )\n",
      "  (embedding_dropout): Dropout(p=0.5, inplace=False)\n",
      "  (batch_norm_num): BatchNorm1d(4, eps=1e-05, momentum=0.1, affine=True, track_running_stats=True)\n",
      "  (layers): Sequential(\n",
      "    (0): Linear(in_features=11, out_features=16, bias=True)\n",
      "    (1): ReLU(inplace=True)\n",
      "    (2): BatchNorm1d(16, eps=1e-05, momentum=0.1, affine=True, track_running_stats=True)\n",
      "    (3): Dropout(p=0.5, inplace=False)\n",
      "    (4): Linear(in_features=16, out_features=32, bias=True)\n",
      "    (5): ReLU(inplace=True)\n",
      "    (6): BatchNorm1d(32, eps=1e-05, momentum=0.1, affine=True, track_running_stats=True)\n",
      "    (7): Dropout(p=0.5, inplace=False)\n",
      "    (8): Linear(in_features=32, out_features=64, bias=True)\n",
      "    (9): ReLU(inplace=True)\n",
      "    (10): BatchNorm1d(64, eps=1e-05, momentum=0.1, affine=True, track_running_stats=True)\n",
      "    (11): Dropout(p=0.5, inplace=False)\n",
      "    (12): Linear(in_features=64, out_features=128, bias=True)\n",
      "    (13): ReLU(inplace=True)\n",
      "    (14): BatchNorm1d(128, eps=1e-05, momentum=0.1, affine=True, track_running_stats=True)\n",
      "    (15): Dropout(p=0.5, inplace=False)\n",
      "    (16): Linear(in_features=128, out_features=64, bias=True)\n",
      "    (17): ReLU(inplace=True)\n",
      "    (18): BatchNorm1d(64, eps=1e-05, momentum=0.1, affine=True, track_running_stats=True)\n",
      "    (19): Dropout(p=0.5, inplace=False)\n",
      "    (20): Linear(in_features=64, out_features=1, bias=True)\n",
      "  )\n",
      ")\n"
     ]
    }
   ],
   "source": [
    "# Define and show the model\n",
    "model = Model(categorical_embedding_sizes, 4, 1, [16,32,64,128,64], p=0.5)\n",
    "if use_cuda:\n",
    "    model.cuda()\n",
    "print(model)\n",
    "for param in model.parameters():\n",
    "            param.requires_grad = True\n"
   ]
  },
  {
   "cell_type": "code",
   "execution_count": 52,
   "metadata": {},
   "outputs": [],
   "source": [
    "# Loss function and optimization\n",
    "loss_function = nn.BCELoss()\n",
    "optimizer = torch.optim.Adam(model.parameters(), lr=0.001, weight_decay = 1e-6)\n",
    "threshold = 0.5"
   ]
  },
  {
   "cell_type": "code",
   "execution_count": 23,
   "metadata": {
    "scrolled": false
   },
   "outputs": [],
   "source": [
    "# thresholds = np.random.uniform(0,1,size=points)\n",
    "    \n",
    "def train_model(hyperparameters, model, epochs = 100, plot = False):\n",
    "    in_features, out_features = 11, 1\n",
    "    p = hyperparameters['p']\n",
    "    hidden_units_1 = hyperparameters['hidden_units_1']\n",
    "    hidden_units_2 = hyperparameters['hidden_units_2']\n",
    "    hidden_units_3 = hyperparameters['hidden_units_3']\n",
    "    hidden_units_4 = hyperparameters['hidden_units_4']\n",
    "    hidden_units_5 = hyperparameters['hidden_units_5']\n",
    "    activation_func = hyperparameters['activation_func']\n",
    "    \n",
    "    model.layers[0] = torch.nn.Linear(in_features, hidden_units_1) \n",
    "    model.layers[1] = activation_func\n",
    "    model.layers[2] = torch.nn.BatchNorm1d(hidden_units_1)\n",
    "    model.layers[3] = torch.nn.Dropout(p=p)\n",
    "    model.layers[4] = torch.nn.Linear(hidden_units_1, hidden_units_2) \n",
    "    model.layers[5] = activation_func\n",
    "    model.layers[6] = torch.nn.BatchNorm1d(hidden_units_2)\n",
    "    model.layers[7] = torch.nn.Dropout(p=p)\n",
    "    model.layers[8] = torch.nn.Linear(hidden_units_2, hidden_units_3) \n",
    "    model.layers[9] = activation_func\n",
    "    model.layers[10] = torch.nn.BatchNorm1d(hidden_units_3)\n",
    "    model.layers[11] = torch.nn.Dropout(p=p)\n",
    "    model.layers[12] = torch.nn.Linear(hidden_units_3, hidden_units_4) \n",
    "    model.layers[13] = activation_func\n",
    "    model.layers[14] = torch.nn.BatchNorm1d(hidden_units_4)\n",
    "    model.layers[15] = torch.nn.Dropout(p=p)\n",
    "    model.layers[16] = torch.nn.Linear(hidden_units_4, hidden_units_5) \n",
    "    model.layers[17] = activation_func\n",
    "    model.layers[18] = torch.nn.BatchNorm1d(hidden_units_5)\n",
    "    model.layers[19] = torch.nn.Dropout(p=p)\n",
    "    model.layers[20] = torch.nn.Linear(hidden_units_5, out_features) \n",
    "    \n",
    "    aggregated_losses = []\n",
    "    \n",
    "    # Initialize lists for training and validation\n",
    "    train_iter = []\n",
    "    train_loss, train_accs = [], []\n",
    "    valid_iter = []\n",
    "    valid_loss, valid_accs = [], []\n",
    "\n",
    "    model.train()\n",
    "    for i in range(epochs):\n",
    "        i += 1\n",
    "        y_pred = model(Xcattrain, Xnumtrain)\n",
    "        single_loss = loss_function(y_pred, ytrain.float())\n",
    "        aggregated_losses.append(single_loss)\n",
    "\n",
    "        #if i % 25 == 1:\n",
    "            #print(f'epoch: {i:3} loss: {single_loss.item():10.8f}')\n",
    "\n",
    "        optimizer.zero_grad()\n",
    "        single_loss.backward()\n",
    "        optimizer.step()\n",
    "\n",
    "    #print(f'epoch: {i:3} loss: {single_loss.item():10.10f}')\n",
    "\n",
    "\n",
    "    \n",
    "    # Plot the loss over epocs\n",
    "    if plot:\n",
    "        plt.plot(range(epochs), aggregated_losses)\n",
    "        plt.ylabel('Loss')\n",
    "        plt.xlabel('epoch');\n",
    "\n",
    "\n",
    "    # Predict on the test set\n",
    "    model.eval()\n",
    "    with torch.no_grad():\n",
    "        y_val = model(Xcattest, Xnumtest)\n",
    "        loss = loss_function(y_val, ytest.float())\n",
    "\n",
    "\n",
    "    y_val = (y_val > threshold).float()\n",
    "\n",
    "    \n",
    "    #print(confusion_matrix(ytest,y_val))\n",
    "    #print(classification_report(ytest,y_val))\n",
    "    neural_acc = accuracy_score(ytest, y_val)\n",
    "    \n",
    "    return model, float(neural_acc)"
   ]
  },
  {
   "cell_type": "markdown",
   "metadata": {},
   "source": [
    "# Baysian Optimization"
   ]
  },
  {
   "cell_type": "code",
   "execution_count": 66,
   "metadata": {
    "scrolled": true
   },
   "outputs": [
    {
     "name": "stdout",
     "output_type": "stream",
     "text": [
      "[[0.12203823 0.66252228 1.        ]]\n",
      "{'hidden_units_1': 14, 'hidden_units_2': 18, 'hidden_units_3': 26, 'hidden_units_4': 41, 'hidden_units_5': 26, 'p': 0.662522284353982, 'activation_func': ReLU()}\n"
     ]
    },
    {
     "ename": "RuntimeError",
     "evalue": "size mismatch, m1: [4920 x 9], m2: [11 x 14] at C:\\w\\1\\s\\tmp_conda_3.6_014803\\conda\\conda-bld\\pytorch_1565315401686\\work\\aten\\src\\TH/generic/THTensorMath.cpp:752",
     "output_type": "error",
     "traceback": [
      "\u001b[1;31m---------------------------------------------------------------------------\u001b[0m",
      "\u001b[1;31mRuntimeError\u001b[0m                              Traceback (most recent call last)",
      "\u001b[1;32m<ipython-input-66-d0f3d09dfd23>\u001b[0m in \u001b[0;36m<module>\u001b[1;34m\u001b[0m\n\u001b[0;32m     39\u001b[0m opt = GPyOpt.methods.BayesianOptimization(f = objective_function,   # function to optimize\n\u001b[0;32m     40\u001b[0m                                               \u001b[0mdomain\u001b[0m \u001b[1;33m=\u001b[0m \u001b[0mdomain\u001b[0m\u001b[1;33m,\u001b[0m         \u001b[1;31m# box-constrains of the problem\u001b[0m\u001b[1;33m\u001b[0m\u001b[1;33m\u001b[0m\u001b[0m\n\u001b[1;32m---> 41\u001b[1;33m                                               \u001b[0macquisition_type\u001b[0m \u001b[1;33m=\u001b[0m \u001b[1;34m\"EI\"\u001b[0m\u001b[1;33m,\u001b[0m      \u001b[1;31m# Select acquisition function MPI, EI, LCB\u001b[0m\u001b[1;33m\u001b[0m\u001b[1;33m\u001b[0m\u001b[0m\n\u001b[0m\u001b[0;32m     42\u001b[0m                                              )\n\u001b[0;32m     43\u001b[0m \u001b[0mopt\u001b[0m\u001b[1;33m.\u001b[0m\u001b[0macquisition\u001b[0m\u001b[1;33m.\u001b[0m\u001b[0mexploration_weight\u001b[0m\u001b[1;33m=\u001b[0m\u001b[1;36m.1\u001b[0m\u001b[1;33m\u001b[0m\u001b[1;33m\u001b[0m\u001b[0m\n",
      "\u001b[1;32m~\\Anaconda3\\lib\\site-packages\\GPyOpt\\methods\\bayesian_optimization.py\u001b[0m in \u001b[0;36m__init__\u001b[1;34m(self, f, domain, constraints, cost_withGradients, model_type, X, Y, initial_design_numdata, initial_design_type, acquisition_type, normalize_Y, exact_feval, acquisition_optimizer_type, model_update_interval, evaluator_type, batch_size, num_cores, verbosity, verbosity_model, maximize, de_duplication, **kwargs)\u001b[0m\n\u001b[0;32m    116\u001b[0m         \u001b[0mself\u001b[0m\u001b[1;33m.\u001b[0m\u001b[0minitial_design_type\u001b[0m  \u001b[1;33m=\u001b[0m \u001b[0minitial_design_type\u001b[0m\u001b[1;33m\u001b[0m\u001b[1;33m\u001b[0m\u001b[0m\n\u001b[0;32m    117\u001b[0m         \u001b[0mself\u001b[0m\u001b[1;33m.\u001b[0m\u001b[0minitial_design_numdata\u001b[0m \u001b[1;33m=\u001b[0m \u001b[0minitial_design_numdata\u001b[0m\u001b[1;33m\u001b[0m\u001b[1;33m\u001b[0m\u001b[0m\n\u001b[1;32m--> 118\u001b[1;33m         \u001b[0mself\u001b[0m\u001b[1;33m.\u001b[0m\u001b[0m_init_design_chooser\u001b[0m\u001b[1;33m(\u001b[0m\u001b[1;33m)\u001b[0m\u001b[1;33m\u001b[0m\u001b[1;33m\u001b[0m\u001b[0m\n\u001b[0m\u001b[0;32m    119\u001b[0m \u001b[1;33m\u001b[0m\u001b[0m\n\u001b[0;32m    120\u001b[0m         \u001b[1;31m# --- CHOOSE the model type. If an instance of a GPyOpt model is passed (possibly user defined), it is used.\u001b[0m\u001b[1;33m\u001b[0m\u001b[1;33m\u001b[0m\u001b[1;33m\u001b[0m\u001b[0m\n",
      "\u001b[1;32m~\\Anaconda3\\lib\\site-packages\\GPyOpt\\methods\\bayesian_optimization.py\u001b[0m in \u001b[0;36m_init_design_chooser\u001b[1;34m(self)\u001b[0m\n\u001b[0;32m    191\u001b[0m         \u001b[1;32mif\u001b[0m \u001b[0mself\u001b[0m\u001b[1;33m.\u001b[0m\u001b[0mX\u001b[0m \u001b[1;32mis\u001b[0m \u001b[1;32mNone\u001b[0m\u001b[1;33m:\u001b[0m\u001b[1;33m\u001b[0m\u001b[1;33m\u001b[0m\u001b[0m\n\u001b[0;32m    192\u001b[0m             \u001b[0mself\u001b[0m\u001b[1;33m.\u001b[0m\u001b[0mX\u001b[0m \u001b[1;33m=\u001b[0m \u001b[0minitial_design\u001b[0m\u001b[1;33m(\u001b[0m\u001b[0mself\u001b[0m\u001b[1;33m.\u001b[0m\u001b[0minitial_design_type\u001b[0m\u001b[1;33m,\u001b[0m \u001b[0mself\u001b[0m\u001b[1;33m.\u001b[0m\u001b[0mspace\u001b[0m\u001b[1;33m,\u001b[0m \u001b[0mself\u001b[0m\u001b[1;33m.\u001b[0m\u001b[0minitial_design_numdata\u001b[0m\u001b[1;33m)\u001b[0m\u001b[1;33m\u001b[0m\u001b[1;33m\u001b[0m\u001b[0m\n\u001b[1;32m--> 193\u001b[1;33m             \u001b[0mself\u001b[0m\u001b[1;33m.\u001b[0m\u001b[0mY\u001b[0m\u001b[1;33m,\u001b[0m \u001b[0m_\u001b[0m \u001b[1;33m=\u001b[0m \u001b[0mself\u001b[0m\u001b[1;33m.\u001b[0m\u001b[0mobjective\u001b[0m\u001b[1;33m.\u001b[0m\u001b[0mevaluate\u001b[0m\u001b[1;33m(\u001b[0m\u001b[0mself\u001b[0m\u001b[1;33m.\u001b[0m\u001b[0mX\u001b[0m\u001b[1;33m)\u001b[0m\u001b[1;33m\u001b[0m\u001b[1;33m\u001b[0m\u001b[0m\n\u001b[0m\u001b[0;32m    194\u001b[0m         \u001b[1;31m# Case 2\u001b[0m\u001b[1;33m\u001b[0m\u001b[1;33m\u001b[0m\u001b[1;33m\u001b[0m\u001b[0m\n\u001b[0;32m    195\u001b[0m         \u001b[1;32melif\u001b[0m \u001b[0mself\u001b[0m\u001b[1;33m.\u001b[0m\u001b[0mX\u001b[0m \u001b[1;32mis\u001b[0m \u001b[1;32mnot\u001b[0m \u001b[1;32mNone\u001b[0m \u001b[1;32mand\u001b[0m \u001b[0mself\u001b[0m\u001b[1;33m.\u001b[0m\u001b[0mY\u001b[0m \u001b[1;32mis\u001b[0m \u001b[1;32mNone\u001b[0m\u001b[1;33m:\u001b[0m\u001b[1;33m\u001b[0m\u001b[1;33m\u001b[0m\u001b[0m\n",
      "\u001b[1;32m~\\Anaconda3\\lib\\site-packages\\GPyOpt\\core\\task\\objective.py\u001b[0m in \u001b[0;36mevaluate\u001b[1;34m(self, x)\u001b[0m\n\u001b[0;32m     48\u001b[0m \u001b[1;33m\u001b[0m\u001b[0m\n\u001b[0;32m     49\u001b[0m         \u001b[1;32mif\u001b[0m \u001b[0mself\u001b[0m\u001b[1;33m.\u001b[0m\u001b[0mn_procs\u001b[0m \u001b[1;33m==\u001b[0m \u001b[1;36m1\u001b[0m\u001b[1;33m:\u001b[0m\u001b[1;33m\u001b[0m\u001b[1;33m\u001b[0m\u001b[0m\n\u001b[1;32m---> 50\u001b[1;33m             \u001b[0mf_evals\u001b[0m\u001b[1;33m,\u001b[0m \u001b[0mcost_evals\u001b[0m \u001b[1;33m=\u001b[0m \u001b[0mself\u001b[0m\u001b[1;33m.\u001b[0m\u001b[0m_eval_func\u001b[0m\u001b[1;33m(\u001b[0m\u001b[0mx\u001b[0m\u001b[1;33m)\u001b[0m\u001b[1;33m\u001b[0m\u001b[1;33m\u001b[0m\u001b[0m\n\u001b[0m\u001b[0;32m     51\u001b[0m         \u001b[1;32melse\u001b[0m\u001b[1;33m:\u001b[0m\u001b[1;33m\u001b[0m\u001b[1;33m\u001b[0m\u001b[0m\n\u001b[0;32m     52\u001b[0m             \u001b[1;32mtry\u001b[0m\u001b[1;33m:\u001b[0m\u001b[1;33m\u001b[0m\u001b[1;33m\u001b[0m\u001b[0m\n",
      "\u001b[1;32m~\\Anaconda3\\lib\\site-packages\\GPyOpt\\core\\task\\objective.py\u001b[0m in \u001b[0;36m_eval_func\u001b[1;34m(self, x)\u001b[0m\n\u001b[0;32m     72\u001b[0m         \u001b[1;32mfor\u001b[0m \u001b[0mi\u001b[0m \u001b[1;32min\u001b[0m \u001b[0mrange\u001b[0m\u001b[1;33m(\u001b[0m\u001b[0mx\u001b[0m\u001b[1;33m.\u001b[0m\u001b[0mshape\u001b[0m\u001b[1;33m[\u001b[0m\u001b[1;36m0\u001b[0m\u001b[1;33m]\u001b[0m\u001b[1;33m)\u001b[0m\u001b[1;33m:\u001b[0m\u001b[1;33m\u001b[0m\u001b[1;33m\u001b[0m\u001b[0m\n\u001b[0;32m     73\u001b[0m             \u001b[0mst_time\u001b[0m    \u001b[1;33m=\u001b[0m \u001b[0mtime\u001b[0m\u001b[1;33m.\u001b[0m\u001b[0mtime\u001b[0m\u001b[1;33m(\u001b[0m\u001b[1;33m)\u001b[0m\u001b[1;33m\u001b[0m\u001b[1;33m\u001b[0m\u001b[0m\n\u001b[1;32m---> 74\u001b[1;33m             \u001b[0mrlt\u001b[0m \u001b[1;33m=\u001b[0m \u001b[0mself\u001b[0m\u001b[1;33m.\u001b[0m\u001b[0mfunc\u001b[0m\u001b[1;33m(\u001b[0m\u001b[0mnp\u001b[0m\u001b[1;33m.\u001b[0m\u001b[0matleast_2d\u001b[0m\u001b[1;33m(\u001b[0m\u001b[0mx\u001b[0m\u001b[1;33m[\u001b[0m\u001b[0mi\u001b[0m\u001b[1;33m]\u001b[0m\u001b[1;33m)\u001b[0m\u001b[1;33m)\u001b[0m\u001b[1;33m\u001b[0m\u001b[1;33m\u001b[0m\u001b[0m\n\u001b[0m\u001b[0;32m     75\u001b[0m             \u001b[0mf_evals\u001b[0m     \u001b[1;33m=\u001b[0m \u001b[0mnp\u001b[0m\u001b[1;33m.\u001b[0m\u001b[0mvstack\u001b[0m\u001b[1;33m(\u001b[0m\u001b[1;33m[\u001b[0m\u001b[0mf_evals\u001b[0m\u001b[1;33m,\u001b[0m\u001b[0mrlt\u001b[0m\u001b[1;33m]\u001b[0m\u001b[1;33m)\u001b[0m\u001b[1;33m\u001b[0m\u001b[1;33m\u001b[0m\u001b[0m\n\u001b[0;32m     76\u001b[0m             \u001b[0mcost_evals\u001b[0m \u001b[1;33m+=\u001b[0m \u001b[1;33m[\u001b[0m\u001b[0mtime\u001b[0m\u001b[1;33m.\u001b[0m\u001b[0mtime\u001b[0m\u001b[1;33m(\u001b[0m\u001b[1;33m)\u001b[0m\u001b[1;33m-\u001b[0m\u001b[0mst_time\u001b[0m\u001b[1;33m]\u001b[0m\u001b[1;33m\u001b[0m\u001b[1;33m\u001b[0m\u001b[0m\n",
      "\u001b[1;32m<ipython-input-66-d0f3d09dfd23>\u001b[0m in \u001b[0;36mobjective_function\u001b[1;34m(x)\u001b[0m\n\u001b[0;32m     27\u001b[0m     }\n\u001b[0;32m     28\u001b[0m     \u001b[0mprint\u001b[0m\u001b[1;33m(\u001b[0m\u001b[0mhyperparameters\u001b[0m\u001b[1;33m)\u001b[0m\u001b[1;33m\u001b[0m\u001b[1;33m\u001b[0m\u001b[0m\n\u001b[1;32m---> 29\u001b[1;33m     \u001b[0mtrained_model\u001b[0m\u001b[1;33m,\u001b[0m \u001b[0mneural_acc\u001b[0m  \u001b[1;33m=\u001b[0m \u001b[0mtrain_model\u001b[0m\u001b[1;33m(\u001b[0m\u001b[0mhyperparameters\u001b[0m\u001b[1;33m,\u001b[0m \u001b[0mmodel\u001b[0m\u001b[1;33m)\u001b[0m\u001b[1;33m\u001b[0m\u001b[1;33m\u001b[0m\u001b[0m\n\u001b[0m\u001b[0;32m     30\u001b[0m     \u001b[0mprint\u001b[0m\u001b[1;33m(\u001b[0m\u001b[0mneural_acc\u001b[0m\u001b[1;33m)\u001b[0m\u001b[1;33m\u001b[0m\u001b[1;33m\u001b[0m\u001b[0m\n\u001b[0;32m     31\u001b[0m     \u001b[1;32mreturn\u001b[0m \u001b[1;33m-\u001b[0m\u001b[0mneural_acc\u001b[0m\u001b[1;33m\u001b[0m\u001b[1;33m\u001b[0m\u001b[0m\n",
      "\u001b[1;32m<ipython-input-23-67296cb15945>\u001b[0m in \u001b[0;36mtrain_model\u001b[1;34m(hyperparameters, model, epochs, plot)\u001b[0m\n\u001b[0;32m     44\u001b[0m     \u001b[1;32mfor\u001b[0m \u001b[0mi\u001b[0m \u001b[1;32min\u001b[0m \u001b[0mrange\u001b[0m\u001b[1;33m(\u001b[0m\u001b[0mepochs\u001b[0m\u001b[1;33m)\u001b[0m\u001b[1;33m:\u001b[0m\u001b[1;33m\u001b[0m\u001b[1;33m\u001b[0m\u001b[0m\n\u001b[0;32m     45\u001b[0m         \u001b[0mi\u001b[0m \u001b[1;33m+=\u001b[0m \u001b[1;36m1\u001b[0m\u001b[1;33m\u001b[0m\u001b[1;33m\u001b[0m\u001b[0m\n\u001b[1;32m---> 46\u001b[1;33m         \u001b[0my_pred\u001b[0m \u001b[1;33m=\u001b[0m \u001b[0mmodel\u001b[0m\u001b[1;33m(\u001b[0m\u001b[0mXcattrain\u001b[0m\u001b[1;33m,\u001b[0m \u001b[0mXnumtrain\u001b[0m\u001b[1;33m)\u001b[0m\u001b[1;33m\u001b[0m\u001b[1;33m\u001b[0m\u001b[0m\n\u001b[0m\u001b[0;32m     47\u001b[0m         \u001b[0msingle_loss\u001b[0m \u001b[1;33m=\u001b[0m \u001b[0mloss_function\u001b[0m\u001b[1;33m(\u001b[0m\u001b[0my_pred\u001b[0m\u001b[1;33m,\u001b[0m \u001b[0mytrain\u001b[0m\u001b[1;33m.\u001b[0m\u001b[0mfloat\u001b[0m\u001b[1;33m(\u001b[0m\u001b[1;33m)\u001b[0m\u001b[1;33m)\u001b[0m\u001b[1;33m\u001b[0m\u001b[1;33m\u001b[0m\u001b[0m\n\u001b[0;32m     48\u001b[0m         \u001b[0maggregated_losses\u001b[0m\u001b[1;33m.\u001b[0m\u001b[0mappend\u001b[0m\u001b[1;33m(\u001b[0m\u001b[0msingle_loss\u001b[0m\u001b[1;33m)\u001b[0m\u001b[1;33m\u001b[0m\u001b[1;33m\u001b[0m\u001b[0m\n",
      "\u001b[1;32m~\\Anaconda3\\lib\\site-packages\\torch\\nn\\modules\\module.py\u001b[0m in \u001b[0;36m__call__\u001b[1;34m(self, *input, **kwargs)\u001b[0m\n\u001b[0;32m    545\u001b[0m             \u001b[0mresult\u001b[0m \u001b[1;33m=\u001b[0m \u001b[0mself\u001b[0m\u001b[1;33m.\u001b[0m\u001b[0m_slow_forward\u001b[0m\u001b[1;33m(\u001b[0m\u001b[1;33m*\u001b[0m\u001b[0minput\u001b[0m\u001b[1;33m,\u001b[0m \u001b[1;33m**\u001b[0m\u001b[0mkwargs\u001b[0m\u001b[1;33m)\u001b[0m\u001b[1;33m\u001b[0m\u001b[1;33m\u001b[0m\u001b[0m\n\u001b[0;32m    546\u001b[0m         \u001b[1;32melse\u001b[0m\u001b[1;33m:\u001b[0m\u001b[1;33m\u001b[0m\u001b[1;33m\u001b[0m\u001b[0m\n\u001b[1;32m--> 547\u001b[1;33m             \u001b[0mresult\u001b[0m \u001b[1;33m=\u001b[0m \u001b[0mself\u001b[0m\u001b[1;33m.\u001b[0m\u001b[0mforward\u001b[0m\u001b[1;33m(\u001b[0m\u001b[1;33m*\u001b[0m\u001b[0minput\u001b[0m\u001b[1;33m,\u001b[0m \u001b[1;33m**\u001b[0m\u001b[0mkwargs\u001b[0m\u001b[1;33m)\u001b[0m\u001b[1;33m\u001b[0m\u001b[1;33m\u001b[0m\u001b[0m\n\u001b[0m\u001b[0;32m    548\u001b[0m         \u001b[1;32mfor\u001b[0m \u001b[0mhook\u001b[0m \u001b[1;32min\u001b[0m \u001b[0mself\u001b[0m\u001b[1;33m.\u001b[0m\u001b[0m_forward_hooks\u001b[0m\u001b[1;33m.\u001b[0m\u001b[0mvalues\u001b[0m\u001b[1;33m(\u001b[0m\u001b[1;33m)\u001b[0m\u001b[1;33m:\u001b[0m\u001b[1;33m\u001b[0m\u001b[1;33m\u001b[0m\u001b[0m\n\u001b[0;32m    549\u001b[0m             \u001b[0mhook_result\u001b[0m \u001b[1;33m=\u001b[0m \u001b[0mhook\u001b[0m\u001b[1;33m(\u001b[0m\u001b[0mself\u001b[0m\u001b[1;33m,\u001b[0m \u001b[0minput\u001b[0m\u001b[1;33m,\u001b[0m \u001b[0mresult\u001b[0m\u001b[1;33m)\u001b[0m\u001b[1;33m\u001b[0m\u001b[1;33m\u001b[0m\u001b[0m\n",
      "\u001b[1;32m<ipython-input-45-e39f481bef99>\u001b[0m in \u001b[0;36mforward\u001b[1;34m(self, x_categorical, x_numerical)\u001b[0m\n\u001b[0;32m     31\u001b[0m         \u001b[0mx_numerical\u001b[0m \u001b[1;33m=\u001b[0m \u001b[0mself\u001b[0m\u001b[1;33m.\u001b[0m\u001b[0mbatch_norm_num\u001b[0m\u001b[1;33m(\u001b[0m\u001b[0mx_numerical\u001b[0m\u001b[1;33m)\u001b[0m\u001b[1;33m\u001b[0m\u001b[1;33m\u001b[0m\u001b[0m\n\u001b[0;32m     32\u001b[0m         \u001b[0mx\u001b[0m \u001b[1;33m=\u001b[0m \u001b[0mtorch\u001b[0m\u001b[1;33m.\u001b[0m\u001b[0mcat\u001b[0m\u001b[1;33m(\u001b[0m\u001b[1;33m[\u001b[0m\u001b[0mx\u001b[0m\u001b[1;33m,\u001b[0m \u001b[0mx_numerical\u001b[0m\u001b[1;33m]\u001b[0m\u001b[1;33m,\u001b[0m \u001b[1;36m1\u001b[0m\u001b[1;33m)\u001b[0m\u001b[1;33m\u001b[0m\u001b[1;33m\u001b[0m\u001b[0m\n\u001b[1;32m---> 33\u001b[1;33m         \u001b[0mx\u001b[0m \u001b[1;33m=\u001b[0m \u001b[0mself\u001b[0m\u001b[1;33m.\u001b[0m\u001b[0mlayers\u001b[0m\u001b[1;33m(\u001b[0m\u001b[0mx\u001b[0m\u001b[1;33m)\u001b[0m\u001b[1;33m\u001b[0m\u001b[1;33m\u001b[0m\u001b[0m\n\u001b[0m\u001b[0;32m     34\u001b[0m         \u001b[1;32mreturn\u001b[0m \u001b[0mnn\u001b[0m\u001b[1;33m.\u001b[0m\u001b[0mfunctional\u001b[0m\u001b[1;33m.\u001b[0m\u001b[0msigmoid\u001b[0m\u001b[1;33m(\u001b[0m\u001b[0mx\u001b[0m\u001b[1;33m)\u001b[0m\u001b[1;33m\u001b[0m\u001b[1;33m\u001b[0m\u001b[0m\n",
      "\u001b[1;32m~\\Anaconda3\\lib\\site-packages\\torch\\nn\\modules\\module.py\u001b[0m in \u001b[0;36m__call__\u001b[1;34m(self, *input, **kwargs)\u001b[0m\n\u001b[0;32m    545\u001b[0m             \u001b[0mresult\u001b[0m \u001b[1;33m=\u001b[0m \u001b[0mself\u001b[0m\u001b[1;33m.\u001b[0m\u001b[0m_slow_forward\u001b[0m\u001b[1;33m(\u001b[0m\u001b[1;33m*\u001b[0m\u001b[0minput\u001b[0m\u001b[1;33m,\u001b[0m \u001b[1;33m**\u001b[0m\u001b[0mkwargs\u001b[0m\u001b[1;33m)\u001b[0m\u001b[1;33m\u001b[0m\u001b[1;33m\u001b[0m\u001b[0m\n\u001b[0;32m    546\u001b[0m         \u001b[1;32melse\u001b[0m\u001b[1;33m:\u001b[0m\u001b[1;33m\u001b[0m\u001b[1;33m\u001b[0m\u001b[0m\n\u001b[1;32m--> 547\u001b[1;33m             \u001b[0mresult\u001b[0m \u001b[1;33m=\u001b[0m \u001b[0mself\u001b[0m\u001b[1;33m.\u001b[0m\u001b[0mforward\u001b[0m\u001b[1;33m(\u001b[0m\u001b[1;33m*\u001b[0m\u001b[0minput\u001b[0m\u001b[1;33m,\u001b[0m \u001b[1;33m**\u001b[0m\u001b[0mkwargs\u001b[0m\u001b[1;33m)\u001b[0m\u001b[1;33m\u001b[0m\u001b[1;33m\u001b[0m\u001b[0m\n\u001b[0m\u001b[0;32m    548\u001b[0m         \u001b[1;32mfor\u001b[0m \u001b[0mhook\u001b[0m \u001b[1;32min\u001b[0m \u001b[0mself\u001b[0m\u001b[1;33m.\u001b[0m\u001b[0m_forward_hooks\u001b[0m\u001b[1;33m.\u001b[0m\u001b[0mvalues\u001b[0m\u001b[1;33m(\u001b[0m\u001b[1;33m)\u001b[0m\u001b[1;33m:\u001b[0m\u001b[1;33m\u001b[0m\u001b[1;33m\u001b[0m\u001b[0m\n\u001b[0;32m    549\u001b[0m             \u001b[0mhook_result\u001b[0m \u001b[1;33m=\u001b[0m \u001b[0mhook\u001b[0m\u001b[1;33m(\u001b[0m\u001b[0mself\u001b[0m\u001b[1;33m,\u001b[0m \u001b[0minput\u001b[0m\u001b[1;33m,\u001b[0m \u001b[0mresult\u001b[0m\u001b[1;33m)\u001b[0m\u001b[1;33m\u001b[0m\u001b[1;33m\u001b[0m\u001b[0m\n",
      "\u001b[1;32m~\\Anaconda3\\lib\\site-packages\\torch\\nn\\modules\\container.py\u001b[0m in \u001b[0;36mforward\u001b[1;34m(self, input)\u001b[0m\n\u001b[0;32m     90\u001b[0m     \u001b[1;32mdef\u001b[0m \u001b[0mforward\u001b[0m\u001b[1;33m(\u001b[0m\u001b[0mself\u001b[0m\u001b[1;33m,\u001b[0m \u001b[0minput\u001b[0m\u001b[1;33m)\u001b[0m\u001b[1;33m:\u001b[0m\u001b[1;33m\u001b[0m\u001b[1;33m\u001b[0m\u001b[0m\n\u001b[0;32m     91\u001b[0m         \u001b[1;32mfor\u001b[0m \u001b[0mmodule\u001b[0m \u001b[1;32min\u001b[0m \u001b[0mself\u001b[0m\u001b[1;33m.\u001b[0m\u001b[0m_modules\u001b[0m\u001b[1;33m.\u001b[0m\u001b[0mvalues\u001b[0m\u001b[1;33m(\u001b[0m\u001b[1;33m)\u001b[0m\u001b[1;33m:\u001b[0m\u001b[1;33m\u001b[0m\u001b[1;33m\u001b[0m\u001b[0m\n\u001b[1;32m---> 92\u001b[1;33m             \u001b[0minput\u001b[0m \u001b[1;33m=\u001b[0m \u001b[0mmodule\u001b[0m\u001b[1;33m(\u001b[0m\u001b[0minput\u001b[0m\u001b[1;33m)\u001b[0m\u001b[1;33m\u001b[0m\u001b[1;33m\u001b[0m\u001b[0m\n\u001b[0m\u001b[0;32m     93\u001b[0m         \u001b[1;32mreturn\u001b[0m \u001b[0minput\u001b[0m\u001b[1;33m\u001b[0m\u001b[1;33m\u001b[0m\u001b[0m\n\u001b[0;32m     94\u001b[0m \u001b[1;33m\u001b[0m\u001b[0m\n",
      "\u001b[1;32m~\\Anaconda3\\lib\\site-packages\\torch\\nn\\modules\\module.py\u001b[0m in \u001b[0;36m__call__\u001b[1;34m(self, *input, **kwargs)\u001b[0m\n\u001b[0;32m    545\u001b[0m             \u001b[0mresult\u001b[0m \u001b[1;33m=\u001b[0m \u001b[0mself\u001b[0m\u001b[1;33m.\u001b[0m\u001b[0m_slow_forward\u001b[0m\u001b[1;33m(\u001b[0m\u001b[1;33m*\u001b[0m\u001b[0minput\u001b[0m\u001b[1;33m,\u001b[0m \u001b[1;33m**\u001b[0m\u001b[0mkwargs\u001b[0m\u001b[1;33m)\u001b[0m\u001b[1;33m\u001b[0m\u001b[1;33m\u001b[0m\u001b[0m\n\u001b[0;32m    546\u001b[0m         \u001b[1;32melse\u001b[0m\u001b[1;33m:\u001b[0m\u001b[1;33m\u001b[0m\u001b[1;33m\u001b[0m\u001b[0m\n\u001b[1;32m--> 547\u001b[1;33m             \u001b[0mresult\u001b[0m \u001b[1;33m=\u001b[0m \u001b[0mself\u001b[0m\u001b[1;33m.\u001b[0m\u001b[0mforward\u001b[0m\u001b[1;33m(\u001b[0m\u001b[1;33m*\u001b[0m\u001b[0minput\u001b[0m\u001b[1;33m,\u001b[0m \u001b[1;33m**\u001b[0m\u001b[0mkwargs\u001b[0m\u001b[1;33m)\u001b[0m\u001b[1;33m\u001b[0m\u001b[1;33m\u001b[0m\u001b[0m\n\u001b[0m\u001b[0;32m    548\u001b[0m         \u001b[1;32mfor\u001b[0m \u001b[0mhook\u001b[0m \u001b[1;32min\u001b[0m \u001b[0mself\u001b[0m\u001b[1;33m.\u001b[0m\u001b[0m_forward_hooks\u001b[0m\u001b[1;33m.\u001b[0m\u001b[0mvalues\u001b[0m\u001b[1;33m(\u001b[0m\u001b[1;33m)\u001b[0m\u001b[1;33m:\u001b[0m\u001b[1;33m\u001b[0m\u001b[1;33m\u001b[0m\u001b[0m\n\u001b[0;32m    549\u001b[0m             \u001b[0mhook_result\u001b[0m \u001b[1;33m=\u001b[0m \u001b[0mhook\u001b[0m\u001b[1;33m(\u001b[0m\u001b[0mself\u001b[0m\u001b[1;33m,\u001b[0m \u001b[0minput\u001b[0m\u001b[1;33m,\u001b[0m \u001b[0mresult\u001b[0m\u001b[1;33m)\u001b[0m\u001b[1;33m\u001b[0m\u001b[1;33m\u001b[0m\u001b[0m\n",
      "\u001b[1;32m~\\Anaconda3\\lib\\site-packages\\torch\\nn\\modules\\linear.py\u001b[0m in \u001b[0;36mforward\u001b[1;34m(self, input)\u001b[0m\n\u001b[0;32m     85\u001b[0m \u001b[1;33m\u001b[0m\u001b[0m\n\u001b[0;32m     86\u001b[0m     \u001b[1;32mdef\u001b[0m \u001b[0mforward\u001b[0m\u001b[1;33m(\u001b[0m\u001b[0mself\u001b[0m\u001b[1;33m,\u001b[0m \u001b[0minput\u001b[0m\u001b[1;33m)\u001b[0m\u001b[1;33m:\u001b[0m\u001b[1;33m\u001b[0m\u001b[1;33m\u001b[0m\u001b[0m\n\u001b[1;32m---> 87\u001b[1;33m         \u001b[1;32mreturn\u001b[0m \u001b[0mF\u001b[0m\u001b[1;33m.\u001b[0m\u001b[0mlinear\u001b[0m\u001b[1;33m(\u001b[0m\u001b[0minput\u001b[0m\u001b[1;33m,\u001b[0m \u001b[0mself\u001b[0m\u001b[1;33m.\u001b[0m\u001b[0mweight\u001b[0m\u001b[1;33m,\u001b[0m \u001b[0mself\u001b[0m\u001b[1;33m.\u001b[0m\u001b[0mbias\u001b[0m\u001b[1;33m)\u001b[0m\u001b[1;33m\u001b[0m\u001b[1;33m\u001b[0m\u001b[0m\n\u001b[0m\u001b[0;32m     88\u001b[0m \u001b[1;33m\u001b[0m\u001b[0m\n\u001b[0;32m     89\u001b[0m     \u001b[1;32mdef\u001b[0m \u001b[0mextra_repr\u001b[0m\u001b[1;33m(\u001b[0m\u001b[0mself\u001b[0m\u001b[1;33m)\u001b[0m\u001b[1;33m:\u001b[0m\u001b[1;33m\u001b[0m\u001b[1;33m\u001b[0m\u001b[0m\n",
      "\u001b[1;32m~\\Anaconda3\\lib\\site-packages\\torch\\nn\\functional.py\u001b[0m in \u001b[0;36mlinear\u001b[1;34m(input, weight, bias)\u001b[0m\n\u001b[0;32m   1367\u001b[0m     \u001b[1;32mif\u001b[0m \u001b[0minput\u001b[0m\u001b[1;33m.\u001b[0m\u001b[0mdim\u001b[0m\u001b[1;33m(\u001b[0m\u001b[1;33m)\u001b[0m \u001b[1;33m==\u001b[0m \u001b[1;36m2\u001b[0m \u001b[1;32mand\u001b[0m \u001b[0mbias\u001b[0m \u001b[1;32mis\u001b[0m \u001b[1;32mnot\u001b[0m \u001b[1;32mNone\u001b[0m\u001b[1;33m:\u001b[0m\u001b[1;33m\u001b[0m\u001b[1;33m\u001b[0m\u001b[0m\n\u001b[0;32m   1368\u001b[0m         \u001b[1;31m# fused op is marginally faster\u001b[0m\u001b[1;33m\u001b[0m\u001b[1;33m\u001b[0m\u001b[1;33m\u001b[0m\u001b[0m\n\u001b[1;32m-> 1369\u001b[1;33m         \u001b[0mret\u001b[0m \u001b[1;33m=\u001b[0m \u001b[0mtorch\u001b[0m\u001b[1;33m.\u001b[0m\u001b[0maddmm\u001b[0m\u001b[1;33m(\u001b[0m\u001b[0mbias\u001b[0m\u001b[1;33m,\u001b[0m \u001b[0minput\u001b[0m\u001b[1;33m,\u001b[0m \u001b[0mweight\u001b[0m\u001b[1;33m.\u001b[0m\u001b[0mt\u001b[0m\u001b[1;33m(\u001b[0m\u001b[1;33m)\u001b[0m\u001b[1;33m)\u001b[0m\u001b[1;33m\u001b[0m\u001b[1;33m\u001b[0m\u001b[0m\n\u001b[0m\u001b[0;32m   1370\u001b[0m     \u001b[1;32melse\u001b[0m\u001b[1;33m:\u001b[0m\u001b[1;33m\u001b[0m\u001b[1;33m\u001b[0m\u001b[0m\n\u001b[0;32m   1371\u001b[0m         \u001b[0moutput\u001b[0m \u001b[1;33m=\u001b[0m \u001b[0minput\u001b[0m\u001b[1;33m.\u001b[0m\u001b[0mmatmul\u001b[0m\u001b[1;33m(\u001b[0m\u001b[0mweight\u001b[0m\u001b[1;33m.\u001b[0m\u001b[0mt\u001b[0m\u001b[1;33m(\u001b[0m\u001b[1;33m)\u001b[0m\u001b[1;33m)\u001b[0m\u001b[1;33m\u001b[0m\u001b[1;33m\u001b[0m\u001b[0m\n",
      "\u001b[1;31mRuntimeError\u001b[0m: size mismatch, m1: [4920 x 9], m2: [11 x 14] at C:\\w\\1\\s\\tmp_conda_3.6_014803\\conda\\conda-bld\\pytorch_1565315401686\\work\\aten\\src\\TH/generic/THTensorMath.cpp:752"
     ]
    }
   ],
   "source": [
    "ACTIV = {0: torch.nn.Tanh(),\n",
    "         1: torch.nn.ReLU(),\n",
    "         2: torch.nn.ReLU6(),\n",
    "         3: torch.nn.Sigmoid(),\n",
    "        }\n",
    "\n",
    "netsize = 246\n",
    "\n",
    "## we have to define the function we want to maximize --> validation accuracy, \n",
    "## note it should take a 2D ndarray but it is ok that it assumes only one point\n",
    "## in this setting\n",
    "def objective_function(x): \n",
    "    model = Model(categorical_embedding_sizes, 4, 1, [16,32,64,128,64], p=0.5)\n",
    "    print(x)\n",
    "    # we have to handle the categorical variables that is convert 0/1 to labels\n",
    "    # log2/sqrt and gini/entropy\n",
    "    \n",
    "    param = x[0]\n",
    "    hyperparameters = {\n",
    "        'hidden_units_1': int(np.ceil(param[0]*netsize*0.125)+int(10)),\n",
    "        'hidden_units_2': int(np.ceil(param[0]*netsize*0.25)+int(10)),\n",
    "        'hidden_units_3': int(np.ceil(param[0]*netsize*0.5)+int(10)),\n",
    "        'hidden_units_4': int(np.ceil(param[0]*netsize)+int(10)),\n",
    "        'hidden_units_5': int(np.ceil(param[0]*netsize*0.5)+int(10)),\n",
    "        'p': param[1],\n",
    "        'activation_func': ACTIV[int(param[2])]\n",
    "    }\n",
    "    print(hyperparameters)\n",
    "    trained_model, neural_acc  = train_model(hyperparameters, model)\n",
    "    print(neural_acc)\n",
    "    return -neural_acc\n",
    "    \n",
    "# define the dictionary for GPyOpt\n",
    "domain = [{'hidden_units'   : 'var_1', 'type': 'continuous', 'domain': (0 , 1)},\n",
    "          {'p'              : 'var_2', 'type': 'continuous',  'domain': (0 , 1)},\n",
    "          {'activation_func': 'var_3', 'type': 'categorical','domain': tuple(np.arange(4))}]\n",
    "\n",
    "\n",
    "opt = GPyOpt.methods.BayesianOptimization(f = objective_function,   # function to optimize\n",
    "                                              domain = domain,         # box-constrains of the problem\n",
    "                                              acquisition_type = \"EI\",      # Select acquisition function MPI, EI, LCB\n",
    "                                             )\n",
    "opt.acquisition.exploration_weight=.1\n",
    "\n",
    "opt.run_optimization(max_iter = 100) \n",
    "\n",
    "\n",
    "x_best = opt.X[np.argmin(opt.Y)]\n",
    "print(\"bedste: \", x_best)\n",
    "#print(\"The best parameters obtained: n_estimators=\" + str(x_best[0]) + \", max_depth=\" + str(x_best[1]) + \", max_features=\" + str(\n",
    "#    x_best[2])  + \", criterion=\" + str(\n",
    "#    x_best[3]))"
   ]
  },
  {
   "cell_type": "markdown",
   "metadata": {},
   "source": [
    "# Baseline"
   ]
  },
  {
   "cell_type": "code",
   "execution_count": 46,
   "metadata": {},
   "outputs": [
    {
     "ename": "ValueError",
     "evalue": "could not determine the shape of object type 'Series'",
     "output_type": "error",
     "traceback": [
      "\u001b[1;31m---------------------------------------------------------------------------\u001b[0m",
      "\u001b[1;31mValueError\u001b[0m                                Traceback (most recent call last)",
      "\u001b[1;32m<ipython-input-46-fddb74088842>\u001b[0m in \u001b[0;36m<module>\u001b[1;34m\u001b[0m\n\u001b[0;32m      8\u001b[0m     \u001b[1;32mreturn\u001b[0m \u001b[0my_pred\u001b[0m\u001b[1;33m\u001b[0m\u001b[1;33m\u001b[0m\u001b[0m\n\u001b[0;32m      9\u001b[0m \u001b[1;33m\u001b[0m\u001b[0m\n\u001b[1;32m---> 10\u001b[1;33m \u001b[0mtrues\u001b[0m \u001b[1;33m=\u001b[0m \u001b[0mtorch\u001b[0m\u001b[1;33m.\u001b[0m\u001b[0mtensor\u001b[0m\u001b[1;33m(\u001b[0m\u001b[0mdata\u001b[0m\u001b[1;33m[\u001b[0m\u001b[1;34m\"score_text\"\u001b[0m\u001b[1;33m]\u001b[0m\u001b[1;33m)\u001b[0m\u001b[1;33m\u001b[0m\u001b[1;33m\u001b[0m\u001b[0m\n\u001b[0m\u001b[0;32m     11\u001b[0m \u001b[0my_pred\u001b[0m \u001b[1;33m=\u001b[0m \u001b[0mbaseline\u001b[0m\u001b[1;33m(\u001b[0m\u001b[0mdata\u001b[0m\u001b[1;33m)\u001b[0m\u001b[1;33m\u001b[0m\u001b[1;33m\u001b[0m\u001b[0m\n\u001b[0;32m     12\u001b[0m \u001b[0mconf_baseline\u001b[0m \u001b[1;33m=\u001b[0m \u001b[0mconfusion_matrix\u001b[0m\u001b[1;33m(\u001b[0m\u001b[0my_pred\u001b[0m\u001b[1;33m,\u001b[0m\u001b[0mtrues\u001b[0m\u001b[1;33m)\u001b[0m\u001b[1;33m\u001b[0m\u001b[1;33m\u001b[0m\u001b[0m\n",
      "\u001b[1;31mValueError\u001b[0m: could not determine the shape of object type 'Series'"
     ]
    }
   ],
   "source": [
    "\n",
    "def baseline(data):\n",
    "    if len(data[data[\"score_text\"] == 0]) > len(data[data[\"score_text\"] == 1]):\n",
    "        y_pred = [0] * len(data[\"score_text\"])\n",
    "        y_pred = torch.tensor(y_pred)\n",
    "    else:\n",
    "        y_pred = [1] * len(data[\"score_text\"])\n",
    "        y_pred = torch.tensor(y_pred)\n",
    "    return y_pred\n",
    "\n",
    "trues = torch.tensor(data[\"score_text\"])\n",
    "y_pred = baseline(data)\n",
    "conf_baseline = confusion_matrix(y_pred,trues)\n",
    "print(conf_baseline)\n",
    "print(conf_baseline / conf_baseline.astype(np.float).sum())\n",
    "baseline_acc = accuracy_score(y_pred, trues)\n",
    "print(baseline_acc)\n",
    "print(\"Difference between baseline and neural network:\", neural_acc - baseline_acc)"
   ]
  },
  {
   "cell_type": "markdown",
   "metadata": {},
   "source": [
    "# Train the Model"
   ]
  },
  {
   "cell_type": "code",
   "execution_count": 50,
   "metadata": {},
   "outputs": [
    {
     "name": "stdout",
     "output_type": "stream",
     "text": [
      "Model(\n",
      "  (all_embeddings): ModuleList(\n",
      "    (0): Embedding(2, 1)\n",
      "    (1): Embedding(2, 1)\n",
      "    (2): Embedding(3, 2)\n",
      "    (3): Embedding(2, 1)\n",
      "  )\n",
      "  (embedding_dropout): Dropout(p=0.5, inplace=False)\n",
      "  (batch_norm_num): BatchNorm1d(4, eps=1e-05, momentum=0.1, affine=True, track_running_stats=True)\n",
      "  (layers): Sequential(\n",
      "    (0): Linear(in_features=9, out_features=16, bias=True)\n",
      "    (1): ReLU(inplace=True)\n",
      "    (2): BatchNorm1d(16, eps=1e-05, momentum=0.1, affine=True, track_running_stats=True)\n",
      "    (3): Dropout(p=0.5, inplace=False)\n",
      "    (4): Linear(in_features=16, out_features=32, bias=True)\n",
      "    (5): ReLU(inplace=True)\n",
      "    (6): BatchNorm1d(32, eps=1e-05, momentum=0.1, affine=True, track_running_stats=True)\n",
      "    (7): Dropout(p=0.5, inplace=False)\n",
      "    (8): Linear(in_features=32, out_features=64, bias=True)\n",
      "    (9): ReLU(inplace=True)\n",
      "    (10): BatchNorm1d(64, eps=1e-05, momentum=0.1, affine=True, track_running_stats=True)\n",
      "    (11): Dropout(p=0.5, inplace=False)\n",
      "    (12): Linear(in_features=64, out_features=128, bias=True)\n",
      "    (13): ReLU(inplace=True)\n",
      "    (14): BatchNorm1d(128, eps=1e-05, momentum=0.1, affine=True, track_running_stats=True)\n",
      "    (15): Dropout(p=0.5, inplace=False)\n",
      "    (16): Linear(in_features=128, out_features=64, bias=True)\n",
      "    (17): ReLU(inplace=True)\n",
      "    (18): BatchNorm1d(64, eps=1e-05, momentum=0.1, affine=True, track_running_stats=True)\n",
      "    (19): Dropout(p=0.5, inplace=False)\n",
      "    (20): Linear(in_features=64, out_features=1, bias=True)\n",
      "  )\n",
      ")\n"
     ]
    }
   ],
   "source": [
    "# Define and show the model\n",
    "model = Model(categorical_embedding_sizes, 4, 1, [16,32,64,128,64], p=0.5)\n",
    "if use_cuda:\n",
    "    model.cuda()\n",
    "print(model)\n",
    "for param in model.parameters():\n",
    "            param.requires_grad = True\n"
   ]
  },
  {
   "cell_type": "code",
   "execution_count": 52,
   "metadata": {},
   "outputs": [],
   "source": [
    "# Loss function and optimization\n",
    "loss_function = nn.BCELoss()\n",
    "optimizer = torch.optim.Adam(model.parameters(), lr=0.001, weight_decay = 1e-6)\n",
    "threshold = 0.5\n",
    "epochs = 1000\n",
    "np.random.seed(42)"
   ]
  },
  {
   "cell_type": "code",
   "execution_count": 53,
   "metadata": {},
   "outputs": [
    {
     "name": "stdout",
     "output_type": "stream",
     "text": [
      "epoch:   1 loss: 0.74982023\n",
      "epoch:  26 loss: 0.64551008\n",
      "epoch:  51 loss: 0.60394847\n",
      "epoch:  76 loss: 0.58452487\n",
      "epoch: 101 loss: 0.56705421\n",
      "epoch: 126 loss: 0.56458950\n",
      "epoch: 151 loss: 0.55587596\n",
      "epoch: 176 loss: 0.55018348\n",
      "epoch: 201 loss: 0.54179651\n",
      "epoch: 226 loss: 0.53848726\n",
      "epoch: 251 loss: 0.53812253\n",
      "epoch: 276 loss: 0.53423506\n",
      "epoch: 301 loss: 0.53626919\n",
      "epoch: 326 loss: 0.53152502\n",
      "epoch: 351 loss: 0.53065741\n",
      "epoch: 376 loss: 0.53264785\n",
      "epoch: 401 loss: 0.52610475\n",
      "epoch: 426 loss: 0.52651906\n",
      "epoch: 451 loss: 0.52757841\n",
      "epoch: 476 loss: 0.52915263\n",
      "epoch: 501 loss: 0.52543968\n",
      "epoch: 526 loss: 0.52644414\n",
      "epoch: 551 loss: 0.52347851\n",
      "epoch: 576 loss: 0.52462101\n",
      "epoch: 601 loss: 0.52245754\n",
      "epoch: 626 loss: 0.52085900\n",
      "epoch: 651 loss: 0.51731628\n",
      "epoch: 676 loss: 0.52653551\n",
      "epoch: 701 loss: 0.52166641\n",
      "epoch: 726 loss: 0.52179056\n",
      "epoch: 751 loss: 0.52311587\n",
      "epoch: 776 loss: 0.52045876\n",
      "epoch: 801 loss: 0.52202749\n",
      "epoch: 826 loss: 0.51753521\n",
      "epoch: 851 loss: 0.52195919\n",
      "epoch: 876 loss: 0.51857466\n",
      "epoch: 901 loss: 0.52479017\n",
      "epoch: 926 loss: 0.52150667\n",
      "epoch: 951 loss: 0.52183539\n",
      "epoch: 976 loss: 0.52227384\n",
      "epoch: 1000 loss: 0.5221877098\n",
      "[[468 147]\n",
      " [238 377]]\n",
      "[[0.66288952 0.2082153 ]\n",
      " [0.45419847 0.71946565]]\n",
      "              precision    recall  f1-score   support\n",
      "\n",
      "           0       0.66      0.76      0.71       615\n",
      "           1       0.72      0.61      0.66       615\n",
      "\n",
      "    accuracy                           0.69      1230\n",
      "   macro avg       0.69      0.69      0.69      1230\n",
      "weighted avg       0.69      0.69      0.69      1230\n",
      "\n",
      "0.6869918699186992\n"
     ]
    },
    {
     "data": {
      "image/png": "[encoded data removed]",
      "text/plain": [
       "<Figure size 432x288 with 1 Axes>"
      ]
     },
     "metadata": {
      "needs_background": "light"
     },
     "output_type": "display_data"
    }
   ],
   "source": [
    "aggregated_losses = []\n",
    "\n",
    "# Initialize lists for training and validation\n",
    "train_iter = []\n",
    "train_loss, train_accs = [], []\n",
    "valid_iter = []\n",
    "valid_loss, valid_accs = [], []\n",
    "\n",
    "model.train()\n",
    "for i in range(epochs):\n",
    "    i += 1\n",
    "    y_pred = model(Xcattrain, Xnumtrain)\n",
    "    single_loss = loss_function(y_pred, ytrain.float())\n",
    "    aggregated_losses.append(single_loss)\n",
    "\n",
    "    if i % 25 == 1:\n",
    "        print(f'epoch: {i:3} loss: {single_loss.item():10.8f}')\n",
    "\n",
    "    optimizer.zero_grad()\n",
    "    single_loss.backward()\n",
    "    optimizer.step()\n",
    "\n",
    "print(f'epoch: {i:3} loss: {single_loss.item():10.10f}')\n",
    "\n",
    "\n",
    "\n",
    "# Plot the loss over epocs\n",
    "if \"plot\":\n",
    "    plt.plot(range(epochs), aggregated_losses)\n",
    "    plt.ylabel('Loss')\n",
    "    plt.xlabel('epoch');\n",
    "\n",
    "\n",
    "# Predict on the test set\n",
    "model.eval()\n",
    "with torch.no_grad():\n",
    "    y_val = model(Xcattest, Xnumtest)\n",
    "    loss = loss_function(y_val, ytest.float())\n",
    "\n",
    "\n",
    "y_pred = (y_val > threshold).float()\n",
    "\n",
    "\n",
    "conf = confusion_matrix(ytest,y_pred)\n",
    "conf_norm = np.copy(conf).astype(float)\n",
    "for i in range(2):\n",
    "    conf_norm[i,:] = conf[i,:] / np.sum(conf, axis = 0)[i]\n",
    "\n",
    "print(conf)\n",
    "print(conf_norm)\n",
    "print(classification_report(ytest,y_pred))\n",
    "print(accuracy_score(ytest, y_pred))"
   ]
  },
  {
   "cell_type": "markdown",
   "metadata": {},
   "source": [
    "# Confusion matrix for black/white"
   ]
  },
  {
   "cell_type": "code",
   "execution_count": 54,
   "metadata": {},
   "outputs": [
    {
     "name": "stdout",
     "output_type": "stream",
     "text": [
      "Confussion matrix for the white:\n",
      "[[202 100]\n",
      " [ 63 118]]\n",
      "[[0.66887417 0.33112583]\n",
      " [0.3480663  0.6519337 ]]\n",
      "\n",
      "Confussion matrix for the black:\n",
      "[[265  86]\n",
      " [182 214]]\n",
      "[[0.75498575 0.24501425]\n",
      " [0.45959596 0.54040404]]\n"
     ]
    }
   ],
   "source": [
    "df = data[totalnumber - testnumber:totalnumber]\n",
    "black_data = df[df[\"race\"]==\"African-American\"]\n",
    "white_data = df[df[\"race\"]==\"Caucasian\"]\n",
    "Xcat_white, Xnum_white = dataprep(white_data, norm_type = \"zscore\")\n",
    "Xcat_black, Xnum_black = dataprep(black_data, norm_type = \"zscore\")\n",
    "model.eval()\n",
    "y_val_white = model(Xcat_white, Xnum_white)\n",
    "y_pred1 = (y_val_white > threshold).float()\n",
    "y_val_black = model(Xcat_black, Xnum_black)\n",
    "y_pred2 = (y_val_black > threshold).float()\n",
    "\n",
    "# Ground truth of recidivism from dataset\n",
    "y_white = torch.tensor(white_data[\"two_year_recid\"].values).flatten()\n",
    "y_black = torch.tensor(black_data[\"two_year_recid\"].values).flatten()\n",
    "\n",
    "print(\"Confussion matrix for the white:\")\n",
    "conf_white = confusion_matrix( y_white, y_pred1)\n",
    "conf_black = confusion_matrix( y_black, y_pred2)\n",
    "\n",
    "conf_white_norm = np.copy(conf_white).astype(float)\n",
    "conf_black_norm = np.copy(conf_black).astype(float)\n",
    "for i in range(2):\n",
    "    conf_white_norm[i,:] = conf_white[i,:] / np.sum(conf_white, axis = 1)[i]\n",
    "    conf_black_norm[i,:] = conf_black[i,:] / np.sum(conf_black, axis = 1)[i]\n",
    "\n",
    "print(conf_white)\n",
    "print(conf_white_norm)\n",
    "print()\n",
    "print(\"Confussion matrix for the black:\")\n",
    "print(conf_black)\n",
    "print(conf_black_norm)\n",
    "\n",
    "#print(conf_white / conf_white.astype(np.float).sum(axis=1))\n",
    "#print(conf_black / conf_black.astype(np.float).sum(axis=1))\n",
    "#[0.21548821548821548, 0.3638968481375358] [0.5674157303370787, 0.6658227848101266]\n",
    "#00 / 00 + 10\n",
    "#01 / 01 + 00"
   ]
  },
  {
   "cell_type": "markdown",
   "metadata": {},
   "source": [
    "* # Fede plots til fremtiden måske:\n",
    "\n",
    "\n",
    "# Plots of the distribution of black and whites in each category of scoretext\n",
    "sb.countplot(x = \"score_text\", data = black_data)\n",
    "print(len(black_data[black_data[\"score_text\"] == 0]))\n",
    "print(len(black_data[black_data[\"score_text\"] == 1]))\n",
    "plt.show()\n",
    "sb.countplot(x = \"score_text\", data = white_data)\n",
    "print(len(white_data[white_data[\"score_text\"] == 0]))\n",
    "print(len(white_data[white_data[\"score_text\"] == 1]))\n",
    "plt.show()"
   ]
  },
  {
   "cell_type": "markdown",
   "metadata": {},
   "source": [
    "# Neural Network Bias Correction"
   ]
  },
  {
   "cell_type": "code",
   "execution_count": 55,
   "metadata": {},
   "outputs": [
    {
     "data": {
      "image/png": "[encoded data removed]",
      "text/plain": [
       "<Figure size 432x288 with 1 Axes>"
      ]
     },
     "metadata": {
      "needs_background": "light"
     },
     "output_type": "display_data"
    },
    {
     "name": "stdout",
     "output_type": "stream",
     "text": [
      "0.48 0.42 0.6642304206473928\n"
     ]
    }
   ],
   "source": [
    "BiasCorrection(100, y_val_white, y_val_black, y_white, y_black, show_scatter = True, show_plot = True)"
   ]
  },
  {
   "cell_type": "code",
   "execution_count": 59,
   "metadata": {},
   "outputs": [
    {
     "name": "stdout",
     "output_type": "stream",
     "text": [
      "[0.         0.33112583 1.        ] [0.        0.6519337 1.       ]\n"
     ]
    },
    {
     "data": {
      "image/png": "[encoded data removed]",
      "text/plain": [
       "<Figure size 432x288 with 1 Axes>"
      ]
     },
     "metadata": {
      "needs_background": "light"
     },
     "output_type": "display_data"
    }
   ],
   "source": [
    "from sklearn import metrics\n",
    "y_pred1 = (y_val_white > 0.5).float()\n",
    "y_pred2 = (y_val_black > 0.5).float()\n",
    "fpr, tpr, thresholds = metrics.roc_curve(y_white, y_pred1.view(-1),pos_label=1)\n",
    "fpr2, tpr2, thresholds = metrics.roc_curve(y_black, y_pred2.view(-1),pos_label=1)\n",
    "print(fpr,tpr)\n",
    "plt.plot(fpr,tpr)\n",
    "plt.plot(fpr2,tpr2,color=\"green\")\n",
    "x_values = [0, 1] \n",
    "y_values = [0, 1]\n",
    "plt. plot(x_values, y_values,'--',color=\"red\")\n",
    "plt.show()"
   ]
  },
  {
   "cell_type": "markdown",
   "metadata": {},
   "source": [
    "# Random Forest"
   ]
  },
  {
   "cell_type": "code",
   "execution_count": 71,
   "metadata": {},
   "outputs": [
    {
     "name": "stdout",
     "output_type": "stream",
     "text": [
      "Accuracy of the model:  0.5902439024390244\n",
      "[[313 302]\n",
      " [202 413]]\n",
      "[[0.50894309 0.49105691]\n",
      " [0.32845528 0.67154472]]\n",
      "\n",
      "0.5902439024390244\n",
      "Accuracy of the model:  0.6376811594202898\n",
      "[[246  56]\n",
      " [119  62]]\n",
      "[[0.4        0.09105691]\n",
      " [0.19349593 0.10081301]]\n",
      "\n",
      "Accuracy of the model:  0.5515394912985274\n",
      "[[ 83 268]\n",
      " [ 67 329]]\n",
      "[[0.13495935 0.43577236]\n",
      " [0.10894309 0.53495935]]\n",
      "\n"
     ]
    }
   ],
   "source": [
    "rf_model = Classification(Xcattrain, ytrain, RandomForestClassifier(n_estimators = 52, max_depth = 14, max_features = \"log2\", criterion = \"entropy\"))\n",
    "rf_model.Validate(rf_model.model, Xcattest, ytest)\n",
    "\n",
    "# Test for bias\n",
    "rf_white_test = Classification(Xcattrain, ytrain, RandomForestClassifier())\n",
    "rf_black_test = Classification(Xcattrain, ytrain, RandomForestClassifier())\n",
    "rf_white_test.Validate(rf_model.model, Xcat_white, y_white)\n",
    "rf_black_test.Validate(rf_model.model, Xcat_black, y_black)"
   ]
  },
  {
   "cell_type": "markdown",
   "metadata": {},
   "source": [
    "# Random Forest Bias Correction"
   ]
  },
  {
   "cell_type": "code",
   "execution_count": 61,
   "metadata": {},
   "outputs": [
    {
     "data": {
      "image/png": "[encoded data removed]",
      "text/plain": [
       "<Figure size 432x288 with 1 Axes>"
      ]
     },
     "metadata": {
      "needs_background": "light"
     },
     "output_type": "display_data"
    },
    {
     "name": "stdout",
     "output_type": "stream",
     "text": [
      "0.8200000000000001 0.75 0.6498249727689225\n"
     ]
    }
   ],
   "source": [
    "BiasCorrection(100, torch.tensor(rf_white_test.probs, dtype = torch.float).reshape(-1, 1), torch.tensor(rf_black_test.probs, dtype = torch.float).reshape(-1, 1), y_white, y_black, show_scatter = True, show_plot = True)"
   ]
  },
  {
   "cell_type": "markdown",
   "metadata": {},
   "source": [
    "# Logistic Regression"
   ]
  },
  {
   "cell_type": "code",
   "execution_count": 62,
   "metadata": {},
   "outputs": [
    {
     "name": "stdout",
     "output_type": "stream",
     "text": [
      "Predicted no recidivism:  483\n",
      "Predicted recidivism:  0\n",
      "Accuracy of the model:  0.6252587991718427\n",
      "[[302   0]\n",
      " [181   0]]\n",
      "[[0.49105691 0.        ]\n",
      " [0.29430894 0.        ]]\n",
      "\n",
      "Predicted no recidivism:  483\n",
      "Predicted recidivism:  0\n",
      "Accuracy of the model:  0.6252587991718427\n",
      "[[302   0]\n",
      " [181   0]]\n",
      "[[0.49105691 0.        ]\n",
      " [0.29430894 0.        ]]\n",
      "\n",
      "Predicted no recidivism:  198\n",
      "Predicted recidivism:  549\n",
      "Accuracy of the model:  0.5890227576974565\n",
      "[[121 230]\n",
      " [ 77 319]]\n",
      "[[0.19674797 0.37398374]\n",
      " [0.12520325 0.51869919]]\n",
      "\n"
     ]
    }
   ],
   "source": [
    "logreg_model = Classification(Xcattrain, ytrain, LogisticRegression())\n",
    "logreg_model.Validate(logreg_model.model, Xcat_white, y_white)\n",
    "# Test for bias\n",
    "lr_white_test = Classification(Xcattrain, ytrain, LogisticRegression())\n",
    "lr_black_test = Classification(Xcattrain, ytrain, LogisticRegression())\n",
    "lr_white_test.Validate(logreg_model.model, Xcat_white, y_white)\n",
    "lr_black_test.Validate(logreg_model.model, Xcat_black, y_black)"
   ]
  },
  {
   "cell_type": "markdown",
   "metadata": {},
   "source": [
    "# Bias Correction for Logistic Regression"
   ]
  },
  {
   "cell_type": "code",
   "execution_count": 63,
   "metadata": {},
   "outputs": [
    {
     "data": {
      "image/png": "[encoded data removed]",
      "text/plain": [
       "<Figure size 432x288 with 1 Axes>"
      ]
     },
     "metadata": {
      "needs_background": "light"
     },
     "output_type": "display_data"
    },
    {
     "name": "stdout",
     "output_type": "stream",
     "text": [
      "0.6 0.68 0.6589546592165765\n"
     ]
    }
   ],
   "source": [
    "BiasCorrection(100, torch.tensor(lr_white_test.probs, dtype = torch.float).reshape(-1, 1), torch.tensor(lr_black_test.probs, dtype = torch.float).reshape(-1, 1), y_white, y_black, show_scatter = True, show_plot = True)"
   ]
  },
  {
   "cell_type": "markdown",
   "metadata": {},
   "source": [
    "# Gaussian Naive Bayes"
   ]
  },
  {
   "cell_type": "code",
   "execution_count": 64,
   "metadata": {},
   "outputs": [
    {
     "name": "stdout",
     "output_type": "stream",
     "text": [
      "Predicted no recidivism:  443\n",
      "Predicted recidivism:  40\n",
      "Accuracy of the model:  0.629399585921325\n",
      "[[283  19]\n",
      " [160  21]]\n",
      "[[0.4601626  0.03089431]\n",
      " [0.2601626  0.03414634]]\n",
      "\n",
      "Predicted no recidivism:  443\n",
      "Predicted recidivism:  40\n",
      "Accuracy of the model:  0.629399585921325\n",
      "[[283  19]\n",
      " [160  21]]\n",
      "[[0.4601626  0.03089431]\n",
      " [0.2601626  0.03414634]]\n",
      "\n",
      "Predicted no recidivism:  198\n",
      "Predicted recidivism:  549\n",
      "Accuracy of the model:  0.5890227576974565\n",
      "[[121 230]\n",
      " [ 77 319]]\n",
      "[[0.19674797 0.37398374]\n",
      " [0.12520325 0.51869919]]\n",
      "\n"
     ]
    }
   ],
   "source": [
    "naive_model = Classification(Xcattrain, ytrain, GaussianNB())\n",
    "naive_model.Validate(naive_model.model, Xcat_white, y_white)\n",
    "\n",
    "# Test for bias\n",
    "nb_white_test = Classification(Xcattrain, ytrain, GaussianNB())\n",
    "nb_black_test = Classification(Xcattrain, ytrain, GaussianNB())\n",
    "nb_white_test.Validate(naive_model.model, Xcat_white, y_white)\n",
    "nb_black_test.Validate(naive_model.model, Xcat_black, y_black)"
   ]
  },
  {
   "cell_type": "markdown",
   "metadata": {},
   "source": [
    "# Bias Correction for Gaussian Naive Bayes"
   ]
  },
  {
   "cell_type": "code",
   "execution_count": 65,
   "metadata": {},
   "outputs": [
    {
     "data": {
      "image/png": "[encoded data removed]",
      "text/plain": [
       "<Figure size 432x288 with 1 Axes>"
      ]
     },
     "metadata": {
      "needs_background": "light"
     },
     "output_type": "display_data"
    },
    {
     "name": "stdout",
     "output_type": "stream",
     "text": [
      "0.6 0.8 0.6448984343169781\n"
     ]
    }
   ],
   "source": [
    "BiasCorrection(100, torch.tensor(nb_white_test.probs, dtype = torch.float).reshape(-1, 1), torch.tensor(nb_black_test.probs, dtype = torch.float).reshape(-1, 1), y_white, y_black, show_scatter = True, show_plot = True)"
   ]
  },
  {
   "cell_type": "markdown",
   "metadata": {},
   "source": [
    "# Temp Bayesian Optimization"
   ]
  },
  {
   "cell_type": "code",
   "execution_count": 85,
   "metadata": {},
   "outputs": [
    {
     "name": "stdout",
     "output_type": "stream",
     "text": [
      "[[ 6. 70.  0.  1.]]\n",
      "0.5902439024390244\n",
      "[[82. 90.  1.  1.]]\n",
      "0.5902439024390244\n",
      "[[89. 50.  1.  1.]]\n",
      "0.5902439024390244\n",
      "[[24. 20.  1.  1.]]\n",
      "0.5902439024390244\n",
      "[[52. 20.  0.  0.]]\n",
      "0.5902439024390244\n",
      "[[31. 10.  0.  0.]]\n",
      "0.5902439024390244\n",
      "[[59. 10.  0.  0.]]\n",
      "0.5902439024390244\n",
      "[[72. 70.  0.  1.]]\n",
      "0.5902439024390244\n",
      "[[ 6. 70.  1.  1.]]\n",
      "0.5902439024390244\n",
      "[[ 75. 100.   0.   1.]]\n",
      "0.5902439024390244\n",
      "[[36. 90.  1.  1.]]\n",
      "0.5902439024390244\n",
      "[[28. 90.  1.  0.]]\n",
      "0.5902439024390244\n",
      "[[74. 20.  1.  1.]]\n",
      "0.5902439024390244\n",
      "[[62. 70.  0.  1.]]\n",
      "0.5902439024390244\n",
      "[[49. 80.  0.  0.]]\n",
      "0.5902439024390244\n",
      "[[10. 60.  1.  1.]]\n",
      "0.5902439024390244\n",
      "[[41. 80.  1.  1.]]\n",
      "0.5902439024390244\n",
      "[[40. 90.  0.  1.]]\n",
      "0.5902439024390244\n",
      "[[  4. 100.   0.   1.]]\n",
      "0.5902439024390244\n",
      "[[90. 30.  0.  1.]]\n",
      "0.5902439024390244\n",
      "The best parameters obtained: n_estimators=6.0, max_depth=70.0, max_features=0.0, criterion=1.0\n"
     ]
    }
   ],
   "source": [
    "## define the domain of the considered parameters\n",
    "n_estimators = tuple(np.arange(1,101,1, dtype= np.int))\n",
    "# print(n_estimators)\n",
    "max_depth = tuple(np.arange(10,110,10, dtype= np.int))\n",
    "# max_features = ('log2', 'sqrt', None)\n",
    "max_features = (0, 1)\n",
    "# criterion = ('gini', 'entropy')\n",
    "criterion = (0, 1)\n",
    "\n",
    "\n",
    "# define the dictionary for GPyOpt\n",
    "domain = [{'n_estimators': 'var_1',  'type': 'discrete',     'domain': n_estimators},\n",
    "          {'max_depth': 'var_2',     'type': 'discrete',     'domain': max_depth},\n",
    "          {'max_features': 'var_3',  'type': 'categorical',  'domain': max_features},\n",
    "          {'criterion': 'var_4',     'type': 'categorical',  'domain': criterion}]\n",
    "\n",
    "\n",
    "## we have to define the function we want to maximize --> validation accuracy, \n",
    "## note it should take a 2D ndarray but it is ok that it assumes only one point\n",
    "## in this setting\n",
    "def objective_function(x): \n",
    "    print(x)\n",
    "    # we have to handle the categorical variables that is convert 0/1 to labels\n",
    "    # log2/sqrt and gini/entropy\n",
    "    \n",
    "    param = x[0]\n",
    "    param = param.astype(int)\n",
    "    \n",
    "    if param[2] == 0:\n",
    "        var_3 = \"log2\"\n",
    "    else:\n",
    "        var_3 = \"sqrt\"\n",
    "    \n",
    "    if param[3] == 0:\n",
    "        var_4 = \"gini\"\n",
    "    else:\n",
    "        var_4 = \"entropy\"\n",
    "    \n",
    "    #fit the model\n",
    "    #model = RandomForestClassifier(n_estimators = int(param[0]), criterion = var_4, max_depth = param[1], max_features = var_3, oob_score = True)\n",
    "    model = Classification(Xcattrain, ytrain, RandomForestClassifier(n_estimators = param[0], max_depth = param[1], max_features = var_3, criterion = var_4))\n",
    "    model.Validate(rf_model.model, Xcattest, ytest, show_acc = False)\n",
    "    print(model.acc)\n",
    "    return - model.acc\n",
    "\n",
    "\n",
    "opt = GPyOpt.methods.BayesianOptimization(f = objective_function,   # function to optimize\n",
    "                                              domain = domain,         # box-constrains of the problem\n",
    "                                              acquisition_type = \"EI\",      # Select acquisition function MPI, EI, LCB\n",
    "                                             )\n",
    "opt.acquisition.exploration_weight=.1\n",
    "\n",
    "opt.run_optimization(max_iter = 15) \n",
    "\n",
    "x_best = opt.X[np.argmin(opt.Y)]\n",
    "print(\"The best parameters obtained: n_estimators=\" + str(x_best[0]) + \", max_depth=\" + str(x_best[1]) + \", max_features=\" + str(\n",
    "    x_best[2])  + \", criterion=\" + str(\n",
    "    x_best[3]))"
   ]
  },
  {
   "cell_type": "code",
   "execution_count": 93,
   "metadata": {},
   "outputs": [
    {
     "name": "stdout",
     "output_type": "stream",
     "text": [
      "Accuracy of the model:  0.5902439024390244\n",
      "[[313 302]\n",
      " [202 413]]\n",
      "[[0.50894309 0.49105691]\n",
      " [0.32845528 0.67154472]]\n",
      "\n"
     ]
    }
   ],
   "source": [
    "model = Classification(Xcattrain, ytrain, RandomForestClassifier(n_estimators = 52, max_depth = 14, max_features = \"sqrt\", criterion = \"entropy\"))\n",
    "model.Validate(rf_model.model, Xcattest, ytest)"
   ]
  }
 ],
 "metadata": {
  "kernelspec": {
   "display_name": "Python 3",
   "language": "python",
   "name": "python3"
  },
  "language_info": {
   "codemirror_mode": {
    "name": "ipython",
    "version": 3
   },
   "file_extension": ".py",
   "mimetype": "text/x-python",
   "name": "python",
   "nbconvert_exporter": "python",
   "pygments_lexer": "ipython3",
   "version": "3.6.9"
  }
 },
 "nbformat": 4,
 "nbformat_minor": 2
}
