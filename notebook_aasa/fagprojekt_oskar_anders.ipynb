{
 "cells": [
  {
   "cell_type": "code",
   "execution_count": 2,
   "metadata": {
    "colab": {
     "base_uri": "https://localhost:8080/",
     "height": 521
    },
    "colab_type": "code",
    "id": "UcQe7NaB5SSe",
    "outputId": "3a526e9b-9420-42ec-fd58-584010381278"
   },
   "outputs": [],
   "source": [
    "import numpy as np\n",
    "import os\n",
    "import pandas as pd\n",
    "import matplotlib.pyplot as plt\n",
    "import seaborn as sb\n",
    "import torch\n",
    "import torch.nn as nn\n",
    "from sklearn.metrics import classification_report, confusion_matrix, accuracy_score\n",
    "from sklearn.ensemble import RandomForestClassifier\n",
    "from sklearn.linear_model import LogisticRegression\n",
    "from tqdm import tqdm\n",
    "import GPyOpt\n",
    "from torch.autograd import Variable"
   ]
  },
  {
   "cell_type": "code",
   "execution_count": 3,
   "metadata": {
    "colab": {},
    "colab_type": "code",
    "id": "q20e5omp5SSn"
   },
   "outputs": [],
   "source": [
    "def normalize(data, norm_type):\n",
    "    if norm_type == \"minmax\":\n",
    "        for i in range(data.size()[1]):\n",
    "            data[:,i] = (data[:,i]-data[:,i].min()) / (data[:,i].max()-data[:,i].min())\n",
    "        return data\n",
    "    elif norm_type == \"zscore\":\n",
    "        for i in range(data.size()[1]):\n",
    "            data[:,i] = (data[:,i]-data[:,i].mean()) / (data[:,i].std())\n",
    "        return data\n",
    "    elif norm_type == None:\n",
    "        return data\n",
    "    else:\n",
    "        raise ValueError(\"Please choose a correct normalization type\")\n",
    "#Xnumtrain = torch.tensor(np.vstack([(Xnumtrain[:,i]-Xnumtrain[:,i].min()) / (Xnumtrain[:,i].max()-Xnumtrain[:,i].min()) for i in range(Xnumtrain.size()[1]) if \"Tue elsker det her\"])).view(-1,2)\n",
    "\n",
    "def dataprep(data, norm_type = \"zscore\"):\n",
    "    for category in categoricals:\n",
    "        data[category] = data[category].astype(\"category\")\n",
    "\n",
    "    catdata = []\n",
    "    for i in range(len(categoricals)):\n",
    "        catdata.append(data[categoricals[i]].cat.codes.values)\n",
    "    catdata = torch.tensor(catdata, dtype = torch.int64).T\n",
    "    \n",
    "    \n",
    "    numdata = np.stack([data[col].values for col in numericals], 1)\n",
    "    numdata = torch.tensor(numdata, dtype=torch.float)\n",
    "\n",
    "    normalize(numdata, norm_type)\n",
    "    return catdata, numdata\n",
    "\n",
    "def permutation(data, cat):\n",
    "    perm_data = data.copy()\n",
    "    rand_num = np.random.randint(0 , len(data[cat]) , len(data[cat]))\n",
    "    perm_data[cat][np.arange(len(data[cat]))] = data[cat][rand_num] \n",
    "    df = perm_data\n",
    "    return df\n",
    "\n",
    "def reset_data():\n",
    "    return pd.read_csv(\"https://raw.githubusercontent.com/oskarwiese/fagprojekt/master/compas_propublica/compas-scores-two-years.csv\")"
   ]
  },
  {
   "cell_type": "markdown",
   "metadata": {
    "colab_type": "text",
    "id": "w2sPNIZ45SSt"
   },
   "source": [
    "# Data Visualization and Pre-processing"
   ]
  },
  {
   "cell_type": "code",
   "execution_count": 4,
   "metadata": {
    "colab": {
     "base_uri": "https://localhost:8080/",
     "height": 35
    },
    "colab_type": "code",
    "id": "NSNprPaK5SSv",
    "outputId": "a5be7bf4-99eb-415d-bef6-d7d5ebb69806"
   },
   "outputs": [
    {
     "name": "stdout",
     "output_type": "stream",
     "text": [
      "No GPU available.\n"
     ]
    }
   ],
   "source": [
    "url = \"https://raw.githubusercontent.com/oskarwiese/fagprojekt/master/compas_propublica/compas-scores-two-years.csv\"\n",
    "data = pd.read_csv(url)\n",
    "\n",
    "use_cuda = torch.cuda.is_available()\n",
    "print(\"Running GPU.\") if use_cuda else print(\"No GPU available.\")\n",
    "#print(data.columns)"
   ]
  },
  {
   "cell_type": "code",
   "execution_count": 6,
   "metadata": {
    "colab": {
     "base_uri": "https://localhost:8080/",
     "height": 1000
    },
    "colab_type": "code",
    "id": "4-ngWGKA5SS3",
    "outputId": "1bc15505-fbb4-4bce-b97d-9e67496c9321",
    "scrolled": false
   },
   "outputs": [
    {
     "name": "stderr",
     "output_type": "stream",
     "text": [
      "100%|██████████| 3/3 [00:01<00:00,  2.24it/s]\n"
     ]
    },
    {
     "data": {
      "image/png": "[encoded data removed]",
      "text/plain": [
       "<Figure size 432x288 with 1 Axes>"
      ]
     },
     "metadata": {
      "needs_background": "light"
     },
     "output_type": "display_data"
    }
   ],
   "source": [
    "def is_plot():\n",
    "    \n",
    "    path = r\"C:\\Users\\ejer\\Desktop\\Fagprojekt\\fagprojekt\\report\\imgs\"\n",
    "    \n",
    "    pred_plot_race = sb.countplot(x = \"score_text\", hue = \"race\", data = data)\n",
    "    pred_plot_race.set_title(\"Predicted risk of recidivism according to race\")\n",
    "    #pred_plot_race.figure.savefig(path + \"\\\\predicted_recid_race.png\")\n",
    "    plt.show()\n",
    "    \n",
    "    pred_plot_sex = sb.countplot(x = \"score_text\", hue = \"sex\", data = data)\n",
    "    pred_plot_sex.set_title(\"Predicted risk of recidivism according to sex\")\n",
    "    #pred_plot_sex.figure.savefig(path + \"\\\\predicted_recid_sex.png\")\n",
    "    plt.show()\n",
    "    \n",
    "    true_plot = sb.countplot(x = \"is_recid\", hue = \"race\", data = data)\n",
    "    true_plot.set_title(\"True recidivism scores\")\n",
    "    #true_plot.figure.savefig(path + \"\\\\true_recid.png\")\n",
    "    plt.show()\n",
    "    \n",
    "    df = data[(data[\"race\"] == \"African-American\") | (data[\"race\"] == \"Caucasian\")]\n",
    "    df = df[df[\"priors_count\"] < 25]\n",
    "    \n",
    "    priors_plot = sb.countplot(x = \"priors_count\", hue = \"race\", data = df)\n",
    "    priors_plot.set_title(\"Number of previous felonies according to race\")\n",
    "    #priors_plot.figure.savefig(path + \"\\\\proirs.png\")\n",
    "    plt.show()\n",
    "    \n",
    "    c_charge_degree = sb.countplot(x = \"c_charge_degree\", hue = \"race\", data = df)\n",
    "    c_charge_degree.set_title(\"Severity of the crimes for each race\")\n",
    "    #c_charge_degree.figure.savefig(path + \"\\\\c_charge_degree.png\")\n",
    "    plt.show()\n",
    "    \n",
    "    c_charge_degree = sb.countplot(x = \"score_text\", hue = \"c_charge_degree\", data = df)\n",
    "    c_charge_degree.set_title(\"Relation between crime severity and predicted recidivism\")\n",
    "    #c_charge_degree.figure.savefig(path + \"\\\\charge_degree_score.png\")\n",
    "    plt.show()\n",
    "    \n",
    "    \n",
    "#is_plot()\n",
    "\n",
    "palette = {\"Caucasian\": \"C0\", \"African-American\": \"C1\", \"Hispanic\": \"C2\", \"Other\": \"C3\" , \"Asian\": \"C4\" ,\"Native American\": \"C5\"}\n",
    "for i in tqdm(range(3)):\n",
    "    #TODO: der skal indsættes punkter for den rigtige data1fordelling. \n",
    "    data = permutation(data, \"race\")\n",
    "    path = r\"C:\\Users\\ejer\\Desktop\\Fagprojekt\\fagprojekt\\report\\imgs\"\n",
    "    pred_plot_race = sb.countplot(x = \"score_text\" ,hue = \"race\", data = data, palette = palette ,alpha=.06,  hue_order = [ \"African-American\",\"Caucasian\", \"Hispanic\", \"Other\" , \"Asian\",\"Native American\"])\n",
    "    pred_plot_race.set_title(\"Predicted risk of recidivism according to race\")\n",
    "    pred_plot_race.set_xticklabels(pred_plot_race.get_xticklabels(), horizontalalignment ='right')\n",
    "    pred_plot_race.get_legend().remove()\n",
    "    data = reset_data()\n",
    "\n",
    "    \n"
   ]
  },
  {
   "cell_type": "code",
   "execution_count": 7,
   "metadata": {
    "colab": {},
    "colab_type": "code",
    "id": "5KY4-14e5SS7"
   },
   "outputs": [],
   "source": [
    "categoricals = [\"c_charge_degree\", \"race\", \"age_cat\", \"sex\"] # \"r_charge_degree\"    \"two_year_recid\"    \"is_recid\", \"is_violent_recid\"\n",
    "numericals = [\"age\", \"priors_count\", \"juv_fel_count\", \"juv_misd_count\"] # \"days_b_screening_arrest\"\n",
    "outputs = [\"score_text\"]\n",
    "data = data[categoricals + numericals + outputs + [\"two_year_recid\"] + [\"is_recid\"]]\n",
    "\n",
    "# Making the output binary\n",
    "data[outputs] = data[outputs].replace('Low',0)\n",
    "data[outputs] = data[outputs].replace('Medium',1)\n",
    "data[outputs] = data[outputs].replace('High',1)\n",
    "data[outputs] = data[outputs].astype(\"category\")"
   ]
  },
  {
   "cell_type": "code",
   "execution_count": 8,
   "metadata": {
    "colab": {},
    "colab_type": "code",
    "id": "CBoFYqjI5SS_"
   },
   "outputs": [],
   "source": [
    "Xcat, Xnum = dataprep(data, norm_type = \"zscore\")\n",
    "\n",
    "# Converting the output to tensor\n",
    "y = torch.tensor(data[outputs].values).flatten()\n",
    "\n",
    "# Calculation of embedding sizes for the categorical values in the format (unique categorical values, embedding size (dimension of encoding))\n",
    "categorical_column_sizes = [len(data[column].cat.categories) for column in categoricals]\n",
    "categorical_embedding_sizes = [(col_size, min(50, (col_size+1)//2)) for col_size in categorical_column_sizes]\n",
    "\n",
    "# Train-test split\n",
    "totalnumber = len(Xnum)\n",
    "testnumber = int(totalnumber * 0.2)\n",
    "\n",
    "Xcattrain = Xcat[:totalnumber - testnumber]\n",
    "Xcattest = Xcat[totalnumber - testnumber:totalnumber]\n",
    "Xnumtrain = Xnum[:totalnumber - testnumber]\n",
    "Xnumtest = Xnum[totalnumber - testnumber:totalnumber]\n",
    "ytrain = y[:totalnumber - testnumber]\n",
    "ytest = data[\"is_recid\"][totalnumber - testnumber:totalnumber]\n",
    "ytest = torch.tensor(ytest.values).flatten()\n",
    "\n",
    "\n",
    "# Make sure that we dont validate on training data to compare if the algorithm is biased\n",
    "\n",
    "\n",
    "normalize(Xnumtrain, \"zscore\");\n",
    "normalize(Xnumtest, \"zscore\");"
   ]
  },
  {
   "cell_type": "markdown",
   "metadata": {
    "colab_type": "text",
    "id": "Pg6WHexn5STD"
   },
   "source": [
    "# Neural Network"
   ]
  },
  {
   "cell_type": "code",
   "execution_count": 9,
   "metadata": {
    "colab": {},
    "colab_type": "code",
    "id": "Z3t5XVqd5STD"
   },
   "outputs": [],
   "source": [
    "class Model(nn.Module):\n",
    "\n",
    "    def __init__(self, embedding_size, num_numerical_cols, output_size, layers, p=0.4):\n",
    "        super().__init__()\n",
    "        self.all_embeddings = nn.ModuleList([nn.Embedding(ni, nf) for ni, nf in embedding_size])\n",
    "        self.embedding_dropout = nn.Dropout(p)\n",
    "        self.batch_norm_num = nn.BatchNorm1d(num_numerical_cols)\n",
    "        \n",
    "        all_layers = []\n",
    "        num_categorical_cols = sum((nf for ni, nf in embedding_size))\n",
    "        input_size = num_categorical_cols + num_numerical_cols\n",
    "\n",
    "        for i in layers:\n",
    "            all_layers.append(nn.Linear(input_size, i))\n",
    "            all_layers.append(nn.ReLU(inplace=True))\n",
    "            all_layers.append(nn.BatchNorm1d(i))\n",
    "            all_layers.append(nn.Dropout(p))\n",
    "            input_size = i\n",
    "\n",
    "        all_layers.append(nn.Linear(layers[-1], output_size))\n",
    "\n",
    "        self.layers = nn.Sequential(*all_layers)\n",
    "\n",
    "    def forward(self, x_categorical, x_numerical):\n",
    "        embeddings = []\n",
    "        for i,e in enumerate(self.all_embeddings):\n",
    "            embeddings.append(e(x_categorical[:,i]))\n",
    "        x = torch.cat(embeddings, 1)\n",
    "        x = self.embedding_dropout(x)\n",
    "\n",
    "        x_numerical = self.batch_norm_num(x_numerical)\n",
    "        x = torch.cat([x, x_numerical], 1)\n",
    "        x = self.layers(x)\n",
    "        return nn.functional.sigmoid(x)"
   ]
  },
  {
   "cell_type": "markdown",
   "metadata": {
    "colab_type": "text",
    "id": "Ac3hY9WM5STh"
   },
   "source": [
    "# Train the Model (The currently used model)"
   ]
  },
  {
   "cell_type": "code",
   "execution_count": 10,
   "metadata": {
    "colab": {
     "base_uri": "https://localhost:8080/",
     "height": 611
    },
    "colab_type": "code",
    "id": "Ra_BTCLx5STi",
    "outputId": "08366ab8-5c3b-4cb5-8c59-69ae6e1cecb0"
   },
   "outputs": [
    {
     "name": "stdout",
     "output_type": "stream",
     "text": [
      "Model(\n",
      "  (all_embeddings): ModuleList(\n",
      "    (0): Embedding(2, 1)\n",
      "    (1): Embedding(6, 3)\n",
      "    (2): Embedding(3, 2)\n",
      "    (3): Embedding(2, 1)\n",
      "  )\n",
      "  (embedding_dropout): Dropout(p=0.5, inplace=False)\n",
      "  (batch_norm_num): BatchNorm1d(4, eps=1e-05, momentum=0.1, affine=True, track_running_stats=True)\n",
      "  (layers): Sequential(\n",
      "    (0): Linear(in_features=11, out_features=16, bias=True)\n",
      "    (1): ReLU(inplace=True)\n",
      "    (2): BatchNorm1d(16, eps=1e-05, momentum=0.1, affine=True, track_running_stats=True)\n",
      "    (3): Dropout(p=0.5, inplace=False)\n",
      "    (4): Linear(in_features=16, out_features=32, bias=True)\n",
      "    (5): ReLU(inplace=True)\n",
      "    (6): BatchNorm1d(32, eps=1e-05, momentum=0.1, affine=True, track_running_stats=True)\n",
      "    (7): Dropout(p=0.5, inplace=False)\n",
      "    (8): Linear(in_features=32, out_features=64, bias=True)\n",
      "    (9): ReLU(inplace=True)\n",
      "    (10): BatchNorm1d(64, eps=1e-05, momentum=0.1, affine=True, track_running_stats=True)\n",
      "    (11): Dropout(p=0.5, inplace=False)\n",
      "    (12): Linear(in_features=64, out_features=128, bias=True)\n",
      "    (13): ReLU(inplace=True)\n",
      "    (14): BatchNorm1d(128, eps=1e-05, momentum=0.1, affine=True, track_running_stats=True)\n",
      "    (15): Dropout(p=0.5, inplace=False)\n",
      "    (16): Linear(in_features=128, out_features=64, bias=True)\n",
      "    (17): ReLU(inplace=True)\n",
      "    (18): BatchNorm1d(64, eps=1e-05, momentum=0.1, affine=True, track_running_stats=True)\n",
      "    (19): Dropout(p=0.5, inplace=False)\n",
      "    (20): Linear(in_features=64, out_features=1, bias=True)\n",
      "  )\n",
      ")\n"
     ]
    }
   ],
   "source": [
    "# Define and show the model\n",
    "model = Model(categorical_embedding_sizes, 4, 1, [16,32,64,128,64], p=0.5)\n",
    "if use_cuda:\n",
    "    model.cuda()\n",
    "print(model)\n",
    "for param in model.parameters():\n",
    "            param.requires_grad = True\n"
   ]
  },
  {
   "cell_type": "code",
   "execution_count": 11,
   "metadata": {
    "colab": {},
    "colab_type": "code",
    "id": "2S2toDFW5STl"
   },
   "outputs": [],
   "source": [
    "# Loss function and optimization\n",
    "loss_function = nn.BCELoss()\n",
    "optimizer = torch.optim.Adam(model.parameters(), lr=0.001, weight_decay = 1e-6)\n",
    "threshold = 0.5\n",
    "epochs = 1000\n",
    "np.random.seed(42)"
   ]
  },
  {
   "cell_type": "code",
   "execution_count": 10,
   "metadata": {
    "colab": {
     "base_uri": "https://localhost:8080/",
     "height": 1000
    },
    "colab_type": "code",
    "id": "hB2MpaWS5STo",
    "outputId": "4e4fbaaf-91a9-4c0c-bbfc-0d3b24c4020c"
   },
   "outputs": [
    {
     "name": "stdout",
     "output_type": "stream",
     "text": [
      "epoch:   1 loss: 0.76622266\n",
      "epoch:  26 loss: 0.67802334\n",
      "epoch:  51 loss: 0.62657309\n",
      "epoch:  76 loss: 0.59195006\n",
      "epoch: 101 loss: 0.57521576\n",
      "epoch: 126 loss: 0.56154418\n",
      "epoch: 151 loss: 0.54873788\n",
      "epoch: 176 loss: 0.54985356\n",
      "epoch: 201 loss: 0.54084635\n",
      "epoch: 226 loss: 0.53650820\n",
      "epoch: 251 loss: 0.53703690\n",
      "epoch: 276 loss: 0.53014487\n",
      "epoch: 301 loss: 0.52332485\n",
      "epoch: 326 loss: 0.52997452\n",
      "epoch: 351 loss: 0.53003532\n",
      "epoch: 376 loss: 0.52021134\n",
      "epoch: 401 loss: 0.51879644\n",
      "epoch: 426 loss: 0.52141243\n",
      "epoch: 451 loss: 0.52012450\n",
      "epoch: 476 loss: 0.52031100\n",
      "epoch: 501 loss: 0.52579236\n",
      "epoch: 526 loss: 0.51264089\n",
      "epoch: 551 loss: 0.51268888\n",
      "epoch: 576 loss: 0.51695180\n",
      "epoch: 601 loss: 0.51555192\n",
      "epoch: 626 loss: 0.51683700\n",
      "epoch: 651 loss: 0.51174915\n",
      "epoch: 676 loss: 0.51533538\n",
      "epoch: 701 loss: 0.51309276\n",
      "epoch: 726 loss: 0.51311922\n",
      "epoch: 751 loss: 0.51068616\n",
      "epoch: 776 loss: 0.51433909\n",
      "epoch: 801 loss: 0.51104891\n",
      "epoch: 826 loss: 0.51067364\n",
      "epoch: 851 loss: 0.51124388\n",
      "epoch: 876 loss: 0.51020408\n",
      "epoch: 901 loss: 0.50770050\n",
      "epoch: 926 loss: 0.50906044\n",
      "epoch: 951 loss: 0.50904208\n",
      "epoch: 976 loss: 0.51033169\n",
      "epoch: 1000 loss: 0.5119841099\n",
      "[[565 172]\n",
      " [276 429]]\n",
      "              precision    recall  f1-score   support\n",
      "\n",
      "           0       0.67      0.77      0.72       737\n",
      "           1       0.71      0.61      0.66       705\n",
      "\n",
      "    accuracy                           0.69      1442\n",
      "   macro avg       0.69      0.69      0.69      1442\n",
      "weighted avg       0.69      0.69      0.69      1442\n",
      "\n",
      "0.6893203883495146\n"
     ]
    },
    {
     "data": {
      "image/png": "[encoded data removed]",
      "text/plain": [
       "<Figure size 432x288 with 1 Axes>"
      ]
     },
     "metadata": {
      "tags": []
     },
     "output_type": "display_data"
    }
   ],
   "source": [
    "aggregated_losses = []\n",
    "\n",
    "# Initialize lists for training and validation\n",
    "train_iter = []\n",
    "train_loss, train_accs = [], []\n",
    "valid_iter = []\n",
    "valid_loss, valid_accs = [], []\n",
    "\n",
    "model.train()\n",
    "for i in range(epochs):\n",
    "    i += 1\n",
    "    y_pred = model(Xcattrain, Xnumtrain)\n",
    "    single_loss = loss_function(y_pred, ytrain.float())\n",
    "    aggregated_losses.append(single_loss)\n",
    "\n",
    "    if i % 25 == 1:\n",
    "        print(f'epoch: {i:3} loss: {single_loss.item():10.8f}')\n",
    "\n",
    "    optimizer.zero_grad()\n",
    "    single_loss.backward()\n",
    "    optimizer.step()\n",
    "\n",
    "print(f'epoch: {i:3} loss: {single_loss.item():10.10f}')\n",
    "\n",
    "\n",
    "\n",
    "# Plot the loss over epocs\n",
    "if \"plot\":\n",
    "    plt.plot(range(epochs), aggregated_losses)\n",
    "    plt.ylabel('Loss')\n",
    "    plt.xlabel('epoch');\n",
    "\n",
    "\n",
    "# Predict on the test set\n",
    "model.eval()\n",
    "with torch.no_grad():\n",
    "    y_val = model(Xcattest, Xnumtest)\n",
    "    loss = loss_function(y_val, ytest.float())\n",
    "\n",
    "\n",
    "y_pred = (y_val > threshold).float()\n",
    "\n",
    "\n",
    "print(confusion_matrix(ytest,y_pred))\n",
    "print(classification_report(ytest,y_pred))\n",
    "print(accuracy_score(ytest, y_pred))"
   ]
  },
  {
   "cell_type": "markdown",
   "metadata": {
    "colab_type": "text",
    "id": "sMh3plot5STs"
   },
   "source": [
    "# Confusion matrix for black/white"
   ]
  },
  {
   "cell_type": "code",
   "execution_count": 13,
   "metadata": {
    "colab": {
     "base_uri": "https://localhost:8080/",
     "height": 215
    },
    "colab_type": "code",
    "id": "l8DrtZDA5STs",
    "outputId": "fa820ec4-d823-48c2-d612-0b6b91c103f5"
   },
   "outputs": [
    {
     "name": "stdout",
     "output_type": "stream",
     "text": [
      "Confussion matrix for the white:\n",
      "[[202  81]\n",
      " [ 69 123]]\n",
      "[[0.71378092 0.421875  ]\n",
      " [0.24381625 0.640625  ]]\n",
      "\n",
      "Confussion matrix for the black:\n",
      "[[251  74]\n",
      " [195 224]]\n",
      "[[0.77230769 0.17661098]\n",
      " [0.6        0.53460621]]\n"
     ]
    }
   ],
   "source": [
    "df = data[totalnumber - testnumber:totalnumber]\n",
    "black_data = df[df[\"race\"]==\"African-American\"]\n",
    "white_data = df[df[\"race\"]==\"Caucasian\"]\n",
    "Xcat_white, Xnum_white = dataprep(white_data, norm_type = \"zscore\")\n",
    "Xcat_black, Xnum_black = dataprep(black_data, norm_type = \"zscore\")\n",
    "model.eval()\n",
    "y_val_white = model(Xcat_white, Xnum_white)\n",
    "y_pred1 = (y_val_white > threshold).float()\n",
    "y_val_black = model(Xcat_black, Xnum_black)\n",
    "y_pred2 = (y_val_black > threshold).float()\n",
    "\n",
    "# Ground truth of recidivism from dataset\n",
    "y_white = torch.tensor(white_data[\"is_recid\"].values).flatten()\n",
    "y_black = torch.tensor(black_data[\"is_recid\"].values).flatten()\n",
    "\n",
    "print(\"Confussion matrix for the white:\")\n",
    "conf_white = confusion_matrix( y_white, y_pred1)\n",
    "print(conf_white)\n",
    "print(conf_white / conf_white.astype(np.float).sum())\n",
    "print()\n",
    "print(\"Confussion matrix for the black:\")\n",
    "conf_black = confusion_matrix( y_black, y_pred2)\n",
    "print(conf_black)\n",
    "print(conf_black / conf_black.astype(np.float).sum())"
   ]
  },
  {
   "cell_type": "code",
   "execution_count": 20,
   "metadata": {
    "colab": {
     "base_uri": "https://localhost:8080/",
     "height": 265
    },
    "colab_type": "code",
    "id": "4X9vv2Va5STw",
    "outputId": "98ac091c-5c00-4c53-9dcb-3a80a02b3d3f"
   },
   "outputs": [
    {
     "data": {
      "image/png": "[encoded data removed]",
      "text/plain": [
       "<Figure size 432x288 with 1 Axes>"
      ]
     },
     "metadata": {
      "tags": []
     },
     "output_type": "display_data"
    }
   ],
   "source": [
    "points = 8\n",
    "thresholds = np.arange(0,1,1/points)\n",
    "thresholds = np.append(thresholds,999)\n",
    "tprs1 = []\n",
    "fprs1 = []\n",
    "tprs2 = []\n",
    "fprs2 = []\n",
    "for i in range(points+1):\n",
    "    y_pred1 = (y_val_white > thresholds[i]).float()\n",
    "    y_pred2 = (y_val_black > thresholds[i]).float()\n",
    "    \n",
    "    conf1,conf2 = confusion_matrix( y_white, y_pred1), confusion_matrix( y_black,  y_pred2)\n",
    "    \n",
    "    tprs1.append(conf1[1,1] / (conf1[1,1] + conf1[1,0]))\n",
    "    fprs1.append(conf1[0,1] / (conf1[0,1] + conf1[0,0]))\n",
    "    tprs2.append(conf2[1,1] / (conf2[1,1] + conf2[1,0]))\n",
    "    fprs2.append(conf2[0,1] / (conf2[0,1] + conf2[0,0]))\n",
    "    \n",
    "plt.plot(fprs1,tprs1,color=\"blue\")\n",
    "plt.plot(fprs2,tprs2,color=\"green\")\n",
    "point1 = [0,0]\n",
    "point2 = [1,1]\n",
    "x_values = [point1[0], point2[0]] \n",
    "y_values = [point1[1], point2[1]]\n",
    "roc = plt.plot(x_values, y_values,'--',color=\"red\")\n",
    "plt.show()\n",
    "#roc.figure.savefig(path + \"\\\\ROC.png\")\n",
    "\n",
    "\n",
    "    "
   ]
  },
  {
   "cell_type": "code",
   "execution_count": 15,
   "metadata": {
    "colab": {
     "base_uri": "https://localhost:8080/",
     "height": 283
    },
    "colab_type": "code",
    "id": "7fzwCWOG5ST0",
    "outputId": "c08fb1ec-afaf-40a8-ef27-b9cf90c92b62"
   },
   "outputs": [
    {
     "name": "stdout",
     "output_type": "stream",
     "text": [
      "[0.         0.28621908 1.        ] [0.       0.640625 1.      ]\n"
     ]
    },
    {
     "data": {
      "image/png": "[encoded data removed]",
      "text/plain": [
       "<Figure size 432x288 with 1 Axes>"
      ]
     },
     "metadata": {
      "tags": []
     },
     "output_type": "display_data"
    }
   ],
   "source": [
    "from sklearn import metrics\n",
    "y_pred1 = (y_val_white > 0.5).float()\n",
    "y_pred2 = (y_val_black > 0.5).float()\n",
    "fpr, tpr, thresholds = metrics.roc_curve(y_white, y_pred1.view(-1),pos_label=1)\n",
    "fpr2, tpr2, thresholds = metrics.roc_curve(y_black, y_pred2.view(-1),pos_label=1)\n",
    "print(fpr,tpr)\n",
    "plt.plot(fpr,tpr)\n",
    "plt.plot(fpr2,tpr2,color=\"green\")\n",
    "plt. plot(x_values, y_values,'--',color=\"red\")\n",
    "plt.show()"
   ]
  },
  {
   "cell_type": "markdown",
   "metadata": {
    "colab_type": "text",
    "id": "5YPX6vlc5STw"
   },
   "source": [
    "* # Fede plots til fremtiden måske:\n",
    "\n",
    "\n",
    "# Plots of the distribution of black and whites in each category of scoretext\n",
    "sb.countplot(x = \"score_text\", data = black_data)\n",
    "print(len(black_data[black_data[\"score_text\"] == 0]))\n",
    "print(len(black_data[black_data[\"score_text\"] == 1]))\n",
    "plt.show()\n",
    "sb.countplot(x = \"score_text\", data = white_data)\n",
    "print(len(white_data[white_data[\"score_text\"] == 0]))\n",
    "print(len(white_data[white_data[\"score_text\"] == 1]))\n",
    "plt.show()"
   ]
  },
  {
   "cell_type": "code",
   "execution_count": 0,
   "metadata": {
    "colab": {},
    "colab_type": "code",
    "id": "TNZM6lCY66zZ"
   },
   "outputs": [],
   "source": []
  }
 ],
 "metadata": {
  "accelerator": "TPU",
  "colab": {
   "name": "Classifier_notebook.ipynb",
   "provenance": []
  },
  "kernelspec": {
   "display_name": "Python 3",
   "language": "python",
   "name": "python3"
  },
  "language_info": {
   "codemirror_mode": {
    "name": "ipython",
    "version": 3
   },
   "file_extension": ".py",
   "mimetype": "text/x-python",
   "name": "python",
   "nbconvert_exporter": "python",
   "pygments_lexer": "ipython3",
   "version": "3.7.4"
  }
 },
 "nbformat": 4,
 "nbformat_minor": 1
}
