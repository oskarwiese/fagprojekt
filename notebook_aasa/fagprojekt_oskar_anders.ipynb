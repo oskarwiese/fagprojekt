{
  "nbformat": 4,
  "nbformat_minor": 0,
  "metadata": {
    "kernelspec": {
      "name": "python3",
      "display_name": "Python 3"
    },
    "language_info": {
      "codemirror_mode": {
        "name": "ipython",
        "version": 3
      },
      "file_extension": ".py",
      "mimetype": "text/x-python",
      "name": "python",
      "nbconvert_exporter": "python",
      "pygments_lexer": "ipython3",
      "version": "3.6.9"
    },
    "colab": {
      "name": "Classifier_notebook.ipynb",
      "provenance": []
    },
    "accelerator": "TPU"
  },
  "cells": [
    {
      "cell_type": "code",
      "metadata": {
        "id": "UcQe7NaB5SSe",
        "colab_type": "code",
        "colab": {
          "base_uri": "https://localhost:8080/",
          "height": 521
        },
        "outputId": "3a526e9b-9420-42ec-fd58-584010381278"
      },
      "source": [
        "import numpy as np\n",
        "import os\n",
        "import pandas as pd\n",
        "import matplotlib.pyplot as plt\n",
        "import seaborn as sb\n",
        "import torch\n",
        "import torch.nn as nn\n",
        "from sklearn.metrics import classification_report, confusion_matrix, accuracy_score\n",
        "from sklearn.ensemble import RandomForestClassifier\n",
        "from sklearn.linear_model import LogisticRegression\n",
        "from tqdm import tqdm\n",
        "!pip install GPyOpt\n",
        "import GPyOpt\n",
        "from torch.autograd import Variable"
      ],
      "execution_count": 1,
      "outputs": [
        {
          "output_type": "stream",
          "text": [
            "/usr/local/lib/python3.6/dist-packages/statsmodels/tools/_testing.py:19: FutureWarning: pandas.util.testing is deprecated. Use the functions in the public API at pandas.testing instead.\n",
            "  import pandas.util.testing as tm\n"
          ],
          "name": "stderr"
        },
        {
          "output_type": "stream",
          "text": [
            "Collecting GPyOpt\n",
            "\u001b[?25l  Downloading https://files.pythonhosted.org/packages/52/be/669d505416d7e465b2aef7df3b58d590f56468c4f7dc50c91fe91b8a78d9/GPyOpt-1.2.6.tar.gz (56kB)\n",
            "\u001b[K     |████████████████████████████████| 61kB 2.3MB/s \n",
            "\u001b[?25hRequirement already satisfied: numpy>=1.7 in /usr/local/lib/python3.6/dist-packages (from GPyOpt) (1.18.2)\n",
            "Requirement already satisfied: scipy>=0.16 in /usr/local/lib/python3.6/dist-packages (from GPyOpt) (1.4.1)\n",
            "Collecting GPy>=1.8\n",
            "\u001b[?25l  Downloading https://files.pythonhosted.org/packages/67/95/976598f98adbfa918a480cb2d643f93fb555ca5b6c5614f76b69678114c1/GPy-1.9.9.tar.gz (995kB)\n",
            "\u001b[K     |████████████████████████████████| 1.0MB 4.8MB/s \n",
            "\u001b[?25hRequirement already satisfied: six in /usr/local/lib/python3.6/dist-packages (from GPy>=1.8->GPyOpt) (1.12.0)\n",
            "Collecting paramz>=0.9.0\n",
            "\u001b[?25l  Downloading https://files.pythonhosted.org/packages/d8/37/4abbeb78d30f20d3402887f46e6e9f3ef32034a9dea65d243654c82c8553/paramz-0.9.5.tar.gz (71kB)\n",
            "\u001b[K     |████████████████████████████████| 71kB 7.4MB/s \n",
            "\u001b[?25hRequirement already satisfied: decorator>=4.0.10 in /usr/local/lib/python3.6/dist-packages (from paramz>=0.9.0->GPy>=1.8->GPyOpt) (4.4.2)\n",
            "Building wheels for collected packages: GPyOpt, GPy, paramz\n",
            "  Building wheel for GPyOpt (setup.py) ... \u001b[?25l\u001b[?25hdone\n",
            "  Created wheel for GPyOpt: filename=GPyOpt-1.2.6-cp36-none-any.whl size=83623 sha256=94a3c6ad59f77210bea415b27b6a0110ae0f0934719524436cff68dcad42d069\n",
            "  Stored in directory: /root/.cache/pip/wheels/b2/00/69/cfa967a125cf25e66f644be6193ad6f0edf231147879ad714f\n",
            "  Building wheel for GPy (setup.py) ... \u001b[?25l\u001b[?25hdone\n",
            "  Created wheel for GPy: filename=GPy-1.9.9-cp36-cp36m-linux_x86_64.whl size=2633931 sha256=f5ac901623fb4c9e54a34e56166b2009094271d4a37e9c20b13c7c2365aeb7d8\n",
            "  Stored in directory: /root/.cache/pip/wheels/5d/36/66/2b58860c84c9f2b51615da66bfd6feeddbc4e04d887ff96dfa\n",
            "  Building wheel for paramz (setup.py) ... \u001b[?25l\u001b[?25hdone\n",
            "  Created wheel for paramz: filename=paramz-0.9.5-cp36-none-any.whl size=102552 sha256=fa28cc1de6e0be5280702c7b55879e7b58d16e4054d072510f1d79a5a156ba3c\n",
            "  Stored in directory: /root/.cache/pip/wheels/c8/4a/0e/6e0dc85541825f991c431619e25b870d4b812c911214690cf8\n",
            "Successfully built GPyOpt GPy paramz\n",
            "Installing collected packages: paramz, GPy, GPyOpt\n",
            "Successfully installed GPy-1.9.9 GPyOpt-1.2.6 paramz-0.9.5\n"
          ],
          "name": "stdout"
        }
      ]
    },
    {
      "cell_type": "code",
      "metadata": {
        "id": "q20e5omp5SSn",
        "colab_type": "code",
        "colab": {}
      },
      "source": [
        "def normalize(data, norm_type):\n",
        "    if norm_type == \"minmax\":\n",
        "        for i in range(data.size()[1]):\n",
        "            data[:,i] = (data[:,i]-data[:,i].min()) / (data[:,i].max()-data[:,i].min())\n",
        "        return data\n",
        "    elif norm_type == \"zscore\":\n",
        "        for i in range(data.size()[1]):\n",
        "            data[:,i] = (data[:,i]-data[:,i].mean()) / (data[:,i].std())\n",
        "        return data\n",
        "    elif norm_type == None:\n",
        "        return data\n",
        "    else:\n",
        "        raise ValueError(\"Please choose a correct normalization type\")\n",
        "#Xnumtrain = torch.tensor(np.vstack([(Xnumtrain[:,i]-Xnumtrain[:,i].min()) / (Xnumtrain[:,i].max()-Xnumtrain[:,i].min()) for i in range(Xnumtrain.size()[1]) if \"Tue elsker det her\"])).view(-1,2)\n",
        "\n",
        "def dataprep(data, norm_type = \"zscore\"):\n",
        "    for category in categoricals:\n",
        "        data[category] = data[category].astype(\"category\")\n",
        "\n",
        "    catdata = []\n",
        "    for i in range(len(categoricals)):\n",
        "        catdata.append(data[categoricals[i]].cat.codes.values)\n",
        "    catdata = torch.tensor(catdata, dtype = torch.int64).T\n",
        "    \n",
        "    \n",
        "    numdata = np.stack([data[col].values for col in numericals], 1)\n",
        "    numdata = torch.tensor(numdata, dtype=torch.float)\n",
        "\n",
        "    normalize(numdata, norm_type)\n",
        "    return catdata, numdata\n",
        "\n",
        "def permutation(data, cat):\n",
        "    perm_data = data.copy()\n",
        "    rand_num = np.random.randint(0 , len(data[cat]) , len(data[cat]))\n",
        "    perm_data[cat][np.arange(len(data[cat]))] = data[cat][rand_num] \n",
        "    df = perm_data\n",
        "    return df\n",
        "\n",
        "def reset_data():\n",
        "    return pd.read_csv(\"https://raw.githubusercontent.com/oskarwiese/fagprojekt/master/compas_propublica/compas-scores-two-years.csv\")"
      ],
      "execution_count": 0,
      "outputs": []
    },
    {
      "cell_type": "markdown",
      "metadata": {
        "id": "w2sPNIZ45SSt",
        "colab_type": "text"
      },
      "source": [
        "# Data Visualization and Pre-processing"
      ]
    },
    {
      "cell_type": "code",
      "metadata": {
        "id": "NSNprPaK5SSv",
        "colab_type": "code",
        "colab": {
          "base_uri": "https://localhost:8080/",
          "height": 35
        },
        "outputId": "a5be7bf4-99eb-415d-bef6-d7d5ebb69806"
      },
      "source": [
        "url = \"https://raw.githubusercontent.com/oskarwiese/fagprojekt/master/compas_propublica/compas-scores-two-years.csv\"\n",
        "data = pd.read_csv(url)\n",
        "\n",
        "use_cuda = torch.cuda.is_available()\n",
        "print(\"Running GPU.\") if use_cuda else print(\"No GPU available.\")\n",
        "#print(data.columns)"
      ],
      "execution_count": 3,
      "outputs": [
        {
          "output_type": "stream",
          "text": [
            "No GPU available.\n"
          ],
          "name": "stdout"
        }
      ]
    },
    {
      "cell_type": "code",
      "metadata": {
        "scrolled": false,
        "id": "4-ngWGKA5SS3",
        "colab_type": "code",
        "colab": {
          "base_uri": "https://localhost:8080/",
          "height": 1000
        },
        "outputId": "1bc15505-fbb4-4bce-b97d-9e67496c9321"
      },
      "source": [
        "def is_plot():\n",
        "    \n",
        "    path = r\"C:\\Users\\ejer\\Desktop\\Fagprojekt\\fagprojekt\\report\\imgs\"\n",
        "    \n",
        "    pred_plot_race = sb.countplot(x = \"score_text\", hue = \"race\", data = data)\n",
        "    pred_plot_race.set_title(\"Predicted risk of recidivism according to race\")\n",
        "    #pred_plot_race.figure.savefig(path + \"\\\\predicted_recid_race.png\")\n",
        "    plt.show()\n",
        "    \n",
        "    pred_plot_sex = sb.countplot(x = \"score_text\", hue = \"sex\", data = data)\n",
        "    pred_plot_sex.set_title(\"Predicted risk of recidivism according to sex\")\n",
        "    #pred_plot_sex.figure.savefig(path + \"\\\\predicted_recid_sex.png\")\n",
        "    plt.show()\n",
        "    \n",
        "    true_plot = sb.countplot(x = \"is_recid\", hue = \"race\", data = data)\n",
        "    true_plot.set_title(\"True recidivism scores\")\n",
        "    #true_plot.figure.savefig(path + \"\\\\true_recid.png\")\n",
        "    plt.show()\n",
        "    \n",
        "    df = data[(data[\"race\"] == \"African-American\") | (data[\"race\"] == \"Caucasian\")]\n",
        "    df = df[df[\"priors_count\"] < 25]\n",
        "    \n",
        "    priors_plot = sb.countplot(x = \"priors_count\", hue = \"race\", data = df)\n",
        "    priors_plot.set_title(\"Number of previous felonies according to race\")\n",
        "    #priors_plot.figure.savefig(path + \"\\\\proirs.png\")\n",
        "    plt.show()\n",
        "    \n",
        "    c_charge_degree = sb.countplot(x = \"c_charge_degree\", hue = \"race\", data = df)\n",
        "    c_charge_degree.set_title(\"Severity of the crimes for each race\")\n",
        "    #c_charge_degree.figure.savefig(path + \"\\\\c_charge_degree.png\")\n",
        "    plt.show()\n",
        "    \n",
        "    c_charge_degree = sb.countplot(x = \"score_text\", hue = \"c_charge_degree\", data = df)\n",
        "    c_charge_degree.set_title(\"Relation between crime severity and predicted recidivism\")\n",
        "    #c_charge_degree.figure.savefig(path + \"\\\\charge_degree_score.png\")\n",
        "    plt.show()\n",
        "    \n",
        "    \n",
        "is_plot()\n",
        "\n",
        "palette = {\"Caucasian\": \"C0\", \"African-American\": \"C1\", \"Hispanic\": \"C2\", \"Other\": \"C3\" , \"Asian\": \"C4\" ,\"Native American\": \"C5\"}\n",
        "for i in tqdm(range(3)):\n",
        "    #TODO: der skal indsættes punkter for den rigtige data1fordelling. \n",
        "    data = permutation(data, \"race\")\n",
        "    path = r\"C:\\Users\\ejer\\Desktop\\Fagprojekt\\fagprojekt\\report\\imgs\"\n",
        "    pred_plot_race = sb.countplot(x = \"score_text\" ,hue = \"race\", data = data, palette = palette ,alpha=.06,  hue_order = [ \"African-American\",\"Caucasian\", \"Hispanic\", \"Other\" , \"Asian\",\"Native American\"])\n",
        "    pred_plot_race.set_title(\"Predicted risk of recidivism according to race\")\n",
        "    pred_plot_race.set_xticklabels(pred_plot_race.get_xticklabels(), horizontalalignment ='right')\n",
        "    pred_plot_race.get_legend().remove()\n",
        "    data = reset_data()\n",
        "plt.show()\n",
        "    \n"
      ],
      "execution_count": 4,
      "outputs": [
        {
          "output_type": "display_data",
          "data": {
            "image/png": "[encoded data removed]",
            "text/plain": [
              "<Figure size 432x288 with 1 Axes>"
            ]
          },
          "metadata": {
            "tags": []
          }
        },
        {
          "output_type": "display_data",
          "data": {
            "image/png": "[encoded data removed]",
            "text/plain": [
              "<Figure size 432x288 with 1 Axes>"
            ]
          },
          "metadata": {
            "tags": []
          }
        },
        {
          "output_type": "display_data",
          "data": {
            "image/png": "[encoded data removed]",
            "text/plain": [
              "<Figure size 432x288 with 1 Axes>"
            ]
          },
          "metadata": {
            "tags": []
          }
        },
        {
          "output_type": "display_data",
          "data": {
            "image/png": "[encoded data removed]",
            "text/plain": [
              "<Figure size 432x288 with 1 Axes>"
            ]
          },
          "metadata": {
            "tags": []
          }
        },
        {
          "output_type": "display_data",
          "data": {
            "image/png": "[encoded data removed]",
            "text/plain": [
              "<Figure size 432x288 with 1 Axes>"
            ]
          },
          "metadata": {
            "tags": []
          }
        },
        {
          "output_type": "display_data",
          "data": {
            "image/png": "[encoded data removed]",
            "text/plain": [
              "<Figure size 432x288 with 1 Axes>"
            ]
          },
          "metadata": {
            "tags": []
          }
        },
        {
          "output_type": "stream",
          "text": [
            "100%|██████████| 3/3 [00:01<00:00,  2.30it/s]\n"
          ],
          "name": "stderr"
        },
        {
          "output_type": "display_data",
          "data": {
            "image/png": "[encoded data removed]",
            "text/plain": [
              "<Figure size 432x288 with 1 Axes>"
            ]
          },
          "metadata": {
            "tags": []
          }
        }
      ]
    },
    {
      "cell_type": "code",
      "metadata": {
        "id": "5KY4-14e5SS7",
        "colab_type": "code",
        "colab": {}
      },
      "source": [
        "categoricals = [\"c_charge_degree\", \"race\", \"age_cat\", \"sex\"] # \"r_charge_degree\"    \"two_year_recid\"    \"is_recid\", \"is_violent_recid\"\n",
        "numericals = [\"age\", \"priors_count\", \"juv_fel_count\", \"juv_misd_count\"] # \"days_b_screening_arrest\"\n",
        "outputs = [\"score_text\"]\n",
        "data = data[categoricals + numericals + outputs + [\"two_year_recid\"] + [\"is_recid\"]]\n",
        "\n",
        "# Making the output binary\n",
        "data[outputs] = data[outputs].replace('Low',0)\n",
        "data[outputs] = data[outputs].replace('Medium',1)\n",
        "data[outputs] = data[outputs].replace('High',1)\n",
        "data[outputs] = data[outputs].astype(\"category\")"
      ],
      "execution_count": 0,
      "outputs": []
    },
    {
      "cell_type": "code",
      "metadata": {
        "id": "CBoFYqjI5SS_",
        "colab_type": "code",
        "colab": {}
      },
      "source": [
        "Xcat, Xnum = dataprep(data, norm_type = \"zscore\")\n",
        "\n",
        "# Converting the output to tensor\n",
        "y = torch.tensor(data[outputs].values).flatten()\n",
        "\n",
        "# Calculation of embedding sizes for the categorical values in the format (unique categorical values, embedding size (dimension of encoding))\n",
        "categorical_column_sizes = [len(data[column].cat.categories) for column in categoricals]\n",
        "categorical_embedding_sizes = [(col_size, min(50, (col_size+1)//2)) for col_size in categorical_column_sizes]\n",
        "\n",
        "# Train-test split\n",
        "totalnumber = len(Xnum)\n",
        "testnumber = int(totalnumber * 0.2)\n",
        "\n",
        "Xcattrain = Xcat[:totalnumber - testnumber]\n",
        "Xcattest = Xcat[totalnumber - testnumber:totalnumber]\n",
        "Xnumtrain = Xnum[:totalnumber - testnumber]\n",
        "Xnumtest = Xnum[totalnumber - testnumber:totalnumber]\n",
        "ytrain = y[:totalnumber - testnumber]\n",
        "ytest = data[\"is_recid\"][totalnumber - testnumber:totalnumber]\n",
        "ytest = torch.tensor(ytest.values).flatten()\n",
        "\n",
        "\n",
        "# Make sure that we dont validate on training data to compare if the algorithm is biased\n",
        "\n",
        "\n",
        "normalize(Xnumtrain, \"zscore\");\n",
        "normalize(Xnumtest, \"zscore\");"
      ],
      "execution_count": 0,
      "outputs": []
    },
    {
      "cell_type": "markdown",
      "metadata": {
        "id": "Pg6WHexn5STD",
        "colab_type": "text"
      },
      "source": [
        "# Neural Network"
      ]
    },
    {
      "cell_type": "code",
      "metadata": {
        "id": "Z3t5XVqd5STD",
        "colab_type": "code",
        "colab": {}
      },
      "source": [
        "class Model(nn.Module):\n",
        "\n",
        "    def __init__(self, embedding_size, num_numerical_cols, output_size, layers, p=0.4):\n",
        "        super().__init__()\n",
        "        self.all_embeddings = nn.ModuleList([nn.Embedding(ni, nf) for ni, nf in embedding_size])\n",
        "        self.embedding_dropout = nn.Dropout(p)\n",
        "        self.batch_norm_num = nn.BatchNorm1d(num_numerical_cols)\n",
        "        \n",
        "        all_layers = []\n",
        "        num_categorical_cols = sum((nf for ni, nf in embedding_size))\n",
        "        input_size = num_categorical_cols + num_numerical_cols\n",
        "\n",
        "        for i in layers:\n",
        "            all_layers.append(nn.Linear(input_size, i))\n",
        "            all_layers.append(nn.ReLU(inplace=True))\n",
        "            all_layers.append(nn.BatchNorm1d(i))\n",
        "            all_layers.append(nn.Dropout(p))\n",
        "            input_size = i\n",
        "\n",
        "        all_layers.append(nn.Linear(layers[-1], output_size))\n",
        "\n",
        "        self.layers = nn.Sequential(*all_layers)\n",
        "\n",
        "    def forward(self, x_categorical, x_numerical):\n",
        "        embeddings = []\n",
        "        for i,e in enumerate(self.all_embeddings):\n",
        "            embeddings.append(e(x_categorical[:,i]))\n",
        "        x = torch.cat(embeddings, 1)\n",
        "        x = self.embedding_dropout(x)\n",
        "\n",
        "        x_numerical = self.batch_norm_num(x_numerical)\n",
        "        x = torch.cat([x, x_numerical], 1)\n",
        "        x = self.layers(x)\n",
        "        return nn.functional.sigmoid(x)"
      ],
      "execution_count": 0,
      "outputs": []
    },
    {
      "cell_type": "markdown",
      "metadata": {
        "id": "VdWsHPT85STH",
        "colab_type": "text"
      },
      "source": [
        "# Train model on data"
      ]
    },
    {
      "cell_type": "code",
      "metadata": {
        "scrolled": true,
        "id": "9fMPP7dt5STI",
        "colab_type": "code",
        "colab": {},
        "outputId": "8d86f2b0-d3a8-4c03-cd7c-155c1c826e8b"
      },
      "source": [
        "# Define and show the model\n",
        "model = Model(categorical_embedding_sizes, 4, 1, [16,32,64,128,64], p=0.5)\n",
        "if use_cuda:\n",
        "    model.cuda()\n",
        "print(model)\n",
        "for param in model.parameters():\n",
        "            param.requires_grad = True\n"
      ],
      "execution_count": 0,
      "outputs": [
        {
          "output_type": "stream",
          "text": [
            "Model(\n",
            "  (all_embeddings): ModuleList(\n",
            "    (0): Embedding(2, 1)\n",
            "    (1): Embedding(6, 3)\n",
            "    (2): Embedding(3, 2)\n",
            "    (3): Embedding(2, 1)\n",
            "  )\n",
            "  (embedding_dropout): Dropout(p=0.5, inplace=False)\n",
            "  (batch_norm_num): BatchNorm1d(4, eps=1e-05, momentum=0.1, affine=True, track_running_stats=True)\n",
            "  (layers): Sequential(\n",
            "    (0): Linear(in_features=11, out_features=16, bias=True)\n",
            "    (1): ReLU(inplace=True)\n",
            "    (2): BatchNorm1d(16, eps=1e-05, momentum=0.1, affine=True, track_running_stats=True)\n",
            "    (3): Dropout(p=0.5, inplace=False)\n",
            "    (4): Linear(in_features=16, out_features=32, bias=True)\n",
            "    (5): ReLU(inplace=True)\n",
            "    (6): BatchNorm1d(32, eps=1e-05, momentum=0.1, affine=True, track_running_stats=True)\n",
            "    (7): Dropout(p=0.5, inplace=False)\n",
            "    (8): Linear(in_features=32, out_features=64, bias=True)\n",
            "    (9): ReLU(inplace=True)\n",
            "    (10): BatchNorm1d(64, eps=1e-05, momentum=0.1, affine=True, track_running_stats=True)\n",
            "    (11): Dropout(p=0.5, inplace=False)\n",
            "    (12): Linear(in_features=64, out_features=128, bias=True)\n",
            "    (13): ReLU(inplace=True)\n",
            "    (14): BatchNorm1d(128, eps=1e-05, momentum=0.1, affine=True, track_running_stats=True)\n",
            "    (15): Dropout(p=0.5, inplace=False)\n",
            "    (16): Linear(in_features=128, out_features=64, bias=True)\n",
            "    (17): ReLU(inplace=True)\n",
            "    (18): BatchNorm1d(64, eps=1e-05, momentum=0.1, affine=True, track_running_stats=True)\n",
            "    (19): Dropout(p=0.5, inplace=False)\n",
            "    (20): Linear(in_features=64, out_features=1, bias=True)\n",
            "  )\n",
            ")\n"
          ],
          "name": "stdout"
        }
      ]
    },
    {
      "cell_type": "code",
      "metadata": {
        "id": "QHsKSikU5STM",
        "colab_type": "code",
        "colab": {}
      },
      "source": [
        "# Loss function and optimization\n",
        "loss_function = nn.BCELoss()\n",
        "optimizer = torch.optim.Adam(model.parameters(), lr=0.001, weight_decay = 1e-6)\n",
        "threshold = 0.5"
      ],
      "execution_count": 0,
      "outputs": []
    },
    {
      "cell_type": "code",
      "metadata": {
        "scrolled": false,
        "id": "245zZmG95STP",
        "colab_type": "code",
        "colab": {}
      },
      "source": [
        "# thresholds = np.random.uniform(0,1,size=points)\n",
        "    \n",
        "def train_model(hyperparameters, model, epochs = 100, plot = False):\n",
        "    in_features, out_features = 11, 1\n",
        "    p = hyperparameters['p']\n",
        "    hidden_units_1 = hyperparameters['hidden_units_1']\n",
        "    hidden_units_2 = hyperparameters['hidden_units_2']\n",
        "    hidden_units_3 = hyperparameters['hidden_units_3']\n",
        "    hidden_units_4 = hyperparameters['hidden_units_4']\n",
        "    hidden_units_5 = hyperparameters['hidden_units_5']\n",
        "    activation_func = hyperparameters['activation_func']\n",
        "    \n",
        "    model.layers[0] = torch.nn.Linear(in_features, hidden_units_1) \n",
        "    model.layers[1] = activation_func\n",
        "    model.layers[2] = torch.nn.BatchNorm1d(hidden_units_1)\n",
        "    model.layers[3] = torch.nn.Dropout(p=p)\n",
        "    model.layers[4] = torch.nn.Linear(hidden_units_1, hidden_units_2) \n",
        "    model.layers[5] = activation_func\n",
        "    model.layers[6] = torch.nn.BatchNorm1d(hidden_units_2)\n",
        "    model.layers[7] = torch.nn.Dropout(p=p)\n",
        "    model.layers[8] = torch.nn.Linear(hidden_units_2, hidden_units_3) \n",
        "    model.layers[9] = activation_func\n",
        "    model.layers[10] = torch.nn.BatchNorm1d(hidden_units_3)\n",
        "    model.layers[11] = torch.nn.Dropout(p=p)\n",
        "    model.layers[12] = torch.nn.Linear(hidden_units_3, hidden_units_4) \n",
        "    model.layers[13] = activation_func\n",
        "    model.layers[14] = torch.nn.BatchNorm1d(hidden_units_4)\n",
        "    model.layers[15] = torch.nn.Dropout(p=p)\n",
        "    model.layers[16] = torch.nn.Linear(hidden_units_4, hidden_units_5) \n",
        "    model.layers[17] = activation_func\n",
        "    model.layers[18] = torch.nn.BatchNorm1d(hidden_units_5)\n",
        "    model.layers[19] = torch.nn.Dropout(p=p)\n",
        "    model.layers[20] = torch.nn.Linear(hidden_units_5, out_features) \n",
        "    \n",
        "    aggregated_losses = []\n",
        "    \n",
        "    # Initialize lists for training and validation\n",
        "    train_iter = []\n",
        "    train_loss, train_accs = [], []\n",
        "    valid_iter = []\n",
        "    valid_loss, valid_accs = [], []\n",
        "\n",
        "    model.train()\n",
        "    for i in range(epochs):\n",
        "        i += 1\n",
        "        y_pred = model(Xcattrain, Xnumtrain)\n",
        "        single_loss = loss_function(y_pred, ytrain.float())\n",
        "        aggregated_losses.append(single_loss)\n",
        "\n",
        "        #if i % 25 == 1:\n",
        "            #print(f'epoch: {i:3} loss: {single_loss.item():10.8f}')\n",
        "\n",
        "        optimizer.zero_grad()\n",
        "        single_loss.backward()\n",
        "        optimizer.step()\n",
        "\n",
        "    #print(f'epoch: {i:3} loss: {single_loss.item():10.10f}')\n",
        "\n",
        "\n",
        "    \n",
        "    # Plot the loss over epocs\n",
        "    if plot:\n",
        "        plt.plot(range(epochs), aggregated_losses)\n",
        "        plt.ylabel('Loss')\n",
        "        plt.xlabel('epoch');\n",
        "\n",
        "\n",
        "    # Predict on the test set\n",
        "    model.eval()\n",
        "    with torch.no_grad():\n",
        "        y_val = model(Xcattest, Xnumtest)\n",
        "        loss = loss_function(y_val, ytest.float())\n",
        "\n",
        "\n",
        "    y_val = (y_val > threshold).float()\n",
        "\n",
        "    \n",
        "    #print(confusion_matrix(ytest,y_val))\n",
        "    #print(classification_report(ytest,y_val))\n",
        "    neural_acc = accuracy_score(ytest, y_val)\n",
        "    \n",
        "    return model, float(neural_acc)"
      ],
      "execution_count": 0,
      "outputs": []
    },
    {
      "cell_type": "markdown",
      "metadata": {
        "id": "0y2tyhVQ5STT",
        "colab_type": "text"
      },
      "source": [
        "# Random Forest"
      ]
    },
    {
      "cell_type": "code",
      "metadata": {
        "id": "KPy7fLRL5STT",
        "colab_type": "code",
        "colab": {},
        "outputId": "3aa00b2f-779d-4a6c-e479-2ae5b9d0928a"
      },
      "source": [
        "# Define the model and fit it to the data\n",
        "def RandomForest(datatrain, datatest, ytrain, ytest, n_estimators = 53, max_depth = 14, max_features = \"log2\", criterion = \"entropy\", show_acc = True):\n",
        "    forestModel = RandomForestClassifier(n_estimators = n_estimators, max_depth = max_depth, max_features = max_features, criterion = criterion)\n",
        "    forestModel.fit(datatrain, ytrain)\n",
        "\n",
        "    # Predict on the test set\n",
        "    forestPreds = forestModel.predict(datatest)\n",
        "\n",
        "    forestProbs = forestModel.predict_proba(datatest)[:, 1]\n",
        "\n",
        "    if show_acc:\n",
        "        print(\"Predicted no recidivism: \", len(forestPreds[forestPreds == 0]))\n",
        "        print(\"Predicted recidivism: \", len(forestPreds[forestPreds == 1]))\n",
        "\n",
        "        print(\"Accuracy of the random forest model: \", len(forestPreds[torch.tensor(forestPreds, dtype = torch.int64) == ytest]) / len(forestPreds))\n",
        "\n",
        "RandomForest(Xcattrain, Xcattest, ytrain, ytest, n_estimators = 53, max_depth = 14, max_features = \"log2\", criterion = \"entropy\", show_acc = True)"
      ],
      "execution_count": 0,
      "outputs": [
        {
          "output_type": "stream",
          "text": [
            "Predicted no recidivism:  696\n",
            "Predicted recidivism:  746\n",
            "Accuracy of the random forest model:  0.6615811373092927\n"
          ],
          "name": "stdout"
        }
      ]
    },
    {
      "cell_type": "markdown",
      "metadata": {
        "id": "O7kus8x85STX",
        "colab_type": "text"
      },
      "source": [
        "# Baysian Optimization"
      ]
    },
    {
      "cell_type": "code",
      "metadata": {
        "scrolled": true,
        "id": "irkN0B1v5STY",
        "colab_type": "code",
        "colab": {},
        "outputId": "37cd8997-8aea-443b-ef54-c468fc1baf6b"
      },
      "source": [
        "ACTIV = {0: torch.nn.Tanh(),\n",
        "         1: torch.nn.ReLU(),\n",
        "         2: torch.nn.ReLU6(),\n",
        "         3: torch.nn.Sigmoid(),\n",
        "        }\n",
        "\n",
        "netsize = 246\n",
        "\n",
        "## we have to define the function we want to maximize --> validation accuracy, \n",
        "## note it should take a 2D ndarray but it is ok that it assumes only one point\n",
        "## in this setting\n",
        "def objective_function(x): \n",
        "    model = Model(categorical_embedding_sizes, 4, 1, [16,32,64,128,64], p=0.5)\n",
        "    print(x)\n",
        "    # we have to handle the categorical variables that is convert 0/1 to labels\n",
        "    # log2/sqrt and gini/entropy\n",
        "    \n",
        "    param = x[0]\n",
        "    hyperparameters = {\n",
        "        'hidden_units_1': int(np.ceil(param[0]*netsize*0.4)+int(10)),\n",
        "        'hidden_units_2': int(np.ceil(param[0]*netsize*0.7)+int(10)),\n",
        "        'hidden_units_3': int(np.ceil(param[0]*netsize)+int(10)),\n",
        "        'hidden_units_4': int(np.ceil(param[0]*netsize*0.7)+int(10)),\n",
        "        'hidden_units_5': int(np.ceil(param[0]*netsize*0.4)+int(10)),\n",
        "        'p': param[1],\n",
        "        'activation_func': ACTIV[int(param[2])]\n",
        "    }\n",
        "    print(hyperparameters)\n",
        "    trained_model, neural_acc  = train_model(hyperparameters, model)\n",
        "    print(neural_acc)\n",
        "    return -neural_acc\n",
        "    \n",
        "# define the dictionary for GPyOpt\n",
        "domain = [{'hidden_units'   : 'var_1', 'type': 'continuous', 'domain': (0 , 1)},\n",
        "          {'p'              : 'var_2', 'type': 'continuous',  'domain': (0 , 1)},\n",
        "          {'activation_func': 'var_3', 'type': 'categorical','domain': tuple(np.arange(4))}]\n",
        "\n",
        "\n",
        "opt = GPyOpt.methods.BayesianOptimization(f = objective_function,   # function to optimize\n",
        "                                              domain = domain,         # box-constrains of the problem\n",
        "                                              acquisition_type = \"EI\",      # Select acquisition function MPI, EI, LCB\n",
        "                                             )\n",
        "opt.acquisition.exploration_weight=.1\n",
        "\n",
        "opt.run_optimization(max_iter = 100) \n",
        "\n",
        "\n",
        "x_best = opt.X[np.argmin(opt.Y)]\n",
        "print(\"bedste: \", x_best)\n",
        "#print(\"The best parameters obtained: n_estimators=\" + str(x_best[0]) + \", max_depth=\" + str(x_best[1]) + \", max_features=\" + str(\n",
        "#    x_best[2])  + \", criterion=\" + str(\n",
        "#    x_best[3]))"
      ],
      "execution_count": 0,
      "outputs": [
        {
          "output_type": "stream",
          "text": [
            "[[0.779691   0.33370861 2.        ]]\n",
            "{'hidden_units_1': 87, 'hidden_units_2': 145, 'hidden_units_3': 202, 'hidden_units_4': 145, 'hidden_units_5': 87, 'p': 0.33370861113902184, 'activation_func': ReLU6()}\n"
          ],
          "name": "stdout"
        },
        {
          "output_type": "error",
          "ename": "KeyboardInterrupt",
          "evalue": "",
          "traceback": [
            "\u001b[1;31m---------------------------------------------------------------------------\u001b[0m",
            "\u001b[1;31mKeyboardInterrupt\u001b[0m                         Traceback (most recent call last)",
            "\u001b[1;32m<ipython-input-23-68255f4599c7>\u001b[0m in \u001b[0;36m<module>\u001b[1;34m\u001b[0m\n\u001b[0;32m     39\u001b[0m opt = GPyOpt.methods.BayesianOptimization(f = objective_function,   # function to optimize\n\u001b[0;32m     40\u001b[0m                                               \u001b[0mdomain\u001b[0m \u001b[1;33m=\u001b[0m \u001b[0mdomain\u001b[0m\u001b[1;33m,\u001b[0m         \u001b[1;31m# box-constrains of the problem\u001b[0m\u001b[1;33m\u001b[0m\u001b[1;33m\u001b[0m\u001b[0m\n\u001b[1;32m---> 41\u001b[1;33m                                               \u001b[0macquisition_type\u001b[0m \u001b[1;33m=\u001b[0m \u001b[1;34m\"EI\"\u001b[0m\u001b[1;33m,\u001b[0m      \u001b[1;31m# Select acquisition function MPI, EI, LCB\u001b[0m\u001b[1;33m\u001b[0m\u001b[1;33m\u001b[0m\u001b[0m\n\u001b[0m\u001b[0;32m     42\u001b[0m                                              )\n\u001b[0;32m     43\u001b[0m \u001b[0mopt\u001b[0m\u001b[1;33m.\u001b[0m\u001b[0macquisition\u001b[0m\u001b[1;33m.\u001b[0m\u001b[0mexploration_weight\u001b[0m\u001b[1;33m=\u001b[0m\u001b[1;36m.1\u001b[0m\u001b[1;33m\u001b[0m\u001b[1;33m\u001b[0m\u001b[0m\n",
            "\u001b[1;32m~\\Anaconda3\\lib\\site-packages\\GPyOpt\\methods\\bayesian_optimization.py\u001b[0m in \u001b[0;36m__init__\u001b[1;34m(self, f, domain, constraints, cost_withGradients, model_type, X, Y, initial_design_numdata, initial_design_type, acquisition_type, normalize_Y, exact_feval, acquisition_optimizer_type, model_update_interval, evaluator_type, batch_size, num_cores, verbosity, verbosity_model, maximize, de_duplication, **kwargs)\u001b[0m\n\u001b[0;32m    116\u001b[0m         \u001b[0mself\u001b[0m\u001b[1;33m.\u001b[0m\u001b[0minitial_design_type\u001b[0m  \u001b[1;33m=\u001b[0m \u001b[0minitial_design_type\u001b[0m\u001b[1;33m\u001b[0m\u001b[1;33m\u001b[0m\u001b[0m\n\u001b[0;32m    117\u001b[0m         \u001b[0mself\u001b[0m\u001b[1;33m.\u001b[0m\u001b[0minitial_design_numdata\u001b[0m \u001b[1;33m=\u001b[0m \u001b[0minitial_design_numdata\u001b[0m\u001b[1;33m\u001b[0m\u001b[1;33m\u001b[0m\u001b[0m\n\u001b[1;32m--> 118\u001b[1;33m         \u001b[0mself\u001b[0m\u001b[1;33m.\u001b[0m\u001b[0m_init_design_chooser\u001b[0m\u001b[1;33m(\u001b[0m\u001b[1;33m)\u001b[0m\u001b[1;33m\u001b[0m\u001b[1;33m\u001b[0m\u001b[0m\n\u001b[0m\u001b[0;32m    119\u001b[0m \u001b[1;33m\u001b[0m\u001b[0m\n\u001b[0;32m    120\u001b[0m         \u001b[1;31m# --- CHOOSE the model type. If an instance of a GPyOpt model is passed (possibly user defined), it is used.\u001b[0m\u001b[1;33m\u001b[0m\u001b[1;33m\u001b[0m\u001b[1;33m\u001b[0m\u001b[0m\n",
            "\u001b[1;32m~\\Anaconda3\\lib\\site-packages\\GPyOpt\\methods\\bayesian_optimization.py\u001b[0m in \u001b[0;36m_init_design_chooser\u001b[1;34m(self)\u001b[0m\n\u001b[0;32m    191\u001b[0m         \u001b[1;32mif\u001b[0m \u001b[0mself\u001b[0m\u001b[1;33m.\u001b[0m\u001b[0mX\u001b[0m \u001b[1;32mis\u001b[0m \u001b[1;32mNone\u001b[0m\u001b[1;33m:\u001b[0m\u001b[1;33m\u001b[0m\u001b[1;33m\u001b[0m\u001b[0m\n\u001b[0;32m    192\u001b[0m             \u001b[0mself\u001b[0m\u001b[1;33m.\u001b[0m\u001b[0mX\u001b[0m \u001b[1;33m=\u001b[0m \u001b[0minitial_design\u001b[0m\u001b[1;33m(\u001b[0m\u001b[0mself\u001b[0m\u001b[1;33m.\u001b[0m\u001b[0minitial_design_type\u001b[0m\u001b[1;33m,\u001b[0m \u001b[0mself\u001b[0m\u001b[1;33m.\u001b[0m\u001b[0mspace\u001b[0m\u001b[1;33m,\u001b[0m \u001b[0mself\u001b[0m\u001b[1;33m.\u001b[0m\u001b[0minitial_design_numdata\u001b[0m\u001b[1;33m)\u001b[0m\u001b[1;33m\u001b[0m\u001b[1;33m\u001b[0m\u001b[0m\n\u001b[1;32m--> 193\u001b[1;33m             \u001b[0mself\u001b[0m\u001b[1;33m.\u001b[0m\u001b[0mY\u001b[0m\u001b[1;33m,\u001b[0m \u001b[0m_\u001b[0m \u001b[1;33m=\u001b[0m \u001b[0mself\u001b[0m\u001b[1;33m.\u001b[0m\u001b[0mobjective\u001b[0m\u001b[1;33m.\u001b[0m\u001b[0mevaluate\u001b[0m\u001b[1;33m(\u001b[0m\u001b[0mself\u001b[0m\u001b[1;33m.\u001b[0m\u001b[0mX\u001b[0m\u001b[1;33m)\u001b[0m\u001b[1;33m\u001b[0m\u001b[1;33m\u001b[0m\u001b[0m\n\u001b[0m\u001b[0;32m    194\u001b[0m         \u001b[1;31m# Case 2\u001b[0m\u001b[1;33m\u001b[0m\u001b[1;33m\u001b[0m\u001b[1;33m\u001b[0m\u001b[0m\n\u001b[0;32m    195\u001b[0m         \u001b[1;32melif\u001b[0m \u001b[0mself\u001b[0m\u001b[1;33m.\u001b[0m\u001b[0mX\u001b[0m \u001b[1;32mis\u001b[0m \u001b[1;32mnot\u001b[0m \u001b[1;32mNone\u001b[0m \u001b[1;32mand\u001b[0m \u001b[0mself\u001b[0m\u001b[1;33m.\u001b[0m\u001b[0mY\u001b[0m \u001b[1;32mis\u001b[0m \u001b[1;32mNone\u001b[0m\u001b[1;33m:\u001b[0m\u001b[1;33m\u001b[0m\u001b[1;33m\u001b[0m\u001b[0m\n",
            "\u001b[1;32m~\\Anaconda3\\lib\\site-packages\\GPyOpt\\core\\task\\objective.py\u001b[0m in \u001b[0;36mevaluate\u001b[1;34m(self, x)\u001b[0m\n\u001b[0;32m     48\u001b[0m \u001b[1;33m\u001b[0m\u001b[0m\n\u001b[0;32m     49\u001b[0m         \u001b[1;32mif\u001b[0m \u001b[0mself\u001b[0m\u001b[1;33m.\u001b[0m\u001b[0mn_procs\u001b[0m \u001b[1;33m==\u001b[0m \u001b[1;36m1\u001b[0m\u001b[1;33m:\u001b[0m\u001b[1;33m\u001b[0m\u001b[1;33m\u001b[0m\u001b[0m\n\u001b[1;32m---> 50\u001b[1;33m             \u001b[0mf_evals\u001b[0m\u001b[1;33m,\u001b[0m \u001b[0mcost_evals\u001b[0m \u001b[1;33m=\u001b[0m \u001b[0mself\u001b[0m\u001b[1;33m.\u001b[0m\u001b[0m_eval_func\u001b[0m\u001b[1;33m(\u001b[0m\u001b[0mx\u001b[0m\u001b[1;33m)\u001b[0m\u001b[1;33m\u001b[0m\u001b[1;33m\u001b[0m\u001b[0m\n\u001b[0m\u001b[0;32m     51\u001b[0m         \u001b[1;32melse\u001b[0m\u001b[1;33m:\u001b[0m\u001b[1;33m\u001b[0m\u001b[1;33m\u001b[0m\u001b[0m\n\u001b[0;32m     52\u001b[0m             \u001b[1;32mtry\u001b[0m\u001b[1;33m:\u001b[0m\u001b[1;33m\u001b[0m\u001b[1;33m\u001b[0m\u001b[0m\n",
            "\u001b[1;32m~\\Anaconda3\\lib\\site-packages\\GPyOpt\\core\\task\\objective.py\u001b[0m in \u001b[0;36m_eval_func\u001b[1;34m(self, x)\u001b[0m\n\u001b[0;32m     72\u001b[0m         \u001b[1;32mfor\u001b[0m \u001b[0mi\u001b[0m \u001b[1;32min\u001b[0m \u001b[0mrange\u001b[0m\u001b[1;33m(\u001b[0m\u001b[0mx\u001b[0m\u001b[1;33m.\u001b[0m\u001b[0mshape\u001b[0m\u001b[1;33m[\u001b[0m\u001b[1;36m0\u001b[0m\u001b[1;33m]\u001b[0m\u001b[1;33m)\u001b[0m\u001b[1;33m:\u001b[0m\u001b[1;33m\u001b[0m\u001b[1;33m\u001b[0m\u001b[0m\n\u001b[0;32m     73\u001b[0m             \u001b[0mst_time\u001b[0m    \u001b[1;33m=\u001b[0m \u001b[0mtime\u001b[0m\u001b[1;33m.\u001b[0m\u001b[0mtime\u001b[0m\u001b[1;33m(\u001b[0m\u001b[1;33m)\u001b[0m\u001b[1;33m\u001b[0m\u001b[1;33m\u001b[0m\u001b[0m\n\u001b[1;32m---> 74\u001b[1;33m             \u001b[0mrlt\u001b[0m \u001b[1;33m=\u001b[0m \u001b[0mself\u001b[0m\u001b[1;33m.\u001b[0m\u001b[0mfunc\u001b[0m\u001b[1;33m(\u001b[0m\u001b[0mnp\u001b[0m\u001b[1;33m.\u001b[0m\u001b[0matleast_2d\u001b[0m\u001b[1;33m(\u001b[0m\u001b[0mx\u001b[0m\u001b[1;33m[\u001b[0m\u001b[0mi\u001b[0m\u001b[1;33m]\u001b[0m\u001b[1;33m)\u001b[0m\u001b[1;33m)\u001b[0m\u001b[1;33m\u001b[0m\u001b[1;33m\u001b[0m\u001b[0m\n\u001b[0m\u001b[0;32m     75\u001b[0m             \u001b[0mf_evals\u001b[0m     \u001b[1;33m=\u001b[0m \u001b[0mnp\u001b[0m\u001b[1;33m.\u001b[0m\u001b[0mvstack\u001b[0m\u001b[1;33m(\u001b[0m\u001b[1;33m[\u001b[0m\u001b[0mf_evals\u001b[0m\u001b[1;33m,\u001b[0m\u001b[0mrlt\u001b[0m\u001b[1;33m]\u001b[0m\u001b[1;33m)\u001b[0m\u001b[1;33m\u001b[0m\u001b[1;33m\u001b[0m\u001b[0m\n\u001b[0;32m     76\u001b[0m             \u001b[0mcost_evals\u001b[0m \u001b[1;33m+=\u001b[0m \u001b[1;33m[\u001b[0m\u001b[0mtime\u001b[0m\u001b[1;33m.\u001b[0m\u001b[0mtime\u001b[0m\u001b[1;33m(\u001b[0m\u001b[1;33m)\u001b[0m\u001b[1;33m-\u001b[0m\u001b[0mst_time\u001b[0m\u001b[1;33m]\u001b[0m\u001b[1;33m\u001b[0m\u001b[1;33m\u001b[0m\u001b[0m\n",
            "\u001b[1;32m<ipython-input-23-68255f4599c7>\u001b[0m in \u001b[0;36mobjective_function\u001b[1;34m(x)\u001b[0m\n\u001b[0;32m     27\u001b[0m     }\n\u001b[0;32m     28\u001b[0m     \u001b[0mprint\u001b[0m\u001b[1;33m(\u001b[0m\u001b[0mhyperparameters\u001b[0m\u001b[1;33m)\u001b[0m\u001b[1;33m\u001b[0m\u001b[1;33m\u001b[0m\u001b[0m\n\u001b[1;32m---> 29\u001b[1;33m     \u001b[0mtrained_model\u001b[0m\u001b[1;33m,\u001b[0m \u001b[0mneural_acc\u001b[0m  \u001b[1;33m=\u001b[0m \u001b[0mtrain_model\u001b[0m\u001b[1;33m(\u001b[0m\u001b[0mhyperparameters\u001b[0m\u001b[1;33m,\u001b[0m \u001b[0mmodel\u001b[0m\u001b[1;33m)\u001b[0m\u001b[1;33m\u001b[0m\u001b[1;33m\u001b[0m\u001b[0m\n\u001b[0m\u001b[0;32m     30\u001b[0m     \u001b[0mprint\u001b[0m\u001b[1;33m(\u001b[0m\u001b[0mneural_acc\u001b[0m\u001b[1;33m)\u001b[0m\u001b[1;33m\u001b[0m\u001b[1;33m\u001b[0m\u001b[0m\n\u001b[0;32m     31\u001b[0m     \u001b[1;32mreturn\u001b[0m \u001b[1;33m-\u001b[0m\u001b[0mneural_acc\u001b[0m\u001b[1;33m\u001b[0m\u001b[1;33m\u001b[0m\u001b[0m\n",
            "\u001b[1;32m<ipython-input-10-67296cb15945>\u001b[0m in \u001b[0;36mtrain_model\u001b[1;34m(hyperparameters, model, epochs, plot)\u001b[0m\n\u001b[0;32m     52\u001b[0m \u001b[1;33m\u001b[0m\u001b[0m\n\u001b[0;32m     53\u001b[0m         \u001b[0moptimizer\u001b[0m\u001b[1;33m.\u001b[0m\u001b[0mzero_grad\u001b[0m\u001b[1;33m(\u001b[0m\u001b[1;33m)\u001b[0m\u001b[1;33m\u001b[0m\u001b[1;33m\u001b[0m\u001b[0m\n\u001b[1;32m---> 54\u001b[1;33m         \u001b[0msingle_loss\u001b[0m\u001b[1;33m.\u001b[0m\u001b[0mbackward\u001b[0m\u001b[1;33m(\u001b[0m\u001b[1;33m)\u001b[0m\u001b[1;33m\u001b[0m\u001b[1;33m\u001b[0m\u001b[0m\n\u001b[0m\u001b[0;32m     55\u001b[0m         \u001b[0moptimizer\u001b[0m\u001b[1;33m.\u001b[0m\u001b[0mstep\u001b[0m\u001b[1;33m(\u001b[0m\u001b[1;33m)\u001b[0m\u001b[1;33m\u001b[0m\u001b[1;33m\u001b[0m\u001b[0m\n\u001b[0;32m     56\u001b[0m \u001b[1;33m\u001b[0m\u001b[0m\n",
            "\u001b[1;32m~\\Anaconda3\\lib\\site-packages\\torch\\tensor.py\u001b[0m in \u001b[0;36mbackward\u001b[1;34m(self, gradient, retain_graph, create_graph)\u001b[0m\n\u001b[0;32m    116\u001b[0m                 \u001b[0mproducts\u001b[0m\u001b[1;33m.\u001b[0m \u001b[0mDefaults\u001b[0m \u001b[0mto\u001b[0m\u001b[0;31m \u001b[0m\u001b[0;31m`\u001b[0m\u001b[0;31m`\u001b[0m\u001b[1;32mFalse\u001b[0m\u001b[0;31m`\u001b[0m\u001b[0;31m`\u001b[0m\u001b[1;33m.\u001b[0m\u001b[1;33m\u001b[0m\u001b[1;33m\u001b[0m\u001b[0m\n\u001b[0;32m    117\u001b[0m         \"\"\"\n\u001b[1;32m--> 118\u001b[1;33m         \u001b[0mtorch\u001b[0m\u001b[1;33m.\u001b[0m\u001b[0mautograd\u001b[0m\u001b[1;33m.\u001b[0m\u001b[0mbackward\u001b[0m\u001b[1;33m(\u001b[0m\u001b[0mself\u001b[0m\u001b[1;33m,\u001b[0m \u001b[0mgradient\u001b[0m\u001b[1;33m,\u001b[0m \u001b[0mretain_graph\u001b[0m\u001b[1;33m,\u001b[0m \u001b[0mcreate_graph\u001b[0m\u001b[1;33m)\u001b[0m\u001b[1;33m\u001b[0m\u001b[1;33m\u001b[0m\u001b[0m\n\u001b[0m\u001b[0;32m    119\u001b[0m \u001b[1;33m\u001b[0m\u001b[0m\n\u001b[0;32m    120\u001b[0m     \u001b[1;32mdef\u001b[0m \u001b[0mregister_hook\u001b[0m\u001b[1;33m(\u001b[0m\u001b[0mself\u001b[0m\u001b[1;33m,\u001b[0m \u001b[0mhook\u001b[0m\u001b[1;33m)\u001b[0m\u001b[1;33m:\u001b[0m\u001b[1;33m\u001b[0m\u001b[1;33m\u001b[0m\u001b[0m\n",
            "\u001b[1;32m~\\Anaconda3\\lib\\site-packages\\torch\\autograd\\__init__.py\u001b[0m in \u001b[0;36mbackward\u001b[1;34m(tensors, grad_tensors, retain_graph, create_graph, grad_variables)\u001b[0m\n\u001b[0;32m     91\u001b[0m     Variable._execution_engine.run_backward(\n\u001b[0;32m     92\u001b[0m         \u001b[0mtensors\u001b[0m\u001b[1;33m,\u001b[0m \u001b[0mgrad_tensors\u001b[0m\u001b[1;33m,\u001b[0m \u001b[0mretain_graph\u001b[0m\u001b[1;33m,\u001b[0m \u001b[0mcreate_graph\u001b[0m\u001b[1;33m,\u001b[0m\u001b[1;33m\u001b[0m\u001b[1;33m\u001b[0m\u001b[0m\n\u001b[1;32m---> 93\u001b[1;33m         allow_unreachable=True)  # allow_unreachable flag\n\u001b[0m\u001b[0;32m     94\u001b[0m \u001b[1;33m\u001b[0m\u001b[0m\n\u001b[0;32m     95\u001b[0m \u001b[1;33m\u001b[0m\u001b[0m\n",
            "\u001b[1;31mKeyboardInterrupt\u001b[0m: "
          ]
        }
      ]
    },
    {
      "cell_type": "markdown",
      "metadata": {
        "id": "kT-xo54T5STb",
        "colab_type": "text"
      },
      "source": [
        "# Baseline"
      ]
    },
    {
      "cell_type": "code",
      "metadata": {
        "id": "BCSS5zp-5STc",
        "colab_type": "code",
        "colab": {},
        "outputId": "b5e820ce-fca5-4edc-857a-2771c3e9318a"
      },
      "source": [
        "\n",
        "def baseline(data):\n",
        "    if len(data[data[\"score_text\"] == 0]) > len(data[data[\"score_text\"] == 1]):\n",
        "        y_pred = [0] * len(data[\"score_text\"])\n",
        "        y_pred = torch.tensor(y_pred)\n",
        "    else:\n",
        "        y_pred = [1] * len(data[\"score_text\"])\n",
        "        y_pred = torch.tensor(y_pred)\n",
        "    return y_pred\n",
        "\n",
        "trues = torch.tensor(data[\"score_text\"])\n",
        "y_pred = baseline(data)\n",
        "conf_baseline = confusion_matrix(y_pred,trues)\n",
        "print(conf_baseline)\n",
        "print(conf_baseline / conf_baseline.astype(np.float).sum())\n",
        "baseline_acc = accuracy_score(y_pred, trues)\n",
        "print(baseline_acc)\n",
        "print(\"Difference between baseline and neural network:\", neural_acc - baseline_acc)"
      ],
      "execution_count": 0,
      "outputs": [
        {
          "output_type": "stream",
          "text": [
            "[[3897 3317]\n",
            " [   0    0]]\n",
            "[[0.54019961 0.45980039]\n",
            " [0.         0.        ]]\n",
            "0.5401996118658164\n"
          ],
          "name": "stdout"
        },
        {
          "output_type": "error",
          "ename": "NameError",
          "evalue": "name 'neural_acc' is not defined",
          "traceback": [
            "\u001b[1;31m---------------------------------------------------------------------------\u001b[0m",
            "\u001b[1;31mNameError\u001b[0m                                 Traceback (most recent call last)",
            "\u001b[1;32m<ipython-input-11-fddb74088842>\u001b[0m in \u001b[0;36m<module>\u001b[1;34m\u001b[0m\n\u001b[0;32m     15\u001b[0m \u001b[0mbaseline_acc\u001b[0m \u001b[1;33m=\u001b[0m \u001b[0maccuracy_score\u001b[0m\u001b[1;33m(\u001b[0m\u001b[0my_pred\u001b[0m\u001b[1;33m,\u001b[0m \u001b[0mtrues\u001b[0m\u001b[1;33m)\u001b[0m\u001b[1;33m\u001b[0m\u001b[1;33m\u001b[0m\u001b[0m\n\u001b[0;32m     16\u001b[0m \u001b[0mprint\u001b[0m\u001b[1;33m(\u001b[0m\u001b[0mbaseline_acc\u001b[0m\u001b[1;33m)\u001b[0m\u001b[1;33m\u001b[0m\u001b[1;33m\u001b[0m\u001b[0m\n\u001b[1;32m---> 17\u001b[1;33m \u001b[0mprint\u001b[0m\u001b[1;33m(\u001b[0m\u001b[1;34m\"Difference between baseline and neural network:\"\u001b[0m\u001b[1;33m,\u001b[0m \u001b[0mneural_acc\u001b[0m \u001b[1;33m-\u001b[0m \u001b[0mbaseline_acc\u001b[0m\u001b[1;33m)\u001b[0m\u001b[1;33m\u001b[0m\u001b[1;33m\u001b[0m\u001b[0m\n\u001b[0m",
            "\u001b[1;31mNameError\u001b[0m: name 'neural_acc' is not defined"
          ]
        }
      ]
    },
    {
      "cell_type": "markdown",
      "metadata": {
        "id": "Ac3hY9WM5STh",
        "colab_type": "text"
      },
      "source": [
        "# Train the Model (The currently used model)"
      ]
    },
    {
      "cell_type": "code",
      "metadata": {
        "id": "Ra_BTCLx5STi",
        "colab_type": "code",
        "colab": {
          "base_uri": "https://localhost:8080/",
          "height": 611
        },
        "outputId": "08366ab8-5c3b-4cb5-8c59-69ae6e1cecb0"
      },
      "source": [
        "# Define and show the model\n",
        "model = Model(categorical_embedding_sizes, 4, 1, [16,32,64,128,64], p=0.5)\n",
        "if use_cuda:\n",
        "    model.cuda()\n",
        "print(model)\n",
        "for param in model.parameters():\n",
        "            param.requires_grad = True\n"
      ],
      "execution_count": 8,
      "outputs": [
        {
          "output_type": "stream",
          "text": [
            "Model(\n",
            "  (all_embeddings): ModuleList(\n",
            "    (0): Embedding(2, 1)\n",
            "    (1): Embedding(6, 3)\n",
            "    (2): Embedding(3, 2)\n",
            "    (3): Embedding(2, 1)\n",
            "  )\n",
            "  (embedding_dropout): Dropout(p=0.5, inplace=False)\n",
            "  (batch_norm_num): BatchNorm1d(4, eps=1e-05, momentum=0.1, affine=True, track_running_stats=True)\n",
            "  (layers): Sequential(\n",
            "    (0): Linear(in_features=11, out_features=16, bias=True)\n",
            "    (1): ReLU(inplace=True)\n",
            "    (2): BatchNorm1d(16, eps=1e-05, momentum=0.1, affine=True, track_running_stats=True)\n",
            "    (3): Dropout(p=0.5, inplace=False)\n",
            "    (4): Linear(in_features=16, out_features=32, bias=True)\n",
            "    (5): ReLU(inplace=True)\n",
            "    (6): BatchNorm1d(32, eps=1e-05, momentum=0.1, affine=True, track_running_stats=True)\n",
            "    (7): Dropout(p=0.5, inplace=False)\n",
            "    (8): Linear(in_features=32, out_features=64, bias=True)\n",
            "    (9): ReLU(inplace=True)\n",
            "    (10): BatchNorm1d(64, eps=1e-05, momentum=0.1, affine=True, track_running_stats=True)\n",
            "    (11): Dropout(p=0.5, inplace=False)\n",
            "    (12): Linear(in_features=64, out_features=128, bias=True)\n",
            "    (13): ReLU(inplace=True)\n",
            "    (14): BatchNorm1d(128, eps=1e-05, momentum=0.1, affine=True, track_running_stats=True)\n",
            "    (15): Dropout(p=0.5, inplace=False)\n",
            "    (16): Linear(in_features=128, out_features=64, bias=True)\n",
            "    (17): ReLU(inplace=True)\n",
            "    (18): BatchNorm1d(64, eps=1e-05, momentum=0.1, affine=True, track_running_stats=True)\n",
            "    (19): Dropout(p=0.5, inplace=False)\n",
            "    (20): Linear(in_features=64, out_features=1, bias=True)\n",
            "  )\n",
            ")\n"
          ],
          "name": "stdout"
        }
      ]
    },
    {
      "cell_type": "code",
      "metadata": {
        "id": "2S2toDFW5STl",
        "colab_type": "code",
        "colab": {}
      },
      "source": [
        "# Loss function and optimization\n",
        "loss_function = nn.BCELoss()\n",
        "optimizer = torch.optim.Adam(model.parameters(), lr=0.001, weight_decay = 1e-6)\n",
        "threshold = 0.5\n",
        "epochs = 1000\n",
        "np.random.seed(42)"
      ],
      "execution_count": 0,
      "outputs": []
    },
    {
      "cell_type": "code",
      "metadata": {
        "id": "hB2MpaWS5STo",
        "colab_type": "code",
        "colab": {
          "base_uri": "https://localhost:8080/",
          "height": 1000
        },
        "outputId": "4e4fbaaf-91a9-4c0c-bbfc-0d3b24c4020c"
      },
      "source": [
        "aggregated_losses = []\n",
        "\n",
        "# Initialize lists for training and validation\n",
        "train_iter = []\n",
        "train_loss, train_accs = [], []\n",
        "valid_iter = []\n",
        "valid_loss, valid_accs = [], []\n",
        "\n",
        "model.train()\n",
        "for i in range(epochs):\n",
        "    i += 1\n",
        "    y_pred = model(Xcattrain, Xnumtrain)\n",
        "    single_loss = loss_function(y_pred, ytrain.float())\n",
        "    aggregated_losses.append(single_loss)\n",
        "\n",
        "    if i % 25 == 1:\n",
        "        print(f'epoch: {i:3} loss: {single_loss.item():10.8f}')\n",
        "\n",
        "    optimizer.zero_grad()\n",
        "    single_loss.backward()\n",
        "    optimizer.step()\n",
        "\n",
        "print(f'epoch: {i:3} loss: {single_loss.item():10.10f}')\n",
        "\n",
        "\n",
        "\n",
        "# Plot the loss over epocs\n",
        "if \"plot\":\n",
        "    plt.plot(range(epochs), aggregated_losses)\n",
        "    plt.ylabel('Loss')\n",
        "    plt.xlabel('epoch');\n",
        "\n",
        "\n",
        "# Predict on the test set\n",
        "model.eval()\n",
        "with torch.no_grad():\n",
        "    y_val = model(Xcattest, Xnumtest)\n",
        "    loss = loss_function(y_val, ytest.float())\n",
        "\n",
        "\n",
        "y_pred = (y_val > threshold).float()\n",
        "\n",
        "\n",
        "print(confusion_matrix(ytest,y_pred))\n",
        "print(classification_report(ytest,y_pred))\n",
        "print(accuracy_score(ytest, y_pred))"
      ],
      "execution_count": 10,
      "outputs": [
        {
          "output_type": "stream",
          "text": [
            "epoch:   1 loss: 0.76622266\n",
            "epoch:  26 loss: 0.67802334\n",
            "epoch:  51 loss: 0.62657309\n",
            "epoch:  76 loss: 0.59195006\n",
            "epoch: 101 loss: 0.57521576\n",
            "epoch: 126 loss: 0.56154418\n",
            "epoch: 151 loss: 0.54873788\n",
            "epoch: 176 loss: 0.54985356\n",
            "epoch: 201 loss: 0.54084635\n",
            "epoch: 226 loss: 0.53650820\n",
            "epoch: 251 loss: 0.53703690\n",
            "epoch: 276 loss: 0.53014487\n",
            "epoch: 301 loss: 0.52332485\n",
            "epoch: 326 loss: 0.52997452\n",
            "epoch: 351 loss: 0.53003532\n",
            "epoch: 376 loss: 0.52021134\n",
            "epoch: 401 loss: 0.51879644\n",
            "epoch: 426 loss: 0.52141243\n",
            "epoch: 451 loss: 0.52012450\n",
            "epoch: 476 loss: 0.52031100\n",
            "epoch: 501 loss: 0.52579236\n",
            "epoch: 526 loss: 0.51264089\n",
            "epoch: 551 loss: 0.51268888\n",
            "epoch: 576 loss: 0.51695180\n",
            "epoch: 601 loss: 0.51555192\n",
            "epoch: 626 loss: 0.51683700\n",
            "epoch: 651 loss: 0.51174915\n",
            "epoch: 676 loss: 0.51533538\n",
            "epoch: 701 loss: 0.51309276\n",
            "epoch: 726 loss: 0.51311922\n",
            "epoch: 751 loss: 0.51068616\n",
            "epoch: 776 loss: 0.51433909\n",
            "epoch: 801 loss: 0.51104891\n",
            "epoch: 826 loss: 0.51067364\n",
            "epoch: 851 loss: 0.51124388\n",
            "epoch: 876 loss: 0.51020408\n",
            "epoch: 901 loss: 0.50770050\n",
            "epoch: 926 loss: 0.50906044\n",
            "epoch: 951 loss: 0.50904208\n",
            "epoch: 976 loss: 0.51033169\n",
            "epoch: 1000 loss: 0.5119841099\n",
            "[[565 172]\n",
            " [276 429]]\n",
            "              precision    recall  f1-score   support\n",
            "\n",
            "           0       0.67      0.77      0.72       737\n",
            "           1       0.71      0.61      0.66       705\n",
            "\n",
            "    accuracy                           0.69      1442\n",
            "   macro avg       0.69      0.69      0.69      1442\n",
            "weighted avg       0.69      0.69      0.69      1442\n",
            "\n",
            "0.6893203883495146\n"
          ],
          "name": "stdout"
        },
        {
          "output_type": "display_data",
          "data": {
            "image/png": "[encoded data removed]",
            "text/plain": [
              "<Figure size 432x288 with 1 Axes>"
            ]
          },
          "metadata": {
            "tags": []
          }
        }
      ]
    },
    {
      "cell_type": "markdown",
      "metadata": {
        "id": "sMh3plot5STs",
        "colab_type": "text"
      },
      "source": [
        "# Confusion matrix for black/white"
      ]
    },
    {
      "cell_type": "code",
      "metadata": {
        "id": "l8DrtZDA5STs",
        "colab_type": "code",
        "colab": {
          "base_uri": "https://localhost:8080/",
          "height": 215
        },
        "outputId": "fa820ec4-d823-48c2-d612-0b6b91c103f5"
      },
      "source": [
        "df = data[totalnumber - testnumber:totalnumber]\n",
        "black_data = df[df[\"race\"]==\"African-American\"]\n",
        "white_data = df[df[\"race\"]==\"Caucasian\"]\n",
        "Xcat_white, Xnum_white = dataprep(white_data, norm_type = \"zscore\")\n",
        "Xcat_black, Xnum_black = dataprep(black_data, norm_type = \"zscore\")\n",
        "model.eval()\n",
        "y_val_white = model(Xcat_white, Xnum_white)\n",
        "y_pred1 = (y_val_white > threshold).float()\n",
        "y_val_black = model(Xcat_black, Xnum_black)\n",
        "y_pred2 = (y_val_black > threshold).float()\n",
        "\n",
        "# Ground truth of recidivism from dataset\n",
        "y_white = torch.tensor(white_data[\"is_recid\"].values).flatten()\n",
        "y_black = torch.tensor(black_data[\"is_recid\"].values).flatten()\n",
        "\n",
        "print(\"Confussion matrix for the white:\")\n",
        "conf_white = confusion_matrix( y_white, y_pred1)\n",
        "print(conf_white)\n",
        "print(conf_white / conf_white.astype(np.float).sum(axis=1))\n",
        "print()\n",
        "print(\"Confussion matrix for the black:\")\n",
        "conf_black = confusion_matrix( y_black, y_pred2)\n",
        "print(conf_black)\n",
        "print(conf_black / conf_black.astype(np.float).sum(axis=1))"
      ],
      "execution_count": 13,
      "outputs": [
        {
          "output_type": "stream",
          "text": [
            "Confussion matrix for the white:\n",
            "[[202  81]\n",
            " [ 69 123]]\n",
            "[[0.71378092 0.421875  ]\n",
            " [0.24381625 0.640625  ]]\n",
            "\n",
            "Confussion matrix for the black:\n",
            "[[251  74]\n",
            " [195 224]]\n",
            "[[0.77230769 0.17661098]\n",
            " [0.6        0.53460621]]\n"
          ],
          "name": "stdout"
        }
      ]
    },
    {
      "cell_type": "code",
      "metadata": {
        "id": "4X9vv2Va5STw",
        "colab_type": "code",
        "colab": {
          "base_uri": "https://localhost:8080/",
          "height": 265
        },
        "outputId": "98ac091c-5c00-4c53-9dcb-3a80a02b3d3f"
      },
      "source": [
        "points = 8\n",
        "thresholds = np.arange(0,1,1/points)\n",
        "thresholds = np.append(thresholds,999)\n",
        "tprs1 = []\n",
        "fprs1 = []\n",
        "tprs2 = []\n",
        "fprs2 = []\n",
        "for i in range(points+1):\n",
        "    y_pred1 = (y_val_white > thresholds[i]).float()\n",
        "    y_pred2 = (y_val_black > thresholds[i]).float()\n",
        "    \n",
        "    conf1,conf2 = confusion_matrix( y_white, y_pred1), confusion_matrix( y_black,  y_pred2)\n",
        "    \n",
        "    tprs1.append(conf1[1,1] / (conf1[1,1] + conf1[1,0]))\n",
        "    fprs1.append(conf1[0,1] / (conf1[0,1] + conf1[0,0]))\n",
        "    tprs2.append(conf2[1,1] / (conf2[1,1] + conf2[1,0]))\n",
        "    fprs2.append(conf2[0,1] / (conf2[0,1] + conf2[0,0]))\n",
        "    \n",
        "plt.plot(fprs1,tprs1,color=\"blue\")\n",
        "plt.plot(fprs2,tprs2,color=\"green\")\n",
        "point1 = [0,0]\n",
        "point2 = [1,1]\n",
        "x_values = [point1[0], point2[0]] \n",
        "y_values = [point1[1], point2[1]]\n",
        "roc = plt.plot(x_values, y_values,'--',color=\"red\")\n",
        "plt.show()\n",
        "#roc.figure.savefig(path + \"\\\\ROC.png\")\n",
        "\n",
        "\n",
        "    "
      ],
      "execution_count": 20,
      "outputs": [
        {
          "output_type": "display_data",
          "data": {
            "image/png": "[encoded data removed]",
            "text/plain": [
              "<Figure size 432x288 with 1 Axes>"
            ]
          },
          "metadata": {
            "tags": []
          }
        }
      ]
    },
    {
      "cell_type": "code",
      "metadata": {
        "id": "7fzwCWOG5ST0",
        "colab_type": "code",
        "colab": {
          "base_uri": "https://localhost:8080/",
          "height": 283
        },
        "outputId": "c08fb1ec-afaf-40a8-ef27-b9cf90c92b62"
      },
      "source": [
        "from sklearn import metrics\n",
        "y_pred1 = (y_val_white > 0.5).float()\n",
        "y_pred2 = (y_val_black > 0.5).float()\n",
        "fpr, tpr, thresholds = metrics.roc_curve(y_white, y_pred1.view(-1),pos_label=1)\n",
        "fpr2, tpr2, thresholds = metrics.roc_curve(y_black, y_pred2.view(-1),pos_label=1)\n",
        "print(fpr,tpr)\n",
        "plt.plot(fpr,tpr)\n",
        "plt.plot(fpr2,tpr2,color=\"green\")\n",
        "plt. plot(x_values, y_values,'--',color=\"red\")\n",
        "plt.show()"
      ],
      "execution_count": 15,
      "outputs": [
        {
          "output_type": "stream",
          "text": [
            "[0.         0.28621908 1.        ] [0.       0.640625 1.      ]\n"
          ],
          "name": "stdout"
        },
        {
          "output_type": "display_data",
          "data": {
            "image/png": "[encoded data removed]",
            "text/plain": [
              "<Figure size 432x288 with 1 Axes>"
            ]
          },
          "metadata": {
            "tags": []
          }
        }
      ]
    },
    {
      "cell_type": "markdown",
      "metadata": {
        "id": "5YPX6vlc5STw",
        "colab_type": "text"
      },
      "source": [
        "* # Fede plots til fremtiden måske:\n",
        "\n",
        "\n",
        "# Plots of the distribution of black and whites in each category of scoretext\n",
        "sb.countplot(x = \"score_text\", data = black_data)\n",
        "print(len(black_data[black_data[\"score_text\"] == 0]))\n",
        "print(len(black_data[black_data[\"score_text\"] == 1]))\n",
        "plt.show()\n",
        "sb.countplot(x = \"score_text\", data = white_data)\n",
        "print(len(white_data[white_data[\"score_text\"] == 0]))\n",
        "print(len(white_data[white_data[\"score_text\"] == 1]))\n",
        "plt.show()"
      ]
    },
    {
      "cell_type": "code",
      "metadata": {
        "id": "TNZM6lCY66zZ",
        "colab_type": "code",
        "colab": {}
      },
      "source": [
        ""
      ],
      "execution_count": 0,
      "outputs": []
    }
  ]
}